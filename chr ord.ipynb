{
 "cells": [
  {
   "cell_type": "markdown",
   "id": "0b75745e",
   "metadata": {},
   "source": [
    "# chr ord\n"
   ]
  },
  {
   "cell_type": "markdown",
   "id": "6a6791f9",
   "metadata": {},
   "source": [
    "---"
   ]
  },
  {
   "cell_type": "markdown",
   "id": "98eb44f6",
   "metadata": {},
   "source": [
    "## 특정 범위내에서만 처리, 초과시 처리\n",
    "\n",
    "\n",
    "- 65 ~ 90 처리\n",
    "\n",
    "    - 만약 + n, 이 90 초과시 65 ~ 90 범위내 로 처리, 초과 값에 나머지 연산 후 범위 처리 \n",
    "    - `c = 64 + ((c + n) % 90`\n",
    "\n",
    "\n"
   ]
  },
  {
   "cell_type": "markdown",
   "id": "e995afdb",
   "metadata": {},
   "source": [
    "---"
   ]
  },
  {
   "cell_type": "code",
   "execution_count": 1,
   "id": "513b323d",
   "metadata": {},
   "outputs": [],
   "source": [
    "def solution(s, n):\n",
    "    \n",
    "    answer = ''\n",
    "\n",
    "    for c in s:\n",
    "        \n",
    "        c = ord(c)\n",
    "        \n",
    "        if c == 32:\n",
    "            answer += chr(c)\n",
    "        \n",
    "        elif 65 <= c <= 90:\n",
    "            \n",
    "            if c + n > 90:\n",
    "                c = 64 + ((c + n) % 90)\n",
    "            \n",
    "            else:\n",
    "                c = c + n\n",
    "                \n",
    "            answer += chr(c)\n",
    "        \n",
    "        elif 97 <= c <= 122:\n",
    "            if c + n > 122:\n",
    "                c = 96 + ((c + n) % 122)\n",
    "            else:\n",
    "                c = c + n\n",
    "\n",
    "            answer += chr(c)\n",
    "\n",
    "\n",
    "    return answer\n"
   ]
  },
  {
   "cell_type": "code",
   "execution_count": 2,
   "id": "5aacb10a",
   "metadata": {},
   "outputs": [
    {
     "data": {
      "text/plain": [
       "'BC'"
      ]
     },
     "execution_count": 2,
     "metadata": {},
     "output_type": "execute_result"
    }
   ],
   "source": [
    "solution(\"AB\",1)"
   ]
  },
  {
   "cell_type": "code",
   "execution_count": 3,
   "id": "dd26fb38",
   "metadata": {},
   "outputs": [
    {
     "data": {
      "text/plain": [
       "'a'"
      ]
     },
     "execution_count": 3,
     "metadata": {},
     "output_type": "execute_result"
    }
   ],
   "source": [
    "solution(\"z\",1)"
   ]
  },
  {
   "cell_type": "code",
   "execution_count": 4,
   "id": "4db9668f",
   "metadata": {},
   "outputs": [
    {
     "data": {
      "text/plain": [
       "'e F d'"
      ]
     },
     "execution_count": 4,
     "metadata": {},
     "output_type": "execute_result"
    }
   ],
   "source": [
    "solution(\"a B z\",4)"
   ]
  },
  {
   "cell_type": "markdown",
   "id": "cb47f921",
   "metadata": {},
   "source": [
    "---"
   ]
  },
  {
   "cell_type": "code",
   "execution_count": 5,
   "id": "37ca80f8",
   "metadata": {},
   "outputs": [
    {
     "data": {
      "text/plain": [
       "(65, 90, 97, 122, 32)"
      ]
     },
     "execution_count": 5,
     "metadata": {},
     "output_type": "execute_result"
    }
   ],
   "source": [
    "t = ord('A'),ord('Z'),ord('a'),ord('z'),ord(' ')\n",
    "t"
   ]
  },
  {
   "cell_type": "markdown",
   "id": "d29fca0d",
   "metadata": {},
   "source": [
    "---"
   ]
  },
  {
   "cell_type": "code",
   "execution_count": 6,
   "id": "e47528d7",
   "metadata": {},
   "outputs": [
    {
     "data": {
      "text/plain": [
       "['A', 'Z', 'a', 'z', ' ']"
      ]
     },
     "execution_count": 6,
     "metadata": {},
     "output_type": "execute_result"
    }
   ],
   "source": [
    "l1 = list(map(chr,t))\n",
    "l1"
   ]
  },
  {
   "cell_type": "markdown",
   "id": "16206da3",
   "metadata": {},
   "source": [
    "---"
   ]
  },
  {
   "cell_type": "code",
   "execution_count": 7,
   "id": "4b8c03d7",
   "metadata": {},
   "outputs": [
    {
     "data": {
      "text/plain": [
       "['A', 'Z', 'a', 'z', ' ']"
      ]
     },
     "execution_count": 7,
     "metadata": {},
     "output_type": "execute_result"
    }
   ],
   "source": [
    "l2 = [ chr(i) for i in t ]\n",
    "l2"
   ]
  }
 ],
 "metadata": {
  "kernelspec": {
   "display_name": "Python 3 (ipykernel)",
   "language": "python",
   "name": "python3"
  },
  "language_info": {
   "codemirror_mode": {
    "name": "ipython",
    "version": 3
   },
   "file_extension": ".py",
   "mimetype": "text/x-python",
   "name": "python",
   "nbconvert_exporter": "python",
   "pygments_lexer": "ipython3",
   "version": "3.8.16"
  },
  "toc": {
   "base_numbering": 1,
   "nav_menu": {},
   "number_sections": true,
   "sideBar": true,
   "skip_h1_title": false,
   "title_cell": "Table of Contents",
   "title_sidebar": "Contents",
   "toc_cell": false,
   "toc_position": {},
   "toc_section_display": true,
   "toc_window_display": false
  },
  "varInspector": {
   "cols": {
    "lenName": 16,
    "lenType": 16,
    "lenVar": 40
   },
   "kernels_config": {
    "python": {
     "delete_cmd_postfix": "",
     "delete_cmd_prefix": "del ",
     "library": "var_list.py",
     "varRefreshCmd": "print(var_dic_list())"
    },
    "r": {
     "delete_cmd_postfix": ") ",
     "delete_cmd_prefix": "rm(",
     "library": "var_list.r",
     "varRefreshCmd": "cat(var_dic_list()) "
    }
   },
   "types_to_exclude": [
    "module",
    "function",
    "builtin_function_or_method",
    "instance",
    "_Feature"
   ],
   "window_display": false
  }
 },
 "nbformat": 4,
 "nbformat_minor": 5
}
