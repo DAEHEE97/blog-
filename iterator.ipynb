{
 "cells": [
  {
   "cell_type": "markdown",
   "metadata": {},
   "source": [
    "# iterator\n",
    "\n",
    "\n",
    "- 이터레이터(iterator)는 값을 차례대로 꺼낼 수 있는 객체(object)입니다.\n",
    "\n",
    "지금까지 for 반복문을 사용할 때 range를 사용했습니다. \n",
    "\n",
    "만약 100번을 반복한다면 `for i in range(100):`처럼 만들었습니다.\n",
    "\n",
    "이 for 반복문을 설명할 때 `for i in range(100):`은 0부터 99까지 연속된 숫자를 만들어낸다고 했는데, 사실은 숫자를 모두 만들어 내는 것이 아니라 \n",
    "\n",
    "- **0부터 99까지 값을 차례대로 꺼낼 수 있는 이터레이터를 하나만 만들어냅니다** \n",
    "\n",
    "이후 반복할 때마다 이터레이터에서 숫자를 하나씩 꺼내서 반복합니다."
   ]
  },
  {
   "cell_type": "code",
   "execution_count": 1,
   "metadata": {},
   "outputs": [
    {
     "name": "stdout",
     "output_type": "stream",
     "text": [
      "min\n",
      "min\n",
      "min\n"
     ]
    }
   ],
   "source": [
    "N = 3\n",
    "M = 5\n",
    "\n",
    "for i in range(min(N,M)):\n",
    "    print('min')"
   ]
  },
  {
   "cell_type": "markdown",
   "metadata": {},
   "source": [
    "---"
   ]
  },
  {
   "cell_type": "markdown",
   "metadata": {},
   "source": [
    "## 지연 평가(lazy evaluation)"
   ]
  },
  {
   "cell_type": "markdown",
   "metadata": {},
   "source": [
    "만약 연속된 숫자를 미리 만들면, 숫자가 적을 때는 상관없지만 숫자가 아주 많을 때는 메모리를 많이 사용하게 되므로 성능에도 불리합니다. \n",
    "\n",
    "\n",
    "- 그래서 파이썬에서는 이터레이터만 생성하고, 값이 필요한 시점이 되었을 때, 값을 만드는 방식을 사용합니다. \n",
    "\n",
    "\n",
    "- 즉, 데이터 생성을 뒤로 미루는 것인데 이런 방식을 지연 평가(lazy evaluation)라고 합니다.\n",
    "\n",
    "참고로 이터레이터는 반복자라고 부르기도 합니다. "
   ]
  },
  {
   "cell_type": "markdown",
   "metadata": {},
   "source": [
    "---"
   ]
  },
  {
   "cell_type": "markdown",
   "metadata": {},
   "source": [
    "## 반복 가능한 객체(iterable)\n",
    "\n",
    "\n",
    "이터레이터를 만들기 전에 먼저 반복 가능한 객체(iterable)에 대해 알아보겠습니다. \n",
    "\n",
    "반복 가능한 객체는 말 그대로 반복할 수 있는 객체인데 \n",
    "\n",
    "- 우리가 흔히 사용하는 문자열, 리스트, 딕셔너리, 세트가 반복 가능한 객체입니다. \n",
    "\n",
    "- 즉, 요소가 여러 개 들어있고, 한 번에 하나씩 꺼낼 수 있는 객체입니다.\n"
   ]
  },
  {
   "cell_type": "markdown",
   "metadata": {},
   "source": [
    "---"
   ]
  },
  {
   "cell_type": "markdown",
   "metadata": {},
   "source": [
    "## `.__iter__()`\n",
    "\n",
    "객체가 반복 가능한 객체인지 알아보는 방법은 객체에 __iter__ 메서드가 들어있는지 확인해보면 됩니다. \n",
    "\n",
    "다음과 같이 dir 함수를 사용하면 객체의 메서드를 확인할 수 있습니다."
   ]
  },
  {
   "cell_type": "code",
   "execution_count": 2,
   "metadata": {},
   "outputs": [
    {
     "data": {
      "text/plain": [
       "['__add__',\n",
       " '__class__',\n",
       " '__contains__',\n",
       " '__delattr__',\n",
       " '__delitem__',\n",
       " '__dir__',\n",
       " '__doc__',\n",
       " '__eq__',\n",
       " '__format__',\n",
       " '__ge__',\n",
       " '__getattribute__',\n",
       " '__getitem__',\n",
       " '__gt__',\n",
       " '__hash__',\n",
       " '__iadd__',\n",
       " '__imul__',\n",
       " '__init__',\n",
       " '__init_subclass__',\n",
       " '__iter__',\n",
       " '__le__',\n",
       " '__len__',\n",
       " '__lt__',\n",
       " '__mul__',\n",
       " '__ne__',\n",
       " '__new__',\n",
       " '__reduce__',\n",
       " '__reduce_ex__',\n",
       " '__repr__',\n",
       " '__reversed__',\n",
       " '__rmul__',\n",
       " '__setattr__',\n",
       " '__setitem__',\n",
       " '__sizeof__',\n",
       " '__str__',\n",
       " '__subclasshook__',\n",
       " 'append',\n",
       " 'clear',\n",
       " 'copy',\n",
       " 'count',\n",
       " 'extend',\n",
       " 'index',\n",
       " 'insert',\n",
       " 'pop',\n",
       " 'remove',\n",
       " 'reverse',\n",
       " 'sort']"
      ]
     },
     "execution_count": 2,
     "metadata": {},
     "output_type": "execute_result"
    }
   ],
   "source": [
    "dir([1, 2, 3])"
   ]
  },
  {
   "cell_type": "code",
   "execution_count": 24,
   "metadata": {},
   "outputs": [
    {
     "data": {
      "text/plain": [
       "<list_iterator at 0x7fe9d047aaf0>"
      ]
     },
     "execution_count": 24,
     "metadata": {},
     "output_type": "execute_result"
    }
   ],
   "source": [
    "[1, 2, 3].__iter__()"
   ]
  },
  {
   "cell_type": "code",
   "execution_count": 25,
   "metadata": {},
   "outputs": [],
   "source": [
    "it = [1, 2, 3].__iter__()"
   ]
  },
  {
   "cell_type": "code",
   "execution_count": 26,
   "metadata": {},
   "outputs": [
    {
     "data": {
      "text/plain": [
       "1"
      ]
     },
     "execution_count": 26,
     "metadata": {},
     "output_type": "execute_result"
    }
   ],
   "source": [
    "it.__next__()"
   ]
  },
  {
   "cell_type": "code",
   "execution_count": 27,
   "metadata": {},
   "outputs": [
    {
     "data": {
      "text/plain": [
       "2"
      ]
     },
     "execution_count": 27,
     "metadata": {},
     "output_type": "execute_result"
    }
   ],
   "source": [
    "it.__next__()"
   ]
  },
  {
   "cell_type": "code",
   "execution_count": 28,
   "metadata": {},
   "outputs": [
    {
     "data": {
      "text/plain": [
       "3"
      ]
     },
     "execution_count": 28,
     "metadata": {},
     "output_type": "execute_result"
    }
   ],
   "source": [
    "it.__next__()"
   ]
  },
  {
   "cell_type": "code",
   "execution_count": 29,
   "metadata": {},
   "outputs": [
    {
     "ename": "StopIteration",
     "evalue": "",
     "output_type": "error",
     "traceback": [
      "\u001b[0;31m---------------------------------------------------------------------------\u001b[0m",
      "\u001b[0;31mStopIteration\u001b[0m                             Traceback (most recent call last)",
      "\u001b[0;32m<ipython-input-29-f75ca2f02b87>\u001b[0m in \u001b[0;36m<module>\u001b[0;34m\u001b[0m\n\u001b[1;32m      1\u001b[0m \u001b[0;31m#  꺼낼 요소가 없으면 StopIteration 예외를 발생시켜서 반복을 끝냅니다.\u001b[0m\u001b[0;34m\u001b[0m\u001b[0;34m\u001b[0m\u001b[0;34m\u001b[0m\u001b[0m\n\u001b[1;32m      2\u001b[0m \u001b[0;34m\u001b[0m\u001b[0m\n\u001b[0;32m----> 3\u001b[0;31m \u001b[0mit\u001b[0m\u001b[0;34m.\u001b[0m\u001b[0m__next__\u001b[0m\u001b[0;34m(\u001b[0m\u001b[0;34m)\u001b[0m\u001b[0;34m\u001b[0m\u001b[0;34m\u001b[0m\u001b[0m\n\u001b[0m",
      "\u001b[0;31mStopIteration\u001b[0m: "
     ]
    }
   ],
   "source": [
    "#  꺼낼 요소가 없으면 StopIteration 예외를 발생시켜서 반복을 끝냅니다.\n",
    "\n",
    "it.__next__()"
   ]
  },
  {
   "cell_type": "markdown",
   "metadata": {},
   "source": [
    "---"
   ]
  },
  {
   "cell_type": "markdown",
   "metadata": {},
   "source": [
    "\n",
    "리스트, 문자열, 딕셔너리, 세트는 요소가 눈에 보이는 반복 가능한 객체입니다. \n",
    "\n",
    "이번에는 요소가 눈에 보이지 않는 range를 살펴보겠습니다. \n",
    "\n",
    "다음과 같이 range(3)에서 __iter__로 이터레이터를 얻어낸 뒤 __next__ 메서드를 호출해봅니다.\n"
   ]
  },
  {
   "cell_type": "code",
   "execution_count": 9,
   "metadata": {},
   "outputs": [],
   "source": [
    "it = range(3).__iter__()"
   ]
  },
  {
   "cell_type": "code",
   "execution_count": 10,
   "metadata": {},
   "outputs": [
    {
     "data": {
      "text/plain": [
       "0"
      ]
     },
     "execution_count": 10,
     "metadata": {},
     "output_type": "execute_result"
    }
   ],
   "source": [
    "it.__next__()"
   ]
  },
  {
   "cell_type": "code",
   "execution_count": 11,
   "metadata": {},
   "outputs": [
    {
     "data": {
      "text/plain": [
       "1"
      ]
     },
     "execution_count": 11,
     "metadata": {},
     "output_type": "execute_result"
    }
   ],
   "source": [
    "it.__next__()"
   ]
  },
  {
   "cell_type": "code",
   "execution_count": 12,
   "metadata": {},
   "outputs": [
    {
     "data": {
      "text/plain": [
       "2"
      ]
     },
     "execution_count": 12,
     "metadata": {},
     "output_type": "execute_result"
    }
   ],
   "source": [
    "it.__next__()"
   ]
  },
  {
   "cell_type": "code",
   "execution_count": 13,
   "metadata": {},
   "outputs": [
    {
     "ename": "StopIteration",
     "evalue": "",
     "output_type": "error",
     "traceback": [
      "\u001b[0;31m---------------------------------------------------------------------------\u001b[0m",
      "\u001b[0;31mStopIteration\u001b[0m                             Traceback (most recent call last)",
      "\u001b[0;32m<ipython-input-13-74e64ed6c80d>\u001b[0m in \u001b[0;36m<module>\u001b[0;34m\u001b[0m\n\u001b[0;32m----> 1\u001b[0;31m \u001b[0mit\u001b[0m\u001b[0;34m.\u001b[0m\u001b[0m__next__\u001b[0m\u001b[0;34m(\u001b[0m\u001b[0;34m)\u001b[0m\u001b[0;34m\u001b[0m\u001b[0;34m\u001b[0m\u001b[0m\n\u001b[0m",
      "\u001b[0;31mStopIteration\u001b[0m: "
     ]
    }
   ],
   "source": [
    "it.__next__()"
   ]
  },
  {
   "cell_type": "markdown",
   "metadata": {},
   "source": [
    "---"
   ]
  },
  {
   "cell_type": "markdown",
   "metadata": {},
   "source": [
    "#  for와 반복 가능한 객체"
   ]
  },
  {
   "cell_type": "markdown",
   "metadata": {},
   "source": [
    "이제 for에 반복 가능한 객체를 사용했을 때 동작 과정을 알아보겠습니다. \n",
    "\n",
    "다음과 같이 for에 range(3)을 사용했다면 먼저 range - 반복 가능한 객체(iterable) 에서 __iter__로 이터레이터(iterator)를 얻습니다. \n",
    "\n",
    "그리고 한 번 반복할 때마다 이터레이터(iterator)에서 __next__로 숫자를 꺼내서 i에 저장하고, 지정된 숫자 3이 되면 StopIteration을 발생시켜서 반복을 끝냅니다."
   ]
  },
  {
   "cell_type": "markdown",
   "metadata": {},
   "source": [
    "<img src = \"for에서 range의 동작 과정.png\" />"
   ]
  },
  {
   "cell_type": "markdown",
   "metadata": {},
   "source": [
    "---"
   ]
  },
  {
   "cell_type": "markdown",
   "metadata": {},
   "source": [
    "이처럼 반복 가능한 객체(iterable)는 __iter__ 메서드로 이터레이터(iterator)를 얻고, 이터레이터의 __next__ 메서드로 반복합니다. \n",
    "\n",
    "\n",
    "여기서는 반복 가능한 객체와 이터레이터가 분리되어 있지만 클래스에 __iter__와 __next__ 메서드를 모두 구현하면 이터레이터를 만들 수 있습니다.\n",
    "\n",
    "\n",
    "특히 __iter__, __next__를 가진 객체를 이터레이터 프로토콜(iterator protocol)을 지원한다고 말합니다.\n",
    "\n"
   ]
  },
  {
   "cell_type": "markdown",
   "metadata": {},
   "source": [
    "정리하자면 반복 가능한 객체(iterable)는 요소를 한 번에 하나씩 가져올 수 있는 객체이고, 이터레이터는 __next__ 메서드를 사용해서 차례대로 값을 꺼낼 수 있는 객체입니다.\n",
    "\n",
    "\n",
    "반복 가능한 객체(iterable)와 이터레이터(iterator)는 별개의 객체이므로 둘은 구분해야 합니다. \n",
    "\n",
    "\n",
    "즉, 반복 가능한 객체(iterable)에서 __iter__ 메서드로 이터레이터(iterator)를 얻습니다."
   ]
  },
  {
   "cell_type": "markdown",
   "metadata": {},
   "source": [
    "---"
   ]
  },
  {
   "cell_type": "markdown",
   "metadata": {},
   "source": [
    "# 시퀀스 객체와 반복 가능한 객체의 차이\n",
    "\n",
    "리스트, 튜플, range, 문자열은 시퀀스 객체라고 했는데, 이 유닛에서는 반복 가능한 객체라고 했습니다. \n",
    "\n",
    "시퀀스 객체와 반복 가능한 객체의 차이점은 무엇일까요?\n",
    "\n",
    "\n",
    "다음 그림과 같이 반복 가능한 객체는 시퀀스 객체를 포함합니다.\n",
    "\n",
    "리스트, 튜플, range, 문자열은 반복 가능한 객체이면서 시퀀스 객체입니다. \n",
    "\n",
    "하지만, 딕셔너리와 세트는 반복 가능한 객체이지만 시퀀스 객체는 아닙니다. \n",
    "\n",
    "- 왜냐하면 시퀀스 객체는 요소의 순서가 정해져 있고 연속적(sequence)으로 이어져 있어야 하는데, \n",
    "\n",
    "- 딕셔너리와 세트는 요소(키)의 순서가 정해져 있지 않기 때문입니다. \n",
    "\n",
    "따라서 시퀀스 객체가 반복 가능한 객체보다 좁은 개념입니다.\n",
    "\n",
    "즉, 요소의 순서가 정해져 있고 연속적으로 이어져 있으면 시퀀스 객체, 요소의 순서와는 상관없이 요소를 한 번에 하나씩 꺼낼 수 있으면 반복 가능한 객체입니다."
   ]
  },
  {
   "cell_type": "markdown",
   "metadata": {},
   "source": [
    "<img src = \"iterable sequence.png\" />"
   ]
  },
  {
   "cell_type": "markdown",
   "metadata": {},
   "source": [
    "---"
   ]
  },
  {
   "cell_type": "markdown",
   "metadata": {},
   "source": [
    "# iterator 생성"
   ]
  },
  {
   "cell_type": "markdown",
   "metadata": {},
   "source": [
    "```\n",
    "class 이터레이터이름:\n",
    "    def __iter__(self):\n",
    "        코드\n",
    " \n",
    "    def __next__(self):\n",
    "        코드\n",
    "```\n",
    "\n",
    "__iter__, __next__ 메서드를 구현해서 직접 이터레이터를 만들어보겠습니다. \n",
    "\n",
    "간단하게 range(횟수)처럼 동작하는 이터레이터입니다.\n",
    "\n"
   ]
  },
  {
   "cell_type": "code",
   "execution_count": 24,
   "metadata": {},
   "outputs": [],
   "source": [
    "# 0부터 지정된 숫자 직전까지 반복하는 이터레이터 Counter를 정의\n",
    "\n",
    "class Counter:\n",
    "    \n",
    "    def __init__(self, stop):  # 초기화, size = stop\n",
    "        self.current = 0       # 현재 숫자 유지, 0부터 지정된 숫자 직전까지 반복\n",
    "        self.stop = stop       # 반복을 끝낼 숫자\n",
    " \n",
    "    def __iter__(self): \n",
    "        return self            # 현재 인스턴스를 반환\n",
    " \n",
    "    def __next__(self):\n",
    "        \n",
    "        if self.current < self.stop:    # 현재 숫자가 반복을 끝낼 숫자보다 작을 때\n",
    "            r = self.current            # 반환할 숫자를 변수에 저장\n",
    "            self.current += 1           # 현재 숫자를 1 증가시킴\n",
    "            return r                    # 숫자를 반환\n",
    "        \n",
    "        else:                           # 현재 숫자가 반복을 끝낼 숫자보다 크거나 같을 때\n",
    "            raise StopIteration         # 예외 발생\n"
   ]
  },
  {
   "cell_type": "code",
   "execution_count": 22,
   "metadata": {},
   "outputs": [
    {
     "name": "stdout",
     "output_type": "stream",
     "text": [
      "0 1 2 "
     ]
    }
   ],
   "source": [
    "for i in Counter(3):\n",
    "    print(i, end=' ')"
   ]
  },
  {
   "cell_type": "markdown",
   "metadata": {},
   "source": [
    "---"
   ]
  },
  {
   "cell_type": "markdown",
   "metadata": {},
   "source": [
    "이터레이터를 작성하려면 __init__ 메서드를 만듭니다. \n",
    "\n",
    "여기서는 Counter(3)처럼 반복을 끝낼 숫자를 받았으므로 self.stop에 stop을 넣어줍니다. \n",
    "\n",
    "그리고 반복할 때마다 현재 숫자를 유지해야 하므로 속성 self.current에 0을 넣어줍니다(0부터 지정된 숫자 직전까지 반복하므로 0을 넣습니다)."
   ]
  },
  {
   "cell_type": "markdown",
   "metadata": {},
   "source": [
    "---"
   ]
  },
  {
   "cell_type": "markdown",
   "metadata": {},
   "source": [
    "_iter__ 메서드를 만드는데 여기서는 self만 반환하면 끝입니다. \n",
    "\n",
    "이 객체는 리스트, 문자열, 딕셔너리, 세트, range처럼 __iter__를 호출해줄 반복 가능한 객체(iterable)가 없으므로, 현재 인스턴스를 반환하면 됩니다. \n",
    "\n",
    "즉, 이 객체는 반복 가능한 객체이면서 이터레이터입니다."
   ]
  },
  {
   "cell_type": "markdown",
   "metadata": {},
   "source": [
    "---"
   ]
  },
  {
   "cell_type": "markdown",
   "metadata": {},
   "source": [
    "__next__ 메서드를 만듭니다.\n",
    "\n",
    "__next__에서는 조건에 따라 숫자를 만들어내거나 StopIteration 예외를 발생시킵니다. \n",
    "\n",
    "\n",
    "현재 숫자 self.current가 반복을 끝낼 숫자 self.stop보다 작을 때는 self.current를 1 증가시키고 현재 숫자를 반환합니다. \n",
    "\n",
    "\n",
    "이때 1 증가한 숫자를 반환하지 않도록 숫자를 증가시키기 전에 r = self.current처럼 반환할 숫자를 변수에 저장해 놓습니다. \n",
    "\n",
    "\n",
    "그다음에 self.current가 self.stop보다 크거나 같아질 때는 raise StopIteration으로 예외를 발생시킵니다.\n",
    "\n"
   ]
  },
  {
   "cell_type": "markdown",
   "metadata": {},
   "source": [
    "---"
   ]
  },
  {
   "cell_type": "markdown",
   "metadata": {},
   "source": [
    "# iterator 언패킹\n",
    "\n",
    "이터레이터는 언패킹(unpacking)이 가능합니다. \n",
    "\n",
    "즉, 다음과 같이 Counter()의 결과를 변수 여러 개에 할당할 수 있습니다.\n",
    "\n",
    "물론 이터레이터가 반복하는 횟수와 변수의 개수는 같아야 합니다."
   ]
  },
  {
   "cell_type": "code",
   "execution_count": 25,
   "metadata": {},
   "outputs": [
    {
     "name": "stdout",
     "output_type": "stream",
     "text": [
      "0 1 2\n",
      "0 1 2 3 4\n"
     ]
    }
   ],
   "source": [
    "a, b, c = Counter(3)\n",
    "print(a,b,c)\n",
    "\n",
    "a, b, c, d, e = Counter(5)\n",
    "print(a,b,c,d,e)\n",
    "\n"
   ]
  },
  {
   "cell_type": "markdown",
   "metadata": {},
   "source": [
    "---"
   ]
  },
  {
   "cell_type": "markdown",
   "metadata": {},
   "source": [
    "# iterator 생성 - index로 접근할 수 있는 \n",
    "\n",
    "\n",
    "__getitem__ 메서드를 구현하여 인덱스로 접근할 수 있는 이터레이터"
   ]
  },
  {
   "cell_type": "code",
   "execution_count": 3,
   "metadata": {},
   "outputs": [],
   "source": [
    "class Counter:\n",
    "    \n",
    "    def __init__(self, stop):        # 초기화, size = stop \n",
    "        self.stop = stop             # 반복을 끝낼 숫자\n",
    " \n",
    "\n",
    "    def __getitem__(self, index):    # 인덱스를 받음\n",
    "        if index < self.stop:        # 인덱스가 반복을 끝낼 숫자보다 작을 때\n",
    "            return index             # 인덱스를 반환\n",
    "        else:                        # 인덱스가 반복을 끝낼 숫자보다 크거나 같을 때\n",
    "            raise IndexError         # 예외 발생\n",
    " \n"
   ]
  },
  {
   "cell_type": "code",
   "execution_count": 4,
   "metadata": {},
   "outputs": [
    {
     "name": "stdout",
     "output_type": "stream",
     "text": [
      "0 1 2\n",
      "0 1 2 "
     ]
    }
   ],
   "source": [
    "print(Counter(3)[0], Counter(3)[1], Counter(3)[2])\n",
    " \n",
    "for i in Counter(3):\n",
    "    print(i, end=' ')"
   ]
  },
  {
   "cell_type": "markdown",
   "metadata": {},
   "source": [
    "---"
   ]
  },
  {
   "cell_type": "markdown",
   "metadata": {},
   "source": [
    "# iter - 파이썬 내장 함수\n",
    "\n",
    "\n",
    "iter는 반복을 끝낼 값을 지정하면 특정 값이 나올 때 반복을 끝냅니다. \n",
    "\n",
    "\n",
    "이 경우에는 반복 가능한 객체 대신 ≈를 넣어줍니다. \n",
    "\n",
    "\n",
    "참고로 반복을 끝낼 값은 sentinel이라고 부르는데 감시병이라는 뜻입니다. \n",
    "\n",
    "\n",
    "즉, 반복을 감시하다가 특정 값이 나오면 반복을 끝낸다고 해서 sentinel입니다.\n",
    "\n",
    "\n",
    "`iter(호출가능한객체, 반복을끝낼값)`\n",
    "\n",
    "\n",
    "예를 들어 random.randint(0, 5)와 같이 0부터 5까지 무작위로 숫자를 생성할 때 2가 나오면 반복을 끝내도록 만들 수 있습니다. \n",
    "\n",
    "이때 호출 가능한 객체(callable) 를 넣어야 하므로, 매개변수가 없는 함수 또는 람다 표현식으로 만들어줍니다.\n"
   ]
  },
  {
   "cell_type": "code",
   "execution_count": 13,
   "metadata": {},
   "outputs": [],
   "source": [
    "import random\n",
    "\n",
    "it = iter(lambda : random.randint(0, 5), 2)"
   ]
  },
  {
   "cell_type": "code",
   "execution_count": 14,
   "metadata": {},
   "outputs": [
    {
     "data": {
      "text/plain": [
       "1"
      ]
     },
     "execution_count": 14,
     "metadata": {},
     "output_type": "execute_result"
    }
   ],
   "source": [
    "next(it)"
   ]
  },
  {
   "cell_type": "code",
   "execution_count": 15,
   "metadata": {},
   "outputs": [
    {
     "data": {
      "text/plain": [
       "0"
      ]
     },
     "execution_count": 15,
     "metadata": {},
     "output_type": "execute_result"
    }
   ],
   "source": [
    "next(it)"
   ]
  },
  {
   "cell_type": "markdown",
   "metadata": {},
   "source": [
    "next(it)로 숫자를 계속 만들다가 2가 나오면 StopIteration이 발생합니다. \n",
    "\n",
    "물론 숫자가 무작위로 생성되므로 next(it)를 호출하는 횟수도 매번 달라집니다. \n",
    "\n",
    "물론 다음과 같이 for 반복문에 넣어서 사용할 수도 있습니다."
   ]
  },
  {
   "cell_type": "code",
   "execution_count": 17,
   "metadata": {},
   "outputs": [
    {
     "name": "stdout",
     "output_type": "stream",
     "text": [
      "5 0 1 1 "
     ]
    }
   ],
   "source": [
    "for i in iter(lambda : random.randint(0, 5), 2):\n",
    "    print(i, end=' ')"
   ]
  },
  {
   "cell_type": "markdown",
   "metadata": {},
   "source": [
    "---"
   ]
  },
  {
   "cell_type": "markdown",
   "metadata": {},
   "source": [
    "#  next - 파이썬 내장 함수\n",
    "\n",
    "\n",
    "\n",
    "next는 기본값을 지정할 수 있습니다. \n",
    "\n",
    "기본값을 지정하면 반복이 끝나더라도 StopIteration이 발생하지 않고 기본값을 출력합니다. \n",
    "\n",
    "즉, 반복할 수 있을 때는 해당 값을 출력하고, 반복이 끝났을 때는 기본값을 출력합니다. \n",
    "\n",
    "\n",
    "- `next(반복가능한객체, 기본값)`\n"
   ]
  },
  {
   "cell_type": "code",
   "execution_count": 35,
   "metadata": {},
   "outputs": [],
   "source": [
    "# range(3)으로 0, 1, 2 세 번 반복하는데 next에 기본값으로 10을 지정했습니다.\n",
    "\n",
    "it = iter(range(3))"
   ]
  },
  {
   "cell_type": "code",
   "execution_count": 36,
   "metadata": {},
   "outputs": [
    {
     "data": {
      "text/plain": [
       "0"
      ]
     },
     "execution_count": 36,
     "metadata": {},
     "output_type": "execute_result"
    }
   ],
   "source": [
    "# 반복할 수 있을 때는 해당 값을 출력하고, \n",
    "# 반복이 끝났을 때는 예외를 출력하지 않고 기본값을 출력\n",
    "\n",
    "next(it,10)"
   ]
  },
  {
   "cell_type": "code",
   "execution_count": 37,
   "metadata": {},
   "outputs": [
    {
     "data": {
      "text/plain": [
       "1"
      ]
     },
     "execution_count": 37,
     "metadata": {},
     "output_type": "execute_result"
    }
   ],
   "source": [
    "next(it,10)"
   ]
  },
  {
   "cell_type": "code",
   "execution_count": 38,
   "metadata": {},
   "outputs": [
    {
     "data": {
      "text/plain": [
       "2"
      ]
     },
     "execution_count": 38,
     "metadata": {},
     "output_type": "execute_result"
    }
   ],
   "source": [
    "next(it,10)"
   ]
  },
  {
   "cell_type": "code",
   "execution_count": 39,
   "metadata": {},
   "outputs": [
    {
     "data": {
      "text/plain": [
       "10"
      ]
     },
     "execution_count": 39,
     "metadata": {},
     "output_type": "execute_result"
    }
   ],
   "source": [
    "next(it,10)"
   ]
  },
  {
   "cell_type": "markdown",
   "metadata": {},
   "source": [
    "---"
   ]
  },
  {
   "cell_type": "markdown",
   "metadata": {},
   "source": [
    "- 이터레이터를 만들 때 __iter__, __next__ 메서드 또는 __getitem__ 메서드를 구현해야 한다"
   ]
  }
 ],
 "metadata": {
  "hide_input": false,
  "kernelspec": {
   "display_name": "Python 3 (ipykernel)",
   "language": "python",
   "name": "python3"
  },
  "language_info": {
   "codemirror_mode": {
    "name": "ipython",
    "version": 3
   },
   "file_extension": ".py",
   "mimetype": "text/x-python",
   "name": "python",
   "nbconvert_exporter": "python",
   "pygments_lexer": "ipython3",
   "version": "3.11.2"
  },
  "toc": {
   "base_numbering": 1,
   "nav_menu": {},
   "number_sections": true,
   "sideBar": true,
   "skip_h1_title": false,
   "title_cell": "Table of Contents",
   "title_sidebar": "Contents",
   "toc_cell": false,
   "toc_position": {},
   "toc_section_display": true,
   "toc_window_display": true
  }
 },
 "nbformat": 4,
 "nbformat_minor": 4
}
