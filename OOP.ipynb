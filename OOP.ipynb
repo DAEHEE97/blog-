{
 "cells": [
  {
   "cell_type": "markdown",
   "id": "3bb0ef33",
   "metadata": {},
   "source": [
    "# Object-Oriented Programming"
   ]
  },
  {
   "cell_type": "markdown",
   "id": "253e5874",
   "metadata": {},
   "source": [
    "---"
   ]
  },
  {
   "cell_type": "markdown",
   "id": "ffc2b2a0",
   "metadata": {},
   "source": [
    "- 현실에서의 속성(Attribute)을 변수(variable)로, 행동(action)은 함수(method) 로 프로그래밍\n",
    "\n",
    "- OOP는 설계도에 해당하는 클래스(class)와 실제 구현체인 인스턴스(instance)\n",
    "\n",
    "- 파이썬 함수, 변수명 : snake_case, 띄워쓰기 부분에 “_” 를 추가 뱀 처럼 늘여쓰기\n",
    "\n",
    "- 파이썬 Class명: CamelCase: 띄워쓰기 부분에 대문자 낙타의 등 모양"
   ]
  },
  {
   "cell_type": "markdown",
   "id": "e094d009",
   "metadata": {},
   "source": [
    "---"
   ]
  },
  {
   "cell_type": "code",
   "execution_count": 16,
   "id": "704072b7",
   "metadata": {},
   "outputs": [],
   "source": [
    "class SoccerPlayer(object):\n",
    "\n",
    "    # Attribute 추가시  __init___ , self 선언 \n",
    "    def __init__(self, name, position, back_number):\n",
    "        \n",
    "        self.name = name\n",
    "        self.position = position\n",
    "        self.back_number = back_number\n",
    "\n",
    "    # method 추가시 반드시 self, 선언 \n",
    "    def change_back_number(self, new_number):\n",
    "        \n",
    "        print(\"선수의 등번호를 변경합니다 : From %d to %d\" % (self.back_number, new_number))\n",
    "        self.back_number = new_number\n",
    "\n",
    "        \n",
    "    def __str__(self):\n",
    "            return (\"Hello, My name is %s. I play in %s \" % (self.name, self.position))"
   ]
  },
  {
   "cell_type": "markdown",
   "id": "20e2f7d7",
   "metadata": {},
   "source": [
    "---"
   ]
  },
  {
   "cell_type": "markdown",
   "id": "c35445fd",
   "metadata": {},
   "source": [
    "- __init__ 은 객체 초기화 예약 함수\n",
    "\n",
    "- __는 특수한 예약 함수나 변수 그리고 함수명 변경(맨글링)으로 사용\n",
    "    - Magic Method(Double UNDERscore Method)\n",
    "    -  `__main__ , __add__ , __str__ , __eq__`\n"
   ]
  },
  {
   "cell_type": "code",
   "execution_count": 22,
   "id": "ba11c01a",
   "metadata": {},
   "outputs": [
    {
     "data": {
      "text/plain": [
       "<__main__.SoccerPlayer at 0x7fedd899ef70>"
      ]
     },
     "execution_count": 22,
     "metadata": {},
     "output_type": "execute_result"
    }
   ],
   "source": [
    "son = SoccerPlayer(\"SON\", \"FW\", 7)\n",
    "son"
   ]
  },
  {
   "cell_type": "code",
   "execution_count": 23,
   "id": "71aaad7d",
   "metadata": {},
   "outputs": [
    {
     "name": "stdout",
     "output_type": "stream",
     "text": [
      "Hello, My name is SON. I play in FW \n"
     ]
    }
   ],
   "source": [
    "print(son) # magic method, __str__ 호출"
   ]
  },
  {
   "cell_type": "code",
   "execution_count": 24,
   "id": "a65ae981",
   "metadata": {},
   "outputs": [
    {
     "name": "stdout",
     "output_type": "stream",
     "text": [
      "현재 선수의 등번호는 : 7\n"
     ]
    }
   ],
   "source": [
    "print(\"현재 선수의 등번호는 :\", son.back_number)"
   ]
  },
  {
   "cell_type": "code",
   "execution_count": 25,
   "id": "bc923cb5",
   "metadata": {},
   "outputs": [
    {
     "name": "stdout",
     "output_type": "stream",
     "text": [
      "선수의 등번호를 변경합니다 : From 7 to 9\n",
      "현재 선수의 등번호는 : 9\n"
     ]
    }
   ],
   "source": [
    "son.change_back_number(9)\n",
    "print(\"현재 선수의 등번호는 :\", son.back_number)"
   ]
  },
  {
   "cell_type": "markdown",
   "id": "6585433e",
   "metadata": {},
   "source": [
    "---"
   ]
  },
  {
   "cell_type": "code",
   "execution_count": 103,
   "id": "0b775945",
   "metadata": {},
   "outputs": [],
   "source": [
    "# Notebook\n",
    "class Note(object):\n",
    "\n",
    "    # 1-1) 생성 __init__ , self\n",
    "    def __init__(self, content = None):\n",
    "        self.content = content\n",
    "    \n",
    "    # 1-2) method \n",
    "    def write_content(self, content):\n",
    "        self.content = content \n",
    "        \n",
    "    def remove_all(self):\n",
    "        self.content = \"\"\n",
    "    \n",
    "    \n",
    "    # 1-3) magic method \n",
    "    def __add__(self, other):\n",
    "        return self.content + other.content\n",
    "\n",
    "    def __str__(self): \n",
    "        return ( \"노트에 적힌 내용 : %s\" %(self.content) )\n"
   ]
  },
  {
   "cell_type": "markdown",
   "id": "aa3f01f2",
   "metadata": {},
   "source": [
    "---"
   ]
  },
  {
   "cell_type": "code",
   "execution_count": 104,
   "id": "5669b309",
   "metadata": {},
   "outputs": [],
   "source": [
    "class NoteBook(object):\n",
    "\n",
    "    def __init__(self, title):\n",
    "        \n",
    "        self.title = title\n",
    "        self.page_number = 1\n",
    "        self.notes = {}\n",
    "\n",
    "    def add_note(self, note, page = -1):\n",
    "            \n",
    "        if self.page_number < 301:\n",
    "            if page == -1:\n",
    "                self.notes[self.page_number] = note\n",
    "                self.page_number += 1\n",
    "            \n",
    "            else:\n",
    "                self.notes[page] = note\n",
    "        \n",
    "        else:\n",
    "            print(\"Page가 모두 채워졌습니다.\")\n",
    "                \n",
    "                \n",
    "                \n",
    "    def remove_note(self, page_number):\n",
    "\n",
    "        if page_number in self.notes.keys():\n",
    "            return self.notes.pop(page_number)\n",
    "        \n",
    "        else:\n",
    "            print(\"해당 페이지는 존재하지 않습니다\")\n",
    "\n",
    "    def get_number_of_pages(self): \n",
    "        return len(self.notes.keys())"
   ]
  },
  {
   "cell_type": "markdown",
   "id": "ce4b5a99",
   "metadata": {},
   "source": [
    "---"
   ]
  },
  {
   "cell_type": "code",
   "execution_count": 105,
   "id": "b9f25036",
   "metadata": {},
   "outputs": [],
   "source": [
    "my_notebook = NoteBook('강의노트')"
   ]
  },
  {
   "cell_type": "code",
   "execution_count": 106,
   "id": "bc2a3624",
   "metadata": {},
   "outputs": [
    {
     "data": {
      "text/plain": [
       "<__main__.NoteBook at 0x7fed9839e160>"
      ]
     },
     "execution_count": 106,
     "metadata": {},
     "output_type": "execute_result"
    }
   ],
   "source": [
    "my_notebook"
   ]
  },
  {
   "cell_type": "markdown",
   "id": "8320b7a1",
   "metadata": {},
   "source": [
    "---"
   ]
  },
  {
   "cell_type": "code",
   "execution_count": 107,
   "id": "13311b1e",
   "metadata": {},
   "outputs": [
    {
     "data": {
      "text/plain": [
       "<__main__.Note at 0x7fedb87e5cd0>"
      ]
     },
     "execution_count": 107,
     "metadata": {},
     "output_type": "execute_result"
    }
   ],
   "source": [
    "new_note_1 = Note(\"chap 1\")\n",
    "new_note_1"
   ]
  },
  {
   "cell_type": "code",
   "execution_count": 108,
   "id": "5ae5d177",
   "metadata": {},
   "outputs": [
    {
     "name": "stdout",
     "output_type": "stream",
     "text": [
      "노트에 적힌 내용 : chap 1\n"
     ]
    }
   ],
   "source": [
    "print(new_note_1)"
   ]
  },
  {
   "cell_type": "code",
   "execution_count": 109,
   "id": "89c10c32",
   "metadata": {},
   "outputs": [
    {
     "data": {
      "text/plain": [
       "<__main__.Note at 0x7fed9839e220>"
      ]
     },
     "execution_count": 109,
     "metadata": {},
     "output_type": "execute_result"
    }
   ],
   "source": [
    "new_note_100 = Note(\"chap 100\")\n",
    "new_note_100"
   ]
  },
  {
   "cell_type": "markdown",
   "id": "f34d1560",
   "metadata": {},
   "source": [
    "---"
   ]
  },
  {
   "cell_type": "code",
   "execution_count": 110,
   "id": "741c4cdc",
   "metadata": {},
   "outputs": [
    {
     "name": "stdout",
     "output_type": "stream",
     "text": [
      "노트에 적힌 내용 : chap 100\n"
     ]
    }
   ],
   "source": [
    "print(new_note_100)"
   ]
  },
  {
   "cell_type": "code",
   "execution_count": 111,
   "id": "de55ed17",
   "metadata": {},
   "outputs": [],
   "source": [
    "my_notebook.add_note(new_note_1)\n",
    "my_notebook.add_note(new_note_100, 100) # 100 p"
   ]
  },
  {
   "cell_type": "markdown",
   "id": "b0c21c53",
   "metadata": {},
   "source": [
    "---"
   ]
  },
  {
   "cell_type": "code",
   "execution_count": 112,
   "id": "584bdc38",
   "metadata": {},
   "outputs": [
    {
     "data": {
      "text/plain": [
       "<__main__.NoteBook at 0x7fed9839e160>"
      ]
     },
     "execution_count": 112,
     "metadata": {},
     "output_type": "execute_result"
    }
   ],
   "source": [
    "my_notebook"
   ]
  },
  {
   "cell_type": "code",
   "execution_count": 113,
   "id": "4e5a3131",
   "metadata": {},
   "outputs": [
    {
     "data": {
      "text/plain": [
       "{1: <__main__.Note at 0x7fedb87e5cd0>, 100: <__main__.Note at 0x7fed9839e220>}"
      ]
     },
     "execution_count": 113,
     "metadata": {},
     "output_type": "execute_result"
    }
   ],
   "source": [
    "my_notebook.notes"
   ]
  },
  {
   "cell_type": "code",
   "execution_count": 114,
   "id": "a54add5d",
   "metadata": {},
   "outputs": [
    {
     "name": "stdout",
     "output_type": "stream",
     "text": [
      "노트에 적힌 내용 : chap 1\n"
     ]
    }
   ],
   "source": [
    "print(my_notebook.notes[1])"
   ]
  },
  {
   "cell_type": "code",
   "execution_count": 115,
   "id": "610b4f8f",
   "metadata": {},
   "outputs": [
    {
     "name": "stdout",
     "output_type": "stream",
     "text": [
      "노트에 적힌 내용 : chap 100\n"
     ]
    }
   ],
   "source": [
    "print(my_notebook.notes[100])"
   ]
  },
  {
   "cell_type": "code",
   "execution_count": 116,
   "id": "d91abe04",
   "metadata": {},
   "outputs": [
    {
     "data": {
      "text/plain": [
       "2"
      ]
     },
     "execution_count": 116,
     "metadata": {},
     "output_type": "execute_result"
    }
   ],
   "source": [
    "my_notebook.get_number_of_pages()"
   ]
  },
  {
   "cell_type": "code",
   "execution_count": 117,
   "id": "eb2b9dd2",
   "metadata": {},
   "outputs": [],
   "source": [
    "my_notebook.notes[2] = Note('chap 2')"
   ]
  },
  {
   "cell_type": "code",
   "execution_count": 118,
   "id": "adf1f8fc",
   "metadata": {},
   "outputs": [
    {
     "data": {
      "text/plain": [
       "{1: <__main__.Note at 0x7fedb87e5cd0>,\n",
       " 100: <__main__.Note at 0x7fed9839e220>,\n",
       " 2: <__main__.Note at 0x7fedb86cec10>}"
      ]
     },
     "execution_count": 118,
     "metadata": {},
     "output_type": "execute_result"
    }
   ],
   "source": [
    "my_notebook.notes"
   ]
  },
  {
   "cell_type": "code",
   "execution_count": 119,
   "id": "5862a773",
   "metadata": {},
   "outputs": [
    {
     "name": "stdout",
     "output_type": "stream",
     "text": [
      "노트에 적힌 내용 : chap 2\n"
     ]
    }
   ],
   "source": [
    "print(my_notebook.notes[2])"
   ]
  },
  {
   "cell_type": "code",
   "execution_count": 120,
   "id": "158412b9",
   "metadata": {},
   "outputs": [
    {
     "data": {
      "text/plain": [
       "3"
      ]
     },
     "execution_count": 120,
     "metadata": {},
     "output_type": "execute_result"
    }
   ],
   "source": [
    "my_notebook.get_number_of_pages()"
   ]
  },
  {
   "cell_type": "markdown",
   "id": "133203d0",
   "metadata": {},
   "source": [
    "---"
   ]
  },
  {
   "cell_type": "markdown",
   "id": "3ea753b1",
   "metadata": {},
   "source": [
    "## Inheritance (상속)\n",
    "## Polymorphism (다형성)\n",
    "## Visibility (가시성)"
   ]
  },
  {
   "cell_type": "markdown",
   "id": "88c77f34",
   "metadata": {},
   "source": [
    "---"
   ]
  },
  {
   "cell_type": "code",
   "execution_count": 162,
   "id": "3695da13",
   "metadata": {},
   "outputs": [],
   "source": [
    "# 부모 클래스 Person 선언 \n",
    "\n",
    "class Person(object): \n",
    "    \n",
    "    def __init__(self, name, age, gender):\n",
    "        \n",
    "        self.name = name\n",
    "        self.age = age\n",
    "        self.gender = gender\n",
    "        \n",
    "    def about_me(self):\n",
    "        print(\"저의 이름은 \", self.name, \"이구요, 제 나이는 \", str(self.age), \"살입니다.\", str(self.gender))"
   ]
  },
  {
   "cell_type": "code",
   "execution_count": 163,
   "id": "0307a321",
   "metadata": {},
   "outputs": [],
   "source": [
    "# 부모 클래스 Person으로 부터 상속 \n",
    "class Korean(Person): \n",
    "    pass"
   ]
  },
  {
   "cell_type": "code",
   "execution_count": 164,
   "id": "f3d4f762",
   "metadata": {},
   "outputs": [
    {
     "data": {
      "text/plain": [
       "('Sungchul', 35, 'M')"
      ]
     },
     "execution_count": 164,
     "metadata": {},
     "output_type": "execute_result"
    }
   ],
   "source": [
    "k1 = Korean(\"Sungchul\", 35, 'M') \n",
    "k1.name, k1.age, k1.gender"
   ]
  },
  {
   "cell_type": "code",
   "execution_count": 165,
   "id": "fa949538",
   "metadata": {},
   "outputs": [
    {
     "name": "stdout",
     "output_type": "stream",
     "text": [
      "저의 이름은  Sungchul 이구요, 제 나이는  35 살입니다. M\n"
     ]
    }
   ],
   "source": [
    "k1.about_me()"
   ]
  },
  {
   "cell_type": "markdown",
   "id": "e3d2deb5",
   "metadata": {},
   "source": [
    "\n",
    "---"
   ]
  },
  {
   "cell_type": "code",
   "execution_count": 166,
   "id": "1905bcd8",
   "metadata": {},
   "outputs": [],
   "source": [
    "# 부모 클래스 Person으로 부터 상속 \n",
    "\n",
    "class Employee(Person): \n",
    "    \n",
    "    def __init__(self, name, age, gender, salary, hire_date):\n",
    "        \n",
    "        # 부모객체 init 그대로 사용, 생략\n",
    "        super().__init__(name, age, gender) \n",
    "        \n",
    "#         self.name = name\n",
    "#         self.age = age\n",
    "#         self.gender = gender\n",
    "        \n",
    "        # 나머지 attribute 처리 \n",
    "        self.salary = salary\n",
    "        self.hire_date = hire_date\n",
    "    \n",
    "    \n",
    "    # 새로운 mehotd 추가 \n",
    "    def do_work(self): \n",
    "        print(\"열심히 일을 합니다.\")\n",
    "    \n",
    "    # 부모 클래스 method 재정의\n",
    "    def about_me(self): \n",
    "        \n",
    "        super().about_me() # 부모 클래스 method 사용\n",
    "        \n",
    "        print(\"제 급여는 \", self.salary, \"원 이구요, 제 입사일은 \", self.hire_date, \" 입니다.\")"
   ]
  },
  {
   "cell_type": "code",
   "execution_count": 176,
   "id": "bbc2f176",
   "metadata": {},
   "outputs": [],
   "source": [
    "e1 = Employee('JK',19,'M',1000,20210323)"
   ]
  },
  {
   "cell_type": "markdown",
   "id": "625df1cb",
   "metadata": {},
   "source": [
    "---"
   ]
  },
  {
   "cell_type": "code",
   "execution_count": 177,
   "id": "891a25de",
   "metadata": {},
   "outputs": [
    {
     "data": {
      "text/plain": [
       "<__main__.Employee at 0x7fedb880a850>"
      ]
     },
     "execution_count": 177,
     "metadata": {},
     "output_type": "execute_result"
    }
   ],
   "source": [
    "e1"
   ]
  },
  {
   "cell_type": "code",
   "execution_count": 178,
   "id": "fefa7141",
   "metadata": {},
   "outputs": [
    {
     "data": {
      "text/plain": [
       "'JK'"
      ]
     },
     "execution_count": 178,
     "metadata": {},
     "output_type": "execute_result"
    }
   ],
   "source": [
    "e1.name"
   ]
  },
  {
   "cell_type": "code",
   "execution_count": 179,
   "id": "20cdeffa",
   "metadata": {},
   "outputs": [
    {
     "name": "stdout",
     "output_type": "stream",
     "text": [
      "열심히 일을 합니다.\n"
     ]
    }
   ],
   "source": [
    "e1.do_work()"
   ]
  },
  {
   "cell_type": "code",
   "execution_count": 180,
   "id": "a7899b5a",
   "metadata": {},
   "outputs": [
    {
     "name": "stdout",
     "output_type": "stream",
     "text": [
      "저의 이름은  JK 이구요, 제 나이는  19 살입니다. M\n",
      "제 급여는  1000 원 이구요, 제 입사일은  20210323  입니다.\n"
     ]
    }
   ],
   "source": [
    "e1.about_me()"
   ]
  },
  {
   "cell_type": "markdown",
   "id": "ceae979a",
   "metadata": {},
   "source": [
    "---"
   ]
  }
 ],
 "metadata": {
  "kernelspec": {
   "display_name": "Python 3 (ipykernel)",
   "language": "python",
   "name": "python3"
  },
  "language_info": {
   "codemirror_mode": {
    "name": "ipython",
    "version": 3
   },
   "file_extension": ".py",
   "mimetype": "text/x-python",
   "name": "python",
   "nbconvert_exporter": "python",
   "pygments_lexer": "ipython3",
   "version": "3.8.16"
  },
  "toc": {
   "base_numbering": 1,
   "nav_menu": {},
   "number_sections": true,
   "sideBar": true,
   "skip_h1_title": false,
   "title_cell": "Table of Contents",
   "title_sidebar": "Contents",
   "toc_cell": false,
   "toc_position": {},
   "toc_section_display": true,
   "toc_window_display": false
  },
  "varInspector": {
   "cols": {
    "lenName": 16,
    "lenType": 16,
    "lenVar": 40
   },
   "kernels_config": {
    "python": {
     "delete_cmd_postfix": "",
     "delete_cmd_prefix": "del ",
     "library": "var_list.py",
     "varRefreshCmd": "print(var_dic_list())"
    },
    "r": {
     "delete_cmd_postfix": ") ",
     "delete_cmd_prefix": "rm(",
     "library": "var_list.r",
     "varRefreshCmd": "cat(var_dic_list()) "
    }
   },
   "types_to_exclude": [
    "module",
    "function",
    "builtin_function_or_method",
    "instance",
    "_Feature"
   ],
   "window_display": false
  }
 },
 "nbformat": 4,
 "nbformat_minor": 5
}
