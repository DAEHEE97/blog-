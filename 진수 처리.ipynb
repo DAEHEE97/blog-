{
 "cells": [
  {
   "cell_type": "markdown",
   "id": "c63cecd5",
   "metadata": {},
   "source": [
    "## 진수 처리"
   ]
  },
  {
   "cell_type": "code",
   "execution_count": 1,
   "id": "59da4d63",
   "metadata": {},
   "outputs": [],
   "source": [
    "# 10진수 8\n",
    "N = 8"
   ]
  },
  {
   "cell_type": "code",
   "execution_count": 2,
   "id": "1dc15adc",
   "metadata": {},
   "outputs": [
    {
     "data": {
      "text/plain": [
       "'0b1000'"
      ]
     },
     "execution_count": 2,
     "metadata": {},
     "output_type": "execute_result"
    }
   ],
   "source": [
    "# 2진수 문자열로 변경\n",
    "s = bin(N) \n",
    "s"
   ]
  },
  {
   "cell_type": "code",
   "execution_count": 3,
   "id": "39227d01",
   "metadata": {},
   "outputs": [
    {
     "data": {
      "text/plain": [
       "'1000'"
      ]
     },
     "execution_count": 3,
     "metadata": {},
     "output_type": "execute_result"
    }
   ],
   "source": [
    "s[2:]"
   ]
  },
  {
   "cell_type": "code",
   "execution_count": 4,
   "id": "ff61eac3",
   "metadata": {},
   "outputs": [
    {
     "data": {
      "text/plain": [
       "1000"
      ]
     },
     "execution_count": 4,
     "metadata": {},
     "output_type": "execute_result"
    }
   ],
   "source": [
    "int(s[2:])"
   ]
  },
  {
   "cell_type": "markdown",
   "id": "512a4ab3",
   "metadata": {},
   "source": [
    "---"
   ]
  },
  {
   "cell_type": "code",
   "execution_count": 5,
   "id": "88db1ae2",
   "metadata": {},
   "outputs": [
    {
     "data": {
      "text/plain": [
       "8"
      ]
     },
     "execution_count": 5,
     "metadata": {},
     "output_type": "execute_result"
    }
   ],
   "source": [
    "# 2진수 문자열 '1000', 10 진수로 변경\n",
    "int(s,2)"
   ]
  },
  {
   "cell_type": "code",
   "execution_count": 6,
   "id": "5474973f",
   "metadata": {},
   "outputs": [
    {
     "data": {
      "text/plain": [
       "45"
      ]
     },
     "execution_count": 6,
     "metadata": {},
     "output_type": "execute_result"
    }
   ],
   "source": [
    "# 3진수 '1200', 10 진수로 변경 \n",
    "int(str(1200),3)"
   ]
  },
  {
   "cell_type": "markdown",
   "id": "b38f0e3b",
   "metadata": {},
   "source": [
    "---"
   ]
  },
  {
   "cell_type": "markdown",
   "id": "68b12b03",
   "metadata": {},
   "source": [
    "---"
   ]
  },
  {
   "cell_type": "code",
   "execution_count": 7,
   "id": "5757bfdd",
   "metadata": {},
   "outputs": [
    {
     "name": "stdout",
     "output_type": "stream",
     "text": [
      "100\n"
     ]
    }
   ],
   "source": [
    "N = 9\n",
    "\n",
    "ans = \"\"  # 3진수를 저장할 변수 초기화\n",
    "\n",
    "while N > 0:\n",
    "    \n",
    "    r = N % 3  # 10진수를 3으로 나눈 나머지를 계산\n",
    "    \n",
    "    ans = str(r) + ans  # 나머지를 3진수 앞에 추가\n",
    "    \n",
    "    N = N // 3  # 10진수를 3으로 나눈 몫을 계산\n",
    "\n",
    "print(ans)  # 최종적으로 얻은 3진수 문자열 출력"
   ]
  },
  {
   "cell_type": "code",
   "execution_count": 8,
   "id": "35091dd2",
   "metadata": {},
   "outputs": [
    {
     "data": {
      "text/plain": [
       "'100'"
      ]
     },
     "execution_count": 8,
     "metadata": {},
     "output_type": "execute_result"
    }
   ],
   "source": [
    "ans"
   ]
  }
 ],
 "metadata": {
  "kernelspec": {
   "display_name": "Python 3 (ipykernel)",
   "language": "python",
   "name": "python3"
  },
  "language_info": {
   "codemirror_mode": {
    "name": "ipython",
    "version": 3
   },
   "file_extension": ".py",
   "mimetype": "text/x-python",
   "name": "python",
   "nbconvert_exporter": "python",
   "pygments_lexer": "ipython3",
   "version": "3.8.16"
  },
  "toc": {
   "base_numbering": 1,
   "nav_menu": {},
   "number_sections": true,
   "sideBar": true,
   "skip_h1_title": false,
   "title_cell": "Table of Contents",
   "title_sidebar": "Contents",
   "toc_cell": false,
   "toc_position": {},
   "toc_section_display": true,
   "toc_window_display": false
  },
  "varInspector": {
   "cols": {
    "lenName": 16,
    "lenType": 16,
    "lenVar": 40
   },
   "kernels_config": {
    "python": {
     "delete_cmd_postfix": "",
     "delete_cmd_prefix": "del ",
     "library": "var_list.py",
     "varRefreshCmd": "print(var_dic_list())"
    },
    "r": {
     "delete_cmd_postfix": ") ",
     "delete_cmd_prefix": "rm(",
     "library": "var_list.r",
     "varRefreshCmd": "cat(var_dic_list()) "
    }
   },
   "types_to_exclude": [
    "module",
    "function",
    "builtin_function_or_method",
    "instance",
    "_Feature"
   ],
   "window_display": false
  }
 },
 "nbformat": 4,
 "nbformat_minor": 5
}
