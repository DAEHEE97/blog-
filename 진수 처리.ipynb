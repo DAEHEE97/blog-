{
 "cells": [
  {
   "cell_type": "markdown",
   "id": "c63cecd5",
   "metadata": {},
   "source": [
    "## 진수 처리"
   ]
  },
  {
   "cell_type": "code",
   "execution_count": 1,
   "id": "59da4d63",
   "metadata": {},
   "outputs": [],
   "source": [
    "# 10진수 8\n",
    "N = 8"
   ]
  },
  {
   "cell_type": "code",
   "execution_count": 2,
   "id": "1dc15adc",
   "metadata": {},
   "outputs": [
    {
     "data": {
      "text/plain": [
       "'0b1000'"
      ]
     },
     "execution_count": 2,
     "metadata": {},
     "output_type": "execute_result"
    }
   ],
   "source": [
    "# 2진수 문자열로 변경\n",
    "s = bin(N) \n",
    "s"
   ]
  },
  {
   "cell_type": "code",
   "execution_count": 3,
   "id": "39227d01",
   "metadata": {},
   "outputs": [
    {
     "data": {
      "text/plain": [
       "'1000'"
      ]
     },
     "execution_count": 3,
     "metadata": {},
     "output_type": "execute_result"
    }
   ],
   "source": [
    "s[2:]"
   ]
  },
  {
   "cell_type": "code",
   "execution_count": 4,
   "id": "ff61eac3",
   "metadata": {},
   "outputs": [
    {
     "data": {
      "text/plain": [
       "1000"
      ]
     },
     "execution_count": 4,
     "metadata": {},
     "output_type": "execute_result"
    }
   ],
   "source": [
    "int(s[2:])"
   ]
  },
  {
   "cell_type": "markdown",
   "id": "512a4ab3",
   "metadata": {},
   "source": [
    "---"
   ]
  },
  {
   "cell_type": "code",
   "execution_count": 5,
   "id": "88db1ae2",
   "metadata": {},
   "outputs": [
    {
     "data": {
      "text/plain": [
       "8"
      ]
     },
     "execution_count": 5,
     "metadata": {},
     "output_type": "execute_result"
    }
   ],
   "source": [
    "# 2진수 문자열 '1000', 10 진수로 변경\n",
    "int(s,2)"
   ]
  },
  {
   "cell_type": "code",
   "execution_count": 6,
   "id": "5474973f",
   "metadata": {},
   "outputs": [
    {
     "data": {
      "text/plain": [
       "45"
      ]
     },
     "execution_count": 6,
     "metadata": {},
     "output_type": "execute_result"
    }
   ],
   "source": [
    "# 3진수 '1200', 10 진수로 변경 \n",
    "int(str(1200),3)"
   ]
  },
  {
   "cell_type": "markdown",
   "id": "b38f0e3b",
   "metadata": {},
   "source": [
    "---"
   ]
  },
  {
   "cell_type": "markdown",
   "id": "68b12b03",
   "metadata": {},
   "source": [
    "---"
   ]
  },
  {
   "cell_type": "markdown",
   "id": "5bda6d80",
   "metadata": {},
   "source": [
    "코드는 10진수를 3진수로 변환하기 위해 선택된 알고리즘을 구현한 것입니다. \n",
    "\n",
    "이 알고리즘은 \"나머지를 이용한 진법 변환\" 방식을 사용합니다.\n",
    "\n",
    "일반적으로 10진수를 다른 진법으로 변환하는 방법은 다양한 접근법이 있을 수 있습니다. 이 코드에서 선택된 방식은 가장 간단하고 직관적인 방법 중 하나입니다.\n",
    "\n",
    "코드의 주요 아이디어는 다음과 같습니다:\n",
    "\n",
    "1. 10진수를 3으로 나눈 나머지를 구합니다. 이 나머지는 3진수의 가장 오른쪽 자릿수에 해당합니다. 18 % 3 == 0\n",
    "\n",
    "2. 나머지를 3진수의 가장 왼쪽 자릿수로 추가합니다. ans = 0 + ans\n",
    "\n",
    "3. 10진수를 3으로 나눈 몫을 계산합니다. 18 // 3 = 6 이 과정은 10진수의 가장 오른쪽 자릿수를 제거하는 효과가 있습니다.\n",
    "\n",
    "4. 10진수가 0이 될 때까지 위의 과정을 반복합니다.\n",
    "\n",
    "\n",
    "\n",
    "이 알고리즘은 10진수를 오른쪽에서 왼쪽으로 3진수로 변환합니다. \n",
    "\n",
    "그래서 결과적으로 얻어지는 3진수는 숫자의 자릿수가 역순으로 되는 것입니다. \n",
    "\n",
    "이는 3진수의 가장 오른쪽 자릿수부터 시작하여 왼쪽으로 이동하며 계산한 결과를 문자열로 저장하는 방식입니다.\n",
    "\n",
    "알고리즘이 선택된 이유는 단순함과 효율성 때문입니다. \n",
    "\n",
    "이 방법은 반복적으로 나머지와 몫을 계산하여 10진수를 변환하므로 구현이 간단하고 계산 비용이 낮습니다."
   ]
  },
  {
   "cell_type": "code",
   "execution_count": 7,
   "id": "5757bfdd",
   "metadata": {},
   "outputs": [
    {
     "name": "stdout",
     "output_type": "stream",
     "text": [
      "100\n"
     ]
    }
   ],
   "source": [
    "N = 9\n",
    "\n",
    "ans = \"\"  # 3진수를 저장할 변수 초기화\n",
    "\n",
    "while N > 0:\n",
    "    \n",
    "    r = N % 3  # 10진수를 3으로 나눈 나머지를 계산\n",
    "    \n",
    "    ans = str(r) + ans  # 나머지를 3진수 앞에 추가\n",
    "    \n",
    "    N = N // 3  # 10진수를 3으로 나눈 몫을 계산\n",
    "\n",
    "print(ans)  # 최종적으로 얻은 3진수 문자열 출력"
   ]
  },
  {
   "cell_type": "code",
   "execution_count": 8,
   "id": "35091dd2",
   "metadata": {},
   "outputs": [
    {
     "data": {
      "text/plain": [
       "'100'"
      ]
     },
     "execution_count": 8,
     "metadata": {},
     "output_type": "execute_result"
    }
   ],
   "source": [
    "ans"
   ]
  }
 ],
 "metadata": {
  "kernelspec": {
   "display_name": "Python 3 (ipykernel)",
   "language": "python",
   "name": "python3"
  },
  "language_info": {
   "codemirror_mode": {
    "name": "ipython",
    "version": 3
   },
   "file_extension": ".py",
   "mimetype": "text/x-python",
   "name": "python",
   "nbconvert_exporter": "python",
   "pygments_lexer": "ipython3",
   "version": "3.8.16"
  },
  "toc": {
   "base_numbering": 1,
   "nav_menu": {},
   "number_sections": true,
   "sideBar": true,
   "skip_h1_title": false,
   "title_cell": "Table of Contents",
   "title_sidebar": "Contents",
   "toc_cell": false,
   "toc_position": {},
   "toc_section_display": true,
   "toc_window_display": false
  },
  "varInspector": {
   "cols": {
    "lenName": 16,
    "lenType": 16,
    "lenVar": 40
   },
   "kernels_config": {
    "python": {
     "delete_cmd_postfix": "",
     "delete_cmd_prefix": "del ",
     "library": "var_list.py",
     "varRefreshCmd": "print(var_dic_list())"
    },
    "r": {
     "delete_cmd_postfix": ") ",
     "delete_cmd_prefix": "rm(",
     "library": "var_list.r",
     "varRefreshCmd": "cat(var_dic_list()) "
    }
   },
   "types_to_exclude": [
    "module",
    "function",
    "builtin_function_or_method",
    "instance",
    "_Feature"
   ],
   "window_display": false
  }
 },
 "nbformat": 4,
 "nbformat_minor": 5
}
