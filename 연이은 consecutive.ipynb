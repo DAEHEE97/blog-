{
 "cells": [
  {
   "cell_type": "markdown",
   "id": "fa1d0a05",
   "metadata": {},
   "source": [
    "# consecutive\n",
    "\n",
    "- 사탕게임"
   ]
  },
  {
   "cell_type": "code",
   "execution_count": 1,
   "id": "98878c9e",
   "metadata": {},
   "outputs": [],
   "source": [
    "def find_max_consecutive(lst):\n",
    "    \n",
    "    max_count = 1  # 최대 개수를 저장할 변수\n",
    "    \n",
    "    cnt = 1  # 현재 연속 개수를 저장할 변수\n",
    "\n",
    "    for i in range(1, len(lst)):\n",
    "        \n",
    "        if lst[i] == lst[i-1]:\n",
    "            \n",
    "            cnt += 1\n",
    "            \n",
    "            if cnt > max_count:\n",
    "                max_count = cnt\n",
    "        \n",
    "        else:\n",
    "            cnt = 1 # 전 값과 다르다면, cnt = 1 처리, 이전에 이미 max 를 이미 저장 한 상태\n",
    "\n",
    "    return max_count\n"
   ]
  },
  {
   "cell_type": "code",
   "execution_count": 2,
   "id": "e0df1736",
   "metadata": {},
   "outputs": [
    {
     "name": "stdout",
     "output_type": "stream",
     "text": [
      "2\n",
      "3\n",
      "4\n"
     ]
    }
   ],
   "source": [
    "lst = [1, 2, 1, 1]\n",
    "result = find_max_consecutive(lst)\n",
    "print(result)  # 출력: 2\n",
    "\n",
    "lst = [1, 3, 3, 3, 2, 2]\n",
    "result = find_max_consecutive(lst)\n",
    "print(result)  # 출력: 3\n",
    "\n",
    "lst = [1, 2, 2, 3, 3, 3, 3, 2, 2, 2]\n",
    "result = find_max_consecutive(lst)\n",
    "print(result)  # 출력: 3\n"
   ]
  },
  {
   "cell_type": "markdown",
   "id": "e1047818",
   "metadata": {},
   "source": [
    "---"
   ]
  },
  {
   "cell_type": "code",
   "execution_count": 3,
   "id": "69686af0",
   "metadata": {},
   "outputs": [],
   "source": [
    "def count(lst):\n",
    "    \n",
    "    cnt = 1\n",
    "    ans = 1\n",
    "    \n",
    "    for i in range(1, len(lst)):\n",
    "        \n",
    "        if lst[i] == lst[i-1]:\n",
    "            cnt += 1\n",
    "            ans = max(ans, cnt)\n",
    "        \n",
    "        else:\n",
    "            cnt = 1\n",
    "    \n",
    "    return ans"
   ]
  }
 ],
 "metadata": {
  "kernelspec": {
   "display_name": "Python 3 (ipykernel)",
   "language": "python",
   "name": "python3"
  },
  "language_info": {
   "codemirror_mode": {
    "name": "ipython",
    "version": 3
   },
   "file_extension": ".py",
   "mimetype": "text/x-python",
   "name": "python",
   "nbconvert_exporter": "python",
   "pygments_lexer": "ipython3",
   "version": "3.8.16"
  },
  "toc": {
   "base_numbering": 1,
   "nav_menu": {},
   "number_sections": true,
   "sideBar": true,
   "skip_h1_title": false,
   "title_cell": "Table of Contents",
   "title_sidebar": "Contents",
   "toc_cell": false,
   "toc_position": {},
   "toc_section_display": true,
   "toc_window_display": false
  },
  "varInspector": {
   "cols": {
    "lenName": 16,
    "lenType": 16,
    "lenVar": 40
   },
   "kernels_config": {
    "python": {
     "delete_cmd_postfix": "",
     "delete_cmd_prefix": "del ",
     "library": "var_list.py",
     "varRefreshCmd": "print(var_dic_list())"
    },
    "r": {
     "delete_cmd_postfix": ") ",
     "delete_cmd_prefix": "rm(",
     "library": "var_list.r",
     "varRefreshCmd": "cat(var_dic_list()) "
    }
   },
   "types_to_exclude": [
    "module",
    "function",
    "builtin_function_or_method",
    "instance",
    "_Feature"
   ],
   "window_display": false
  }
 },
 "nbformat": 4,
 "nbformat_minor": 5
}
