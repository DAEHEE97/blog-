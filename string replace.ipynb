{
 "cells": [
  {
   "cell_type": "markdown",
   "id": "a04300e2",
   "metadata": {},
   "source": [
    "# s.replace()\n",
    "\n",
    "- 중복 처리\n",
    "\n",
    "- 새로운 string 생성 으로 변수 선언 해줘야 함!"
   ]
  },
  {
   "cell_type": "code",
   "execution_count": 10,
   "id": "9293ea89",
   "metadata": {},
   "outputs": [],
   "source": [
    "s = 'oneseveneightonezero'"
   ]
  },
  {
   "cell_type": "code",
   "execution_count": 11,
   "id": "6b208dbb",
   "metadata": {},
   "outputs": [
    {
     "data": {
      "text/plain": [
       "'1seveneight1zero'"
      ]
     },
     "execution_count": 11,
     "metadata": {},
     "output_type": "execute_result"
    }
   ],
   "source": [
    "# 중복으로 모두 변경해줌, 그러나 내부 변경이 아니라, 새로운 string 생성 이므로, 변수 선언을 해줘야 함\n",
    "\n",
    "s.replace('one','1')"
   ]
  },
  {
   "cell_type": "code",
   "execution_count": 12,
   "id": "cb9894a0",
   "metadata": {},
   "outputs": [
    {
     "data": {
      "text/plain": [
       "'oneseveneightone0'"
      ]
     },
     "execution_count": 12,
     "metadata": {},
     "output_type": "execute_result"
    }
   ],
   "source": [
    "s.replace('zero','0')"
   ]
  },
  {
   "cell_type": "markdown",
   "id": "792ab545",
   "metadata": {},
   "source": [
    "---"
   ]
  },
  {
   "cell_type": "code",
   "execution_count": 10,
   "id": "9e102856",
   "metadata": {},
   "outputs": [],
   "source": [
    "s = 'oneseveneightonezero'"
   ]
  },
  {
   "cell_type": "code",
   "execution_count": 14,
   "id": "150bb68e",
   "metadata": {},
   "outputs": [
    {
     "data": {
      "text/plain": [
       "'1seveneight1zero'"
      ]
     },
     "execution_count": 14,
     "metadata": {},
     "output_type": "execute_result"
    }
   ],
   "source": [
    "s = s.replace('one','1')\n",
    "s"
   ]
  },
  {
   "cell_type": "code",
   "execution_count": 15,
   "id": "ccb7a65b",
   "metadata": {},
   "outputs": [
    {
     "data": {
      "text/plain": [
       "'1seveneight10'"
      ]
     },
     "execution_count": 15,
     "metadata": {},
     "output_type": "execute_result"
    }
   ],
   "source": [
    "s = s.replace('zero','0')\n",
    "s"
   ]
  },
  {
   "cell_type": "code",
   "execution_count": 17,
   "id": "8ebe9226",
   "metadata": {},
   "outputs": [],
   "source": [
    "t = s.replace('seven','7')"
   ]
  },
  {
   "cell_type": "code",
   "execution_count": 18,
   "id": "59b465a8",
   "metadata": {},
   "outputs": [
    {
     "data": {
      "text/plain": [
       "'1seveneight10'"
      ]
     },
     "execution_count": 18,
     "metadata": {},
     "output_type": "execute_result"
    }
   ],
   "source": [
    "s"
   ]
  },
  {
   "cell_type": "code",
   "execution_count": 19,
   "id": "49652527",
   "metadata": {},
   "outputs": [
    {
     "data": {
      "text/plain": [
       "'17eight10'"
      ]
     },
     "execution_count": 19,
     "metadata": {},
     "output_type": "execute_result"
    }
   ],
   "source": [
    "t"
   ]
  },
  {
   "cell_type": "markdown",
   "id": "fde452b5",
   "metadata": {},
   "source": [
    "---"
   ]
  },
  {
   "cell_type": "code",
   "execution_count": 7,
   "id": "92cf5876",
   "metadata": {},
   "outputs": [],
   "source": [
    "# 입력은 문자열 \n",
    "def solution(s):\n",
    "    \n",
    "    # 합성 string 을 주면,숫자로 전환\n",
    "    \n",
    "    lst = ['zero','one','two','three','four','five','six','seven','eight','nine']\n",
    "    \n",
    "    for i in lst:\n",
    "        if i in s:\n",
    "            s.replace(i,str(lst.index(i)))\n",
    "    \n",
    "    print(s)\n",
    "    answer = int(s)\n",
    "    \n",
    "    return answer"
   ]
  },
  {
   "cell_type": "code",
   "execution_count": 8,
   "id": "3cf4c921",
   "metadata": {},
   "outputs": [],
   "source": [
    "s = \"one4seveneight\""
   ]
  },
  {
   "cell_type": "code",
   "execution_count": 9,
   "id": "2c3ee00a",
   "metadata": {},
   "outputs": [
    {
     "name": "stdout",
     "output_type": "stream",
     "text": [
      "one4seveneight\n"
     ]
    },
    {
     "ename": "ValueError",
     "evalue": "invalid literal for int() with base 10: 'one4seveneight'",
     "output_type": "error",
     "traceback": [
      "\u001b[0;31m---------------------------------------------------------------------------\u001b[0m",
      "\u001b[0;31mValueError\u001b[0m                                Traceback (most recent call last)",
      "Cell \u001b[0;32mIn[9], line 1\u001b[0m\n\u001b[0;32m----> 1\u001b[0m \u001b[43msolution\u001b[49m\u001b[43m(\u001b[49m\u001b[43ms\u001b[49m\u001b[43m)\u001b[49m\n",
      "Cell \u001b[0;32mIn[7], line 13\u001b[0m, in \u001b[0;36msolution\u001b[0;34m(s)\u001b[0m\n\u001b[1;32m     10\u001b[0m         s\u001b[38;5;241m.\u001b[39mreplace(i,\u001b[38;5;28mstr\u001b[39m(lst\u001b[38;5;241m.\u001b[39mindex(i)))\n\u001b[1;32m     12\u001b[0m \u001b[38;5;28mprint\u001b[39m(s)\n\u001b[0;32m---> 13\u001b[0m answer \u001b[38;5;241m=\u001b[39m \u001b[38;5;28;43mint\u001b[39;49m\u001b[43m(\u001b[49m\u001b[43ms\u001b[49m\u001b[43m)\u001b[49m\n\u001b[1;32m     15\u001b[0m \u001b[38;5;28;01mreturn\u001b[39;00m answer\n",
      "\u001b[0;31mValueError\u001b[0m: invalid literal for int() with base 10: 'one4seveneight'"
     ]
    }
   ],
   "source": [
    "solution(s)"
   ]
  },
  {
   "cell_type": "code",
   "execution_count": null,
   "id": "0aabefef",
   "metadata": {},
   "outputs": [],
   "source": []
  }
 ],
 "metadata": {
  "kernelspec": {
   "display_name": "Python 3 (ipykernel)",
   "language": "python",
   "name": "python3"
  },
  "language_info": {
   "codemirror_mode": {
    "name": "ipython",
    "version": 3
   },
   "file_extension": ".py",
   "mimetype": "text/x-python",
   "name": "python",
   "nbconvert_exporter": "python",
   "pygments_lexer": "ipython3",
   "version": "3.8.16"
  },
  "toc": {
   "base_numbering": 1,
   "nav_menu": {},
   "number_sections": true,
   "sideBar": true,
   "skip_h1_title": false,
   "title_cell": "Table of Contents",
   "title_sidebar": "Contents",
   "toc_cell": false,
   "toc_position": {},
   "toc_section_display": true,
   "toc_window_display": false
  },
  "varInspector": {
   "cols": {
    "lenName": 16,
    "lenType": 16,
    "lenVar": 40
   },
   "kernels_config": {
    "python": {
     "delete_cmd_postfix": "",
     "delete_cmd_prefix": "del ",
     "library": "var_list.py",
     "varRefreshCmd": "print(var_dic_list())"
    },
    "r": {
     "delete_cmd_postfix": ") ",
     "delete_cmd_prefix": "rm(",
     "library": "var_list.r",
     "varRefreshCmd": "cat(var_dic_list()) "
    }
   },
   "types_to_exclude": [
    "module",
    "function",
    "builtin_function_or_method",
    "instance",
    "_Feature"
   ],
   "window_display": false
  }
 },
 "nbformat": 4,
 "nbformat_minor": 5
}
