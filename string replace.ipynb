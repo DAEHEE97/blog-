{
 "cells": [
  {
   "cell_type": "markdown",
   "id": "d92a6825",
   "metadata": {},
   "source": [
    "# s.replace()\n",
    "\n",
    "- 중복 처리\n",
    "\n",
    "- 새로운 string 생성 으로 변수 선언 해줘야 함!"
   ]
  },
  {
   "cell_type": "code",
   "execution_count": 1,
   "id": "cc6ad83a",
   "metadata": {},
   "outputs": [],
   "source": [
    "s = 'oneseveneightonezero'"
   ]
  },
  {
   "cell_type": "code",
   "execution_count": 2,
   "id": "79b5fcbf",
   "metadata": {},
   "outputs": [
    {
     "data": {
      "text/plain": [
       "'1seveneight1zero'"
      ]
     },
     "execution_count": 2,
     "metadata": {},
     "output_type": "execute_result"
    }
   ],
   "source": [
    "# 중복으로 모두 변경해줌, 그러나 내부 변경이 아니라, 새로운 string 생성 이므로, 변수 선언을 해줘야 함\n",
    "\n",
    "s.replace('one','1')"
   ]
  },
  {
   "cell_type": "code",
   "execution_count": 3,
   "id": "95915933",
   "metadata": {},
   "outputs": [
    {
     "data": {
      "text/plain": [
       "'oneseveneightone0'"
      ]
     },
     "execution_count": 3,
     "metadata": {},
     "output_type": "execute_result"
    }
   ],
   "source": [
    "s.replace('zero','0')"
   ]
  },
  {
   "cell_type": "markdown",
   "id": "7d59b504",
   "metadata": {},
   "source": [
    "---"
   ]
  },
  {
   "cell_type": "code",
   "execution_count": 4,
   "id": "6ca5cd9c",
   "metadata": {},
   "outputs": [],
   "source": [
    "s = 'oneseveneightonezero'"
   ]
  },
  {
   "cell_type": "code",
   "execution_count": 5,
   "id": "db2ba7eb",
   "metadata": {},
   "outputs": [
    {
     "data": {
      "text/plain": [
       "'1seveneight1zero'"
      ]
     },
     "execution_count": 5,
     "metadata": {},
     "output_type": "execute_result"
    }
   ],
   "source": [
    "s = s.replace('one','1')\n",
    "s"
   ]
  },
  {
   "cell_type": "code",
   "execution_count": 6,
   "id": "72fd3dd3",
   "metadata": {},
   "outputs": [
    {
     "data": {
      "text/plain": [
       "'1seveneight10'"
      ]
     },
     "execution_count": 6,
     "metadata": {},
     "output_type": "execute_result"
    }
   ],
   "source": [
    "s = s.replace('zero','0')\n",
    "s"
   ]
  },
  {
   "cell_type": "markdown",
   "id": "3af51429",
   "metadata": {},
   "source": [
    "---"
   ]
  },
  {
   "cell_type": "code",
   "execution_count": 7,
   "id": "17bf2282",
   "metadata": {},
   "outputs": [],
   "source": [
    "t = s.replace('seven','7')"
   ]
  },
  {
   "cell_type": "code",
   "execution_count": 8,
   "id": "9d0853d9",
   "metadata": {},
   "outputs": [
    {
     "data": {
      "text/plain": [
       "'1seveneight10'"
      ]
     },
     "execution_count": 8,
     "metadata": {},
     "output_type": "execute_result"
    }
   ],
   "source": [
    "s"
   ]
  },
  {
   "cell_type": "code",
   "execution_count": 9,
   "id": "d99f93f1",
   "metadata": {},
   "outputs": [
    {
     "data": {
      "text/plain": [
       "'17eight10'"
      ]
     },
     "execution_count": 9,
     "metadata": {},
     "output_type": "execute_result"
    }
   ],
   "source": [
    "t"
   ]
  },
  {
   "cell_type": "markdown",
   "id": "201a0e5b",
   "metadata": {},
   "source": [
    "---"
   ]
  },
  {
   "cell_type": "code",
   "execution_count": 10,
   "id": "63038907",
   "metadata": {},
   "outputs": [],
   "source": [
    "# 입력은 문자열 \n",
    "def solution(s):\n",
    "    \n",
    "    # 합성 string 을 주면,숫자로 전환\n",
    "    \n",
    "    # pre 선언 \n",
    "    lst = ['zero','one','two','three','four','five','six','seven','eight','nine']\n",
    "    \n",
    "    for i in lst:\n",
    "        if i in s:\n",
    "            s = s.replace(i,str(lst.index(i)))\n",
    "    \n",
    "    answer = int(s)\n",
    "    \n",
    "    return answer"
   ]
  },
  {
   "cell_type": "code",
   "execution_count": 11,
   "id": "5218bdad",
   "metadata": {},
   "outputs": [],
   "source": [
    "s = \"one4seveneight\""
   ]
  },
  {
   "cell_type": "code",
   "execution_count": 12,
   "id": "ba0411fc",
   "metadata": {},
   "outputs": [
    {
     "data": {
      "text/plain": [
       "1478"
      ]
     },
     "execution_count": 12,
     "metadata": {},
     "output_type": "execute_result"
    }
   ],
   "source": [
    "solution(s)"
   ]
  }
 ],
 "metadata": {
  "kernelspec": {
   "display_name": "Python 3 (ipykernel)",
   "language": "python",
   "name": "python3"
  },
  "language_info": {
   "codemirror_mode": {
    "name": "ipython",
    "version": 3
   },
   "file_extension": ".py",
   "mimetype": "text/x-python",
   "name": "python",
   "nbconvert_exporter": "python",
   "pygments_lexer": "ipython3",
   "version": "3.8.16"
  },
  "toc": {
   "base_numbering": 1,
   "nav_menu": {},
   "number_sections": true,
   "sideBar": true,
   "skip_h1_title": false,
   "title_cell": "Table of Contents",
   "title_sidebar": "Contents",
   "toc_cell": false,
   "toc_position": {},
   "toc_section_display": true,
   "toc_window_display": false
  },
  "varInspector": {
   "cols": {
    "lenName": 16,
    "lenType": 16,
    "lenVar": 40
   },
   "kernels_config": {
    "python": {
     "delete_cmd_postfix": "",
     "delete_cmd_prefix": "del ",
     "library": "var_list.py",
     "varRefreshCmd": "print(var_dic_list())"
    },
    "r": {
     "delete_cmd_postfix": ") ",
     "delete_cmd_prefix": "rm(",
     "library": "var_list.r",
     "varRefreshCmd": "cat(var_dic_list()) "
    }
   },
   "types_to_exclude": [
    "module",
    "function",
    "builtin_function_or_method",
    "instance",
    "_Feature"
   ],
   "window_display": false
  }
 },
 "nbformat": 4,
 "nbformat_minor": 5
}
