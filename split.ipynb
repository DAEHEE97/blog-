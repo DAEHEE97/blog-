{
 "cells": [
  {
   "cell_type": "markdown",
   "id": "a508bb4c",
   "metadata": {},
   "source": [
    "# split"
   ]
  },
  {
   "cell_type": "markdown",
   "id": "5d517bab",
   "metadata": {},
   "source": [
    "- split() \n",
    "\n",
    "- split(' ')\n",
    "\n",
    "제대로 처리해야함"
   ]
  },
  {
   "cell_type": "markdown",
   "id": "bf6ac386",
   "metadata": {},
   "source": [
    "## 입력 처리"
   ]
  },
  {
   "cell_type": "code",
   "execution_count": 1,
   "id": "19253f30",
   "metadata": {},
   "outputs": [
    {
     "name": "stdout",
     "output_type": "stream",
     "text": [
      "1 2 3 4 5\n"
     ]
    },
    {
     "data": {
      "text/plain": [
       "[1, 2, 3, 4, 5]"
      ]
     },
     "execution_count": 1,
     "metadata": {},
     "output_type": "execute_result"
    }
   ],
   "source": [
    "list(map(int,input().split()))"
   ]
  },
  {
   "cell_type": "code",
   "execution_count": 2,
   "id": "956cf5b5",
   "metadata": {},
   "outputs": [
    {
     "name": "stdout",
     "output_type": "stream",
     "text": [
      "1 2 3 4 5\n"
     ]
    },
    {
     "data": {
      "text/plain": [
       "[1, 2, 3, 4, 5]"
      ]
     },
     "execution_count": 2,
     "metadata": {},
     "output_type": "execute_result"
    }
   ],
   "source": [
    "list(map(int,input().split(' ')))"
   ]
  },
  {
   "cell_type": "markdown",
   "id": "6b55f15e",
   "metadata": {},
   "source": [
    "---"
   ]
  },
  {
   "cell_type": "markdown",
   "id": "1dd2b391",
   "metadata": {},
   "source": [
    "## 문자열은 불변(immutable) 자료형"
   ]
  },
  {
   "cell_type": "code",
   "execution_count": 3,
   "id": "5f6714c7",
   "metadata": {},
   "outputs": [],
   "source": [
    "lst = list(\"try hello world\".split())"
   ]
  },
  {
   "cell_type": "code",
   "execution_count": 4,
   "id": "1801eced",
   "metadata": {},
   "outputs": [
    {
     "data": {
      "text/plain": [
       "['try', 'hello', 'world']"
      ]
     },
     "execution_count": 4,
     "metadata": {},
     "output_type": "execute_result"
    }
   ],
   "source": [
    "lst"
   ]
  },
  {
   "cell_type": "code",
   "execution_count": 5,
   "id": "d2883170",
   "metadata": {},
   "outputs": [
    {
     "data": {
      "text/plain": [
       "'T'"
      ]
     },
     "execution_count": 5,
     "metadata": {},
     "output_type": "execute_result"
    }
   ],
   "source": [
    "'try'[0].upper()"
   ]
  },
  {
   "cell_type": "code",
   "execution_count": 6,
   "id": "c64fcf87",
   "metadata": {},
   "outputs": [
    {
     "data": {
      "text/plain": [
       "['try', 'hello', 'world']"
      ]
     },
     "execution_count": 6,
     "metadata": {},
     "output_type": "execute_result"
    }
   ],
   "source": [
    "lst"
   ]
  },
  {
   "cell_type": "markdown",
   "id": "3590d778",
   "metadata": {},
   "source": [
    "---"
   ]
  },
  {
   "cell_type": "markdown",
   "id": "d8938d8e",
   "metadata": {},
   "source": [
    "## 문자열은 불변(immutable) 자료형이므로, 새로운 문자열을 생성하여 변경된 문자열을 저장해야 합니다."
   ]
  },
  {
   "cell_type": "code",
   "execution_count": 7,
   "id": "94439cba",
   "metadata": {},
   "outputs": [],
   "source": [
    "def solution(s):\n",
    "    \n",
    "    lst = list(s.split(' '))\n",
    "\n",
    "    answer = ''\n",
    "\n",
    "    for s in lst:\n",
    "\n",
    "        for i in range(len(s)):    \n",
    "\n",
    "            # idx 0부터 시작\n",
    "            if i % 2 == 1:\n",
    "                answer += s[i].lower()\n",
    "            else:\n",
    "                answer +=s[i].upper()\n",
    "\n",
    "        answer += ' '\n",
    "    \n",
    "    answer = answer[:-1]\n",
    "    \n",
    "    return answer"
   ]
  },
  {
   "cell_type": "code",
   "execution_count": 8,
   "id": "618f0307",
   "metadata": {},
   "outputs": [
    {
     "data": {
      "text/plain": [
       "'TrY HeLlO WoRlD'"
      ]
     },
     "execution_count": 8,
     "metadata": {},
     "output_type": "execute_result"
    }
   ],
   "source": [
    "solution(\"try hello world\")"
   ]
  },
  {
   "cell_type": "markdown",
   "id": "02709d35",
   "metadata": {},
   "source": [
    "---"
   ]
  },
  {
   "cell_type": "code",
   "execution_count": 9,
   "id": "fea602dd",
   "metadata": {},
   "outputs": [],
   "source": [
    "def solution(s):\n",
    "    \n",
    "\n",
    "    lst = list(s.split(' '))\n",
    "\n",
    "    for index in range(len(lst)):\n",
    "\n",
    "        s = lst[index]\n",
    "\n",
    "        new_s = \"\"\n",
    "\n",
    "        for i in range(len(s)):\n",
    "            if i % 2 == 1:\n",
    "                new_s += s[i].lower()\n",
    "            else:\n",
    "                new_s += s[i].upper()\n",
    "\n",
    "        lst[index] = new_s\n",
    "\n",
    "        ans = ' '.join(lst)\n",
    "        \n",
    "    return ans"
   ]
  },
  {
   "cell_type": "code",
   "execution_count": 10,
   "id": "af8bd462",
   "metadata": {},
   "outputs": [
    {
     "data": {
      "text/plain": [
       "'TrY HeLlO WoRlD'"
      ]
     },
     "execution_count": 10,
     "metadata": {},
     "output_type": "execute_result"
    }
   ],
   "source": [
    "solution(\"try hello world\")"
   ]
  }
 ],
 "metadata": {
  "kernelspec": {
   "display_name": "Python 3 (ipykernel)",
   "language": "python",
   "name": "python3"
  },
  "language_info": {
   "codemirror_mode": {
    "name": "ipython",
    "version": 3
   },
   "file_extension": ".py",
   "mimetype": "text/x-python",
   "name": "python",
   "nbconvert_exporter": "python",
   "pygments_lexer": "ipython3",
   "version": "3.8.16"
  },
  "toc": {
   "base_numbering": 1,
   "nav_menu": {},
   "number_sections": true,
   "sideBar": true,
   "skip_h1_title": false,
   "title_cell": "Table of Contents",
   "title_sidebar": "Contents",
   "toc_cell": false,
   "toc_position": {},
   "toc_section_display": true,
   "toc_window_display": false
  },
  "varInspector": {
   "cols": {
    "lenName": 16,
    "lenType": 16,
    "lenVar": 40
   },
   "kernels_config": {
    "python": {
     "delete_cmd_postfix": "",
     "delete_cmd_prefix": "del ",
     "library": "var_list.py",
     "varRefreshCmd": "print(var_dic_list())"
    },
    "r": {
     "delete_cmd_postfix": ") ",
     "delete_cmd_prefix": "rm(",
     "library": "var_list.r",
     "varRefreshCmd": "cat(var_dic_list()) "
    }
   },
   "types_to_exclude": [
    "module",
    "function",
    "builtin_function_or_method",
    "instance",
    "_Feature"
   ],
   "window_display": false
  }
 },
 "nbformat": 4,
 "nbformat_minor": 5
}
