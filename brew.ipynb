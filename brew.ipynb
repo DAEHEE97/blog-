{
 "cells": [
  {
   "cell_type": "markdown",
   "id": "96e0c168",
   "metadata": {},
   "source": [
    "# [brew](https://brew.sh/index_ko)\n",
    "\n"
   ]
  },
  {
   "cell_type": "markdown",
   "id": "0f1e0f4b",
   "metadata": {},
   "source": [
    "Brew는 macOS 운영 체제에서 사용할 수 있는 패키지 관리자입니다.\n",
    "\n",
    "Brew를 사용하면 터미널에서 명령어를 입력하여 macOS 운영 체제에서 손쉽게 소프트웨어를 설치, 업데이트 및 관리할 수 있습니다.\n",
    "\n",
    "Homebrew는 Apple(또는 Linux 시스템)에서 제공하지 않는 유용한 패키지 관리자를 설치 할 수 있습니다.\n",
    "\n",
    "\n",
    "> `/bin/bash -c \"$(curl -fsSL https://raw.githubusercontent.com/Homebrew/install/HEAD/install.sh)\"`"
   ]
  },
  {
   "cell_type": "markdown",
   "id": "16f76952",
   "metadata": {},
   "source": [
    "---"
   ]
  },
  {
   "cell_type": "markdown",
   "id": "f0b7f8a6",
   "metadata": {},
   "source": [
    "## [maccy](https://maccy.app)\n",
    "\n",
    "- 클립 보드\n",
    "\n",
    "\n",
    "> `brew install --cask maccy`\n",
    " \n",
    "\n"
   ]
  }
 ],
 "metadata": {
  "kernelspec": {
   "display_name": "Python 3 (ipykernel)",
   "language": "python",
   "name": "python3"
  },
  "language_info": {
   "codemirror_mode": {
    "name": "ipython",
    "version": 3
   },
   "file_extension": ".py",
   "mimetype": "text/x-python",
   "name": "python",
   "nbconvert_exporter": "python",
   "pygments_lexer": "ipython3",
   "version": "3.11.2"
  }
 },
 "nbformat": 4,
 "nbformat_minor": 5
}
