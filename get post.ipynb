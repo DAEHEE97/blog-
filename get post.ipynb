{
 "cells": [
  {
   "cell_type": "markdown",
   "id": "76730717",
   "metadata": {},
   "source": [
    "# Get Post"
   ]
  },
  {
   "cell_type": "markdown",
   "id": "2b268106",
   "metadata": {},
   "source": [
    "`request.method`를 구별하여 개발하는 이유는 HTTP 프로토콜의 특성과 웹 애플리케이션의 동작 방식에 기인합니다. \n",
    "\n",
    "HTTP는 클라이언트와 서버 간에 통신하기 위한 프로토콜로, 클라이언트가 서버에 요청을 보내고, 서버는 해당 요청에 응답합니다. 주요한 HTTP 메서드로는 GET, POST, PUT, DELETE 등이 있습니다.\n",
    "\n",
    "- GET: 리소스를 가져오기 위한 요청으로, 데이터를 조회하거나 읽을 때 사용됩니다.\n",
    "- POST: 리소스를 생성하기 위한 요청으로, 데이터를 서버로 보내어 새로운 리소스를 생성합니다.\n",
    "- PUT: 리소스를 갱신하기 위한 요청으로, 데이터를 수정하여 기존 리소스를 갱신합니다.\n",
    "- DELETE: 리소스를 삭제하기 위한 요청으로, 데이터를 삭제하여 해당 리소스를 제거합니다.\n"
   ]
  },
  {
   "cell_type": "markdown",
   "id": "3ff35f76",
   "metadata": {},
   "source": [
    "---"
   ]
  },
  {
   "cell_type": "markdown",
   "id": "b8734818",
   "metadata": {},
   "source": [
    "\n",
    "웹 애플리케이션에서 `GET`과 `POST`는 가장 일반적으로 사용되는 메서드입니다. 따라서 `request.method`를 구별하여 처리함으로써 다음과 같은 이점을 얻을 수 있습니다:\n",
    "\n",
    "\n",
    "1. 데이터의 보안: `GET` 요청은 주로 데이터 조회에 사용되며, URL에 데이터가 노출될 수 있습니다. 반면에 `POST` 요청은 HTTP 요청의 본문에 데이터를 담아 전송하므로, URL에 데이터가 노출되지 않아 더 안전합니다. 따라서, 보안에 민감한 데이터를 전송하는 경우 `POST` 메서드를 사용하는 것이 좋습니다.\n",
    "\n",
    "2. 동작 분리: `GET`과 `POST`는 서로 다른 목적을 가지고 있습니다. `GET`은 데이터를 가져오는 용도로 사용되므로, 해당 요청에 대한 응답으로 데이터를 표시하면 됩니다. 반면에 `POST`는 데이터를 서버에 전달하여 처리하고, 이후에는 적절한 응답을 반환합니다. 따라서, `GET`과 `POST`를 구별하여 동작을 분리함으로써 요청의 목적에 맞게 처리할 수 있습니다.\n",
    "\n",
    "3. 중복된 요청 방지: 웹 애플리케이션에서는 사용자의 요청에 따라 상태가 변경될 수 있습니다. `GET`은 주로 조회를 위한 요청이므로, 여러 번 반복되어도 상태 변경이 없어야 합니다. 반면에 `POST`는 상태 변경을 수반하는 요청이므로, 중복된 `POST` 요청이 발생하는 것을 방지해야 합니다. `POST` 요청 처리 후에는 적절한 리디렉션을 통해 중복된 요청을 방지할 수 있습니다.\n",
    "\n",
    "요약하자면, `request.method`를 구별하여 개발함으로써 요청의 목적에 맞게 데이터의 보안을 강화하고, 동작을 분리하여 효율적으로 처리하며, 중복된 요청을 방지할 수 있습니다. 이는 웹 애플리케이션의 안전성, 확장성 및 사용자 경험 향상에 도움을 줍니다."
   ]
  }
 ],
 "metadata": {
  "kernelspec": {
   "display_name": "Python 3 (ipykernel)",
   "language": "python",
   "name": "python3"
  },
  "language_info": {
   "codemirror_mode": {
    "name": "ipython",
    "version": 3
   },
   "file_extension": ".py",
   "mimetype": "text/x-python",
   "name": "python",
   "nbconvert_exporter": "python",
   "pygments_lexer": "ipython3",
   "version": "3.8.16"
  },
  "toc": {
   "base_numbering": 1,
   "nav_menu": {},
   "number_sections": true,
   "sideBar": true,
   "skip_h1_title": false,
   "title_cell": "Table of Contents",
   "title_sidebar": "Contents",
   "toc_cell": false,
   "toc_position": {},
   "toc_section_display": true,
   "toc_window_display": false
  },
  "varInspector": {
   "cols": {
    "lenName": 16,
    "lenType": 16,
    "lenVar": 40
   },
   "kernels_config": {
    "python": {
     "delete_cmd_postfix": "",
     "delete_cmd_prefix": "del ",
     "library": "var_list.py",
     "varRefreshCmd": "print(var_dic_list())"
    },
    "r": {
     "delete_cmd_postfix": ") ",
     "delete_cmd_prefix": "rm(",
     "library": "var_list.r",
     "varRefreshCmd": "cat(var_dic_list()) "
    }
   },
   "types_to_exclude": [
    "module",
    "function",
    "builtin_function_or_method",
    "instance",
    "_Feature"
   ],
   "window_display": false
  }
 },
 "nbformat": 4,
 "nbformat_minor": 5
}
