{
 "cells": [
  {
   "cell_type": "markdown",
   "metadata": {},
   "source": [
    "# list "
   ]
  },
  {
   "cell_type": "code",
   "execution_count": 47,
   "metadata": {},
   "outputs": [
    {
     "name": "stdout",
     "output_type": "stream",
     "text": [
      "1234\n",
      "1234\n"
     ]
    }
   ],
   "source": [
    "# 문자열을 입력 받음\n",
    "\n",
    "lst = input()\n",
    "print(lst)"
   ]
  },
  {
   "cell_type": "code",
   "execution_count": 51,
   "metadata": {},
   "outputs": [
    {
     "name": "stdout",
     "output_type": "stream",
     "text": [
      "1 2 3 4\n",
      "['1', '2', '3', '4']\n"
     ]
    }
   ],
   "source": [
    "# 문자를 공백 기준 입력\n",
    "\n",
    "lst = input().split()\n",
    "print(lst)"
   ]
  },
  {
   "cell_type": "code",
   "execution_count": 43,
   "metadata": {},
   "outputs": [
    {
     "name": "stdout",
     "output_type": "stream",
     "text": [
      "1234\n",
      "['1', '2', '3', '4']\n"
     ]
    }
   ],
   "source": [
    "# 문자열을 입력받아, 한 글자 씩 리스트 화\n",
    "\n",
    "lst = list(input()) \n",
    "print(lst)"
   ]
  },
  {
   "cell_type": "code",
   "execution_count": 44,
   "metadata": {},
   "outputs": [
    {
     "name": "stdout",
     "output_type": "stream",
     "text": [
      "1234\n",
      "['1234']\n"
     ]
    }
   ],
   "source": [
    "# 문자열 (리스트) 를 리스트 내 저장\n",
    "lst = [input()]\n",
    "print(lst)"
   ]
  },
  {
   "cell_type": "markdown",
   "metadata": {},
   "source": [
    "---"
   ]
  },
  {
   "cell_type": "markdown",
   "metadata": {},
   "source": [
    "# list 주소 복사\n",
    "\n",
    "- 값 수정시 공유 변경"
   ]
  },
  {
   "cell_type": "code",
   "execution_count": 52,
   "metadata": {},
   "outputs": [
    {
     "data": {
      "text/plain": [
       "([10, 20, 30], [10, 20, 30])"
      ]
     },
     "execution_count": 52,
     "metadata": {},
     "output_type": "execute_result"
    }
   ],
   "source": [
    "# 주소 복사 이므로, l과 lst는 모두 같은 주소 하나의 lst를 가리킴\n",
    "\n",
    "lst = [10, 20, 30] \n",
    "l = lst\n",
    "lst,l"
   ]
  },
  {
   "cell_type": "code",
   "execution_count": 53,
   "metadata": {},
   "outputs": [
    {
     "data": {
      "text/plain": [
       "True"
      ]
     },
     "execution_count": 53,
     "metadata": {},
     "output_type": "execute_result"
    }
   ],
   "source": [
    "# is True\n",
    "\n",
    "lst is l "
   ]
  },
  {
   "cell_type": "code",
   "execution_count": 54,
   "metadata": {},
   "outputs": [
    {
     "data": {
      "text/plain": [
       "([10, 30, 40], [10, 30, 40])"
      ]
     },
     "execution_count": 54,
     "metadata": {},
     "output_type": "execute_result"
    }
   ],
   "source": [
    "# l과 lst는 모두 같은 주소 하나의 lst를 가리킴\n",
    "\n",
    "lst[1] = 30\n",
    "l[2] = 40\n",
    "lst,l"
   ]
  },
  {
   "cell_type": "code",
   "execution_count": 55,
   "metadata": {},
   "outputs": [
    {
     "data": {
      "text/plain": [
       "True"
      ]
     },
     "execution_count": 55,
     "metadata": {},
     "output_type": "execute_result"
    }
   ],
   "source": [
    "# == 같은 주소를 가리키므로, 요소들 값이 모두 같음\n",
    "\n",
    "lst == l"
   ]
  },
  {
   "cell_type": "markdown",
   "metadata": {},
   "source": [
    "---"
   ]
  },
  {
   "cell_type": "markdown",
   "metadata": {},
   "source": [
    "# list.copy() 값 복사"
   ]
  },
  {
   "cell_type": "code",
   "execution_count": 56,
   "metadata": {},
   "outputs": [
    {
     "data": {
      "text/plain": [
       "([10, 20, 30], [10, 20, 30])"
      ]
     },
     "execution_count": 56,
     "metadata": {},
     "output_type": "execute_result"
    }
   ],
   "source": [
    "# .copy() lst 완전한 2개로 분리\n",
    "\n",
    "lst = [10,20,30]\n",
    "l = lst.copy()\n",
    "lst,l"
   ]
  },
  {
   "cell_type": "code",
   "execution_count": 57,
   "metadata": {},
   "outputs": [
    {
     "data": {
      "text/plain": [
       "False"
      ]
     },
     "execution_count": 57,
     "metadata": {},
     "output_type": "execute_result"
    }
   ],
   "source": [
    "# is False\n",
    "\n",
    "lst is l"
   ]
  },
  {
   "cell_type": "code",
   "execution_count": 58,
   "metadata": {},
   "outputs": [
    {
     "data": {
      "text/plain": [
       "True"
      ]
     },
     "execution_count": 58,
     "metadata": {},
     "output_type": "execute_result"
    }
   ],
   "source": [
    "# == 복사된 요소는 모두 같으므로\n",
    "\n",
    "lst == l"
   ]
  },
  {
   "cell_type": "code",
   "execution_count": 61,
   "metadata": {},
   "outputs": [
    {
     "data": {
      "text/plain": [
       "([10, 30, 30], [10, 20, 40])"
      ]
     },
     "execution_count": 61,
     "metadata": {},
     "output_type": "execute_result"
    }
   ],
   "source": [
    "# 완전 분리 상태에서 변경\n",
    "\n",
    "lst[1] = 30\n",
    "l[2] = 40\n",
    "lst,l"
   ]
  },
  {
   "cell_type": "code",
   "execution_count": 62,
   "metadata": {},
   "outputs": [
    {
     "data": {
      "text/plain": [
       "False"
      ]
     },
     "execution_count": 62,
     "metadata": {},
     "output_type": "execute_result"
    }
   ],
   "source": [
    "# 리스트 요소 값이 다르므로, False\n",
    "\n",
    "lst == l"
   ]
  },
  {
   "cell_type": "markdown",
   "metadata": {},
   "source": [
    "---\n"
   ]
  },
  {
   "cell_type": "markdown",
   "metadata": {},
   "source": [
    "# 다차원 배열 값 복사\n",
    "\n",
    "2차원 이상의 다차원 리스트는 리스트를 완전히 복사하려면 copy 메서드 대신 copy 모듈의 deepcopy 함수를 사용해야 합니다."
   ]
  },
  {
   "cell_type": "code",
   "execution_count": 3,
   "metadata": {},
   "outputs": [
    {
     "data": {
      "text/plain": [
       "[[1, 2, 3], [4, 5, 6], [7, 8, 9]]"
      ]
     },
     "execution_count": 3,
     "metadata": {},
     "output_type": "execute_result"
    }
   ],
   "source": [
    "arr =[[1,2,3],[4,5,6],[7,8,9]]\n",
    "arr"
   ]
  },
  {
   "cell_type": "code",
   "execution_count": 4,
   "metadata": {},
   "outputs": [],
   "source": [
    "# 서로 주소 복사 - 값 공유\n",
    "\n",
    "tmp = arr"
   ]
  },
  {
   "cell_type": "code",
   "execution_count": 14,
   "metadata": {},
   "outputs": [],
   "source": [
    "# 다차원 에서는 서로 주소 복사로 처리 - 값 공유\n",
    "\n",
    "tmp = arr.copy()"
   ]
  },
  {
   "cell_type": "markdown",
   "metadata": {},
   "source": [
    "---"
   ]
  },
  {
   "cell_type": "code",
   "execution_count": 30,
   "metadata": {},
   "outputs": [
    {
     "data": {
      "text/plain": [
       "[[1, 2, 3], [4, 5, 6], [7, 8, 9]]"
      ]
     },
     "execution_count": 30,
     "metadata": {},
     "output_type": "execute_result"
    }
   ],
   "source": [
    "# 값 복사\n",
    "\n",
    "tmp = [ lst[:] for lst in arr]\n",
    "tmp"
   ]
  },
  {
   "cell_type": "code",
   "execution_count": 33,
   "metadata": {},
   "outputs": [
    {
     "data": {
      "text/plain": [
       "[[1, 2, 3], [4, 5, 6], [7, 8, 9]]"
      ]
     },
     "execution_count": 33,
     "metadata": {},
     "output_type": "execute_result"
    }
   ],
   "source": [
    "import copy\n",
    "\n",
    "tmp = copy.deepcopy(arr)\n",
    "tmp"
   ]
  },
  {
   "cell_type": "markdown",
   "metadata": {},
   "source": [
    "---\n"
   ]
  },
  {
   "cell_type": "markdown",
   "metadata": {},
   "source": [
    "# list clear"
   ]
  },
  {
   "cell_type": "code",
   "execution_count": 11,
   "metadata": {},
   "outputs": [
    {
     "name": "stdout",
     "output_type": "stream",
     "text": [
      "O\n"
     ]
    }
   ],
   "source": [
    "lst = [10,20,30]\n",
    "\n",
    "if lst:\n",
    "    print('O')"
   ]
  },
  {
   "cell_type": "code",
   "execution_count": 15,
   "metadata": {},
   "outputs": [
    {
     "name": "stdout",
     "output_type": "stream",
     "text": [
      "X\n"
     ]
    }
   ],
   "source": [
    "# clear\n",
    "\n",
    "lst.clear()\n",
    "\n",
    "if not lst:\n",
    "    print('X')"
   ]
  },
  {
   "cell_type": "markdown",
   "metadata": {},
   "source": [
    "---"
   ]
  },
  {
   "cell_type": "markdown",
   "metadata": {},
   "source": [
    "# list Method \n",
    "\n",
    "- 메서드를 호출한 리스트가 변경되며, 새 리스트가 생성되는 것이 아님.\n"
   ]
  },
  {
   "cell_type": "markdown",
   "metadata": {},
   "source": [
    "## list 요소 추가\n",
    "\n",
    "- append: 요소 하나를 끝에 추가\n",
    "\n",
    "\n",
    "- extend: 리스트를 연결 하여 확장 - 한번에 여러개 요소 추가\n",
    "\n",
    "\n",
    "- insert: 특정 인덱스에 요소 추가\n"
   ]
  },
  {
   "cell_type": "code",
   "execution_count": 1,
   "metadata": {},
   "outputs": [],
   "source": [
    "# extend([value1,value2])\n",
    "\n",
    "lst = [10,20,30]\n",
    "lst.extend([40,50])\n",
    "lst"
   ]
  },
  {
   "cell_type": "code",
   "execution_count": 2,
   "metadata": {},
   "outputs": [],
   "source": [
    "# insert(idx,value)\n",
    "\n",
    "lst = [10,20,30]\n",
    "\n",
    "lst.insert(0,100)         # 맨 앞에 요소 추가\n",
    "\n",
    "lst.insert(2,500)         # idx 2에 요소 추가 (3번째)\n",
    "\n",
    "lst.insert(len(lst),1000) # 맨 뒤에 요소 추가 append\n",
    "\n",
    "lst"
   ]
  },
  {
   "cell_type": "markdown",
   "metadata": {},
   "source": [
    "---"
   ]
  },
  {
   "cell_type": "markdown",
   "metadata": {},
   "source": [
    "## list 슬라이스\n",
    "\n",
    "`lst[len(lst):]`는 시작 인덱스를 `len(lst)`로 지정해서 리스트의 마지막 인덱스보다 1이 더 큰 상태입니다. \n",
    "\n",
    "- 리스트 끝에서부터 시작하겠다는 뜻\n",
    "\n",
    "- (이때는 리스트의 범위를 벗어난 인덱스를 사용할 수 있습니다)."
   ]
  },
  {
   "cell_type": "code",
   "execution_count": 3,
   "metadata": {},
   "outputs": [],
   "source": [
    "# 슬라이스 append \n",
    "\n",
    "lst = [10, 20, 30]\n",
    "lst[len(lst):] = [500]\n",
    "lst"
   ]
  },
  {
   "cell_type": "code",
   "execution_count": 16,
   "metadata": {},
   "outputs": [
    {
     "data": {
      "text/plain": [
       "[10, 20, 30, 500, 600]"
      ]
     },
     "execution_count": 16,
     "metadata": {},
     "output_type": "execute_result"
    }
   ],
   "source": [
    "# 슬라이스 extend\n",
    "\n",
    "lst = [10, 20, 30]\n",
    "\n",
    "lst[len(lst):] = [500,600]\n",
    "\n",
    "lst"
   ]
  },
  {
   "cell_type": "markdown",
   "metadata": {},
   "source": [
    "---"
   ]
  },
  {
   "cell_type": "markdown",
   "metadata": {},
   "source": [
    "## list 요소 삭제\n",
    "\n",
    "- pop(idx) - 특정 인덱스의 요소를 삭제, default 마지막 요소\n",
    "- del lst[0] - 내장 함수\n",
    "\n",
    "\n",
    "- remove: value - 특정 값을 찾아서 삭제"
   ]
  },
  {
   "cell_type": "code",
   "execution_count": 4,
   "metadata": {},
   "outputs": [],
   "source": [
    "# pop()\n",
    "\n",
    "lst = [10, 20, 30]\n",
    "lst.pop() # 맨 뒤\n",
    "lst"
   ]
  },
  {
   "cell_type": "code",
   "execution_count": 5,
   "metadata": {},
   "outputs": [],
   "source": [
    "# pop(0)\n",
    "lst = [10, 20, 30]\n",
    "lst.pop(0) # idx 0 요소 맨 앞 삭제\n",
    "lst"
   ]
  },
  {
   "cell_type": "code",
   "execution_count": 6,
   "metadata": {},
   "outputs": [],
   "source": [
    "# pop(idx)\n",
    "\n",
    "lst = [10, 20, 30]\n",
    "lst.pop(1) # idx 1 요소 삭제\n",
    "lst"
   ]
  },
  {
   "cell_type": "code",
   "execution_count": 7,
   "metadata": {},
   "outputs": [],
   "source": [
    "# del 내장함수\n",
    "\n",
    "lst = [10, 20, 30]\n",
    "del lst[0]\n",
    "lst"
   ]
  },
  {
   "cell_type": "code",
   "execution_count": 8,
   "metadata": {},
   "outputs": [],
   "source": [
    "# clear()\n",
    "\n",
    "lst = [10, 20, 30]\n",
    "lst.clear()\n",
    "lst\n"
   ]
  },
  {
   "cell_type": "code",
   "execution_count": 9,
   "metadata": {},
   "outputs": [],
   "source": [
    "# 리스트 비어있는지 화인\n",
    "\n",
    "lst = []\n",
    "\n",
    "if not lst:\n",
    "    print('blank') # 리스트가 비어 있으면 True\n",
    "\n",
    "if lst:\n",
    "    print('in')# 리스트에 내용이 있으면 True\n"
   ]
  },
  {
   "cell_type": "markdown",
   "metadata": {},
   "source": [
    "---"
   ]
  },
  {
   "cell_type": "code",
   "execution_count": 10,
   "metadata": {},
   "outputs": [],
   "source": [
    "# remove()\n",
    "\n",
    "lst = [10, 20, 30]\n",
    "lst.remove(20)\n",
    "lst\n"
   ]
  },
  {
   "cell_type": "code",
   "execution_count": 11,
   "metadata": {},
   "outputs": [],
   "source": [
    "# remove() 만약 리스트에 같은 값이 여러 개 있을 경우 처음 찾은 값을 삭제합니다.\n",
    "\n",
    "\n",
    "lst = [10, 20, 30, 20]\n",
    "lst.remove(20)\n",
    "lst\n"
   ]
  },
  {
   "cell_type": "code",
   "execution_count": 12,
   "metadata": {},
   "outputs": [],
   "source": [
    "# remove() - list comprehension 을 이용하여, 값이 20인 요소 모두 삭제\n",
    "\n",
    "lst = [10, 20, 30, 20]\n",
    "lst = [i for i in lst if i != 20]\n",
    "lst"
   ]
  },
  {
   "cell_type": "markdown",
   "metadata": {},
   "source": [
    "---"
   ]
  },
  {
   "cell_type": "markdown",
   "metadata": {},
   "source": [
    "## list idx\n",
    "\n",
    "- index(값)은 리스트에서 특정 값의 인덱스를 구합니다. \n",
    "\n",
    "- 이때 같은 값이 여러 개일 경우 처음 찾은 인덱스를 구합니다(가장 작은 인덱스). \n"
   ]
  },
  {
   "cell_type": "code",
   "execution_count": 13,
   "metadata": {},
   "outputs": [],
   "source": [
    "# index()\n",
    "\n",
    "lst = [10, 20, 30, 15, 20, 40]\n",
    "lst.index(20)"
   ]
  },
  {
   "cell_type": "code",
   "execution_count": 14,
   "metadata": {},
   "outputs": [],
   "source": [
    "# lst 중 최소 값의 idx\n",
    "\n",
    "lst = [10, 20, 30, 15, 20, 40]\n",
    "idx_min = lst.index(min(lst))\n",
    "print(idx_min)"
   ]
  },
  {
   "cell_type": "code",
   "execution_count": 15,
   "metadata": {},
   "outputs": [],
   "source": [
    "# in enumerate - idx 여러개 처리 - 값이 20인\n",
    "\n",
    "lst = [10, 20, 30, 15, 20, 40]\n",
    "lst_idx = [i for i,v in enumerate(lst) if v == 20]\n",
    "lst_idx"
   ]
  },
  {
   "cell_type": "code",
   "execution_count": 16,
   "metadata": {},
   "outputs": [],
   "source": [
    "# idx 여러개 처리 - 리스트 내 값 카운트, 빈도수 max인 값 - idx \n",
    "\n",
    "lst = [1,1,0,0,0,3,3,3,3,3,0,0,6,6,6,6,6,9,9,9,9,10,10,10,10,10]\n",
    "\n",
    "\n",
    "# lst_cnt 0 ~ 10 사이 빈도수 lst \n",
    "lst_cnt = [] \n",
    "for i in range(0,10+1):\n",
    "    lst_cnt.append(lst.count(i))\n",
    "print(lst_cnt,max(lst_cnt))\n",
    "\n",
    "\n",
    "\n",
    "# 빈도수 max 여러개, idx 여러개 처리\n",
    "lst_idx_max = [ i for i,value in enumerate(lst_cnt) if (value == max(lst_cnt)) ]\n",
    "print(lst_idx_max)\n",
    "\n",
    "\n",
    "# max 빈도수 \n",
    "cnt = [ value for i,value in enumerate(lst_cnt) if (value == max(lst_cnt)) ]\n",
    "print(cnt)"
   ]
  },
  {
   "cell_type": "markdown",
   "metadata": {},
   "source": [
    "---"
   ]
  },
  {
   "cell_type": "markdown",
   "metadata": {},
   "source": [
    "## lst 정렬"
   ]
  },
  {
   "cell_type": "code",
   "execution_count": 17,
   "metadata": {},
   "outputs": [],
   "source": [
    "# sort() method - 변경\n",
    "\n",
    "lst = [10, 20, 30, 15, 20, 40]\n",
    "\n",
    "lst.sort()\n",
    "print(lst)\n",
    "\n",
    "\n",
    "lst.sort(reverse = True)\n",
    "print(lst)"
   ]
  },
  {
   "cell_type": "code",
   "execution_count": 18,
   "metadata": {},
   "outputs": [],
   "source": [
    "# sorted() fun - 생성\n",
    "\n",
    "lst = [10, 20, 30, 15, 20, 40]\n",
    "lst_sorted = sorted(lst) \n",
    "print(lst_sorted)"
   ]
  },
  {
   "cell_type": "markdown",
   "metadata": {},
   "source": [
    "---"
   ]
  },
  {
   "cell_type": "markdown",
   "metadata": {},
   "source": [
    "# data struction"
   ]
  },
  {
   "cell_type": "markdown",
   "metadata": {},
   "source": [
    "## Stack \n",
    "\n",
    "- append()\n",
    "\n",
    "- pop()"
   ]
  },
  {
   "cell_type": "markdown",
   "metadata": {},
   "source": [
    "## Queue\n",
    "\n",
    "- append()\n",
    "\n",
    "- pop(0)\n"
   ]
  },
  {
   "cell_type": "markdown",
   "metadata": {},
   "source": [
    "## deque ( double ended queue )\n",
    "\n",
    "\n",
    "- 덱은 양쪽 끝에서 추가/삭제가 가능한 자료 구조입니다.\n",
    "\n"
   ]
  },
  {
   "cell_type": "code",
   "execution_count": 19,
   "metadata": {},
   "outputs": [],
   "source": [
    "from collections import deque"
   ]
  },
  {
   "cell_type": "code",
   "execution_count": 20,
   "metadata": {},
   "outputs": [],
   "source": [
    "d = deque([10, 20, 30])\n",
    "d"
   ]
  },
  {
   "cell_type": "code",
   "execution_count": 21,
   "metadata": {},
   "outputs": [],
   "source": [
    "d.append(500)    # 덱의 맨뒤 요소 추가\n",
    "d"
   ]
  },
  {
   "cell_type": "code",
   "execution_count": 22,
   "metadata": {},
   "outputs": [],
   "source": [
    "d.popleft()     # 덱의 맨앞 요소 삭제\n",
    "d"
   ]
  },
  {
   "cell_type": "code",
   "execution_count": 23,
   "metadata": {},
   "outputs": [],
   "source": [
    "d.pop()         # 덱의 맨뒤 요소 삭제\n",
    "d"
   ]
  },
  {
   "cell_type": "markdown",
   "metadata": {},
   "source": [
    "---"
   ]
  },
  {
   "cell_type": "markdown",
   "metadata": {},
   "source": [
    "# list map\n",
    "\n",
    "- return 맵 객체(`map object`)가 만들어집니다. \n",
    "\n",
    "- 이 상태로는 안에 들어있는 값을 볼 수 없으므로, `list()`를 사용해서 리스트로 변환\n"
   ]
  },
  {
   "cell_type": "code",
   "execution_count": 79,
   "metadata": {},
   "outputs": [
    {
     "data": {
      "text/plain": [
       "[1, 2, 3, 4]"
      ]
     },
     "execution_count": 79,
     "metadata": {},
     "output_type": "execute_result"
    }
   ],
   "source": [
    "# len(lst)로 받아서, lst 내 할당하여 변경\n",
    "\n",
    "lst = [1.2, 2.5, 3.7, 4.6]\n",
    "\n",
    "for i in range(len(lst)):\n",
    "    lst[i] = int(lst[i])\n",
    "\n",
    "lst"
   ]
  },
  {
   "cell_type": "code",
   "execution_count": 85,
   "metadata": {},
   "outputs": [
    {
     "data": {
      "text/plain": [
       "[1, 2, 3, 4]"
      ]
     },
     "execution_count": 85,
     "metadata": {},
     "output_type": "execute_result"
    }
   ],
   "source": [
    "# list map\n",
    "# map에 int와 리스트를 넣으면 리스트의 모든 요소를 int를 사용해서 변환\n",
    "\n",
    "\n",
    "lst = [1.2, 2.5, 3.7, 4.6]\n",
    "lst = list(map(int, lst))\n",
    "lst"
   ]
  },
  {
   "cell_type": "code",
   "execution_count": 84,
   "metadata": {},
   "outputs": [
    {
     "data": {
      "text/plain": [
       "[<map at 0x7fb7013ec6d0>]"
      ]
     },
     "execution_count": 84,
     "metadata": {},
     "output_type": "execute_result"
    }
   ],
   "source": [
    "lst = [1.2, 2.5, 3.7, 4.6]\n",
    "lst = [map(int, lst)]\n",
    "lst"
   ]
  },
  {
   "cell_type": "markdown",
   "metadata": {},
   "source": [
    "---"
   ]
  },
  {
   "cell_type": "markdown",
   "metadata": {},
   "source": [
    " \n",
    "- map에는 리스트뿐만 아니라 모든 반복 가능한 객체를 넣을 수 있습니다('39.1 반복 가능한 객체 알아보기' 참조). \n",
    "\n",
    "- 이번에는 range를 사용해서 숫자를 만든 뒤 숫자를 문b자열로 변환해보겠습니다."
   ]
  },
  {
   "cell_type": "code",
   "execution_count": 87,
   "metadata": {},
   "outputs": [
    {
     "data": {
      "text/plain": [
       "['0', '1', '2', '3', '4', '5', '6', '7', '8', '9']"
      ]
     },
     "execution_count": 87,
     "metadata": {},
     "output_type": "execute_result"
    }
   ],
   "source": [
    "lst = list(map(str, range(10)))\n",
    "lst"
   ]
  },
  {
   "cell_type": "code",
   "execution_count": 93,
   "metadata": {},
   "outputs": [
    {
     "name": "stdout",
     "output_type": "stream",
     "text": [
      "10 29\n"
     ]
    },
    {
     "data": {
      "text/plain": [
       "['10', '29']"
      ]
     },
     "execution_count": 93,
     "metadata": {},
     "output_type": "execute_result"
    }
   ],
   "source": [
    "lst = input().split()\n",
    "lst"
   ]
  },
  {
   "cell_type": "code",
   "execution_count": 92,
   "metadata": {},
   "outputs": [
    {
     "name": "stdout",
     "output_type": "stream",
     "text": [
      "10 20\n"
     ]
    },
    {
     "data": {
      "text/plain": [
       "<map at 0x7fb6a0210070>"
      ]
     },
     "execution_count": 92,
     "metadata": {},
     "output_type": "execute_result"
    }
   ],
   "source": [
    "# map 객체\n",
    "\n",
    "lst = map(int, input().split())\n",
    "lst"
   ]
  },
  {
   "cell_type": "code",
   "execution_count": 95,
   "metadata": {},
   "outputs": [
    {
     "name": "stdout",
     "output_type": "stream",
     "text": [
      "10 20\n"
     ]
    },
    {
     "data": {
      "text/plain": [
       "[<map at 0x7fb6e14290a0>]"
      ]
     },
     "execution_count": 95,
     "metadata": {},
     "output_type": "execute_result"
    }
   ],
   "source": [
    "# map 객체\n",
    "lst = [map(int, input().split())]\n",
    "lst"
   ]
  },
  {
   "cell_type": "code",
   "execution_count": 97,
   "metadata": {},
   "outputs": [
    {
     "name": "stdout",
     "output_type": "stream",
     "text": [
      "10 20\n"
     ]
    },
    {
     "data": {
      "text/plain": [
       "[10, 20]"
      ]
     },
     "execution_count": 97,
     "metadata": {},
     "output_type": "execute_result"
    }
   ],
   "source": [
    "# map 객체 리스트로 형변환\n",
    "\n",
    "lst = list(map(int, input().split()))\n",
    "lst"
   ]
  },
  {
   "cell_type": "markdown",
   "metadata": {},
   "source": [
    "---"
   ]
  },
  {
   "cell_type": "markdown",
   "metadata": {},
   "source": [
    "- 사실 map이 반환하는 맵 객체는 이터레이터라서 변수 여러 개에 저장하는 언패킹(unpacking)이 가능합니다.\n",
    "\n",
    "- 그래서 a, b = map(int, input().split())처럼 list를 생략한 것입니다('39.2 이터레이터 만들기' 참조)."
   ]
  },
  {
   "cell_type": "code",
   "execution_count": 98,
   "metadata": {},
   "outputs": [
    {
     "name": "stdout",
     "output_type": "stream",
     "text": [
      "10 20\n",
      "10 20\n"
     ]
    }
   ],
   "source": [
    "tmp = input().split()    # input().split()의 결과는 문자열 리스트\n",
    "\n",
    "m = map(int, tmp)        # 리스트의 요소를 int로 변환, 결과는 맵 객체\n",
    "\n",
    "a, b = m                 # 맵 객체는 변수 여러 개에 저장할 수 있음\n",
    "\n",
    "print(a,b)"
   ]
  },
  {
   "cell_type": "code",
   "execution_count": 99,
   "metadata": {},
   "outputs": [
    {
     "name": "stdout",
     "output_type": "stream",
     "text": [
      "10 20\n",
      "10 20\n"
     ]
    }
   ],
   "source": [
    "a,b = map(int,input().split())\n",
    "\n",
    "print(a,b)"
   ]
  },
  {
   "cell_type": "markdown",
   "metadata": {},
   "source": [
    "---"
   ]
  },
  {
   "cell_type": "markdown",
   "metadata": {},
   "source": [
    "# iterator (이터레이터) \n",
    "\n",
    "- 반복 가능한 객체\n",
    "\n",
    "\n",
    "- 이터레이터 언패킹\n",
    "\n",
    "\n",
    "- https://dojang.io/mod/page/view.php?id=2406"
   ]
  },
  {
   "cell_type": "markdown",
   "metadata": {},
   "source": [
    "---"
   ]
  },
  {
   "cell_type": "markdown",
   "metadata": {},
   "source": [
    "# list in\n",
    "\n",
    "- 특정 값이 리스트내 존재 하나요? return bool\n",
    "\n",
    "- 선 리스트 입력\n"
   ]
  },
  {
   "cell_type": "code",
   "execution_count": 21,
   "metadata": {},
   "outputs": [],
   "source": [
    "l = [4,5,6]"
   ]
  },
  {
   "cell_type": "code",
   "execution_count": 22,
   "metadata": {},
   "outputs": [
    {
     "data": {
      "text/plain": [
       "True"
      ]
     },
     "execution_count": 22,
     "metadata": {},
     "output_type": "execute_result"
    }
   ],
   "source": [
    "4 in l"
   ]
  },
  {
   "cell_type": "code",
   "execution_count": 2,
   "metadata": {},
   "outputs": [
    {
     "name": "stdout",
     "output_type": "stream",
     "text": [
      "False True False\n"
     ]
    }
   ],
   "source": [
    "# month \n",
    "\n",
    "lst_28 = [2]\n",
    "lst_30 = [4,6,9,11]\n",
    "lst_31 = [1,3,5,7,8,10,12]\n",
    "\n",
    "v = int('09')\n",
    "\n",
    "print(v in lst_28, v in lst_30, v in lst_31)"
   ]
  },
  {
   "cell_type": "code",
   "execution_count": 3,
   "metadata": {},
   "outputs": [],
   "source": [
    "# 문자열 확인\n",
    "lst = ['4','33','5','5','6','hello']"
   ]
  },
  {
   "cell_type": "code",
   "execution_count": 4,
   "metadata": {},
   "outputs": [
    {
     "data": {
      "text/plain": [
       "['5', '5']"
      ]
     },
     "execution_count": 4,
     "metadata": {},
     "output_type": "execute_result"
    }
   ],
   "source": [
    "# list comprehension 특정 값 여러개 추출\n",
    "\n",
    "lst_new = [i for i in lst if i == '5']\n",
    "lst_new"
   ]
  },
  {
   "cell_type": "markdown",
   "metadata": {},
   "source": [
    "---"
   ]
  },
  {
   "cell_type": "code",
   "execution_count": 15,
   "metadata": {},
   "outputs": [
    {
     "name": "stdout",
     "output_type": "stream",
     "text": [
      "1,2 둘 다 존재\n"
     ]
    }
   ],
   "source": [
    "# 여러 값 확인 \n",
    "\n",
    "lst = [1,2,3,4,5]\n",
    "\n",
    "if( (1 in lst) and (2 in lst) ):\n",
    "    print('1,2 둘 다 존재')"
   ]
  },
  {
   "cell_type": "code",
   "execution_count": 20,
   "metadata": {},
   "outputs": [
    {
     "name": "stdout",
     "output_type": "stream",
     "text": [
      "True\n",
      "True\n",
      "True\n"
     ]
    }
   ],
   "source": [
    "# 존재 여부 print\n",
    "# 1,2,3 을 꺼낸후(똑같이 3번),\n",
    "# 리스트 에서 꺼낸 값이 i 와 같으면 X \n",
    "\n",
    "# 리스트에서 i를 꺼냈을시 True 출력\n",
    "\n",
    "for i in [1,2,3]:\n",
    "    print(i in lst)\n",
    "    "
   ]
  },
  {
   "cell_type": "code",
   "execution_count": 29,
   "metadata": {},
   "outputs": [
    {
     "name": "stdout",
     "output_type": "stream",
     "text": [
      "[True, True, True]\n",
      "1,2,3 모두 존재\n"
     ]
    }
   ],
   "source": [
    "# list comprehension\n",
    "\n",
    "lst = [1, 2, 3, 4, 5]\n",
    "\n",
    "l = [i in lst for i in [1,2,3]]\n",
    "\n",
    "print(l)\n",
    "\n",
    "if all(l):\n",
    "    print('1,2,3 모두 존재')"
   ]
  },
  {
   "cell_type": "markdown",
   "metadata": {},
   "source": [
    "---"
   ]
  },
  {
   "cell_type": "markdown",
   "metadata": {},
   "source": [
    "# subset\n"
   ]
  },
  {
   "cell_type": "code",
   "execution_count": 28,
   "metadata": {},
   "outputs": [
    {
     "name": "stdout",
     "output_type": "stream",
     "text": [
      "1,2,3 모두 존재\n"
     ]
    }
   ],
   "source": [
    "lst = [1, 2, 3, 4, 5]\n",
    "\n",
    "if set([1,2,3]).issubset(set(lst)):\n",
    "    print('1,2,3 모두 존재')"
   ]
  },
  {
   "cell_type": "markdown",
   "metadata": {},
   "source": [
    "---"
   ]
  },
  {
   "cell_type": "markdown",
   "metadata": {},
   "source": [
    "# list for i,v in enumerate (lst)"
   ]
  },
  {
   "cell_type": "code",
   "execution_count": 63,
   "metadata": {},
   "outputs": [
    {
     "name": "stdout",
     "output_type": "stream",
     "text": [
      "1 10\n",
      "2 20\n",
      "3 30\n"
     ]
    }
   ],
   "source": [
    "lst = [10,20,30]\n",
    "\n",
    "# i 는 1부터 start\n",
    "\n",
    "\n",
    "for i,v in enumerate(lst,1):\n",
    "    print(i,v)"
   ]
  },
  {
   "cell_type": "markdown",
   "metadata": {},
   "source": [
    "---"
   ]
  },
  {
   "cell_type": "markdown",
   "metadata": {},
   "source": [
    "# list comprehension\n",
    "\n",
    "\n",
    "리스트 안에 식, for 반복문, if 조건문 등을 지정하여 리스트를 생성하는 것\n",
    "\n",
    "\n"
   ]
  },
  {
   "cell_type": "code",
   "execution_count": 67,
   "metadata": {},
   "outputs": [
    {
     "data": {
      "text/plain": [
       "[0, 0, 0, 0, 0, 0, 0, 0, 0, 0]"
      ]
     },
     "execution_count": 67,
     "metadata": {},
     "output_type": "execute_result"
    }
   ],
   "source": [
    "# 빈 리스트 생성\n",
    "\n",
    "lst = [0 for i in range(10)]\n",
    "lst"
   ]
  },
  {
   "cell_type": "code",
   "execution_count": 68,
   "metadata": {},
   "outputs": [
    {
     "name": "stdout",
     "output_type": "stream",
     "text": [
      "[0, 1, 2, 3, 4, 5, 6, 7, 8, 9]\n",
      "[1, 3, 5, 7, 9]\n"
     ]
    }
   ],
   "source": [
    "# 리스트 내 홀수 추출\n",
    "\n",
    "lst = [i for i in range(10)]\n",
    "\n",
    "print(lst)\n",
    "\n",
    "lst = [ i for i in lst if(i % 2 == 1) ]\n",
    "\n",
    "print(lst)"
   ]
  },
  {
   "cell_type": "code",
   "execution_count": 71,
   "metadata": {},
   "outputs": [
    {
     "data": {
      "text/plain": [
       "[0, 4, 8, 12, 16]"
      ]
     },
     "execution_count": 71,
     "metadata": {},
     "output_type": "execute_result"
    }
   ],
   "source": [
    "# 0 ~ 9 사이 짝수 * 2\n",
    "\n",
    "lst = [i * 2 for i in range(10) if i % 2 == 0] \n",
    "lst "
   ]
  },
  {
   "cell_type": "code",
   "execution_count": 66,
   "metadata": {},
   "outputs": [
    {
     "name": "stdout",
     "output_type": "stream",
     "text": [
      "[0, 1, 2, 3, 4, 5, 6, 7, 8, 9]\n",
      "[1, 3, 5, 7, 9]\n"
     ]
    }
   ],
   "source": [
    "# 리스트 내 홀수 추출\n",
    "\n",
    "lst = [i for i in range(10)]\n",
    "\n",
    "print(lst)\n",
    "\n",
    "lst = [ i for i in lst if(i % 2 == 1) ]\n",
    "\n",
    "print(lst)"
   ]
  },
  {
   "cell_type": "code",
   "execution_count": 76,
   "metadata": {},
   "outputs": [
    {
     "data": {
      "text/plain": [
       "[2,\n",
       " 4,\n",
       " 6,\n",
       " 8,\n",
       " 10,\n",
       " 12,\n",
       " 14,\n",
       " 16,\n",
       " 18,\n",
       " 3,\n",
       " 6,\n",
       " 9,\n",
       " 12,\n",
       " 15,\n",
       " 18,\n",
       " 21,\n",
       " 24,\n",
       " 27,\n",
       " 4,\n",
       " 8,\n",
       " 12,\n",
       " 16,\n",
       " 20,\n",
       " 24,\n",
       " 28,\n",
       " 32,\n",
       " 36,\n",
       " 5,\n",
       " 10,\n",
       " 15,\n",
       " 20,\n",
       " 25,\n",
       " 30,\n",
       " 35,\n",
       " 40,\n",
       " 45,\n",
       " 6,\n",
       " 12,\n",
       " 18,\n",
       " 24,\n",
       " 30,\n",
       " 36,\n",
       " 42,\n",
       " 48,\n",
       " 54,\n",
       " 7,\n",
       " 14,\n",
       " 21,\n",
       " 28,\n",
       " 35,\n",
       " 42,\n",
       " 49,\n",
       " 56,\n",
       " 63,\n",
       " 8,\n",
       " 16,\n",
       " 24,\n",
       " 32,\n",
       " 40,\n",
       " 48,\n",
       " 56,\n",
       " 64,\n",
       " 72,\n",
       " 9,\n",
       " 18,\n",
       " 27,\n",
       " 36,\n",
       " 45,\n",
       " 54,\n",
       " 63,\n",
       " 72,\n",
       " 81]"
      ]
     },
     "execution_count": 76,
     "metadata": {},
     "output_type": "execute_result"
    }
   ],
   "source": [
    "# 9 x 9\n",
    "\n",
    "# i = 2 , j ~ 1~9\n",
    "# i = 3 , j ~ 1~9\n",
    "\n",
    "lst = [i * j for i in range(2,10) for j in range(1,10)]\n",
    "lst"
   ]
  },
  {
   "cell_type": "code",
   "execution_count": 24,
   "metadata": {},
   "outputs": [],
   "source": [
    "# 리스트 원소 끼리 끼리 합 연산\n",
    "\n",
    "l1 = [1,2,3]\n",
    "l2 = [1,2,3]\n",
    "\n",
    "lst = [ l1[i] + l2[i] for i in range(len(l1)) ]\n",
    "\n",
    "lst"
   ]
  },
  {
   "cell_type": "code",
   "execution_count": 25,
   "metadata": {},
   "outputs": [],
   "source": [
    "# 리스트 원소 끼리 끼리 곱 연산\n",
    "\n",
    "l1 = [1,2,3]\n",
    "l2 = [1,2,3]\n",
    "\n",
    "lst = [ l1[i] * l2[i] for i in range(len(l2)) ]\n",
    "\n",
    "lst\n"
   ]
  },
  {
   "cell_type": "code",
   "execution_count": 27,
   "metadata": {},
   "outputs": [],
   "source": [
    "# 문자열 내 특수 문자 인 요소 추출\n",
    "\n",
    "lst = [\"apple\", \"banana\", \"cherry\", \"kiwi\", \"mango\"]\n",
    "\n",
    "lst = [i for i in lst if 'a' in i ]\n",
    "\n",
    "print(lst)"
   ]
  },
  {
   "cell_type": "code",
   "execution_count": 28,
   "metadata": {},
   "outputs": [],
   "source": [
    "# 2D > 1D\n",
    "\n",
    "lst = [[1,2,3],[4,5,6],[7,8,9],[10,11,12]]\n",
    "\n",
    "print(lst)\n",
    "\n",
    "lst = [ j for i in lst for j in i]\n",
    "\n",
    "print(lst)\n",
    "\n"
   ]
  },
  {
   "cell_type": "markdown",
   "metadata": {},
   "source": [
    "---"
   ]
  },
  {
   "cell_type": "code",
   "execution_count": null,
   "metadata": {},
   "outputs": [],
   "source": [
    "l1 = [1,2,3]\n",
    "\n",
    "l2 = [1,2,3,4,5]\n",
    "\n",
    "lst = []\n",
    "\n",
    "for i in range( min( len(l1),len(l2) ) ):\n",
    "    \n",
    "    lst.append(l1[i] * l2[i])\n",
    "\n",
    "print(lst)\n",
    "    "
   ]
  },
  {
   "cell_type": "code",
   "execution_count": null,
   "metadata": {},
   "outputs": [],
   "source": [
    "\n",
    "lst = [ sum(l1[i] * l2[i]) for i in range(len(l1))] \n",
    "\n",
    "lst = sum([ l1[i] * l2[i] for i in range(len(l1))])"
   ]
  }
 ],
 "metadata": {
  "hide_input": false,
  "kernelspec": {
   "display_name": "Python 3 (ipykernel)",
   "language": "python",
   "name": "python3"
  },
  "language_info": {
   "codemirror_mode": {
    "name": "ipython",
    "version": 3
   },
   "file_extension": ".py",
   "mimetype": "text/x-python",
   "name": "python",
   "nbconvert_exporter": "python",
   "pygments_lexer": "ipython3",
   "version": "3.11.2"
  },
  "toc": {
   "base_numbering": 1,
   "nav_menu": {},
   "number_sections": true,
   "sideBar": true,
   "skip_h1_title": false,
   "title_cell": "Table of Contents",
   "title_sidebar": "Contents",
   "toc_cell": false,
   "toc_position": {
    "height": "calc(100% - 180px)",
    "left": "10px",
    "top": "150px",
    "width": "260px"
   },
   "toc_section_display": true,
   "toc_window_display": true
  }
 },
 "nbformat": 4,
 "nbformat_minor": 4
}
