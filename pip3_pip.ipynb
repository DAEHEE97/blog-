{
 "cells": [
  {
   "cell_type": "markdown",
   "id": "e3458983",
   "metadata": {},
   "source": [
    "# pip3 와 pip 차이"
   ]
  },
  {
   "cell_type": "markdown",
   "id": "281b8158",
   "metadata": {},
   "source": [
    "pip은 Python Package Manager의 약자로, Python으로 작성된 패키지를 설치, 관리 및 업그레이드하는 데 사용됩니다. \n",
    "\n",
    "일반적으로 Python 2.x 버전에서는 pip 명령어를 사용하고, Python 3.x 버전에서는 pip3 명령어를 사용합니다.\n",
    "\n",
    "> python 버전 확인 `python -V` or `python3 -V`\n",
    "\n",
    "Mac OS는 기본적으로 Python 2.x 버전을 내장하고 있지만, 최신 버전의 Python 3.x 버전을 설치할 수도 있습니다. \n",
    "\n",
    "이 경우, pip 명령어 대신 pip3 명령어를 사용해야 합니다.\n"
   ]
  },
  {
   "cell_type": "markdown",
   "id": "535c5eb6",
   "metadata": {},
   "source": [
    "---"
   ]
  },
  {
   "cell_type": "markdown",
   "id": "cba96e60",
   "metadata": {},
   "source": [
    "따라서, Mac OS에서 Python 2.x 버전을 사용하는 경우 pip 명령어를 사용하고, Python 3.x 버전을 사용하는 경우 pip3 명령어를 사용해야 합니다. \n",
    "\n",
    "예를 들어, Python 3.x 버전에서 패키지를 설치하려면, 다음 명령어를 사용할 수 있습니다:\n",
    "\n",
    "> `pip3 install package_name`\n",
    "\n",
    "---\n",
    "\n",
    "반면, Python 2.x 버전에서는 다음 명령어를 사용해야 합니다:\n",
    "\n",
    "> `pip install package_name`\n"
   ]
  },
  {
   "cell_type": "markdown",
   "id": "5ac942c9",
   "metadata": {},
   "source": [
    "---"
   ]
  },
  {
   "cell_type": "markdown",
   "id": "9fcb6533",
   "metadata": {},
   "source": [
    "만약, pip 명령어를 사용하여 패키지를 설치하려고 하면 \"command not found\"나 \"module not found\"와 같은 에러 메시지가 발생할 수 있습니다. "
   ]
  }
 ],
 "metadata": {
  "kernelspec": {
   "display_name": "Python 3 (ipykernel)",
   "language": "python",
   "name": "python3"
  },
  "language_info": {
   "codemirror_mode": {
    "name": "ipython",
    "version": 3
   },
   "file_extension": ".py",
   "mimetype": "text/x-python",
   "name": "python",
   "nbconvert_exporter": "python",
   "pygments_lexer": "ipython3",
   "version": "3.11.2"
  }
 },
 "nbformat": 4,
 "nbformat_minor": 5
}
