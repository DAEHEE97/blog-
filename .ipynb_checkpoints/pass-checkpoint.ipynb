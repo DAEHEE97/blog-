{
 "cells": [
  {
   "cell_type": "markdown",
   "id": "7675a6d9",
   "metadata": {},
   "source": [
    "# pass\n",
    "\n",
    "\n",
    "`pass`는 주로 아무런 동작을 하지 않는 코드의 특정 부분을 식별하고, 해당 부분에 나중에 실제 내용을 추가하거나 채울 수 있도록 placeholder로 사용됩니다. \n"
   ]
  },
  {
   "cell_type": "markdown",
   "id": "55d55556",
   "metadata": {},
   "source": [
    "---"
   ]
  },
  {
   "cell_type": "markdown",
   "id": "c1ad1ff6",
   "metadata": {},
   "source": [
    "\n",
    "\n",
    "1. 빈 함수 정의:\n",
    "\n",
    "```python\n",
    "def my_function():\n",
    "    pass\n",
    "```\n",
    "\n",
    "\n",
    "위의 코드에서 `my_function`이라는 함수가 정의되었지만, 함수의 내용이 비어있습니다. \n",
    "\n",
    "이런 경우 `pass`를 사용하여 함수를 정의하고, 나중에 함수의 구현을 추가할 수 있습니다.\n"
   ]
  },
  {
   "cell_type": "markdown",
   "id": "49f0bc05",
   "metadata": {},
   "source": [
    "---"
   ]
  },
  {
   "cell_type": "markdown",
   "id": "77b6d7fc",
   "metadata": {},
   "source": [
    "2. 조건문에서 아무런 동작을 하지 않을 경우:\n",
    "\n",
    "```python\n",
    "if condition:\n",
    "    # 조건이 참일 때 아무런 동작을 하지 않음\n",
    "    pass\n",
    "else:\n",
    "    # 조건이 거짓일 때 동작 수행\n",
    "    do_something()\n",
    "```\n",
    "\n",
    "위의 코드에서 `if` 문의 참인 경우에 아무런 동작을 하지 않아야 할 때, `pass`를 사용하여 빈 블록을 만들고, `else` 블록에서 원하는 동작을 수행합니다.\n"
   ]
  },
  {
   "cell_type": "markdown",
   "id": "6ceea413",
   "metadata": {},
   "source": [
    "---"
   ]
  },
  {
   "cell_type": "markdown",
   "id": "22918962",
   "metadata": {},
   "source": [
    "3. 클래스 정의:\n",
    "\n",
    "```python\n",
    "class MyClass:\n",
    "    pass\n",
    "```\n",
    "\n",
    "클래스를 정의할 때도 `pass`를 사용하여 클래스의 구현을 나중에 추가할 수 있습니다.\n",
    "\n",
    "이러한 경우들에서 `pass`는 문법적으로 필요하지만 아무런 동작을 수행하지 않아야 하는 상황에서 사용됩니다. \n",
    "\n",
    "`pass`는 코드의 구조를 유지하고 나중에 구현을 추가할 수 있는 유용한 도구입니다."
   ]
  },
  {
   "cell_type": "markdown",
   "id": "bfc1dd91",
   "metadata": {},
   "source": [
    "---"
   ]
  },
  {
   "cell_type": "markdown",
   "id": "b533d728",
   "metadata": {},
   "source": [
    "# pass continue\n",
    "\n",
    "\n",
    "`continue`와 `pass`는 파이썬에서 제어 흐름을 조작하기 위해 사용되는 키워드입니다\n",
    "\n",
    "---\n",
    "\n",
    "`continue`는 반복문(for 또는 while) 내에서 사용될 때, 현재 반복을 중단하고 다음 반복으로 건너뛰는 역할을 합니다. \n",
    "\n",
    "따라서 `continue` 문이 실행되면 반복문 블록의 나머지 부분은 실행되지 않고, 다음 반복이 시작됩니다. \n",
    "\n",
    "예를 들어, 첫 번째 코드 예제에서 `i < 3`인 경우 `continue`가 실행되어 `print(i)` 문이 실행되지 않고 다음 반복으로 건너뜁니다. \n",
    "\n",
    "따라서 결과는 3, 4가 출력됩니다.\n",
    "\n",
    "---\n",
    "\n",
    "반면에 `pass`는 아무런 동작을 하지 않고 그냥 넘어가는 역할을 합니다. 일반적으로 `pass`는 아무런 작업을 수행하지 않고 코드 블록이나 함수를 비워둘 때 사용됩니다. \n",
    "\n",
    "두 번째 코드 예제에서 `i < 3`인 경우 `pass`가 실행되지만 아무런 동작도 수행하지 않기 때문에 결과는 변하지 않습니다. `else` 블록에서 `print(i)` 문이 실행되어 3, 4가 출력됩니다.\n",
    "\n",
    "요약하자면, `continue`는 현재 반복을 중단하고 다음 반복으로 건너뛰는 역할을 하며, `pass`는 아무런 동작을 하지 않고, 그냥 아래로 넘어가는 역할을 합니다."
   ]
  },
  {
   "cell_type": "code",
   "execution_count": 3,
   "id": "ce7886c4",
   "metadata": {},
   "outputs": [
    {
     "name": "stdout",
     "output_type": "stream",
     "text": [
      "3\n",
      "execute\n",
      "4\n",
      "execute\n"
     ]
    }
   ],
   "source": [
    "for i in range(5):\n",
    "    \n",
    "    if i < 3:\n",
    "        continue\n",
    "    else:\n",
    "        print(i)\n",
    "        \n",
    "    print('execute')\n",
    "\n"
   ]
  },
  {
   "cell_type": "markdown",
   "id": "40bef5d3",
   "metadata": {},
   "source": [
    "---"
   ]
  },
  {
   "cell_type": "code",
   "execution_count": 2,
   "id": "cbde7f4c",
   "metadata": {},
   "outputs": [
    {
     "name": "stdout",
     "output_type": "stream",
     "text": [
      "execute\n",
      "execute\n",
      "execute\n",
      "3\n",
      "execute\n",
      "4\n",
      "execute\n"
     ]
    }
   ],
   "source": [
    "for i in range(5):\n",
    "    \n",
    "    if i < 3:\n",
    "        pass\n",
    "    else:\n",
    "        print(i)\n",
    "        \n",
    "    print('execute')"
   ]
  }
 ],
 "metadata": {
  "kernelspec": {
   "display_name": "Python 3 (ipykernel)",
   "language": "python",
   "name": "python3"
  },
  "language_info": {
   "codemirror_mode": {
    "name": "ipython",
    "version": 3
   },
   "file_extension": ".py",
   "mimetype": "text/x-python",
   "name": "python",
   "nbconvert_exporter": "python",
   "pygments_lexer": "ipython3",
   "version": "3.8.16"
  },
  "toc": {
   "base_numbering": 1,
   "nav_menu": {},
   "number_sections": true,
   "sideBar": true,
   "skip_h1_title": false,
   "title_cell": "Table of Contents",
   "title_sidebar": "Contents",
   "toc_cell": false,
   "toc_position": {},
   "toc_section_display": true,
   "toc_window_display": false
  },
  "varInspector": {
   "cols": {
    "lenName": 16,
    "lenType": 16,
    "lenVar": 40
   },
   "kernels_config": {
    "python": {
     "delete_cmd_postfix": "",
     "delete_cmd_prefix": "del ",
     "library": "var_list.py",
     "varRefreshCmd": "print(var_dic_list())"
    },
    "r": {
     "delete_cmd_postfix": ") ",
     "delete_cmd_prefix": "rm(",
     "library": "var_list.r",
     "varRefreshCmd": "cat(var_dic_list()) "
    }
   },
   "types_to_exclude": [
    "module",
    "function",
    "builtin_function_or_method",
    "instance",
    "_Feature"
   ],
   "window_display": false
  }
 },
 "nbformat": 4,
 "nbformat_minor": 5
}
