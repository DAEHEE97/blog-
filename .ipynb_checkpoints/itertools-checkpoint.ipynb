{
 "cells": [
  {
   "cell_type": "markdown",
   "id": "f8e96177",
   "metadata": {},
   "source": [
    "# combinations(iterable, r)\n",
    "\n",
    "- `combinations` 함수는 주어진 iterable에서 길이가 `r`인 모든 조합을 생성합니다. \n",
    "- 조합은 순서에 관계없이 고유한 원소의 조합입니다."
   ]
  },
  {
   "cell_type": "code",
   "execution_count": 2,
   "id": "ed8bbdbe",
   "metadata": {},
   "outputs": [
    {
     "name": "stdout",
     "output_type": "stream",
     "text": [
      "[('apple', 'banana'), ('apple', 'cherry'), ('banana', 'cherry')]\n",
      "('apple', 'banana')\n",
      "('apple', 'cherry')\n",
      "('banana', 'cherry')\n"
     ]
    }
   ],
   "source": [
    "from itertools import combinations\n",
    "\n",
    "fruits = ['apple', 'banana', 'cherry']\n",
    "\n",
    "combs = list(combinations(fruits, 2))\n",
    "\n",
    "print(combs)\n",
    "\n",
    "\n",
    "for tup in combinations(fruits, 2):\n",
    "    \n",
    "    print(tup)\n",
    "    "
   ]
  },
  {
   "cell_type": "markdown",
   "id": "fdf1b8e3",
   "metadata": {},
   "source": [
    "---"
   ]
  },
  {
   "cell_type": "markdown",
   "id": "98d61344",
   "metadata": {},
   "source": [
    "# permutations(iterable, r)\n",
    "\n",
    "- `permutations` 함수는 주어진 iterable에서 길이가 `r`인 모든 순열을 생성합니다. \n",
    "- 순열은 순서가 중요한 원소의 조합입니다."
   ]
  },
  {
   "cell_type": "code",
   "execution_count": 4,
   "id": "383b17f3",
   "metadata": {},
   "outputs": [
    {
     "name": "stdout",
     "output_type": "stream",
     "text": [
      "[('red', 'green'), ('red', 'blue'), ('green', 'red'), ('green', 'blue'), ('blue', 'red'), ('blue', 'green')]\n",
      "('red', 'green')\n",
      "('red', 'blue')\n",
      "('green', 'red')\n",
      "('green', 'blue')\n",
      "('blue', 'red')\n",
      "('blue', 'green')\n"
     ]
    }
   ],
   "source": [
    "from itertools import permutations\n",
    "\n",
    "colors = ['red', 'green', 'blue']\n",
    "\n",
    "perms = list(permutations(colors, 2))\n",
    "print(perms)\n",
    "\n",
    "for tup in permutations(colors, 2):\n",
    "    \n",
    "    print(tup) "
   ]
  },
  {
   "cell_type": "markdown",
   "id": "b00bc2e2",
   "metadata": {},
   "source": [
    "---"
   ]
  },
  {
   "cell_type": "code",
   "execution_count": 10,
   "id": "7e68e40b",
   "metadata": {},
   "outputs": [
    {
     "name": "stdout",
     "output_type": "stream",
     "text": [
      "('apple', 'banana')\n",
      "('apple', 'cherry')\n",
      "('banana', 'apple')\n",
      "('banana', 'cherry')\n",
      "('cherry', 'apple')\n",
      "('cherry', 'banana')\n"
     ]
    }
   ],
   "source": [
    "for tup in permutations(fruits, 2):\n",
    "    \n",
    "    print(tup) "
   ]
  },
  {
   "cell_type": "markdown",
   "id": "d25c6c2c",
   "metadata": {},
   "source": [
    "---"
   ]
  },
  {
   "cell_type": "markdown",
   "id": "2bfe02cb",
   "metadata": {},
   "source": [
    "# product(*iterables, repeat=1)\n",
    "- `product` 함수는 주어진 여러 iterable의 카르테시안 곱을 생성합니다. \n",
    "- `repeat` 매개변수를 사용하여 동일한 iterable을 여러 번 사용할 수 있습니다."
   ]
  },
  {
   "cell_type": "code",
   "execution_count": 7,
   "id": "52841870",
   "metadata": {},
   "outputs": [
    {
     "name": "stdout",
     "output_type": "stream",
     "text": [
      "[(1, 'a'), (1, 'b'), (1, 'c'), (2, 'a'), (2, 'b'), (2, 'c')]\n",
      "('a', 'a')\n",
      "('a', 'b')\n",
      "('a', 'c')\n",
      "('b', 'a')\n",
      "('b', 'b')\n",
      "('b', 'c')\n",
      "('c', 'a')\n",
      "('c', 'b')\n",
      "('c', 'c')\n"
     ]
    }
   ],
   "source": [
    "from itertools import product\n",
    "\n",
    "numbers = [1, 2]\n",
    "letters = ['a', 'b', 'c']\n",
    "\n",
    "prod = list(product(numbers, letters))\n",
    "\n",
    "print(prod)\n",
    "\n",
    "for tup in product(letters, repeat = 2):\n",
    "    \n",
    "    print(tup) \n"
   ]
  },
  {
   "cell_type": "markdown",
   "id": "34bdb8d5",
   "metadata": {},
   "source": [
    "---"
   ]
  },
  {
   "cell_type": "code",
   "execution_count": 13,
   "id": "17f361bb",
   "metadata": {},
   "outputs": [
    {
     "name": "stdout",
     "output_type": "stream",
     "text": [
      "('apple', 'apple')\n",
      "('apple', 'banana')\n",
      "('apple', 'cherry')\n",
      "('banana', 'apple')\n",
      "('banana', 'banana')\n",
      "('banana', 'cherry')\n",
      "('cherry', 'apple')\n",
      "('cherry', 'banana')\n",
      "('cherry', 'cherry')\n"
     ]
    }
   ],
   "source": [
    "for tup in product(fruits, repeat = 2):\n",
    "    \n",
    "    print(tup) "
   ]
  },
  {
   "cell_type": "markdown",
   "id": "2a174e89",
   "metadata": {},
   "source": [
    "---"
   ]
  },
  {
   "cell_type": "markdown",
   "id": "e2c65ec8",
   "metadata": {},
   "source": [
    "# combinations_with_replacement(iterable, r)\n",
    "- `combinations_with_replacement` 함수는 주어진 iterable에서 중복을 허용하여 길이가 `r`인 모든 조합을 생성합니다."
   ]
  },
  {
   "cell_type": "code",
   "execution_count": 8,
   "id": "9f48bc92",
   "metadata": {},
   "outputs": [
    {
     "name": "stdout",
     "output_type": "stream",
     "text": [
      "[(1, 1), (1, 2), (1, 3), (1, 4), (1, 5), (1, 6), (2, 2), (2, 3), (2, 4), (2, 5), (2, 6), (3, 3), (3, 4), (3, 5), (3, 6), (4, 4), (4, 5), (4, 6), (5, 5), (5, 6), (6, 6)]\n"
     ]
    }
   ],
   "source": [
    "from itertools import combinations_with_replacement\n",
    "\n",
    "dice = [1, 2, 3, 4, 5, 6]\n",
    "combs = list(combinations_with_replacement(dice, 2))\n",
    "print(combs)"
   ]
  },
  {
   "cell_type": "code",
   "execution_count": 9,
   "id": "ac273fe9",
   "metadata": {},
   "outputs": [
    {
     "name": "stdout",
     "output_type": "stream",
     "text": [
      "(1, 1)\n",
      "(1, 2)\n",
      "(1, 3)\n",
      "(1, 4)\n",
      "(1, 5)\n",
      "(1, 6)\n",
      "(2, 2)\n",
      "(2, 3)\n",
      "(2, 4)\n",
      "(2, 5)\n",
      "(2, 6)\n",
      "(3, 3)\n",
      "(3, 4)\n",
      "(3, 5)\n",
      "(3, 6)\n",
      "(4, 4)\n",
      "(4, 5)\n",
      "(4, 6)\n",
      "(5, 5)\n",
      "(5, 6)\n",
      "(6, 6)\n"
     ]
    }
   ],
   "source": [
    "for tup in combinations_with_replacement(dice, 2):\n",
    "    \n",
    "    print(tup) "
   ]
  },
  {
   "cell_type": "markdown",
   "id": "ca2b7d7b",
   "metadata": {},
   "source": [
    "---"
   ]
  },
  {
   "cell_type": "code",
   "execution_count": 15,
   "id": "67d01289",
   "metadata": {},
   "outputs": [
    {
     "name": "stdout",
     "output_type": "stream",
     "text": [
      "('apple', 'apple')\n",
      "('apple', 'banana')\n",
      "('apple', 'cherry')\n",
      "('banana', 'banana')\n",
      "('banana', 'cherry')\n",
      "('cherry', 'cherry')\n"
     ]
    }
   ],
   "source": [
    "for tup in combinations_with_replacement(fruits, 2):\n",
    "    \n",
    "    print(tup) "
   ]
  }
 ],
 "metadata": {
  "kernelspec": {
   "display_name": "Python 3 (ipykernel)",
   "language": "python",
   "name": "python3"
  },
  "language_info": {
   "codemirror_mode": {
    "name": "ipython",
    "version": 3
   },
   "file_extension": ".py",
   "mimetype": "text/x-python",
   "name": "python",
   "nbconvert_exporter": "python",
   "pygments_lexer": "ipython3",
   "version": "3.8.16"
  },
  "toc": {
   "base_numbering": 1,
   "nav_menu": {},
   "number_sections": true,
   "sideBar": true,
   "skip_h1_title": false,
   "title_cell": "Table of Contents",
   "title_sidebar": "Contents",
   "toc_cell": false,
   "toc_position": {},
   "toc_section_display": true,
   "toc_window_display": false
  },
  "varInspector": {
   "cols": {
    "lenName": 16,
    "lenType": 16,
    "lenVar": 40
   },
   "kernels_config": {
    "python": {
     "delete_cmd_postfix": "",
     "delete_cmd_prefix": "del ",
     "library": "var_list.py",
     "varRefreshCmd": "print(var_dic_list())"
    },
    "r": {
     "delete_cmd_postfix": ") ",
     "delete_cmd_prefix": "rm(",
     "library": "var_list.r",
     "varRefreshCmd": "cat(var_dic_list()) "
    }
   },
   "types_to_exclude": [
    "module",
    "function",
    "builtin_function_or_method",
    "instance",
    "_Feature"
   ],
   "window_display": false
  }
 },
 "nbformat": 4,
 "nbformat_minor": 5
}
