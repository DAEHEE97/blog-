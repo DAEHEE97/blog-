{
 "cells": [
  {
   "cell_type": "markdown",
   "id": "11ba5fed",
   "metadata": {},
   "source": [
    "# 전역변수(Global Variable)\n",
    "\n",
    "\n",
    "- 전역변수는 함수 밖에서 선언되는 변수로서, 모든 함수에서 접근이 가능합니다. \n",
    "\n",
    "- 전역변수는 프로그램이 시작될 때 메모리에 할당되며, 프로그램이 종료될 때까지 유지됩니다.\n"
   ]
  },
  {
   "cell_type": "markdown",
   "id": "aabccb39",
   "metadata": {},
   "source": [
    "---"
   ]
  },
  {
   "cell_type": "markdown",
   "id": "b61c6e36",
   "metadata": {},
   "source": [
    "# 지역변수(Local Variable)\n",
    "\n",
    "\n",
    "- 지역변수는 함수 내에서 선언되는 변수로서, 해당 함수 내에서만 접근이 가능합니다. \n",
    "\n",
    "- 지역변수는 함수가 호출될 때마다 새로운 메모리 공간이 할당되며, 함수가 반환될 때 메모리에서 제거됩니다."
   ]
  },
  {
   "cell_type": "markdown",
   "id": "e6a329a4",
   "metadata": {},
   "source": [
    "---"
   ]
  },
  {
   "cell_type": "code",
   "execution_count": null,
   "id": "848632cb",
   "metadata": {},
   "outputs": [],
   "source": [
    "a = 10 \n",
    "\n",
    "def local_func():\n",
    "    \n",
    "    b = 20  # local\n",
    "    \n",
    "    print(a) # local 함수 내, global 변수 출력은 가능\n",
    "    \n",
    "    print(b)\n",
    "\n",
    "local_func()  # 출력 결과: 10 20"
   ]
  },
  {
   "cell_type": "code",
   "execution_count": null,
   "id": "b5e63c40",
   "metadata": {},
   "outputs": [],
   "source": [
    "# UnboundLocalError, local 함수 내, global 변수 수정 불가 \n",
    "\n",
    "a = 10 \n",
    "\n",
    "def local_func():\n",
    "    \n",
    "    b = 20    # local\n",
    "    \n",
    "    a = a + 1 \n",
    "\n",
    "local_func()  # 출력 결과: 10 20\n"
   ]
  },
  {
   "cell_type": "code",
   "execution_count": null,
   "id": "82fb68e7",
   "metadata": {},
   "outputs": [],
   "source": [
    "# global main에서, local 변수 사용 불가\n",
    "\n",
    "print(b)   # NameError: name 'b' is not defined "
   ]
  },
  {
   "cell_type": "markdown",
   "id": "b7f858cb",
   "metadata": {},
   "source": [
    "---"
   ]
  },
  {
   "cell_type": "markdown",
   "id": "73596a1e",
   "metadata": {},
   "source": [
    "# global\n",
    "\n",
    "\n",
    "함수 내부에서 global 키워드를 사용하면 해당 변수가 함수 스코프 내에서 정의된 변수가 아니라 전역 스코프에서 참조되는 변수임을 나타냅니다. \n",
    "\n",
    "이렇게 하면 함수 안에서 해당 변수를 사용할 때 새로운 지역 변수를 생성하는 대신, 이미 전역 스코프에 존재하는 변수에 접근하고 수정할 수 있습니다.\n",
    "\n",
    "전역 변수(Global Variable)는 프로그램의 어느 곳에서든지 접근 가능한 변수로, 프로그램 전체에서 유효한 변수입니다. \n",
    "\n",
    "하지만 전역 변수의 남용은 코드의 가독성을 떨어뜨리고 디버깅을 어렵게 만들 수 있으므로, 필요에 따라 신중하게 사용해야 합니다.\n"
   ]
  },
  {
   "cell_type": "markdown",
   "id": "327fdb83",
   "metadata": {},
   "source": [
    "---"
   ]
  },
  {
   "cell_type": "code",
   "execution_count": null,
   "id": "19c6be63",
   "metadata": {},
   "outputs": [],
   "source": [
    "cnt = 0\n",
    "\n",
    "def increment_count():\n",
    "    \n",
    "    global cnt         \n",
    "    \n",
    "    print(cnt)         # local 함수내에서 선언 했으므로, 출력 가능\n",
    "    \n",
    "    cnt += 1           # global cnt를 가져와서 사용, local 함수 종료 후에도, 유효함\n",
    "\n",
    "increment_count()      # 지역 함수내에서, global 변수 cnt가 수정 처리 됨\n",
    "\n",
    "print(cnt) "
   ]
  },
  {
   "cell_type": "code",
   "execution_count": null,
   "id": "f7364173",
   "metadata": {},
   "outputs": [],
   "source": [
    "# UnboundLocalError,연산 수정은 불가, 참조만 가능\n",
    "\n",
    "cnt = 0\n",
    "\n",
    "def increment_count():\n",
    "    \n",
    "    print(\"hello\")\n",
    "    cnt += 1         \n",
    "\n",
    "increment_count()\n",
    "print(cnt)"
   ]
  }
 ],
 "metadata": {
  "kernelspec": {
   "display_name": "Python 3 (ipykernel)",
   "language": "python",
   "name": "python3"
  },
  "language_info": {
   "codemirror_mode": {
    "name": "ipython",
    "version": 3
   },
   "file_extension": ".py",
   "mimetype": "text/x-python",
   "name": "python",
   "nbconvert_exporter": "python",
   "pygments_lexer": "ipython3",
   "version": "3.8.16"
  },
  "toc": {
   "base_numbering": 1,
   "nav_menu": {},
   "number_sections": true,
   "sideBar": true,
   "skip_h1_title": false,
   "title_cell": "Table of Contents",
   "title_sidebar": "Contents",
   "toc_cell": false,
   "toc_position": {},
   "toc_section_display": true,
   "toc_window_display": false
  },
  "varInspector": {
   "cols": {
    "lenName": 16,
    "lenType": 16,
    "lenVar": 40
   },
   "kernels_config": {
    "python": {
     "delete_cmd_postfix": "",
     "delete_cmd_prefix": "del ",
     "library": "var_list.py",
     "varRefreshCmd": "print(var_dic_list())"
    },
    "r": {
     "delete_cmd_postfix": ") ",
     "delete_cmd_prefix": "rm(",
     "library": "var_list.r",
     "varRefreshCmd": "cat(var_dic_list()) "
    }
   },
   "types_to_exclude": [
    "module",
    "function",
    "builtin_function_or_method",
    "instance",
    "_Feature"
   ],
   "window_display": false
  }
 },
 "nbformat": 4,
 "nbformat_minor": 5
}
