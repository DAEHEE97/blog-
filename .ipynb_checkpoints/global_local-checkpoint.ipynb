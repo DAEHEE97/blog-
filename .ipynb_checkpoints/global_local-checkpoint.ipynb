{
 "cells": [
  {
   "cell_type": "markdown",
   "id": "11ba5fed",
   "metadata": {},
   "source": [
    "# 전역변수(Global Variable)와 지역변수(Local Variable)"
   ]
  },
  {
   "cell_type": "markdown",
   "id": "aabccb39",
   "metadata": {},
   "source": [
    "---"
   ]
  },
  {
   "cell_type": "markdown",
   "id": "d140ab5a",
   "metadata": {},
   "source": [
    "- 전역변수는 함수 밖에서 선언되는 변수로서, 모든 함수에서 접근이 가능합니다. \n",
    "- 전역변수는 프로그램이 시작될 때 메모리에 할당되며, 프로그램이 종료될 때까지 유지됩니다.\n",
    "\n",
    "\n",
    "- 지역변수는 함수 내에서 선언되는 변수로서, 해당 함수 내에서만 접근이 가능합니다. \n",
    "- 지역변수는 함수가 호출될 때마다 새로운 메모리 공간이 할당되며, 함수가 반환될 때 메모리에서 제거됩니다."
   ]
  },
  {
   "cell_type": "markdown",
   "id": "e6a329a4",
   "metadata": {},
   "source": [
    "---"
   ]
  },
  {
   "cell_type": "code",
   "execution_count": 1,
   "id": "848632cb",
   "metadata": {},
   "outputs": [
    {
     "name": "stdout",
     "output_type": "stream",
     "text": [
      "10\n",
      "20\n"
     ]
    },
    {
     "ename": "NameError",
     "evalue": "name 'b' is not defined",
     "output_type": "error",
     "traceback": [
      "\u001b[0;31m---------------------------------------------------------------------------\u001b[0m",
      "\u001b[0;31mNameError\u001b[0m                                 Traceback (most recent call last)",
      "Cell \u001b[0;32mIn[1], line 12\u001b[0m\n\u001b[1;32m      8\u001b[0m     \u001b[38;5;28mprint\u001b[39m(b)\n\u001b[1;32m     10\u001b[0m my_func()  \u001b[38;5;66;03m# 출력 결과: 10 20\u001b[39;00m\n\u001b[0;32m---> 12\u001b[0m \u001b[38;5;28mprint\u001b[39m(\u001b[43mb\u001b[49m)   \u001b[38;5;66;03m# NameError: name 'b' is not defined\u001b[39;00m\n",
      "\u001b[0;31mNameError\u001b[0m: name 'b' is not defined"
     ]
    }
   ],
   "source": [
    "a = 10  # 전역변수\n",
    "\n",
    "def my_func():\n",
    "    \n",
    "    b = 20  # 지역변수\n",
    "    \n",
    "    print(a)\n",
    "    print(b)\n",
    "\n",
    "my_func()  # 출력 결과: 10 20\n",
    "\n",
    "print(b)   # NameError: name 'b' is not defined\n"
   ]
  },
  {
   "cell_type": "markdown",
   "id": "b7f858cb",
   "metadata": {},
   "source": [
    "---"
   ]
  },
  {
   "cell_type": "markdown",
   "id": "73596a1e",
   "metadata": {},
   "source": [
    "## global\n",
    "\n",
    "- 전역 변수를 함수 내에서 수정하고자 할 때 global 키워드를 사용\n",
    "\n",
    "- 전역 변수를 남발하면 코드의 복잡도가 증가하고, 예상치 못한 결과가 발생할 수 있기 때문에 가능한 지역 변수를 사용하는 것이 좋습니다. \n",
    "\n",
    "- 따라서 global 키워드를 사용하는 경우를 제한하고, 전역 변수의 사용을 최소화"
   ]
  },
  {
   "cell_type": "code",
   "execution_count": 2,
   "id": "db2b47e6",
   "metadata": {},
   "outputs": [
    {
     "name": "stdout",
     "output_type": "stream",
     "text": [
      "hello\n"
     ]
    },
    {
     "ename": "UnboundLocalError",
     "evalue": "cannot access local variable 'cnt' where it is not associated with a value",
     "output_type": "error",
     "traceback": [
      "\u001b[0;31m---------------------------------------------------------------------------\u001b[0m",
      "\u001b[0;31mUnboundLocalError\u001b[0m                         Traceback (most recent call last)",
      "Cell \u001b[0;32mIn[2], line 8\u001b[0m\n\u001b[1;32m      5\u001b[0m     \u001b[38;5;28mprint\u001b[39m(\u001b[38;5;124m\"\u001b[39m\u001b[38;5;124mhello\u001b[39m\u001b[38;5;124m\"\u001b[39m)\n\u001b[1;32m      6\u001b[0m     cnt \u001b[38;5;241m+\u001b[39m\u001b[38;5;241m=\u001b[39m \u001b[38;5;241m1\u001b[39m\n\u001b[0;32m----> 8\u001b[0m \u001b[43mincrement_count\u001b[49m\u001b[43m(\u001b[49m\u001b[43m)\u001b[49m\n\u001b[1;32m      9\u001b[0m \u001b[38;5;28mprint\u001b[39m(cnt)\n",
      "Cell \u001b[0;32mIn[2], line 6\u001b[0m, in \u001b[0;36mincrement_count\u001b[0;34m()\u001b[0m\n\u001b[1;32m      3\u001b[0m \u001b[38;5;28;01mdef\u001b[39;00m \u001b[38;5;21mincrement_count\u001b[39m():\n\u001b[1;32m      5\u001b[0m     \u001b[38;5;28mprint\u001b[39m(\u001b[38;5;124m\"\u001b[39m\u001b[38;5;124mhello\u001b[39m\u001b[38;5;124m\"\u001b[39m)\n\u001b[0;32m----> 6\u001b[0m     \u001b[43mcnt\u001b[49m \u001b[38;5;241m+\u001b[39m\u001b[38;5;241m=\u001b[39m \u001b[38;5;241m1\u001b[39m\n",
      "\u001b[0;31mUnboundLocalError\u001b[0m: cannot access local variable 'cnt' where it is not associated with a value"
     ]
    }
   ],
   "source": [
    "cnt = 0\n",
    "\n",
    "def increment_count():\n",
    "    \n",
    "    print(\"hello\")\n",
    "    cnt += 1\n",
    "\n",
    "increment_count()\n",
    "print(cnt)"
   ]
  },
  {
   "cell_type": "markdown",
   "id": "327fdb83",
   "metadata": {},
   "source": [
    "---"
   ]
  },
  {
   "cell_type": "code",
   "execution_count": 3,
   "id": "19c6be63",
   "metadata": {},
   "outputs": [
    {
     "name": "stdout",
     "output_type": "stream",
     "text": [
      "hello\n",
      "1\n"
     ]
    }
   ],
   "source": [
    "cnt = 0\n",
    "\n",
    "def increment_count():\n",
    "    \n",
    "    print(\"hello\")\n",
    "    global cnt\n",
    "    cnt += 1\n",
    "\n",
    "increment_count()\n",
    "print(cnt)"
   ]
  }
 ],
 "metadata": {
  "kernelspec": {
   "display_name": "Python 3 (ipykernel)",
   "language": "python",
   "name": "python3"
  },
  "language_info": {
   "codemirror_mode": {
    "name": "ipython",
    "version": 3
   },
   "file_extension": ".py",
   "mimetype": "text/x-python",
   "name": "python",
   "nbconvert_exporter": "python",
   "pygments_lexer": "ipython3",
   "version": "3.11.2"
  }
 },
 "nbformat": 4,
 "nbformat_minor": 5
}
