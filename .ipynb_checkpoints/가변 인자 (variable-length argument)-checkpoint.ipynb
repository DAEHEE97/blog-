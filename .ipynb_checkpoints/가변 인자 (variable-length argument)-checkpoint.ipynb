{
 "cells": [
  {
   "cell_type": "markdown",
   "id": "52e8eecd",
   "metadata": {},
   "source": [
    "# 가변 인자 (variable-length argument)"
   ]
  },
  {
   "cell_type": "markdown",
   "id": "cbd27d79",
   "metadata": {},
   "source": [
    "가변 인자(variable-length argument)란 함수의 매개변수(parameter)를 개수에 상관없이 유동적으로 받을 수 있는 기능입니다.\n",
    "\n",
    "Python에서는 *args와 **kwargs 두 가지 방식을 통해 가변 인자를 처리할 수 있습니다.\n",
    "\n",
    "*args를 사용하면 함수에 전달되는 위치 인자(position argument)들이 튜플(tuple)로 묶여서 함수 내부로 전달됩니다. 이때 * 연산자는 위치 인자들을 unpack하는데 사용됩니다.\n",
    "\n",
    "예를 들어, 다음과 같은 함수를 생각해 봅시다."
   ]
  },
  {
   "cell_type": "markdown",
   "id": "76dcc0d5",
   "metadata": {},
   "source": [
    "---"
   ]
  },
  {
   "cell_type": "code",
   "execution_count": 1,
   "id": "53a39f22",
   "metadata": {},
   "outputs": [],
   "source": [
    "# *args를 사용하여 가변 인자를 처리하는 함수입니다.\n",
    "\n",
    "# 함수를 호출할 때 인자를 위치 인자로 전달하면, 인자들은 튜플(tuple) 형태로 args에 전달\n",
    "\n",
    "def my_func(*args):\n",
    "    print(*args)\n"
   ]
  },
  {
   "cell_type": "code",
   "execution_count": 2,
   "id": "5ecf82f1",
   "metadata": {},
   "outputs": [
    {
     "name": "stdout",
     "output_type": "stream",
     "text": [
      "1\n"
     ]
    }
   ],
   "source": [
    "my_func(1)"
   ]
  },
  {
   "cell_type": "code",
   "execution_count": 3,
   "id": "a043a626",
   "metadata": {},
   "outputs": [
    {
     "name": "stdout",
     "output_type": "stream",
     "text": [
      "1 2 3\n"
     ]
    }
   ],
   "source": [
    "my_func(1,2,3)"
   ]
  },
  {
   "cell_type": "code",
   "execution_count": 4,
   "id": "af181e38",
   "metadata": {},
   "outputs": [
    {
     "name": "stdout",
     "output_type": "stream",
     "text": [
      "[1, 2, 3]\n"
     ]
    }
   ],
   "source": [
    "my_func([1,2,3])"
   ]
  },
  {
   "cell_type": "markdown",
   "id": "afb9795a",
   "metadata": {},
   "source": [
    "---"
   ]
  },
  {
   "cell_type": "code",
   "execution_count": 5,
   "id": "3aa16ff2",
   "metadata": {},
   "outputs": [],
   "source": [
    "# 하나의 인자를 받는 함수입니다. \n",
    "\n",
    "# 인자 args는 iterable 객체이며, print(*args)와 같이 * 연산자를 사용하여 unpack됩니다. \n",
    "\n",
    "# my_func2를 호출할 때 인자를 위치 인자가 아닌 my_func2([1, 2, 3])와 같이 리스트(list) 형태로 전달해야 합니다.\n",
    "\n",
    "def my_func2(args):\n",
    "    print(*args)\n"
   ]
  },
  {
   "cell_type": "code",
   "execution_count": 6,
   "id": "854853d7",
   "metadata": {},
   "outputs": [
    {
     "ename": "TypeError",
     "evalue": "print() argument after * must be an iterable, not int",
     "output_type": "error",
     "traceback": [
      "\u001b[0;31m---------------------------------------------------------------------------\u001b[0m",
      "\u001b[0;31mTypeError\u001b[0m                                 Traceback (most recent call last)",
      "Cell \u001b[0;32mIn[6], line 1\u001b[0m\n\u001b[0;32m----> 1\u001b[0m \u001b[43mmy_func2\u001b[49m\u001b[43m(\u001b[49m\u001b[38;5;241;43m1\u001b[39;49m\u001b[43m)\u001b[49m\n",
      "Cell \u001b[0;32mIn[5], line 8\u001b[0m, in \u001b[0;36mmy_func2\u001b[0;34m(args)\u001b[0m\n\u001b[1;32m      7\u001b[0m \u001b[38;5;28;01mdef\u001b[39;00m \u001b[38;5;21mmy_func2\u001b[39m(args):\n\u001b[0;32m----> 8\u001b[0m     \u001b[38;5;28;43mprint\u001b[39;49m\u001b[43m(\u001b[49m\u001b[38;5;241;43m*\u001b[39;49m\u001b[43margs\u001b[49m\u001b[43m)\u001b[49m\n",
      "\u001b[0;31mTypeError\u001b[0m: print() argument after * must be an iterable, not int"
     ]
    }
   ],
   "source": [
    "my_func2(1)"
   ]
  },
  {
   "cell_type": "code",
   "execution_count": 7,
   "id": "de9a2ddf",
   "metadata": {},
   "outputs": [
    {
     "ename": "TypeError",
     "evalue": "my_func2() takes 1 positional argument but 3 were given",
     "output_type": "error",
     "traceback": [
      "\u001b[0;31m---------------------------------------------------------------------------\u001b[0m",
      "\u001b[0;31mTypeError\u001b[0m                                 Traceback (most recent call last)",
      "Cell \u001b[0;32mIn[7], line 1\u001b[0m\n\u001b[0;32m----> 1\u001b[0m \u001b[43mmy_func2\u001b[49m\u001b[43m(\u001b[49m\u001b[38;5;241;43m1\u001b[39;49m\u001b[43m,\u001b[49m\u001b[38;5;241;43m2\u001b[39;49m\u001b[43m,\u001b[49m\u001b[38;5;241;43m3\u001b[39;49m\u001b[43m)\u001b[49m\n",
      "\u001b[0;31mTypeError\u001b[0m: my_func2() takes 1 positional argument but 3 were given"
     ]
    }
   ],
   "source": [
    "my_func2(1,2,3)"
   ]
  },
  {
   "cell_type": "code",
   "execution_count": 8,
   "id": "c065b87a",
   "metadata": {},
   "outputs": [
    {
     "name": "stdout",
     "output_type": "stream",
     "text": [
      "1 2 3\n"
     ]
    }
   ],
   "source": [
    "my_func2([1,2,3])"
   ]
  },
  {
   "cell_type": "markdown",
   "id": "f54ebdef",
   "metadata": {},
   "source": [
    "---"
   ]
  },
  {
   "cell_type": "code",
   "execution_count": 9,
   "id": "aa1e9d0a",
   "metadata": {},
   "outputs": [],
   "source": [
    "# 가변 인자(variable-length argument)를 받아서 처리하는 함수입니다. 따라서, my_func3(3)과 같이 인자가 하나만 전달되어도 함수가 정상적으로 실행됩니다.\n",
    "\n",
    "# 인자가 하나만 전달되면, args는 (3,)과 같은 튜플(tuple) 형태로 전달됩니다. \n",
    "\n",
    "# 이때 ,가 있는 이유는, 튜플(tuple)을 생성할 때 요소가 하나인 경우에도 ,를 붙여서 튜플(tuple)임을 명시하기 때문입니다. \n",
    "\n",
    "# 예를 들어, (3)은 튜플(tuple)이 아니라 단순한 정수(integer)로 인식되지만, (3,)은 요소가 하나인 튜플(tuple)로 인식됩니다.\n",
    "\n",
    "\n",
    "def my_func3(*args):\n",
    "    print(args)\n"
   ]
  },
  {
   "cell_type": "code",
   "execution_count": 10,
   "id": "b4e70dd3",
   "metadata": {},
   "outputs": [
    {
     "name": "stdout",
     "output_type": "stream",
     "text": [
      "(3,)\n"
     ]
    }
   ],
   "source": [
    "my_func3(3)"
   ]
  },
  {
   "cell_type": "code",
   "execution_count": 11,
   "id": "f734c005",
   "metadata": {},
   "outputs": [
    {
     "name": "stdout",
     "output_type": "stream",
     "text": [
      "(3, 4)\n"
     ]
    }
   ],
   "source": [
    "my_func3(3,4)"
   ]
  },
  {
   "cell_type": "code",
   "execution_count": 12,
   "id": "c46784ea",
   "metadata": {},
   "outputs": [
    {
     "name": "stdout",
     "output_type": "stream",
     "text": [
      "([1, 2, 3],)\n"
     ]
    }
   ],
   "source": [
    "my_func3([1,2,3])"
   ]
  }
 ],
 "metadata": {
  "kernelspec": {
   "display_name": "Python 3 (ipykernel)",
   "language": "python",
   "name": "python3"
  },
  "language_info": {
   "codemirror_mode": {
    "name": "ipython",
    "version": 3
   },
   "file_extension": ".py",
   "mimetype": "text/x-python",
   "name": "python",
   "nbconvert_exporter": "python",
   "pygments_lexer": "ipython3",
   "version": "3.11.2"
  }
 },
 "nbformat": 4,
 "nbformat_minor": 5
}
