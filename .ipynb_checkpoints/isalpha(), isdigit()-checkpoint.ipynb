{
 "cells": [
  {
   "cell_type": "markdown",
   "id": "f2e162d7",
   "metadata": {},
   "source": [
    "# isalpha(), isdigit()"
   ]
  },
  {
   "cell_type": "markdown",
   "id": "96c92fbd",
   "metadata": {},
   "source": [
    "0. `str.isalpha()`는 문자열의 모든 문자가 알파벳(영문자)인지 여부를 판별하는 메서드입니다. \n",
    "\n",
    "공백, 숫자, 특수 문자 등이 포함되지 않고 오직 알파벳으로만 구성된 경우에만 True를 반환하고, 그렇지 않으면 False를 반환합니다.\n"
   ]
  },
  {
   "cell_type": "code",
   "execution_count": 1,
   "id": "5a097fb5",
   "metadata": {},
   "outputs": [
    {
     "name": "stdout",
     "output_type": "stream",
     "text": [
      "True\n",
      "False\n",
      "False\n"
     ]
    }
   ],
   "source": [
    "alpha_str = \"Hello\"\n",
    "print(alpha_str.isalpha())  # True\n",
    "\n",
    "mixed_str = \"Hello123\"\n",
    "print(mixed_str.isalpha())  # False\n",
    "\n",
    "space_str = \"Hello World\"\n",
    "print(space_str.isalpha())  # False  공백이 포함되어 있기 때문에 False를 반환합니다.\n"
   ]
  },
  {
   "cell_type": "markdown",
   "id": "7ffa0ea5",
   "metadata": {},
   "source": [
    "1. `str.isdigit()`: 문자열의 모든 문자가 숫자인지 여부를 판별하는 메서드입니다. 모든 문자가 0부터 9까지의 숫자인 경우에만 True를 반환하고, 그렇지 않으면 False를 반환합니다.\n",
    "\n"
   ]
  },
  {
   "cell_type": "code",
   "execution_count": 2,
   "id": "50b9f23d",
   "metadata": {},
   "outputs": [
    {
     "name": "stdout",
     "output_type": "stream",
     "text": [
      "True\n",
      "False\n"
     ]
    }
   ],
   "source": [
    "num_str = \"12345\"\n",
    "print(num_str.isdigit())  # True\n",
    "\n",
    "mixed_str = \"12abc34\"\n",
    "print(mixed_str.isdigit())  # False"
   ]
  },
  {
   "cell_type": "markdown",
   "id": "4a6737aa",
   "metadata": {},
   "source": [
    "2. `str.isnumeric()`: 문자열의 모든 문자가 숫자로 구성되는지 여부를 판별하는 메서드입니다. 이 메서드는 숫자에 해당하는 문자뿐만 아니라 분수, 지수, 유니코드 숫자 등을 포함합니다. 따라서, `isdigit()`보다 더 넓은 범위의 숫자를 인식합니다."
   ]
  },
  {
   "cell_type": "code",
   "execution_count": 3,
   "id": "3524c2fe",
   "metadata": {},
   "outputs": [
    {
     "name": "stdout",
     "output_type": "stream",
     "text": [
      "True\n",
      "True\n",
      "False\n"
     ]
    }
   ],
   "source": [
    "num_str = \"12345\"\n",
    "print(num_str.isnumeric())  # True\n",
    "\n",
    "fraction_str = \"½\"\n",
    "print(fraction_str.isnumeric())  # True\n",
    "\n",
    "mixed_str = \"12abc34\"\n",
    "print(mixed_str.isnumeric())  # False"
   ]
  },
  {
   "cell_type": "markdown",
   "id": "c90f3365",
   "metadata": {},
   "source": [
    "3. `str.isdecimal()`: 문자열의 모든 문자가 10진수 숫자인지 여부를 판별하는 메서드입니다. 이 메서드는 숫자에 해당하는 문자만 인식하며, 분수나 지수 등은 인식하지 않습니다."
   ]
  },
  {
   "cell_type": "code",
   "execution_count": 4,
   "id": "7f8a96b7",
   "metadata": {},
   "outputs": [
    {
     "name": "stdout",
     "output_type": "stream",
     "text": [
      "True\n",
      "False\n",
      "False\n"
     ]
    }
   ],
   "source": [
    "num_str = \"12345\"\n",
    "print(num_str.isdecimal())  # True\n",
    "\n",
    "fraction_str = \"½\"\n",
    "print(fraction_str.isdecimal())  # False\n",
    "\n",
    "mixed_str = \"12abc34\"\n",
    "print(mixed_str.isdecimal())  # False"
   ]
  }
 ],
 "metadata": {
  "kernelspec": {
   "display_name": "Python 3 (ipykernel)",
   "language": "python",
   "name": "python3"
  },
  "language_info": {
   "codemirror_mode": {
    "name": "ipython",
    "version": 3
   },
   "file_extension": ".py",
   "mimetype": "text/x-python",
   "name": "python",
   "nbconvert_exporter": "python",
   "pygments_lexer": "ipython3",
   "version": "3.8.16"
  },
  "toc": {
   "base_numbering": 1,
   "nav_menu": {},
   "number_sections": true,
   "sideBar": true,
   "skip_h1_title": false,
   "title_cell": "Table of Contents",
   "title_sidebar": "Contents",
   "toc_cell": false,
   "toc_position": {},
   "toc_section_display": true,
   "toc_window_display": false
  },
  "varInspector": {
   "cols": {
    "lenName": 16,
    "lenType": 16,
    "lenVar": 40
   },
   "kernels_config": {
    "python": {
     "delete_cmd_postfix": "",
     "delete_cmd_prefix": "del ",
     "library": "var_list.py",
     "varRefreshCmd": "print(var_dic_list())"
    },
    "r": {
     "delete_cmd_postfix": ") ",
     "delete_cmd_prefix": "rm(",
     "library": "var_list.r",
     "varRefreshCmd": "cat(var_dic_list()) "
    }
   },
   "types_to_exclude": [
    "module",
    "function",
    "builtin_function_or_method",
    "instance",
    "_Feature"
   ],
   "window_display": false
  }
 },
 "nbformat": 4,
 "nbformat_minor": 5
}
