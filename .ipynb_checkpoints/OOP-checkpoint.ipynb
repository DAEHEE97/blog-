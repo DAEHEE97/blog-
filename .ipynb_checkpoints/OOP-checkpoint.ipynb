{
 "cells": [
  {
   "cell_type": "markdown",
   "id": "3bb0ef33",
   "metadata": {},
   "source": [
    "# Object-Oriented Programming"
   ]
  },
  {
   "cell_type": "markdown",
   "id": "253e5874",
   "metadata": {},
   "source": [
    "---"
   ]
  },
  {
   "cell_type": "markdown",
   "id": "ffc2b2a0",
   "metadata": {},
   "source": [
    "- 현실에서의 속성(Attribute)을 변수(variable)로, 행동(action)은 함수(method) 로 프로그래밍\n",
    "\n",
    "- OOP는 설계도에 해당하는 클래스(class)와 실제 구현체인 인스턴스(instance)\n",
    "\n",
    "- 파이썬 함수, 변수명 : snake_case, 띄워쓰기 부분에 “_” 를 추가 뱀 처럼 늘여쓰기\n",
    "\n",
    "- 파이썬 Class명: CamelCase: 띄워쓰기 부분에 대문자 낙타의 등 모양"
   ]
  },
  {
   "cell_type": "markdown",
   "id": "e094d009",
   "metadata": {},
   "source": [
    "---"
   ]
  },
  {
   "cell_type": "code",
   "execution_count": 1,
   "id": "704072b7",
   "metadata": {},
   "outputs": [],
   "source": [
    "class SoccerPlayer(object):\n",
    "\n",
    "    # 클래스 변수(멤버, 속성) 선언시 , __init___ , self 선언 \n",
    "    def __init__(self, name, position, back_number):\n",
    "        \n",
    "        self.name = name\n",
    "        self.position = position\n",
    "        self.back_number = back_number\n",
    "\n",
    "    # method 추가시 반드시 self, 선언 \n",
    "    def change_back_number(self, new_number):\n",
    "        \n",
    "        print(\"선수의 등번호를 변경합니다 : From %d to %d\" % (self.back_number, new_number))\n",
    "        self.back_number = new_number\n",
    "\n",
    "    # magic method\n",
    "    def __str__(self):\n",
    "            return (\"Hello, My name is %s. I play in %s \" % (self.name, self.position))"
   ]
  },
  {
   "cell_type": "markdown",
   "id": "20e2f7d7",
   "metadata": {},
   "source": [
    "---"
   ]
  },
  {
   "cell_type": "markdown",
   "id": "c35445fd",
   "metadata": {},
   "source": [
    "- __init__ 은 객체 초기화 예약 함수\n",
    "\n",
    "- __는 특수한 예약 함수나 변수 그리고 함수명 변경(맨글링)으로 사용\n",
    "    - Magic Method(Double UNDERscore Method)\n",
    "    -  `__main__ , __add__ , __str__ , __eq__`\n"
   ]
  },
  {
   "cell_type": "code",
   "execution_count": 2,
   "id": "ba11c01a",
   "metadata": {},
   "outputs": [
    {
     "data": {
      "text/plain": [
       "<__main__.SoccerPlayer at 0x7fb4205259a0>"
      ]
     },
     "execution_count": 2,
     "metadata": {},
     "output_type": "execute_result"
    }
   ],
   "source": [
    "son = SoccerPlayer(\"SON\", \"FW\", 7)\n",
    "son"
   ]
  },
  {
   "cell_type": "code",
   "execution_count": 3,
   "id": "71aaad7d",
   "metadata": {},
   "outputs": [
    {
     "name": "stdout",
     "output_type": "stream",
     "text": [
      "Hello, My name is SON. I play in FW \n"
     ]
    }
   ],
   "source": [
    "print(son) # magic method, __str__ 호출"
   ]
  },
  {
   "cell_type": "code",
   "execution_count": 4,
   "id": "a65ae981",
   "metadata": {},
   "outputs": [
    {
     "name": "stdout",
     "output_type": "stream",
     "text": [
      "현재 선수의 등번호는 : 7\n"
     ]
    }
   ],
   "source": [
    "print(\"현재 선수의 등번호는 :\", son.back_number)"
   ]
  },
  {
   "cell_type": "code",
   "execution_count": 5,
   "id": "bc923cb5",
   "metadata": {},
   "outputs": [
    {
     "name": "stdout",
     "output_type": "stream",
     "text": [
      "선수의 등번호를 변경합니다 : From 7 to 9\n",
      "현재 선수의 등번호는 : 9\n"
     ]
    }
   ],
   "source": [
    "son.change_back_number(9)\n",
    "print(\"현재 선수의 등번호는 :\", son.back_number)"
   ]
  },
  {
   "cell_type": "markdown",
   "id": "6585433e",
   "metadata": {},
   "source": [
    "---"
   ]
  },
  {
   "cell_type": "code",
   "execution_count": 6,
   "id": "0b775945",
   "metadata": {},
   "outputs": [],
   "source": [
    "class Note(object):\n",
    "\n",
    "    # 1-1) 생성 __init__ , self\n",
    "    def __init__(self, content = None):\n",
    "        self.content = content\n",
    "    \n",
    "    # 1-2) method \n",
    "    def write_content(self, content):\n",
    "        self.content = content \n",
    "        \n",
    "    def remove_all(self):\n",
    "        self.content = \"\"\n",
    "    \n",
    "    \n",
    "    # 1-3) magic method \n",
    "    def __add__(self, other):\n",
    "        return self.content + other.content\n",
    "\n",
    "    def __str__(self): \n",
    "        return ( \"노트에 적힌 내용 : %s\" %(self.content) )\n"
   ]
  },
  {
   "cell_type": "markdown",
   "id": "aa3f01f2",
   "metadata": {},
   "source": [
    "---"
   ]
  },
  {
   "cell_type": "code",
   "execution_count": 7,
   "id": "5669b309",
   "metadata": {},
   "outputs": [],
   "source": [
    "class NoteBook(object):\n",
    "    \n",
    "    # 인스턴스 생성시, title만 받음\n",
    "    def __init__(self, title):\n",
    "        \n",
    "        self.title = title\n",
    "        \n",
    "        self.book_number = 1\n",
    "        # 집합 형태로 note 데이터 처리\n",
    "        self.book = {}\n",
    "\n",
    "        \n",
    "    # 2-1) note 추가\n",
    "    def add_note(self, note, page = -1):\n",
    "            \n",
    "        if self.book_number < 301:\n",
    "            # page 입력 없이 입력 되었다면, 1  초기 상태 1부터 note 대입, 후 += 1 처리\n",
    "            if page == -1:\n",
    "                self.book[self.book_number] = note\n",
    "\n",
    "                self.book_number += 1\n",
    "            \n",
    "            # 입력 page가 있다면 입력 페이지에 노트 대입\n",
    "            else:\n",
    "                self.book[page] = note\n",
    "        \n",
    "        else:\n",
    "            print(\"Page가 모두 채워졌습니다.\")\n",
    "                \n",
    "                \n",
    "    # 2-2) 입력받은 book_number 가 존재하면, 해당 idx pop           \n",
    "    def remove_note(self, book_number):\n",
    "\n",
    "        if book_number in self.book.keys():\n",
    "            return self.book.pop(book_number)\n",
    "        \n",
    "        else:\n",
    "            print(\"해당 페이지는 존재하지 않습니다\")\n",
    "            \n",
    "    # 2-3) key() 의 길이 를 반환하여, 현재 book의 길이를 출력\n",
    "    def get_number_of_pages(self): \n",
    "        return len(self.book.keys())"
   ]
  },
  {
   "cell_type": "markdown",
   "id": "ce4b5a99",
   "metadata": {},
   "source": [
    "---"
   ]
  },
  {
   "cell_type": "code",
   "execution_count": 8,
   "id": "b9f25036",
   "metadata": {},
   "outputs": [],
   "source": [
    "my_notebook = NoteBook('강의노트')"
   ]
  },
  {
   "cell_type": "code",
   "execution_count": 9,
   "id": "bc2a3624",
   "metadata": {},
   "outputs": [
    {
     "data": {
      "text/plain": [
       "<__main__.NoteBook at 0x7fb440565160>"
      ]
     },
     "execution_count": 9,
     "metadata": {},
     "output_type": "execute_result"
    }
   ],
   "source": [
    "my_notebook"
   ]
  },
  {
   "cell_type": "markdown",
   "id": "8320b7a1",
   "metadata": {},
   "source": [
    "---"
   ]
  },
  {
   "cell_type": "code",
   "execution_count": 10,
   "id": "13311b1e",
   "metadata": {},
   "outputs": [
    {
     "data": {
      "text/plain": [
       "<__main__.Note at 0x7fb440565130>"
      ]
     },
     "execution_count": 10,
     "metadata": {},
     "output_type": "execute_result"
    }
   ],
   "source": [
    "new_note_1 = Note(\"chap 1\")\n",
    "new_note_1"
   ]
  },
  {
   "cell_type": "code",
   "execution_count": 11,
   "id": "5ae5d177",
   "metadata": {},
   "outputs": [
    {
     "name": "stdout",
     "output_type": "stream",
     "text": [
      "노트에 적힌 내용 : chap 1\n"
     ]
    }
   ],
   "source": [
    "print(new_note_1)"
   ]
  },
  {
   "cell_type": "code",
   "execution_count": 12,
   "id": "89c10c32",
   "metadata": {},
   "outputs": [
    {
     "data": {
      "text/plain": [
       "<__main__.Note at 0x7fb4204f6bb0>"
      ]
     },
     "execution_count": 12,
     "metadata": {},
     "output_type": "execute_result"
    }
   ],
   "source": [
    "new_note_100 = Note(\"chap 100\")\n",
    "new_note_100"
   ]
  },
  {
   "cell_type": "markdown",
   "id": "f34d1560",
   "metadata": {},
   "source": [
    "---"
   ]
  },
  {
   "cell_type": "code",
   "execution_count": 13,
   "id": "741c4cdc",
   "metadata": {},
   "outputs": [
    {
     "name": "stdout",
     "output_type": "stream",
     "text": [
      "노트에 적힌 내용 : chap 100\n"
     ]
    }
   ],
   "source": [
    "print(new_note_100)"
   ]
  },
  {
   "cell_type": "code",
   "execution_count": 14,
   "id": "de55ed17",
   "metadata": {},
   "outputs": [],
   "source": [
    "my_notebook.add_note(new_note_1)\n",
    "my_notebook.add_note(new_note_100, 100) # 100 p"
   ]
  },
  {
   "cell_type": "markdown",
   "id": "b0c21c53",
   "metadata": {},
   "source": [
    "---"
   ]
  },
  {
   "cell_type": "code",
   "execution_count": 15,
   "id": "4e5a3131",
   "metadata": {},
   "outputs": [
    {
     "data": {
      "text/plain": [
       "{1: <__main__.Note at 0x7fb440565130>, 100: <__main__.Note at 0x7fb4204f6bb0>}"
      ]
     },
     "execution_count": 15,
     "metadata": {},
     "output_type": "execute_result"
    }
   ],
   "source": [
    "my_notebook.book"
   ]
  },
  {
   "cell_type": "code",
   "execution_count": 16,
   "id": "a54add5d",
   "metadata": {},
   "outputs": [
    {
     "name": "stdout",
     "output_type": "stream",
     "text": [
      "노트에 적힌 내용 : chap 1\n"
     ]
    }
   ],
   "source": [
    "print(my_notebook.book[1])"
   ]
  },
  {
   "cell_type": "code",
   "execution_count": 17,
   "id": "610b4f8f",
   "metadata": {},
   "outputs": [
    {
     "name": "stdout",
     "output_type": "stream",
     "text": [
      "노트에 적힌 내용 : chap 100\n"
     ]
    }
   ],
   "source": [
    "print(my_notebook.book[100])"
   ]
  },
  {
   "cell_type": "code",
   "execution_count": 18,
   "id": "d91abe04",
   "metadata": {},
   "outputs": [
    {
     "data": {
      "text/plain": [
       "2"
      ]
     },
     "execution_count": 18,
     "metadata": {},
     "output_type": "execute_result"
    }
   ],
   "source": [
    "my_notebook.get_number_of_pages()"
   ]
  },
  {
   "cell_type": "code",
   "execution_count": 19,
   "id": "eb2b9dd2",
   "metadata": {},
   "outputs": [],
   "source": [
    "my_notebook.book[2] = Note('chap 2')"
   ]
  },
  {
   "cell_type": "code",
   "execution_count": 20,
   "id": "adf1f8fc",
   "metadata": {},
   "outputs": [
    {
     "data": {
      "text/plain": [
       "{1: <__main__.Note at 0x7fb440565130>,\n",
       " 100: <__main__.Note at 0x7fb4204f6bb0>,\n",
       " 2: <__main__.Note at 0x7fb420525580>}"
      ]
     },
     "execution_count": 20,
     "metadata": {},
     "output_type": "execute_result"
    }
   ],
   "source": [
    "my_notebook.book"
   ]
  },
  {
   "cell_type": "code",
   "execution_count": 21,
   "id": "5862a773",
   "metadata": {},
   "outputs": [
    {
     "name": "stdout",
     "output_type": "stream",
     "text": [
      "노트에 적힌 내용 : chap 2\n"
     ]
    }
   ],
   "source": [
    "print(my_notebook.book[2])"
   ]
  },
  {
   "cell_type": "code",
   "execution_count": 22,
   "id": "158412b9",
   "metadata": {},
   "outputs": [
    {
     "data": {
      "text/plain": [
       "3"
      ]
     },
     "execution_count": 22,
     "metadata": {},
     "output_type": "execute_result"
    }
   ],
   "source": [
    "my_notebook.get_number_of_pages()"
   ]
  },
  {
   "cell_type": "code",
   "execution_count": 23,
   "id": "43044f80",
   "metadata": {},
   "outputs": [],
   "source": [
    "new_note_3 = Note(\"chap 3\")"
   ]
  },
  {
   "cell_type": "code",
   "execution_count": 24,
   "id": "50442a2b",
   "metadata": {},
   "outputs": [],
   "source": [
    "my_notebook.add_note(new_note_3)"
   ]
  },
  {
   "cell_type": "markdown",
   "id": "133203d0",
   "metadata": {},
   "source": [
    "---"
   ]
  },
  {
   "cell_type": "markdown",
   "id": "3ea753b1",
   "metadata": {},
   "source": [
    "## Inheritance (상속)\n",
    "\n",
    "- 클래스들간의 계층 구조 구성\n",
    "- 정의한 속성과 메서드들을 상속하여, 코드 재사용성을 높이고 유사한 객체들을 효율적으로 모델링하는 데 도움"
   ]
  },
  {
   "cell_type": "markdown",
   "id": "88c77f34",
   "metadata": {},
   "source": [
    "---"
   ]
  },
  {
   "cell_type": "code",
   "execution_count": 25,
   "id": "3695da13",
   "metadata": {},
   "outputs": [],
   "source": [
    "# 부모 클래스 Person 선언 \n",
    "\n",
    "class Person(object): \n",
    "    \n",
    "    def __init__(self, name, age, gender):\n",
    "        \n",
    "        self.name = name\n",
    "        self.age = age\n",
    "        self.gender = gender\n",
    "        \n",
    "    def about_me(self):\n",
    "        print(\"저의 이름은 \", self.name, \"이구요, 제 나이는 \", str(self.age), \"살입니다.\", str(self.gender))"
   ]
  },
  {
   "cell_type": "code",
   "execution_count": 26,
   "id": "0307a321",
   "metadata": {},
   "outputs": [],
   "source": [
    "# 부모 클래스 Person으로 부터 상속 \n",
    "class Korean(Person): \n",
    "    pass"
   ]
  },
  {
   "cell_type": "code",
   "execution_count": 27,
   "id": "f3d4f762",
   "metadata": {},
   "outputs": [
    {
     "data": {
      "text/plain": [
       "('Sungchul', 35, 'M')"
      ]
     },
     "execution_count": 27,
     "metadata": {},
     "output_type": "execute_result"
    }
   ],
   "source": [
    "k1 = Korean(\"Sungchul\", 35, 'M') \n",
    "k1.name, k1.age, k1.gender"
   ]
  },
  {
   "cell_type": "code",
   "execution_count": 28,
   "id": "fa949538",
   "metadata": {},
   "outputs": [
    {
     "name": "stdout",
     "output_type": "stream",
     "text": [
      "저의 이름은  Sungchul 이구요, 제 나이는  35 살입니다. M\n"
     ]
    }
   ],
   "source": [
    "k1.about_me()"
   ]
  },
  {
   "cell_type": "markdown",
   "id": "e3d2deb5",
   "metadata": {},
   "source": [
    "\n",
    "---"
   ]
  },
  {
   "cell_type": "code",
   "execution_count": 29,
   "id": "1905bcd8",
   "metadata": {},
   "outputs": [],
   "source": [
    "# 부모 클래스 Person으로 부터 상속 \n",
    "\n",
    "class Employee(Person): \n",
    "    \n",
    "    def __init__(self, name, age, gender, salary, hire_date):\n",
    "        \n",
    "        # 부모 클래스 __init__ method 상속,\n",
    "        super().__init__(name, age, gender) \n",
    "        \n",
    "#         self.name = name\n",
    "#         self.age = age\n",
    "#         self.gender = gender\n",
    "        \n",
    "        # attribute 확장  \n",
    "        self.salary = salary\n",
    "        self.hire_date = hire_date\n",
    "    \n",
    "    \n",
    "    # mehotd 추가 \n",
    "    def do_work(self): \n",
    "        print(\"열심히 일을 합니다.\")\n",
    "    \n",
    "    # 부모 클래스 method overriding(재정의)\n",
    "    def about_me(self): \n",
    "        \n",
    "        super().about_me()\n",
    "        \n",
    "        print(\"제 급여는 \", self.salary, \"원 이구요, 제 입사일은 \", self.hire_date, \" 입니다.\")"
   ]
  },
  {
   "cell_type": "code",
   "execution_count": 30,
   "id": "bbc2f176",
   "metadata": {},
   "outputs": [],
   "source": [
    "e1 = Employee('JK',19,'M',1000,20210323)"
   ]
  },
  {
   "cell_type": "markdown",
   "id": "625df1cb",
   "metadata": {},
   "source": [
    "---"
   ]
  },
  {
   "cell_type": "code",
   "execution_count": 31,
   "id": "891a25de",
   "metadata": {},
   "outputs": [
    {
     "data": {
      "text/plain": [
       "<__main__.Employee at 0x7fb40053b7c0>"
      ]
     },
     "execution_count": 31,
     "metadata": {},
     "output_type": "execute_result"
    }
   ],
   "source": [
    "e1"
   ]
  },
  {
   "cell_type": "code",
   "execution_count": 32,
   "id": "fefa7141",
   "metadata": {},
   "outputs": [
    {
     "data": {
      "text/plain": [
       "'JK'"
      ]
     },
     "execution_count": 32,
     "metadata": {},
     "output_type": "execute_result"
    }
   ],
   "source": [
    "e1.name"
   ]
  },
  {
   "cell_type": "code",
   "execution_count": 33,
   "id": "20cdeffa",
   "metadata": {},
   "outputs": [
    {
     "name": "stdout",
     "output_type": "stream",
     "text": [
      "열심히 일을 합니다.\n"
     ]
    }
   ],
   "source": [
    "e1.do_work()"
   ]
  },
  {
   "cell_type": "code",
   "execution_count": 34,
   "id": "a7899b5a",
   "metadata": {},
   "outputs": [
    {
     "name": "stdout",
     "output_type": "stream",
     "text": [
      "저의 이름은  JK 이구요, 제 나이는  19 살입니다. M\n",
      "제 급여는  1000 원 이구요, 제 입사일은  20210323  입니다.\n"
     ]
    }
   ],
   "source": [
    "e1.about_me()"
   ]
  },
  {
   "cell_type": "markdown",
   "id": "ceae979a",
   "metadata": {},
   "source": [
    "---"
   ]
  },
  {
   "cell_type": "markdown",
   "id": "e1e237dd",
   "metadata": {},
   "source": [
    "## Polymorphism (다형성)\n",
    "\n",
    "- 동일한 이름의 메소드의 내부 로직을 다르게 작성, 동일한 인터페이스나 메서드를 사용하여 다양한 형태의 객체를 다룰 수 있는 능력을 의미합니다.\n",
    "\n",
    "- Dynamic Typing 특성으로 인해 파이썬에서는 같은 부모클래스의 상속에서 주로 발생함\n",
    "    - 파이썬에서 변수의 타입을 명시적으로 선언할 필요가 없고, 변수가 어떤 타입의 객체를 가리키는지는 할당된 객체의 실제 타입에 따라 동적으로 결정됩니다"
   ]
  },
  {
   "cell_type": "markdown",
   "id": "0648c880",
   "metadata": {},
   "source": [
    "---"
   ]
  },
  {
   "cell_type": "code",
   "execution_count": 35,
   "id": "3e2aa456",
   "metadata": {},
   "outputs": [],
   "source": [
    "class Animal(object):\n",
    "    \n",
    "    def __init__(self, name): # Constructor of the class\n",
    "        self.name = name\n",
    "    \n",
    "    def talk(self): # Abstract method, defined by convention only\n",
    "        raise NotImplementedError(\"Subclass must implement abstract method\")"
   ]
  },
  {
   "cell_type": "code",
   "execution_count": 36,
   "id": "a8eae596",
   "metadata": {},
   "outputs": [],
   "source": [
    "# 동일한 이름의 메소드의 내부 로직을 다르게 작성 talk\n",
    "\n",
    "class Cat(Animal): \n",
    "    \n",
    "    def talk(self):\n",
    "        return 'Woof! Woof!'\n",
    "\n",
    "\n",
    "class Dog(Animal): \n",
    "    \n",
    "    def talk(self):\n",
    "        return 'Meow!' \n"
   ]
  },
  {
   "cell_type": "code",
   "execution_count": 37,
   "id": "67e17252",
   "metadata": {},
   "outputs": [
    {
     "name": "stdout",
     "output_type": "stream",
     "text": [
      "Mr. Mistoffelees: Woof! Woof!\n",
      "Missy: Woof! Woof!\n",
      "Lassie: Meow!\n"
     ]
    }
   ],
   "source": [
    "animals = [ Cat('Mr. Mistoffelees'), Cat('Missy'), Dog('Lassie') ]\n",
    "\n",
    "for animal in animals:\n",
    "    print(animal.name + ': ' + animal.talk())"
   ]
  },
  {
   "cell_type": "markdown",
   "id": "5670ba2c",
   "metadata": {},
   "source": [
    "---"
   ]
  },
  {
   "cell_type": "markdown",
   "id": "5f88841f",
   "metadata": {},
   "source": [
    "---"
   ]
  },
  {
   "cell_type": "markdown",
   "id": "18c1659c",
   "metadata": {},
   "source": [
    "---"
   ]
  },
  {
   "cell_type": "markdown",
   "id": "5d7aa8c4",
   "metadata": {},
   "source": [
    "## Visibility (가시성)\n",
    "\n",
    "- 코드의 캡슐화(Encapsulation)와 보안 강화 정보 은닉 (Information Hiding)\n",
    "\n",
    "- 객체의 정보를 볼수 있는 레벨을 조절하는것, 누구나 객체 안에 모든 변수를 볼 필요가 없음\n",
    "\n",
    "- 가시성은 객체의 속성과 메서드가 어떻게 접근 가능한지를 제어하는 개념입니다.\n",
    "\n",
    "- 공개(public) 속성 및 메서드는 어디서나 접근 가능하고\n",
    "\n",
    "- 보호(protected) 속성 및 메서드는 같은 클래스 또는 서브 클래스 내에서만 접근 가능하며\n",
    "\n",
    "- 비공개(private)속성 및 메서드는 같은 클래스 내에서만 접근 가능합니다."
   ]
  },
  {
   "cell_type": "markdown",
   "id": "effb2204",
   "metadata": {},
   "source": [
    "---"
   ]
  },
  {
   "cell_type": "markdown",
   "id": "05e9b727",
   "metadata": {},
   "source": [
    "- 캡슐화를 통해 Inventory 클래스의 내부 데이터를 보호하고 \n",
    "- 정확한 유형의 객체만을 허용하여 데이터 무결성을 유지하고자 하는 예제"
   ]
  },
  {
   "cell_type": "code",
   "execution_count": 38,
   "id": "cf928ce6",
   "metadata": {},
   "outputs": [],
   "source": [
    "class Product(object): \n",
    "    pass"
   ]
  },
  {
   "cell_type": "code",
   "execution_count": 39,
   "id": "ef4a4b42",
   "metadata": {},
   "outputs": [],
   "source": [
    "class Inventory(object): \n",
    "    \n",
    "    \n",
    "    # 1-1) Inventory 객체를 생성할 때 호출되며, self.__items라는 빈 리스트를 초기화합니다. \n",
    "    # 이 속성은 __ 로 시작하여 private 속성으로 표시되어, Private 변수로 선언 타 객체가 접근 못함\n",
    "    \n",
    "    def __init__(self):\n",
    "        self.__items = [] \n",
    "    \n",
    "    \n",
    "    \n",
    "    # 2-3) product 객체를 인수로 받음, 이렇게 함으로써 Inventory 클래스는 Product 객체만 관리하도록 보장됩니다.\n",
    "    def add_new_item(self, product):   \n",
    "        # 2-1) Product 클래스의 인스터슨인 경우 추가\n",
    "        if type(product) == Product:\n",
    "            self.__items.append(product)\n",
    "            print(\"new item added\")\n",
    "        \n",
    "        # 2-2)Product 클래스의 인스턴스가 아닌 경우, ValueError 예외를 발생시킵니다.\n",
    "        else:\n",
    "            raise ValueError(\"Invalid Item\")\n",
    "\n",
    "\n",
    "    def get_number_of_items(self): \n",
    "        return len(self.__items)"
   ]
  },
  {
   "cell_type": "markdown",
   "id": "fe312f50",
   "metadata": {},
   "source": [
    "---"
   ]
  },
  {
   "cell_type": "code",
   "execution_count": 40,
   "id": "c5b79d17",
   "metadata": {},
   "outputs": [
    {
     "name": "stdout",
     "output_type": "stream",
     "text": [
      "new item added\n",
      "new item added\n",
      "2\n"
     ]
    }
   ],
   "source": [
    "my_inventory = Inventory()\n",
    " \n",
    "my_inventory.add_new_item(Product())\n",
    "\n",
    "my_inventory.add_new_item(Product())\n",
    "\n",
    "# Inventory에 Product가 몇 개인지 확인이 필요, Inventory에 Product items는 직접 접근이 불가\n",
    "\n",
    "print(my_inventory.get_number_of_items())"
   ]
  },
  {
   "cell_type": "code",
   "execution_count": 41,
   "id": "bbc8b649",
   "metadata": {},
   "outputs": [
    {
     "ename": "AttributeError",
     "evalue": "'Inventory' object has no attribute '__items'",
     "output_type": "error",
     "traceback": [
      "\u001b[0;31m---------------------------------------------------------------------------\u001b[0m",
      "\u001b[0;31mAttributeError\u001b[0m                            Traceback (most recent call last)",
      "Cell \u001b[0;32mIn[41], line 3\u001b[0m\n\u001b[1;32m      1\u001b[0m \u001b[38;5;66;03m# __items 속성은 private로 선언되었기 때문에 외부에서 직접 접근하면 오류가 발생합니다.\u001b[39;00m\n\u001b[0;32m----> 3\u001b[0m \u001b[38;5;28mprint\u001b[39m(\u001b[43mmy_inventory\u001b[49m\u001b[38;5;241;43m.\u001b[39;49m\u001b[43m__items\u001b[49m) \n",
      "\u001b[0;31mAttributeError\u001b[0m: 'Inventory' object has no attribute '__items'"
     ]
    }
   ],
   "source": [
    "# __items 속성은 private로 선언되었기 때문에 외부에서 직접 접근하면 오류가 발생합니다.\n",
    "\n",
    "print(my_inventory.__items) \n"
   ]
  },
  {
   "cell_type": "code",
   "execution_count": 42,
   "id": "12339465",
   "metadata": {},
   "outputs": [
    {
     "ename": "ValueError",
     "evalue": "Invalid Item",
     "output_type": "error",
     "traceback": [
      "\u001b[0;31m---------------------------------------------------------------------------\u001b[0m",
      "\u001b[0;31mValueError\u001b[0m                                Traceback (most recent call last)",
      "Cell \u001b[0;32mIn[42], line 2\u001b[0m\n\u001b[1;32m      1\u001b[0m \u001b[38;5;66;03m# add_new_item 메서드는 Product 클래스의 인스턴스만 허용하도록 구현되어 있으므로, 다른 타입의 객체(예: 일반 객체)를 추가하려고 하면 ValueError 예외가 발생합니다.\u001b[39;00m\n\u001b[0;32m----> 2\u001b[0m \u001b[43mmy_inventory\u001b[49m\u001b[38;5;241;43m.\u001b[39;49m\u001b[43madd_new_item\u001b[49m\u001b[43m(\u001b[49m\u001b[38;5;28;43mobject\u001b[39;49m\u001b[43m)\u001b[49m\n",
      "Cell \u001b[0;32mIn[39], line 21\u001b[0m, in \u001b[0;36mInventory.add_new_item\u001b[0;34m(self, product)\u001b[0m\n\u001b[1;32m     17\u001b[0m     \u001b[38;5;28mprint\u001b[39m(\u001b[38;5;124m\"\u001b[39m\u001b[38;5;124mnew item added\u001b[39m\u001b[38;5;124m\"\u001b[39m)\n\u001b[1;32m     19\u001b[0m \u001b[38;5;66;03m# 2-2)Product 클래스의 인스턴스가 아닌 경우, ValueError 예외를 발생시킵니다.\u001b[39;00m\n\u001b[1;32m     20\u001b[0m \u001b[38;5;28;01melse\u001b[39;00m:\n\u001b[0;32m---> 21\u001b[0m     \u001b[38;5;28;01mraise\u001b[39;00m \u001b[38;5;167;01mValueError\u001b[39;00m(\u001b[38;5;124m\"\u001b[39m\u001b[38;5;124mInvalid Item\u001b[39m\u001b[38;5;124m\"\u001b[39m)\n",
      "\u001b[0;31mValueError\u001b[0m: Invalid Item"
     ]
    }
   ],
   "source": [
    "# add_new_item 메서드는 Product 클래스의 인스턴스만 허용하도록 구현되어 있으므로, 다른 타입의 객체(예: 일반 객체)를 추가하려고 하면 ValueError 예외가 발생합니다.\n",
    "my_inventory.add_new_item(object)"
   ]
  },
  {
   "cell_type": "markdown",
   "id": "7e9321a8",
   "metadata": {},
   "source": [
    "---"
   ]
  },
  {
   "cell_type": "code",
   "execution_count": 43,
   "id": "6a1f3ad2",
   "metadata": {},
   "outputs": [],
   "source": [
    "class Product(object): \n",
    "    pass"
   ]
  },
  {
   "cell_type": "code",
   "execution_count": 44,
   "id": "3faee591",
   "metadata": {},
   "outputs": [],
   "source": [
    "class Inventory(object): \n",
    "    \n",
    "    \n",
    "    # 1-1) Inventory 객체를 생성할 때 호출되며, self.__items라는 빈 리스트를 초기화합니다. \n",
    "    # 이 속성은 __ 로 시작하여 private 속성으로 표시되어, Private 변수로 선언 타 객체가 접근 못함\n",
    "\n",
    "    def __init__(self):\n",
    "        self.__items = [] \n",
    "    \n",
    "    # 3-1 ) @property 데코레이터를 사용한 items 메서드:\n",
    "    # @property 데코레이터는 메서드를 속성처럼 접근\n",
    "    @property\n",
    "    def items(self):\n",
    "        return self.__items\n",
    "    \n",
    "    # 2-3) product 객체를 인수로 받음, 이렇게 함으로써 Inventory 클래스는 Product 객체만 관리하도록 보장됩니다.\n",
    "    def add_new_item(self, product):   \n",
    "        # 2-1) Product 클래스의 인스터슨인 경우 추가\n",
    "        if type(product) == Product:\n",
    "            self.__items.append(product)\n",
    "            print(\"new item added\")\n",
    "        \n",
    "        # 2-2)Product 클래스의 인스턴스가 아닌 경우, ValueError 예외를 발생시킵니다.\n",
    "        else:\n",
    "            raise ValueError(\"Invalid Item\")\n",
    "\n",
    "\n",
    "    def get_number_of_items(self): \n",
    "        return len(self.__items)"
   ]
  },
  {
   "cell_type": "code",
   "execution_count": 45,
   "id": "6c5caf34",
   "metadata": {},
   "outputs": [
    {
     "name": "stdout",
     "output_type": "stream",
     "text": [
      "new item added\n",
      "new item added\n",
      "2\n"
     ]
    }
   ],
   "source": [
    "my_inventory = Inventory()\n",
    "\n",
    "my_inventory.add_new_item(Product())\n",
    "\n",
    "my_inventory.add_new_item(Product())\n",
    "\n",
    "print(my_inventory.get_number_of_items())"
   ]
  },
  {
   "cell_type": "code",
   "execution_count": 46,
   "id": "8835d62b",
   "metadata": {},
   "outputs": [
    {
     "name": "stdout",
     "output_type": "stream",
     "text": [
      "3\n"
     ]
    }
   ],
   "source": [
    "# items = my_inventory.items와 같이 items 속성을 호출하여 my_inventory의 아이템 리스트를 가져옵니다.\n",
    "# 이제 items 변수를 통해 리스트에 새로운 Product 객체를 추가할 수 있습니다.\n",
    "# 외부에서 클래스의 속성에 접근\n",
    "\n",
    "items = my_inventory.items # Property decorator로 함수를 변수처럼 호출 \n",
    "\n",
    "items.append(Product())\n",
    "print(my_inventory.get_number_of_items())"
   ]
  },
  {
   "cell_type": "markdown",
   "id": "df03c430",
   "metadata": {},
   "source": [
    "---"
   ]
  },
  {
   "cell_type": "markdown",
   "id": "3b62c668",
   "metadata": {},
   "source": [
    "- gotmarks 메서드에 @property 데코레이터가 적용되어 있습니다. \n",
    "- 이 데코레이터를 사용하면 메서드를 속성처럼 호출할 수 있습니다.\n",
    "- @property 데코레이터를 사용하면 gotmarks 메서드를 읽기 전용 속성으로 만듭니다."
   ]
  },
  {
   "cell_type": "code",
   "execution_count": 47,
   "id": "cbbdfba7",
   "metadata": {},
   "outputs": [],
   "source": [
    "class Student:\n",
    "    \n",
    "    def __init__(self, name, marks):\n",
    "        self.name = name\n",
    "        self.marks = marks\n",
    "    # self.gotmarks = self.name + ' obtained ' + self.marks + ' marks'\n",
    "    \n",
    "    @property\n",
    "    def gotmarks(self):\n",
    "        return self.name + ' obtained ' + self.marks + ' marks'"
   ]
  },
  {
   "cell_type": "code",
   "execution_count": 48,
   "id": "06f94c67",
   "metadata": {},
   "outputs": [
    {
     "name": "stdout",
     "output_type": "stream",
     "text": [
      "Alice obtained 95 marks\n"
     ]
    }
   ],
   "source": [
    "student1 = Student(\"Alice\", \"95\")\n",
    "\n",
    "print(student1.gotmarks)  # 출력: \"Alice obtained 95 marks\"\n"
   ]
  },
  {
   "cell_type": "markdown",
   "id": "aca27547",
   "metadata": {},
   "source": [
    "---"
   ]
  },
  {
   "cell_type": "markdown",
   "id": "a5539fba",
   "metadata": {},
   "source": [
    "## property \n",
    "\n",
    "- 동적인 속성 계산: @property를 사용하면 속성 값을 동적으로 계산할 수 있습니다. 예를 들어, 다른 속성의 값을 기반으로 속성을 계산하거나, 어떤 조건에 따라 속성 값을 변경할 수 있습니다. 이렇게 하면 속성 값이 항상 최신 상태로 유지되며, 객체의 상태를 정확하게 나타낼 수 있습니다.\n",
    "\n",
    "- 속성에 접근을 더 강력하게 제어: @property를 사용하면 속성을 읽기 전용으로 만들 수 있으며, 필요한 경우 속성에 대한 설정 메서드(setter)를 추가하여 속성 값을 변경할 때 추가 로직을 실행할 수 있습니다. 이렇게 하면 속성에 무결성 검사나 변경 로직을 쉽게 추가할 수 있습니다.\n",
    "\n",
    "- 예를 들어, gotmarks 속성을 직접 생성한 경우에는 이 속성을 변경하려면 클래스 내부에서 직접 수정해야 합니다. 하지만 @property를 사용하면 gotmarks 값을 동적으로 계산하거나 변경 로직을 추가하는 것이 가능합니다.\n",
    "\n",
    "- 또한, 코드의 가독성과 유지보수성을 고려할 때 @property 데코레이터를 사용하면 다른 프로그래머들에게 속성을 읽기 위한 메서드로서 사용됨을 명확하게 나타낼 수 있습니다. 이렇게 하면 속성을 변경하지 않고도 클래스 인터페이스를 수정할 수 있습니다."
   ]
  },
  {
   "cell_type": "markdown",
   "id": "b91482b3",
   "metadata": {},
   "source": [
    "---"
   ]
  },
  {
   "cell_type": "markdown",
   "id": "6771a399",
   "metadata": {},
   "source": [
    "## First-class objects (일급 객체)\n",
    "\n",
    "1. 변수에 할당 가능: 함수나 클래스, 메서드 등을 변수에 할당할 수 있습니다. 이것은 함수나 메서드를 다른 함수의 인수로 전달하거나, 함수나 메서드를 반환하는 함수를 작성하는 데 유용합니다.\n",
    "\n",
    "2. 함수의 인수로 전달 가능: 함수를 다른 함수의 인수로 전달할 수 있습니다. 이것은 고차 함수(higher-order function)라고도 불리며, 함수형 프로그래밍 패러다임에서 중요한 개념 중 하나입니다.\n",
    "\n",
    "3. 함수의 반환 값으로 사용 가능: 함수는 다른 함수의 반환 값으로 사용될 수 있습니다. 이것은 함수를 동적으로 생성하거나, 다른 함수에 의해 조작되는 함수를 만들 수 있게 합니다.\n",
    "\n",
    "4. 데이터 구조에 저장 가능: 함수나 메서드를 리스트, 딕셔너리, 세트 등의 데이터 구조에 저장할 수 있습니다.\n"
   ]
  },
  {
   "cell_type": "code",
   "execution_count": 49,
   "id": "f2c08463",
   "metadata": {},
   "outputs": [
    {
     "data": {
      "text/plain": [
       "25"
      ]
     },
     "execution_count": 49,
     "metadata": {},
     "output_type": "execute_result"
    }
   ],
   "source": [
    "# 1, 함수를 변수에 할당하는 예제\n",
    "\n",
    "def square(x):\n",
    "    return x * x\n",
    "\n",
    "\n",
    "\n",
    "f = square  # square 함수를 변수 f에 할당\n",
    "\n",
    "result = f(5)  # f 변수를 호출하여 결과를 저장\n",
    "\n",
    "result"
   ]
  },
  {
   "cell_type": "markdown",
   "id": "a4047b88",
   "metadata": {},
   "source": [
    "---"
   ]
  },
  {
   "cell_type": "code",
   "execution_count": 50,
   "id": "f4307e01",
   "metadata": {},
   "outputs": [
    {
     "data": {
      "text/plain": [
       "[1, 4, 9, 16, 25]"
      ]
     },
     "execution_count": 50,
     "metadata": {},
     "output_type": "execute_result"
    }
   ],
   "source": [
    "# 2. 함수를 다른 함수의 인수로 전달하는 예제\n",
    "def formula(method, argument_list):\n",
    "    return [method(value) for value in argument_list]\n",
    "\n",
    "numbers = [1, 2, 3, 4, 5]\n",
    "\n",
    "squared_numbers = formula(square, numbers)  # formula 함수에 square 함수를 전달\n",
    "\n",
    "squared_numbers"
   ]
  },
  {
   "cell_type": "code",
   "execution_count": 51,
   "id": "8645a614",
   "metadata": {},
   "outputs": [],
   "source": [
    "def cube(x):\n",
    "     return x*x*x\n",
    "    \n",
    "\n",
    "# 3. 함수를 반환 값으로 사용하는 예제\n",
    "def get_math_function(power):\n",
    "    \n",
    "    if power == 2:\n",
    "        return square\n",
    "    \n",
    "    elif power == 3:\n",
    "        return cube\n",
    "\n",
    "\n",
    "cube = get_math_function(3)  # cube 함수를 반환하고 cube 변수에 할당\n",
    "\n",
    "result = cube(4)  # cube 변수를 호출하여 결과를 저장\n"
   ]
  },
  {
   "cell_type": "code",
   "execution_count": 52,
   "id": "ebb4f79f",
   "metadata": {},
   "outputs": [
    {
     "data": {
      "text/plain": [
       "<function __main__.cube(x)>"
      ]
     },
     "execution_count": 52,
     "metadata": {},
     "output_type": "execute_result"
    }
   ],
   "source": [
    "cube"
   ]
  },
  {
   "cell_type": "code",
   "execution_count": 53,
   "id": "cbdb5518",
   "metadata": {},
   "outputs": [
    {
     "data": {
      "text/plain": [
       "64"
      ]
     },
     "execution_count": 53,
     "metadata": {},
     "output_type": "execute_result"
    }
   ],
   "source": [
    "result"
   ]
  },
  {
   "cell_type": "markdown",
   "id": "bee359f4",
   "metadata": {},
   "source": [
    "---"
   ]
  },
  {
   "cell_type": "markdown",
   "id": "3ad0c3e6",
   "metadata": {},
   "source": [
    "## inner-function"
   ]
  },
  {
   "cell_type": "code",
   "execution_count": 54,
   "id": "5d0f0fe6",
   "metadata": {},
   "outputs": [
    {
     "name": "stdout",
     "output_type": "stream",
     "text": [
      "Hello, Python\n"
     ]
    }
   ],
   "source": [
    "# 함수 내에서 함수 존재 및 호출\n",
    "\n",
    "def print_msg(msg):\n",
    "    \n",
    "    def printer():\n",
    "        print(msg)\n",
    "    \n",
    "    printer()\n",
    "\n",
    "print_msg(\"Hello, Python\")"
   ]
  },
  {
   "cell_type": "markdown",
   "id": "74b9084d",
   "metadata": {},
   "source": [
    "- closures"
   ]
  },
  {
   "cell_type": "code",
   "execution_count": 55,
   "id": "8c272064",
   "metadata": {},
   "outputs": [],
   "source": [
    "\n",
    "# closures return값으로 inner function을  반환\n",
    "\n",
    "def print_msg(msg):\n",
    "\n",
    "    def printer():\n",
    "        print(msg)\n",
    "    \n",
    "    return printer\n",
    "\n",
    "another = print_msg(\"Hello, Python\")\n",
    "\n"
   ]
  },
  {
   "cell_type": "code",
   "execution_count": 56,
   "id": "7bdd385d",
   "metadata": {},
   "outputs": [
    {
     "data": {
      "text/plain": [
       "<function __main__.print_msg.<locals>.printer()>"
      ]
     },
     "execution_count": 56,
     "metadata": {},
     "output_type": "execute_result"
    }
   ],
   "source": [
    "another"
   ]
  },
  {
   "cell_type": "code",
   "execution_count": 57,
   "id": "653701b5",
   "metadata": {},
   "outputs": [
    {
     "name": "stdout",
     "output_type": "stream",
     "text": [
      "Hello, Python\n"
     ]
    }
   ],
   "source": [
    "another()"
   ]
  },
  {
   "cell_type": "code",
   "execution_count": 58,
   "id": "b10dda6c",
   "metadata": {},
   "outputs": [
    {
     "name": "stdout",
     "output_type": "stream",
     "text": [
      "******************************\n",
      "Hello\n",
      "******************************\n"
     ]
    }
   ],
   "source": [
    "def star(func):\n",
    "    \n",
    "    def inner(*args, **kwargs):\n",
    "        \n",
    "        print(\"*\" * 30)\n",
    "        \n",
    "        func(*args, **kwargs)\n",
    "        \n",
    "        print(\"*\" * 30)\n",
    "\n",
    "    return inner\n",
    "\n",
    "@star\n",
    "def printer(msg):\n",
    "    print(msg)\n",
    "    \n",
    "    \n",
    "printer(\"Hello\")"
   ]
  }
 ],
 "metadata": {
  "kernelspec": {
   "display_name": "Python 3 (ipykernel)",
   "language": "python",
   "name": "python3"
  },
  "language_info": {
   "codemirror_mode": {
    "name": "ipython",
    "version": 3
   },
   "file_extension": ".py",
   "mimetype": "text/x-python",
   "name": "python",
   "nbconvert_exporter": "python",
   "pygments_lexer": "ipython3",
   "version": "3.8.16"
  },
  "toc": {
   "base_numbering": 1,
   "nav_menu": {},
   "number_sections": true,
   "sideBar": true,
   "skip_h1_title": false,
   "title_cell": "Table of Contents",
   "title_sidebar": "Contents",
   "toc_cell": false,
   "toc_position": {
    "height": "calc(100% - 180px)",
    "left": "10px",
    "top": "150px",
    "width": "224.59375px"
   },
   "toc_section_display": true,
   "toc_window_display": true
  },
  "varInspector": {
   "cols": {
    "lenName": 16,
    "lenType": 16,
    "lenVar": 40
   },
   "kernels_config": {
    "python": {
     "delete_cmd_postfix": "",
     "delete_cmd_prefix": "del ",
     "library": "var_list.py",
     "varRefreshCmd": "print(var_dic_list())"
    },
    "r": {
     "delete_cmd_postfix": ") ",
     "delete_cmd_prefix": "rm(",
     "library": "var_list.r",
     "varRefreshCmd": "cat(var_dic_list()) "
    }
   },
   "types_to_exclude": [
    "module",
    "function",
    "builtin_function_or_method",
    "instance",
    "_Feature"
   ],
   "window_display": false
  }
 },
 "nbformat": 4,
 "nbformat_minor": 5
}
