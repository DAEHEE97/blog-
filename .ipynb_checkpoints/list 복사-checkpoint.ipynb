{
 "cells": [
  {
   "cell_type": "markdown",
   "id": "c74d9514",
   "metadata": {},
   "source": [
    "# 리스트 얕은 복사(shallow copy)\n",
    "\n",
    "- 두 변수가 동일한 리스트 객체를 가리키며, 원본 리스트의 변경이 복사된 리스트에 영향을 미칩니다. \n",
    "\n",
    "- 따라서 원본 리스트나 복사본 중 하나를 수정하면 다른 리스트에도 동일한 수정 내용이 반영됩니다."
   ]
  },
  {
   "cell_type": "code",
   "execution_count": 1,
   "id": "6a249f63",
   "metadata": {},
   "outputs": [
    {
     "data": {
      "text/plain": [
       "([1, 2, 3, 4, 0], [1, 2, 3, 4, 0])"
      ]
     },
     "execution_count": 1,
     "metadata": {},
     "output_type": "execute_result"
    }
   ],
   "source": [
    "# 주소의 복사, 얕은 복사(shallow copy)\n",
    "\n",
    "old_lst = [1,2,3,4]\n",
    "\n",
    "new_lst = old_lst\n",
    "\n",
    "old_lst.append(0)\n",
    "\n",
    "old_lst, new_lst"
   ]
  },
  {
   "cell_type": "code",
   "execution_count": 2,
   "id": "6b219b15",
   "metadata": {},
   "outputs": [
    {
     "data": {
      "text/plain": [
       "[1, 1, 100, 4]"
      ]
     },
     "execution_count": 2,
     "metadata": {},
     "output_type": "execute_result"
    }
   ],
   "source": [
    "# 주소 복사\n",
    "# old_lst를 함수 처리시, new_lst 함수 반영\n",
    "\n",
    "def f(l):\n",
    "    \n",
    "    l[1] = 1\n",
    "    l[2] = 100\n",
    "    \n",
    "    return l\n",
    "\n",
    "old_lst = [1,2,3,4]\n",
    "new_lst = old_lst\n",
    "\n",
    "f(old_lst)\n",
    "\n",
    "new_lst"
   ]
  },
  {
   "cell_type": "markdown",
   "id": "a8d1aae6",
   "metadata": {},
   "source": [
    "---"
   ]
  },
  {
   "cell_type": "markdown",
   "id": "aec05009",
   "metadata": {},
   "source": [
    "# 리스트  깊은 복사(deep copy)\n",
    "\n",
    "- 독립 복사"
   ]
  },
  {
   "cell_type": "code",
   "execution_count": 3,
   "id": "f7bfb7b5",
   "metadata": {},
   "outputs": [
    {
     "data": {
      "text/plain": [
       "([1, 2, 3, 4, 0], [1, 2, 3, 4])"
      ]
     },
     "execution_count": 3,
     "metadata": {},
     "output_type": "execute_result"
    }
   ],
   "source": [
    "# 슬라이싱, 깊은 복사\n",
    "\n",
    "old_lst = [1,2,3,4]\n",
    "\n",
    "new_lst = old_lst[:]\n",
    "\n",
    "old_lst.append(0)\n",
    "\n",
    "old_lst, new_lst"
   ]
  },
  {
   "cell_type": "code",
   "execution_count": 4,
   "id": "616d9db8",
   "metadata": {},
   "outputs": [
    {
     "data": {
      "text/plain": [
       "([1, 2, 3, 4, 0], [1, 2, 3, 4])"
      ]
     },
     "execution_count": 4,
     "metadata": {},
     "output_type": "execute_result"
    }
   ],
   "source": [
    "# extend(): 리스트를 추가하는 메서드, 깊은 복사₩\n",
    "old_lst = [1,2,3,4]\n",
    "\n",
    "new_lst = []\n",
    "\n",
    "new_lst.extend(old_lst)\n",
    "\n",
    "old_lst.append(0)\n",
    "\n",
    "old_lst, new_lst"
   ]
  },
  {
   "cell_type": "code",
   "execution_count": 5,
   "id": "36b356f1",
   "metadata": {},
   "outputs": [
    {
     "data": {
      "text/plain": [
       "([1, 2, 3, 4, 0], [1, 2, 3, 4])"
      ]
     },
     "execution_count": 5,
     "metadata": {},
     "output_type": "execute_result"
    }
   ],
   "source": [
    "# list(), 깊은 복사\n",
    "old_lst = [1,2,3,4]\n",
    "\n",
    "new_lst = list(old_lst)\n",
    "\n",
    "old_lst.append(0)\n",
    "\n",
    "old_lst, new_lst"
   ]
  },
  {
   "cell_type": "code",
   "execution_count": 6,
   "id": "ec9b30ca",
   "metadata": {},
   "outputs": [
    {
     "data": {
      "text/plain": [
       "([1, 2, 3, 4, 0], [1, 2, 3, 4])"
      ]
     },
     "execution_count": 6,
     "metadata": {},
     "output_type": "execute_result"
    }
   ],
   "source": [
    "# copt(), 깊은 복사\n",
    "# 2차원 얕은 복사\n",
    "\n",
    "old_lst = [1,2,3,4]\n",
    "\n",
    "new_lst = old_lst.copy()\n",
    "\n",
    "old_lst.append(0)\n",
    "\n",
    "old_lst, new_lst"
   ]
  },
  {
   "cell_type": "code",
   "execution_count": 7,
   "id": "455414b4",
   "metadata": {},
   "outputs": [
    {
     "data": {
      "text/plain": [
       "([1, 2, 3, 4, 0], [1, 2, 3, 4])"
      ]
     },
     "execution_count": 7,
     "metadata": {},
     "output_type": "execute_result"
    }
   ],
   "source": [
    "# list comprehension, 깊은 복사\n",
    "old_lst = [1,2,3,4]\n",
    "\n",
    "new_lst = [v for v in old_lst]\n",
    "\n",
    "old_lst.append(0)\n",
    "\n",
    "old_lst, new_lst"
   ]
  },
  {
   "cell_type": "code",
   "execution_count": 8,
   "id": "02dfe951",
   "metadata": {},
   "outputs": [
    {
     "data": {
      "text/plain": [
       "([1, 2, 3, 4, 0], [1, 2, 3, 4])"
      ]
     },
     "execution_count": 8,
     "metadata": {},
     "output_type": "execute_result"
    }
   ],
   "source": [
    "# deep copy 리스트 원소까지도 깊은 복사, 가장 느림, 깊은 복사\n",
    "# 2차원까지 깊은 복사\n",
    "\n",
    "import copy\n",
    "\n",
    "old_lst = [1,2,3,4]\n",
    "new_lst = copy.deepcopy(old_lst)\n",
    "\n",
    "old_lst.append(0)\n",
    "\n",
    "old_lst, new_lst"
   ]
  },
  {
   "cell_type": "markdown",
   "id": "4f282c6d",
   "metadata": {},
   "source": [
    "---"
   ]
  },
  {
   "cell_type": "code",
   "execution_count": 9,
   "id": "f013249e",
   "metadata": {},
   "outputs": [
    {
     "data": {
      "text/plain": [
       "[1, 2, 3, 4]"
      ]
     },
     "execution_count": 9,
     "metadata": {},
     "output_type": "execute_result"
    }
   ],
   "source": [
    "import copy\n",
    "\n",
    "def f(l):\n",
    "    \n",
    "    l[1] = 1\n",
    "    l[2] = 100\n",
    "    \n",
    "    return l\n",
    "\n",
    "\n",
    "old_lst = [1,2,3,4]\n",
    "\n",
    "new_lst = copy.deepcopy(old_lst)\n",
    "\n",
    "f(old_lst)\n",
    "\n",
    "new_lst"
   ]
  }
 ],
 "metadata": {
  "kernelspec": {
   "display_name": "Python 3 (ipykernel)",
   "language": "python",
   "name": "python3"
  },
  "language_info": {
   "codemirror_mode": {
    "name": "ipython",
    "version": 3
   },
   "file_extension": ".py",
   "mimetype": "text/x-python",
   "name": "python",
   "nbconvert_exporter": "python",
   "pygments_lexer": "ipython3",
   "version": "3.8.16"
  },
  "toc": {
   "base_numbering": 1,
   "nav_menu": {},
   "number_sections": true,
   "sideBar": true,
   "skip_h1_title": false,
   "title_cell": "Table of Contents",
   "title_sidebar": "Contents",
   "toc_cell": false,
   "toc_position": {},
   "toc_section_display": true,
   "toc_window_display": false
  },
  "varInspector": {
   "cols": {
    "lenName": 16,
    "lenType": 16,
    "lenVar": 40
   },
   "kernels_config": {
    "python": {
     "delete_cmd_postfix": "",
     "delete_cmd_prefix": "del ",
     "library": "var_list.py",
     "varRefreshCmd": "print(var_dic_list())"
    },
    "r": {
     "delete_cmd_postfix": ") ",
     "delete_cmd_prefix": "rm(",
     "library": "var_list.r",
     "varRefreshCmd": "cat(var_dic_list()) "
    }
   },
   "types_to_exclude": [
    "module",
    "function",
    "builtin_function_or_method",
    "instance",
    "_Feature"
   ],
   "window_display": false
  }
 },
 "nbformat": 4,
 "nbformat_minor": 5
}
