{
 "cells": [
  {
   "cell_type": "markdown",
   "id": "047222bb",
   "metadata": {},
   "source": [
    "# lst 내 값 여부"
   ]
  },
  {
   "cell_type": "markdown",
   "id": "bba06852",
   "metadata": {},
   "source": [
    "---"
   ]
  },
  {
   "cell_type": "markdown",
   "id": "8ac603e3",
   "metadata": {},
   "source": [
    "## in"
   ]
  },
  {
   "cell_type": "code",
   "execution_count": 1,
   "id": "c448ee87",
   "metadata": {},
   "outputs": [
    {
     "name": "stdout",
     "output_type": "stream",
     "text": [
      "True\n"
     ]
    }
   ],
   "source": [
    "lst = [1, 2, 3, 4, 5]\n",
    "\n",
    "print(1 in lst)"
   ]
  },
  {
   "cell_type": "markdown",
   "id": "53406a3b",
   "metadata": {},
   "source": [
    "---"
   ]
  },
  {
   "cell_type": "markdown",
   "id": "0d55e7f4",
   "metadata": {},
   "source": [
    "## in 여러개, 모두"
   ]
  },
  {
   "cell_type": "code",
   "execution_count": 2,
   "id": "8ee8cd50",
   "metadata": {},
   "outputs": [
    {
     "name": "stdout",
     "output_type": "stream",
     "text": [
      "1,2,3 all\n"
     ]
    }
   ],
   "source": [
    "lst = [1, 2, 3, 4, 5]\n",
    "\n",
    "if (1 in lst) and (2 in lst) and (3 in lst):\n",
    "    print(\"1,2,3 all\")\n",
    "else:\n",
    "    print(\"lst 안에 1, 2, 3 중 적어도 하나가 없습니다.\")"
   ]
  },
  {
   "cell_type": "markdown",
   "id": "5d7357c5",
   "metadata": {},
   "source": [
    "---"
   ]
  },
  {
   "cell_type": "markdown",
   "id": "9ed68080",
   "metadata": {},
   "source": [
    "## all()\n",
    "\n",
    "- 모두 True 여야 True 반환\n"
   ]
  },
  {
   "cell_type": "code",
   "execution_count": 3,
   "id": "6024a6a8",
   "metadata": {},
   "outputs": [
    {
     "name": "stdout",
     "output_type": "stream",
     "text": [
      "1,2,3 all\n"
     ]
    }
   ],
   "source": [
    "lst = [1, 2, 3, 4, 5]\n",
    "\n",
    "\n",
    "# 1,2,3 에서 하나씩 x로 꺼내서 그게 lst 안에 있으면 true인데 그게 모두 true 인경우\n",
    "# True,True,True\n",
    "\n",
    "if all(x in lst for x in [1,2,3]):\n",
    "    print(\"1,2,3 all\")\n",
    "else:\n",
    "    print(\"lst 안에 1, 2, 3 중 적어도 하나가 없습니다.\")"
   ]
  },
  {
   "cell_type": "code",
   "execution_count": 4,
   "id": "3a574542",
   "metadata": {},
   "outputs": [
    {
     "name": "stdout",
     "output_type": "stream",
     "text": [
      "True\n",
      "True\n",
      "True\n"
     ]
    }
   ],
   "source": [
    "for x in [1,2,3]:\n",
    "    if(x in lst):\n",
    "        print(True)"
   ]
  },
  {
   "cell_type": "markdown",
   "id": "45a34c19",
   "metadata": {},
   "source": [
    "---"
   ]
  },
  {
   "cell_type": "markdown",
   "id": "0b34ba3a",
   "metadata": {},
   "source": [
    "## any()\n",
    "\n",
    "- True가 하나라도 있으면 True\n",
    "\n",
    "- not in으로 모두 false 여야, "
   ]
  },
  {
   "cell_type": "code",
   "execution_count": 5,
   "id": "dc2c3485",
   "metadata": {},
   "outputs": [
    {
     "name": "stdout",
     "output_type": "stream",
     "text": [
      "1,2,3 all\n"
     ]
    }
   ],
   "source": [
    "lst = [1, 2, 3, 4, 5]\n",
    "\n",
    "if any(x not in lst for x in [1, 2, 3]):\n",
    "    print(\"lst 안에 1, 2, 3 중 적어도 하나가 없습니다.\")\n",
    "else:\n",
    "    print(\"1,2,3 all\")\n"
   ]
  },
  {
   "cell_type": "markdown",
   "id": "77e987b0",
   "metadata": {},
   "source": [
    "---"
   ]
  },
  {
   "cell_type": "markdown",
   "id": "e330f7d9",
   "metadata": {},
   "source": [
    "## set\n",
    "\n",
    "set() 함수는 리스트 lst를 집합으로 변환한 후, \n",
    "\n",
    "issubset() 메소드가 [1, 2, 3] 리스트의 원소가 lst 집합의 부분집합인지 확인합니다. \n",
    "\n",
    "issubset() 메소드는 부분집합이면 True를 반환합니다.\n",
    "\n",
    "위 코드도 실행 결과로 \"lst 안에 1, 2, 3이 모두 있습니다.\"가 출력됩니다."
   ]
  },
  {
   "cell_type": "code",
   "execution_count": 6,
   "id": "f1179144",
   "metadata": {},
   "outputs": [
    {
     "name": "stdout",
     "output_type": "stream",
     "text": [
      "lst 안에 1, 2, 3이 모두 있습니다.\n"
     ]
    }
   ],
   "source": [
    "lst = [1, 2, 3, 4, 5]\n",
    "\n",
    "if set([1, 2, 3]).issubset(set(lst)):\n",
    "    print(\"lst 안에 1, 2, 3이 모두 있습니다.\")\n",
    "else:\n",
    "    print(\"lst 안에 1, 2, 3 중 적어도 하나가 없습니다.\")\n"
   ]
  },
  {
   "cell_type": "markdown",
   "id": "afa336df",
   "metadata": {},
   "source": [
    "---"
   ]
  },
  {
   "cell_type": "markdown",
   "id": "977803a1",
   "metadata": {},
   "source": [
    "## Counter.items"
   ]
  },
  {
   "cell_type": "code",
   "execution_count": 7,
   "id": "0b400a73",
   "metadata": {},
   "outputs": [
    {
     "name": "stdout",
     "output_type": "stream",
     "text": [
      "lst 안에 1, 2, 3이 모두 있습니다.\n"
     ]
    }
   ],
   "source": [
    "from collections import Counter\n",
    "\n",
    "lst = [1, 2, 3, 4, 5]\n",
    "lst_counter = Counter(lst)\n",
    "subset_counter = Counter([1, 2, 3])\n",
    "\n",
    "if subset_counter.items() <= lst_counter.items():\n",
    "    print(\"lst 안에 1, 2, 3이 모두 있습니다.\")\n",
    "else:\n",
    "    print(\"lst 안에 1, 2, 3 중 적어도 하나가 없습니다.\")\n"
   ]
  }
 ],
 "metadata": {
  "kernelspec": {
   "display_name": "Python 3 (ipykernel)",
   "language": "python",
   "name": "python3"
  },
  "language_info": {
   "codemirror_mode": {
    "name": "ipython",
    "version": 3
   },
   "file_extension": ".py",
   "mimetype": "text/x-python",
   "name": "python",
   "nbconvert_exporter": "python",
   "pygments_lexer": "ipython3",
   "version": "3.11.2"
  }
 },
 "nbformat": 4,
 "nbformat_minor": 5
}
