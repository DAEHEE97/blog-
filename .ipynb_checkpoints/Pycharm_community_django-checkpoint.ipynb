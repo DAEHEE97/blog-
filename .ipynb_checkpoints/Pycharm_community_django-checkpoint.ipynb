{
 "cells": [
  {
   "cell_type": "markdown",
   "id": "144bfc7c",
   "metadata": {},
   "source": [
    "# Pycharm_community_django\n",
    "\n",
    "community 버전은 pro 버전과 달리, pure project로 생성되므로, 프로젝트 설정 을 해야 함.\n"
   ]
  },
  {
   "cell_type": "markdown",
   "id": "3c3ddd7d",
   "metadata": {},
   "source": [
    "---"
   ]
  },
  {
   "cell_type": "markdown",
   "id": "af2e794a",
   "metadata": {},
   "source": [
    "\n",
    "1. New project 생성 \n",
    "\n",
    "---\n",
    "\n",
    "2. 가상환경 (venv) 에 django 설치 - `pip install django`\n",
    "\n",
    "---\n",
    "\n",
    "3. django 프로젝트 생성 - `django-admin startproject myproject .`\n",
    "\n",
    "---\n",
    "\n",
    "4. Edit Configurations \n",
    "    - Name : `runserver`, Script path : `manage.py` , Parameters : `runserver`\n",
    "    \n",
    "---\n",
    "\n",
    "5. templates dir 생성 - 'project명' dir 생성 - main.html 생성\n",
    "\n",
    "---\n",
    "\n",
    "6. os module 을 import 하여 BASE_DIR 에 templates 폴더를 경로로 지정\n",
    "\n",
    "```setting.py\n",
    "\n",
    "\n",
    "\"DIRS\": [os.path.join(BASE_DIR, 'templates')]\n",
    "\n",
    "```\n",
    "\n",
    "\n",
    "---\n",
    "\n",
    "7. views.py 생성 후, APIView 를 import 한 후  Main class 선언 \n",
    "\n",
    "\n",
    "\n",
    "```views.py\n",
    "\n",
    "from django.shortcuts import render\n",
    "from rest_framework.views import APIView\n",
    "\n",
    "class Main(APIView):\n",
    "    def get(self, request):\n",
    "        return render(request, 'myproject/main.html')\n",
    "```\n",
    "\n",
    "\n",
    "---\n",
    "\n",
    "8. urls.py 에서 Main 클래스 가져와서 실행 \n",
    "\n",
    "\n",
    "```urls.py\n",
    "\n",
    "from django.urls import path\n",
    "from .views import Main\n",
    "\n",
    "urlpatterns = [\n",
    "    path('', Main.as_view())\n",
    "]\n",
    "\n",
    "\n",
    "```\n",
    "\n",
    "---\n",
    "9. run\n"
   ]
  },
  {
   "cell_type": "markdown",
   "id": "bd38c568",
   "metadata": {},
   "source": [
    "---"
   ]
  },
  {
   "cell_type": "markdown",
   "id": "ff533ba9",
   "metadata": {},
   "source": [
    "## warning \n",
    "\n",
    "`You have 18 unapplied migration(s). Your project may not work properly until you apply the migrations for app(s): admin, auth, contenttypes, sessions.\n",
    "Run 'python manage.py migrate' to apply them.`\n",
    "\n",
    "\n",
    "\n",
    "- `python manage.py makemigrations`\n",
    "\n",
    "- `python manage.py migrate`\n",
    "\n",
    "\n",
    "\n"
   ]
  },
  {
   "cell_type": "markdown",
   "id": "473124df",
   "metadata": {},
   "source": [
    "---"
   ]
  }
 ],
 "metadata": {
  "kernelspec": {
   "display_name": "Python 3 (ipykernel)",
   "language": "python",
   "name": "python3"
  },
  "language_info": {
   "codemirror_mode": {
    "name": "ipython",
    "version": 3
   },
   "file_extension": ".py",
   "mimetype": "text/x-python",
   "name": "python",
   "nbconvert_exporter": "python",
   "pygments_lexer": "ipython3",
   "version": "3.8.16"
  },
  "toc": {
   "base_numbering": 1,
   "nav_menu": {},
   "number_sections": true,
   "sideBar": true,
   "skip_h1_title": false,
   "title_cell": "Table of Contents",
   "title_sidebar": "Contents",
   "toc_cell": false,
   "toc_position": {},
   "toc_section_display": true,
   "toc_window_display": false
  },
  "varInspector": {
   "cols": {
    "lenName": 16,
    "lenType": 16,
    "lenVar": 40
   },
   "kernels_config": {
    "python": {
     "delete_cmd_postfix": "",
     "delete_cmd_prefix": "del ",
     "library": "var_list.py",
     "varRefreshCmd": "print(var_dic_list())"
    },
    "r": {
     "delete_cmd_postfix": ") ",
     "delete_cmd_prefix": "rm(",
     "library": "var_list.r",
     "varRefreshCmd": "cat(var_dic_list()) "
    }
   },
   "types_to_exclude": [
    "module",
    "function",
    "builtin_function_or_method",
    "instance",
    "_Feature"
   ],
   "window_display": false
  }
 },
 "nbformat": 4,
 "nbformat_minor": 5
}
