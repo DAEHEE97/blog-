{
 "cells": [
  {
   "cell_type": "code",
   "execution_count": null,
   "id": "0ed70dd9",
   "metadata": {},
   "outputs": [],
   "source": [
    "def solution(lst, idx):\n",
    "    \n",
    "    # 1. Queue를 만든다.\n",
    "    # 리스트 value를 (idx,value) tuple 형 리스트로 생성\n",
    "    \n",
    "    printer = [ (idx,value) for idx,value in enumerate(lst) ]\n",
    "    \n",
    "    print(printer)\n",
    "    \n",
    "    cnt = 0\n",
    "    \n",
    "    while printer:\n",
    "        \n",
    "        job = printer.pop(0) # 하나 꺼내고,\n",
    "        \n",
    "        # 나머지에서 모두 꺼낸 other[1] 이랑 현재 꺼낸 job[1] 비교후,\n",
    "        # 만약 job[1] 이 모두 더 작다면, 우선순위가 높은게 하나라도 있다면, 다시 append\n",
    "        \n",
    "        # 하나라도 true 인게 있다면, 하나라도 더 큰게 있다면\n",
    "        \n",
    "        if any(job[1] < other[1] for other in printer ):\n",
    "            printer.append(job)\n",
    "        \n",
    "        # 만약 우선순위가 제일 높은거라면, \n",
    "        else:\n",
    "            cnt+=1\n",
    "            # 만약 이게 그 찾고자 했던 그 프로세스라면 브레이크 후 종료            \n",
    "            if job[0] == idx:\n",
    "                break;\n",
    "    \n",
    "    return cnt\n",
    "\n",
    "\n"
   ]
  },
  {
   "cell_type": "markdown",
   "id": "26aa3e42",
   "metadata": {},
   "source": [
    "---"
   ]
  },
  {
   "cell_type": "code",
   "execution_count": 3,
   "id": "59d1d82d",
   "metadata": {},
   "outputs": [
    {
     "data": {
      "text/plain": [
       "True"
      ]
     },
     "execution_count": 3,
     "metadata": {},
     "output_type": "execute_result"
    }
   ],
   "source": [
    "any([True,True,True,True])"
   ]
  },
  {
   "cell_type": "code",
   "execution_count": 6,
   "id": "7499cd78",
   "metadata": {},
   "outputs": [
    {
     "data": {
      "text/plain": [
       "True"
      ]
     },
     "execution_count": 6,
     "metadata": {},
     "output_type": "execute_result"
    }
   ],
   "source": [
    "any([True,False,False,False])"
   ]
  },
  {
   "cell_type": "code",
   "execution_count": 5,
   "id": "92fdc201",
   "metadata": {},
   "outputs": [
    {
     "data": {
      "text/plain": [
       "False"
      ]
     },
     "execution_count": 5,
     "metadata": {},
     "output_type": "execute_result"
    }
   ],
   "source": [
    "any([False,False,False,False])"
   ]
  },
  {
   "cell_type": "markdown",
   "id": "d4e02169",
   "metadata": {},
   "source": [
    "---"
   ]
  },
  {
   "cell_type": "code",
   "execution_count": 11,
   "id": "d080e63f",
   "metadata": {},
   "outputs": [],
   "source": [
    "lst = [0,2,3,4,5]"
   ]
  },
  {
   "cell_type": "code",
   "execution_count": 12,
   "id": "ad5edf8e",
   "metadata": {},
   "outputs": [
    {
     "name": "stdout",
     "output_type": "stream",
     "text": [
      "True\n"
     ]
    }
   ],
   "source": [
    "if any( 1 > i for i in lst ):\n",
    "    print(True)\n",
    "else:\n",
    "    print(False)"
   ]
  },
  {
   "cell_type": "markdown",
   "id": "b7057caf",
   "metadata": {},
   "source": [
    "---"
   ]
  },
  {
   "cell_type": "code",
   "execution_count": 13,
   "id": "4f7d95d6",
   "metadata": {},
   "outputs": [],
   "source": [
    "lst = [1,2,3,4,5]"
   ]
  },
  {
   "cell_type": "code",
   "execution_count": 14,
   "id": "69c60f40",
   "metadata": {},
   "outputs": [
    {
     "name": "stdout",
     "output_type": "stream",
     "text": [
      "False\n"
     ]
    }
   ],
   "source": [
    "if any( 1 > i for i in lst ):\n",
    "    print(True)\n",
    "else:\n",
    "    print(False)"
   ]
  },
  {
   "cell_type": "markdown",
   "id": "f46e91a7",
   "metadata": {},
   "source": [
    "---"
   ]
  },
  {
   "cell_type": "code",
   "execution_count": 15,
   "id": "3478b896",
   "metadata": {},
   "outputs": [
    {
     "name": "stdout",
     "output_type": "stream",
     "text": [
      "True\n"
     ]
    }
   ],
   "source": [
    "lst = [1,2,3,4,5]\n",
    "\n",
    "if all( 0 < i for i in lst ):\n",
    "    print(True)\n",
    "else:\n",
    "    print(False)"
   ]
  }
 ],
 "metadata": {
  "kernelspec": {
   "display_name": "Python 3 (ipykernel)",
   "language": "python",
   "name": "python3"
  },
  "language_info": {
   "codemirror_mode": {
    "name": "ipython",
    "version": 3
   },
   "file_extension": ".py",
   "mimetype": "text/x-python",
   "name": "python",
   "nbconvert_exporter": "python",
   "pygments_lexer": "ipython3",
   "version": "3.10.9"
  },
  "toc": {
   "base_numbering": 1,
   "nav_menu": {},
   "number_sections": true,
   "sideBar": true,
   "skip_h1_title": false,
   "title_cell": "Table of Contents",
   "title_sidebar": "Contents",
   "toc_cell": false,
   "toc_position": {},
   "toc_section_display": true,
   "toc_window_display": false
  },
  "varInspector": {
   "cols": {
    "lenName": 16,
    "lenType": 16,
    "lenVar": 40
   },
   "kernels_config": {
    "python": {
     "delete_cmd_postfix": "",
     "delete_cmd_prefix": "del ",
     "library": "var_list.py",
     "varRefreshCmd": "print(var_dic_list())"
    },
    "r": {
     "delete_cmd_postfix": ") ",
     "delete_cmd_prefix": "rm(",
     "library": "var_list.r",
     "varRefreshCmd": "cat(var_dic_list()) "
    }
   },
   "types_to_exclude": [
    "module",
    "function",
    "builtin_function_or_method",
    "instance",
    "_Feature"
   ],
   "window_display": false
  }
 },
 "nbformat": 4,
 "nbformat_minor": 5
}
