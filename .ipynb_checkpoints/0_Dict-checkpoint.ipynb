{
 "cells": [
  {
   "cell_type": "markdown",
   "id": "e5f3bca3",
   "metadata": {},
   "source": [
    "# Dictionary\n",
    "\n",
    "- 딕셔너리 = `{}`\n",
    "\n",
    "- 딕셔너리 = `dict()`\n",
    "\n",
    "- 딕셔너리 = `{'키1': 값1, '키2': 값2}`\n",
    "\n",
    "- 키에는 값을 하나만 지정할 수 있으며 이런 특성을 따서 키-값 쌍(key-value pair)\n",
    "\n",
    "- 단, 키에는 리스트와 딕셔너리를 사용할 수 없습니다."
   ]
  },
  {
   "cell_type": "markdown",
   "id": "23e6faa6",
   "metadata": {},
   "source": [
    "---"
   ]
  },
  {
   "cell_type": "code",
   "execution_count": 1,
   "id": "3b176d3a",
   "metadata": {},
   "outputs": [],
   "source": [
    "# 딕셔너리에 키와 값을 저장할 때 키가 중복되면 가장 뒤에 있는 값만 사용합니다. \n",
    "# 따라서 중복되는 키는 저장되지 않습니다\n",
    "\n",
    "lux = {'health': 490, 'health': 800, 'mana': 334, 'melee': 550, 'armor': 18.72}"
   ]
  },
  {
   "cell_type": "code",
   "execution_count": 2,
   "id": "e83ec5b4",
   "metadata": {},
   "outputs": [
    {
     "data": {
      "text/plain": [
       "{'health': 800, 'mana': 334, 'melee': 550, 'armor': 18.72}"
      ]
     },
     "execution_count": 2,
     "metadata": {},
     "output_type": "execute_result"
    }
   ],
   "source": [
    "lux"
   ]
  },
  {
   "cell_type": "markdown",
   "id": "be035ba1",
   "metadata": {},
   "source": [
    "---"
   ]
  },
  {
   "cell_type": "markdown",
   "id": "51ff212e",
   "metadata": {},
   "source": [
    "##  dict로 딕셔너리 만들기\n",
    "\n",
    "- dict에서 키=값 형식으로 딕셔너리를 만들 수 있습니다. 이때는 키에 ' '(작은따옴표)나 \" \"(큰따옴표)를 사용하지 않아야 합니다. \n",
    "\n",
    "- 키는 딕셔너리를 만들고 나면, 문자열로 바뀝니다."
   ]
  },
  {
   "cell_type": "code",
   "execution_count": 9,
   "id": "02d0501e",
   "metadata": {},
   "outputs": [
    {
     "data": {
      "text/plain": [
       "{'health': 490, 'mana': 334, 'melee': 550, 'armor': 18.72}"
      ]
     },
     "execution_count": 9,
     "metadata": {},
     "output_type": "execute_result"
    }
   ],
   "source": [
    "# 키=값 형식으로 딕셔너리를 만듦\n",
    "\n",
    "lux1 = dict(health=490, mana=334, melee=550, armor=18.72) \n",
    "lux1"
   ]
  },
  {
   "cell_type": "markdown",
   "id": "fe33c6a3",
   "metadata": {},
   "source": [
    "---"
   ]
  },
  {
   "cell_type": "code",
   "execution_count": 8,
   "id": "1381f59d",
   "metadata": {},
   "outputs": [
    {
     "data": {
      "text/plain": [
       "{'health': 490, 'mana': 334, 'melee': 550, 'armor': 18.72}"
      ]
     },
     "execution_count": 8,
     "metadata": {},
     "output_type": "execute_result"
    }
   ],
   "source": [
    "# zip 함수를 이용하여, 요소(idx) 순서대로 , 키 리스트와 값 리스트를 묶음\n",
    "\n",
    "lux2 = dict( zip(['health', 'mana', 'melee', 'armor'], [490, 334, 550, 18.72]) )    \n",
    "lux2"
   ]
  },
  {
   "cell_type": "markdown",
   "id": "c0d6a47a",
   "metadata": {},
   "source": [
    "---"
   ]
  },
  {
   "cell_type": "markdown",
   "id": "46be89c6",
   "metadata": {},
   "source": [
    "## 딕셔너리의 키에 값 할당하기\n",
    "\n",
    "딕셔너리는 `[ ]`로 키에 접근한 뒤 값을 할당합니다.\n",
    "\n",
    "- 딕셔너리[키] = 값"
   ]
  },
  {
   "cell_type": "code",
   "execution_count": 10,
   "id": "5f063926",
   "metadata": {},
   "outputs": [
    {
     "data": {
      "text/plain": [
       "{'health': 2037, 'mana': 1184, 'melee': 550, 'armor': 18.72}"
      ]
     },
     "execution_count": 10,
     "metadata": {},
     "output_type": "execute_result"
    }
   ],
   "source": [
    "lux = {'health': 490, 'mana': 334, 'melee': 550, 'armor': 18.72}\n",
    "\n",
    "lux['health'] = 2037    # 키 'health'의 값을 2037로 변경\n",
    "\n",
    "lux['mana'] = 1184      # 키 'mana'의 값을 1184로 변경\n",
    "\n",
    "lux\n"
   ]
  },
  {
   "cell_type": "code",
   "execution_count": 12,
   "id": "b70e6ec3",
   "metadata": {},
   "outputs": [],
   "source": [
    "#  # 키 'lol' 값 330 추기\n",
    "\n",
    "\n",
    "lux['lol'] = 330"
   ]
  },
  {
   "cell_type": "code",
   "execution_count": 13,
   "id": "42225f6f",
   "metadata": {},
   "outputs": [
    {
     "data": {
      "text/plain": [
       "{'health': 2037, 'mana': 1184, 'melee': 550, 'armor': 18.72, 'lol': 330}"
      ]
     },
     "execution_count": 13,
     "metadata": {},
     "output_type": "execute_result"
    }
   ],
   "source": [
    "lux"
   ]
  },
  {
   "cell_type": "markdown",
   "id": "e28e1447",
   "metadata": {},
   "source": [
    "---"
   ]
  },
  {
   "cell_type": "code",
   "execution_count": 15,
   "id": "5edecd17",
   "metadata": {},
   "outputs": [
    {
     "data": {
      "text/plain": [
       "True"
      ]
     },
     "execution_count": 15,
     "metadata": {},
     "output_type": "execute_result"
    }
   ],
   "source": [
    "lux = {'health': 490, 'mana': 334, 'melee': 550, 'armor': 18.72}\n",
    "'health' in lux\n"
   ]
  },
  {
   "cell_type": "markdown",
   "id": "e00aabb2",
   "metadata": {},
   "source": [
    "---"
   ]
  },
  {
   "cell_type": "markdown",
   "id": "36a620c1",
   "metadata": {},
   "source": [
    "## 딕셔너리에서 키-값 쌍을 모두 가져오기\n",
    "\n",
    "- items: 키-값 쌍을 모두 가져옴\n",
    "\n",
    "- keys: 키를 모두 가져옴\n",
    "\n",
    "- values: 값을 모두 가져옴\n",
    "\n",
    "다음과 같이 items()는 딕셔너리의 키-값 쌍을 모두 가져옵니다."
   ]
  },
  {
   "cell_type": "code",
   "execution_count": 16,
   "id": "00b2e2df",
   "metadata": {},
   "outputs": [],
   "source": [
    "dic = {'a': 10, 'b': 20, 'c': 30, 'd': 40}"
   ]
  },
  {
   "cell_type": "code",
   "execution_count": 18,
   "id": "0a92f579",
   "metadata": {},
   "outputs": [
    {
     "data": {
      "text/plain": [
       "dict_items([('a', 10), ('b', 20), ('c', 30), ('d', 40)])"
      ]
     },
     "execution_count": 18,
     "metadata": {},
     "output_type": "execute_result"
    }
   ],
   "source": [
    "dic.items()"
   ]
  },
  {
   "cell_type": "code",
   "execution_count": 20,
   "id": "136d4436",
   "metadata": {},
   "outputs": [
    {
     "data": {
      "text/plain": [
       "dict_keys(['a', 'b', 'c', 'd'])"
      ]
     },
     "execution_count": 20,
     "metadata": {},
     "output_type": "execute_result"
    }
   ],
   "source": [
    "dic.keys()"
   ]
  },
  {
   "cell_type": "code",
   "execution_count": 21,
   "id": "e074d91c",
   "metadata": {},
   "outputs": [
    {
     "data": {
      "text/plain": [
       "dict_values([10, 20, 30, 40])"
      ]
     },
     "execution_count": 21,
     "metadata": {},
     "output_type": "execute_result"
    }
   ],
   "source": [
    "dic.values()"
   ]
  },
  {
   "cell_type": "markdown",
   "id": "25ead7b2",
   "metadata": {},
   "source": [
    "---"
   ]
  },
  {
   "cell_type": "markdown",
   "id": "98ca38a8",
   "metadata": {},
   "source": [
    "## 딕셔너리에서 키-값 쌍 삭제하기\n",
    "\n",
    "- x.pop('key')"
   ]
  },
  {
   "cell_type": "code",
   "execution_count": 27,
   "id": "aa3dd66c",
   "metadata": {},
   "outputs": [
    {
     "name": "stdout",
     "output_type": "stream",
     "text": [
      "{'a': 10, 'b': 20, 'c': 30, 'd': 40}\n"
     ]
    },
    {
     "data": {
      "text/plain": [
       "10"
      ]
     },
     "execution_count": 27,
     "metadata": {},
     "output_type": "execute_result"
    }
   ],
   "source": [
    "dic = {'a': 10, 'b': 20, 'c': 30, 'd': 40}\n",
    "print(dic)\n",
    "dic.pop('a') # 'key'"
   ]
  },
  {
   "cell_type": "code",
   "execution_count": 28,
   "id": "a235ab1a",
   "metadata": {},
   "outputs": [
    {
     "data": {
      "text/plain": [
       "{'b': 20, 'c': 30, 'd': 40}"
      ]
     },
     "execution_count": 28,
     "metadata": {},
     "output_type": "execute_result"
    }
   ],
   "source": [
    "dic"
   ]
  },
  {
   "cell_type": "markdown",
   "id": "41868088",
   "metadata": {},
   "source": [
    "## 딕셔너리에서 키의 값 수정하기\n",
    "\n",
    "\n",
    "- update(키 = 값)은 이름 그대로 받아서, 딕셔너리에서 키의 값을 수정합니다. \n",
    "\n",
    "- 키에서 작은따옴표 또는 큰따옴표를 빼고 키 이름과 값을 지정합니다.\n",
    "\n",
    "-  키 'e'가 없으므로 x.update(e=50)을 실행하면 'e': 50을 추가합니다"
   ]
  },
  {
   "cell_type": "code",
   "execution_count": 30,
   "id": "067a0a2a",
   "metadata": {},
   "outputs": [
    {
     "name": "stdout",
     "output_type": "stream",
     "text": [
      "{'a': 90, 'b': 20, 'c': 30, 'd': 40}\n"
     ]
    }
   ],
   "source": [
    "x = {'a': 10, 'b': 20, 'c': 30, 'd': 40}\n",
    "\n",
    "x.update(a = 90)\n",
    "\n",
    "print(x)"
   ]
  },
  {
   "cell_type": "code",
   "execution_count": 31,
   "id": "f13a7bd4",
   "metadata": {},
   "outputs": [
    {
     "name": "stdout",
     "output_type": "stream",
     "text": [
      "{'a': 90, 'b': 20, 'c': 30, 'd': 40, 'e': 50}\n"
     ]
    }
   ],
   "source": [
    "x.update(e = 50)\n",
    "\n",
    "print(x)"
   ]
  },
  {
   "cell_type": "markdown",
   "id": "d17b6137",
   "metadata": {},
   "source": [
    "---"
   ]
  },
  {
   "cell_type": "markdown",
   "id": "d76bd9cd",
   "metadata": {},
   "source": [
    "## 딕셔너리 키, 값  출력"
   ]
  },
  {
   "cell_type": "code",
   "execution_count": 39,
   "id": "43ff4f6c",
   "metadata": {},
   "outputs": [
    {
     "name": "stdout",
     "output_type": "stream",
     "text": [
      "a b c d "
     ]
    }
   ],
   "source": [
    "x = {'a': 10, 'b': 20, 'c': 30, 'd': 40}\n",
    "\n",
    "for i in x:\n",
    "    print(i, end=' ')"
   ]
  },
  {
   "cell_type": "code",
   "execution_count": 40,
   "id": "bf9dd2a9",
   "metadata": {},
   "outputs": [
    {
     "name": "stdout",
     "output_type": "stream",
     "text": [
      "a 10\n",
      "b 20\n",
      "c 30\n",
      "d 40\n"
     ]
    }
   ],
   "source": [
    "x = {'a': 10, 'b': 20, 'c': 30, 'd': 40}\n",
    "\n",
    "for key, value in x.items():\n",
    "    print(key, value)"
   ]
  },
  {
   "cell_type": "code",
   "execution_count": 42,
   "id": "c48b8167",
   "metadata": {},
   "outputs": [
    {
     "name": "stdout",
     "output_type": "stream",
     "text": [
      "a b c d "
     ]
    }
   ],
   "source": [
    "# key 만 출력\n",
    "\n",
    "x = {'a': 10, 'b': 20, 'c': 30, 'd': 40}\n",
    "\n",
    "for key in x.keys():\n",
    "    print(key, end=' ')"
   ]
  },
  {
   "cell_type": "code",
   "execution_count": 43,
   "id": "3acee80a",
   "metadata": {},
   "outputs": [
    {
     "name": "stdout",
     "output_type": "stream",
     "text": [
      "10 20 30 40 "
     ]
    }
   ],
   "source": [
    "# value 만 출력\n",
    "\n",
    "x = {'a': 10, 'b': 20, 'c': 30, 'd': 40}\n",
    "\n",
    "for value in x.values():\n",
    "    print(value, end=' ')\n"
   ]
  },
  {
   "cell_type": "markdown",
   "id": "cd28dbe4",
   "metadata": {},
   "source": [
    "---"
   ]
  },
  {
   "cell_type": "markdown",
   "id": "75c497be",
   "metadata": {},
   "source": [
    "---"
   ]
  },
  {
   "cell_type": "markdown",
   "id": "8a17fe26",
   "metadata": {},
   "source": [
    "---"
   ]
  },
  {
   "cell_type": "markdown",
   "id": "fae90d2f",
   "metadata": {},
   "source": [
    "---"
   ]
  },
  {
   "cell_type": "markdown",
   "id": "1d81186a",
   "metadata": {},
   "source": [
    "---"
   ]
  }
 ],
 "metadata": {
  "kernelspec": {
   "display_name": "Python 3 (ipykernel)",
   "language": "python",
   "name": "python3"
  },
  "language_info": {
   "codemirror_mode": {
    "name": "ipython",
    "version": 3
   },
   "file_extension": ".py",
   "mimetype": "text/x-python",
   "name": "python",
   "nbconvert_exporter": "python",
   "pygments_lexer": "ipython3",
   "version": "3.8.16"
  },
  "toc": {
   "base_numbering": 1,
   "nav_menu": {},
   "number_sections": true,
   "sideBar": true,
   "skip_h1_title": false,
   "title_cell": "Table of Contents",
   "title_sidebar": "Contents",
   "toc_cell": false,
   "toc_position": {
    "height": "calc(100% - 180px)",
    "left": "10px",
    "top": "150px",
    "width": "165px"
   },
   "toc_section_display": true,
   "toc_window_display": true
  },
  "varInspector": {
   "cols": {
    "lenName": 16,
    "lenType": 16,
    "lenVar": 40
   },
   "kernels_config": {
    "python": {
     "delete_cmd_postfix": "",
     "delete_cmd_prefix": "del ",
     "library": "var_list.py",
     "varRefreshCmd": "print(var_dic_list())"
    },
    "r": {
     "delete_cmd_postfix": ") ",
     "delete_cmd_prefix": "rm(",
     "library": "var_list.r",
     "varRefreshCmd": "cat(var_dic_list()) "
    }
   },
   "types_to_exclude": [
    "module",
    "function",
    "builtin_function_or_method",
    "instance",
    "_Feature"
   ],
   "window_display": false
  }
 },
 "nbformat": 4,
 "nbformat_minor": 5
}
