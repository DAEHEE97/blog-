{
 "cells": [
  {
   "cell_type": "markdown",
   "id": "e7e60cc9",
   "metadata": {},
   "source": [
    "# `*` 연산자"
   ]
  },
  {
   "cell_type": "markdown",
   "id": "c62aa7b1",
   "metadata": {},
   "source": [
    "---"
   ]
  },
  {
   "cell_type": "markdown",
   "id": "af06388c",
   "metadata": {},
   "source": [
    "`*` 연산자는 iterable 객체를 unpack하는데 사용됩니다. \n",
    "\n",
    "이것은 iterable의 요소들을 개별적인 인자로 분리하여 전달하게 됩니다.\n",
    "\n",
    "위 예제에서 *lst는 리스트 lst의 모든 요소들을 개별적인 인자로 unpack하여 print() 함수의 인자로 전달하게 됩니다. \n",
    "\n",
    "따라서 print(*lst)는 print(1, 2, 3)과 동일합니다.\n",
    "\n",
    "이 기능은 함수 호출에서 매우 유용하게 사용될 수 있습니다. 함수가 가변 인자를 받아야 하는 경우에도 사용됩니다."
   ]
  },
  {
   "cell_type": "code",
   "execution_count": 1,
   "id": "d415b45c",
   "metadata": {},
   "outputs": [],
   "source": [
    "lst = [1,2,3]"
   ]
  },
  {
   "cell_type": "code",
   "execution_count": 2,
   "id": "f9097474",
   "metadata": {},
   "outputs": [
    {
     "name": "stdout",
     "output_type": "stream",
     "text": [
      "[1, 2, 3]\n"
     ]
    }
   ],
   "source": [
    "print(lst)"
   ]
  },
  {
   "cell_type": "code",
   "execution_count": 3,
   "id": "54bcd20e",
   "metadata": {},
   "outputs": [
    {
     "name": "stdout",
     "output_type": "stream",
     "text": [
      "1 2 3\n"
     ]
    }
   ],
   "source": [
    "print(*lst)"
   ]
  }
 ],
 "metadata": {
  "kernelspec": {
   "display_name": "Python 3 (ipykernel)",
   "language": "python",
   "name": "python3"
  },
  "language_info": {
   "codemirror_mode": {
    "name": "ipython",
    "version": 3
   },
   "file_extension": ".py",
   "mimetype": "text/x-python",
   "name": "python",
   "nbconvert_exporter": "python",
   "pygments_lexer": "ipython3",
   "version": "3.11.2"
  }
 },
 "nbformat": 4,
 "nbformat_minor": 5
}
