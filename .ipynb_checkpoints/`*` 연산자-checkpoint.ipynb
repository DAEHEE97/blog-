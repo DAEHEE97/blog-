{
 "cells": [
  {
   "cell_type": "markdown",
   "id": "e7e60cc9",
   "metadata": {},
   "source": [
    "# `*` 연산자"
   ]
  },
  {
   "cell_type": "markdown",
   "id": "c62aa7b1",
   "metadata": {},
   "source": [
    "---"
   ]
  },
  {
   "cell_type": "markdown",
   "id": "603d91da",
   "metadata": {},
   "source": [
    "## 1. 리스트 언패킹(Unpacking Lists)\n",
    "\n",
    "- `*`를 사용하여 리스트를 언패킹(unpacking)할 수 있습니다. 이는 리스트의 각 요소를 개별적인 값으로 분리합니다.\n"
   ]
  },
  {
   "cell_type": "code",
   "execution_count": 1,
   "id": "4d6f4910",
   "metadata": {},
   "outputs": [
    {
     "name": "stdout",
     "output_type": "stream",
     "text": [
      "1 2 3 4 5\n"
     ]
    }
   ],
   "source": [
    "lst = [1, 2, 3, 4, 5]\n",
    "print(*lst)"
   ]
  },
  {
   "cell_type": "markdown",
   "id": "4275342e",
   "metadata": {},
   "source": [
    "\n",
    "- 위의 예제에서 `*lst`는 `lst`의 각 요소들을 개별적인 값으로 언패킹하여 출력합니다.\n",
    "\n",
    "- 따라서 리스트 `[1, 2, 3, 4, 5]`ㅁ `1 2 3 4 5`로 출력됩니다."
   ]
  },
  {
   "cell_type": "markdown",
   "id": "42c9c152",
   "metadata": {},
   "source": [
    "---"
   ]
  },
  {
   "cell_type": "markdown",
   "id": "9c87a00c",
   "metadata": {},
   "source": [
    "##  2. 가변 인자 함수(Variadic Functions)\n",
    "\n",
    "- `*`를 함수의 인자로 사용하여 가변 개수의 인자를 전달할 수 있습니다. \n",
    "\n",
    "- 이는 함수 정의 시에 매개변수 이름 앞에 `*`를 붙여 사용합니다.\n"
   ]
  },
  {
   "cell_type": "code",
   "execution_count": 2,
   "id": "90cf054e",
   "metadata": {},
   "outputs": [
    {
     "name": "stdout",
     "output_type": "stream",
     "text": [
      "1\n",
      "2\n",
      "3\n"
     ]
    }
   ],
   "source": [
    "def foo(*args):\n",
    "    for arg in args:\n",
    "        print(arg)\n",
    "\n",
    "foo(1, 2, 3)"
   ]
  },
  {
   "cell_type": "markdown",
   "id": "5231bfed",
   "metadata": {},
   "source": [
    "\n",
    "- 위의 예제에서 `foo` 함수는 가변 개수의 인자를 받아서 출력합니다. \n",
    "\n",
    "- `foo(1, 2, 3)`을 호출하면 `1`, `2`, `3`이 각각 개별적인 인자로 전달되어 출력됩니다."
   ]
  },
  {
   "cell_type": "markdown",
   "id": "720a0b33",
   "metadata": {},
   "source": [
    "---"
   ]
  },
  {
   "cell_type": "markdown",
   "id": "8fb9aad7",
   "metadata": {},
   "source": [
    "## Transpose"
   ]
  },
  {
   "cell_type": "code",
   "execution_count": 3,
   "id": "c6bfdbf2",
   "metadata": {},
   "outputs": [
    {
     "name": "stdout",
     "output_type": "stream",
     "text": [
      "[[0, 1, 2, 3, 4], [0, 1, 2, 3, 4], [0, 1, 2, 3, 4], [0, 1, 2, 3, 4], [0, 1, 2, 3, 4]]\n"
     ]
    }
   ],
   "source": [
    "arr = [ list(range(5)) for _ in range(5)]\n",
    "print(arr)\n"
   ]
  },
  {
   "cell_type": "code",
   "execution_count": 4,
   "id": "a1ee0857",
   "metadata": {},
   "outputs": [
    {
     "name": "stdout",
     "output_type": "stream",
     "text": [
      "[[0, 0, 0, 0, 0], [1, 1, 1, 1, 1], [2, 2, 2, 2, 2], [3, 3, 3, 3, 3], [4, 4, 4, 4, 4]]\n"
     ]
    }
   ],
   "source": [
    "\n",
    "arr_T = [ list(tup) for tup in zip(*arr) ]\n",
    "print(arr_T)"
   ]
  },
  {
   "cell_type": "code",
   "execution_count": null,
   "id": "59334b0d",
   "metadata": {},
   "outputs": [],
   "source": []
  }
 ],
 "metadata": {
  "kernelspec": {
   "display_name": "Python 3 (ipykernel)",
   "language": "python",
   "name": "python3"
  },
  "language_info": {
   "codemirror_mode": {
    "name": "ipython",
    "version": 3
   },
   "file_extension": ".py",
   "mimetype": "text/x-python",
   "name": "python",
   "nbconvert_exporter": "python",
   "pygments_lexer": "ipython3",
   "version": "3.8.16"
  },
  "toc": {
   "base_numbering": 1,
   "nav_menu": {},
   "number_sections": true,
   "sideBar": true,
   "skip_h1_title": false,
   "title_cell": "Table of Contents",
   "title_sidebar": "Contents",
   "toc_cell": false,
   "toc_position": {},
   "toc_section_display": true,
   "toc_window_display": false
  },
  "varInspector": {
   "cols": {
    "lenName": 16,
    "lenType": 16,
    "lenVar": 40
   },
   "kernels_config": {
    "python": {
     "delete_cmd_postfix": "",
     "delete_cmd_prefix": "del ",
     "library": "var_list.py",
     "varRefreshCmd": "print(var_dic_list())"
    },
    "r": {
     "delete_cmd_postfix": ") ",
     "delete_cmd_prefix": "rm(",
     "library": "var_list.r",
     "varRefreshCmd": "cat(var_dic_list()) "
    }
   },
   "types_to_exclude": [
    "module",
    "function",
    "builtin_function_or_method",
    "instance",
    "_Feature"
   ],
   "window_display": false
  }
 },
 "nbformat": 4,
 "nbformat_minor": 5
}
