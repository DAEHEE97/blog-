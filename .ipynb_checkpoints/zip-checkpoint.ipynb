{
 "cells": [
  {
   "cell_type": "markdown",
   "id": "ba3c96e7",
   "metadata": {},
   "source": [
    "# zip\n",
    "\n",
    "- 반복 가능한 객체 여러 개를 넣으면, 요소(idx) 순서대로 튜플로 묶어서, zip 객체를 반환"
   ]
  },
  {
   "cell_type": "code",
   "execution_count": 1,
   "id": "f7b71f28",
   "metadata": {},
   "outputs": [
    {
     "data": {
      "text/plain": [
       "<zip at 0x7f93408be940>"
      ]
     },
     "execution_count": 1,
     "metadata": {},
     "output_type": "execute_result"
    }
   ],
   "source": [
    "# zip 객체\n",
    "zip([1, 2, 3], [97, 98, 99])"
   ]
  },
  {
   "cell_type": "code",
   "execution_count": 2,
   "id": "045c15fe",
   "metadata": {},
   "outputs": [
    {
     "data": {
      "text/plain": [
       "[(1, 97), (2, 98), (3, 99)]"
      ]
     },
     "execution_count": 2,
     "metadata": {},
     "output_type": "execute_result"
    }
   ],
   "source": [
    "# zip 객체 리스트 화\n",
    "list(zip([1, 2, 3], [97, 98, 99]))"
   ]
  },
  {
   "cell_type": "markdown",
   "id": "59596fd0",
   "metadata": {},
   "source": [
    "---"
   ]
  },
  {
   "cell_type": "markdown",
   "id": "5e32f457",
   "metadata": {},
   "source": [
    "## zip 을 이용한 2차원 arr Transpose"
   ]
  },
  {
   "cell_type": "code",
   "execution_count": 3,
   "id": "14b59797",
   "metadata": {},
   "outputs": [],
   "source": [
    "arr = [ list(range(5)) for _ in range(5)]"
   ]
  },
  {
   "cell_type": "code",
   "execution_count": 4,
   "id": "624ab29d",
   "metadata": {},
   "outputs": [
    {
     "data": {
      "text/plain": [
       "[[0, 1, 2, 3, 4],\n",
       " [0, 1, 2, 3, 4],\n",
       " [0, 1, 2, 3, 4],\n",
       " [0, 1, 2, 3, 4],\n",
       " [0, 1, 2, 3, 4]]"
      ]
     },
     "execution_count": 4,
     "metadata": {},
     "output_type": "execute_result"
    }
   ],
   "source": [
    "arr"
   ]
  },
  {
   "cell_type": "code",
   "execution_count": 5,
   "id": "640e576a",
   "metadata": {},
   "outputs": [
    {
     "name": "stdout",
     "output_type": "stream",
     "text": [
      "[0, 1, 2, 3, 4] [0, 1, 2, 3, 4] [0, 1, 2, 3, 4] [0, 1, 2, 3, 4] [0, 1, 2, 3, 4]\n"
     ]
    }
   ],
   "source": [
    "# `*`를 사용하여 리스트를 언패킹(unpacking)\n",
    "\n",
    "print(*arr) # * arr x"
   ]
  },
  {
   "cell_type": "code",
   "execution_count": 6,
   "id": "48738c74",
   "metadata": {},
   "outputs": [],
   "source": [
    "arr_T = [ list(tup) for tup in zip(*arr) ]"
   ]
  },
  {
   "cell_type": "code",
   "execution_count": 7,
   "id": "3dfb9ccd",
   "metadata": {},
   "outputs": [
    {
     "data": {
      "text/plain": [
       "[[0, 0, 0, 0, 0],\n",
       " [1, 1, 1, 1, 1],\n",
       " [2, 2, 2, 2, 2],\n",
       " [3, 3, 3, 3, 3],\n",
       " [4, 4, 4, 4, 4]]"
      ]
     },
     "execution_count": 7,
     "metadata": {},
     "output_type": "execute_result"
    }
   ],
   "source": [
    "arr_T"
   ]
  }
 ],
 "metadata": {
  "kernelspec": {
   "display_name": "Python 3 (ipykernel)",
   "language": "python",
   "name": "python3"
  },
  "language_info": {
   "codemirror_mode": {
    "name": "ipython",
    "version": 3
   },
   "file_extension": ".py",
   "mimetype": "text/x-python",
   "name": "python",
   "nbconvert_exporter": "python",
   "pygments_lexer": "ipython3",
   "version": "3.8.16"
  },
  "toc": {
   "base_numbering": 1,
   "nav_menu": {},
   "number_sections": true,
   "sideBar": true,
   "skip_h1_title": false,
   "title_cell": "Table of Contents",
   "title_sidebar": "Contents",
   "toc_cell": false,
   "toc_position": {},
   "toc_section_display": true,
   "toc_window_display": false
  },
  "varInspector": {
   "cols": {
    "lenName": 16,
    "lenType": 16,
    "lenVar": 40
   },
   "kernels_config": {
    "python": {
     "delete_cmd_postfix": "",
     "delete_cmd_prefix": "del ",
     "library": "var_list.py",
     "varRefreshCmd": "print(var_dic_list())"
    },
    "r": {
     "delete_cmd_postfix": ") ",
     "delete_cmd_prefix": "rm(",
     "library": "var_list.r",
     "varRefreshCmd": "cat(var_dic_list()) "
    }
   },
   "types_to_exclude": [
    "module",
    "function",
    "builtin_function_or_method",
    "instance",
    "_Feature"
   ],
   "window_display": false
  }
 },
 "nbformat": 4,
 "nbformat_minor": 5
}
