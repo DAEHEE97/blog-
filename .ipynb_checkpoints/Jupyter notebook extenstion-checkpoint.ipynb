{
 "cells": [
  {
   "cell_type": "markdown",
   "id": "03a0fb30",
   "metadata": {},
   "source": [
    "# Jupyter notebook extenstion"
   ]
  },
  {
   "cell_type": "markdown",
   "id": "55abb2a8",
   "metadata": {},
   "source": [
    "---"
   ]
  },
  {
   "cell_type": "markdown",
   "id": "f053efd1",
   "metadata": {},
   "source": [
    "## `jupyter_contrib_nbextensions` & `jupyter_nbextensions_configurator`\n"
   ]
  },
  {
   "cell_type": "markdown",
   "id": "9851e43f",
   "metadata": {},
   "source": [
    "`jupyter_contrib_nbextensions`: 이 패키지는 Jupyter Notebook의 확장 기능을 제공합니다. 예를 들어, 코드 스니펫, 표, 그림, 주석 등을 쉽게 삽입할 수 있는 기능, 코드 자동완성, 목차 생성 등의 기능이 있습니다. 이 패키지는 Jupyter Notebook에서 사용할 수 있는 다양한 확장 기능을 모아놓은 패키지입니다.\n",
    "\n",
    "\n",
    "\n",
    "`jupyter_nbextensions_configurator`: 이 패키지는 jupyter_contrib_nbextensions에서 제공하는 확장 기능들을 Notebook에서 쉽게 활성화하거나 비활성화할 수 있는 도구를 제공합니다. 이 패키지는 Jupyter Notebook에서 사용할 수 있는 다양한 확장 기능을 쉽게 설정할 수 있도록 도와주는 패키지입니다.\n",
    "\n",
    "\n",
    "- 따라서, `jupyter_contrib_nbextensions`는 다양한 확장 기능을 제공하고, `jupyter_nbextensions_configurator`는 이러한 확장 기능들을 설정하고 활성화/비활성화하는 데 사용됩니다. 두 패키지를 함께 사용하면 Jupyter Notebook에서 더 많은 기능을 사용할 수 있습니다."
   ]
  },
  {
   "cell_type": "markdown",
   "id": "7287e2e2",
   "metadata": {},
   "source": [
    "---"
   ]
  },
  {
   "cell_type": "markdown",
   "id": "3c968d62",
   "metadata": {},
   "source": [
    "## Install & Set"
   ]
  },
  {
   "cell_type": "markdown",
   "id": "91e86d60",
   "metadata": {},
   "source": [
    "패키지 설치\n",
    "\n",
    "> `!pip install jupyter_nbextensions_configurator jupyter_contrib_nbextensions`\n",
    "\n",
    "\n",
    "jupyter_contrib_nbextensions 패키지에서 제공하는 다양한 확장 기능들을 Notebook에 추가합니다.\n",
    "\n",
    "> `!jupyter contrib nbextension install --user`\n",
    "\n",
    "\n",
    "jupyter_nbextensions_configurator 패키지에서 제공하는 설정 도구를 활성화합니다.\n",
    "\n",
    "> `!jupyter nbextensions_configurator enable --user`"
   ]
  },
  {
   "cell_type": "markdown",
   "id": "d725e3a0",
   "metadata": {},
   "source": [
    "---"
   ]
  },
  {
   "cell_type": "markdown",
   "id": "f6c013ed",
   "metadata": {},
   "source": [
    "## `--user`"
   ]
  },
  {
   "cell_type": "markdown",
   "id": "3de498cd",
   "metadata": {},
   "source": [
    "`--user`는 pip3 명령어에서 사용되는 옵션 중 하나로, 현재 사용자의 로컬 환경에 패키지를 설치하는 옵션입니다. \n",
    "\n",
    "이 옵션을 사용하면 시스템 전역에 패키지를 설치하지 않고, 현재 사용자의 로컬 디렉토리에 패키지를 설치합니다.\n",
    "\n",
    "`--user` 옵션을 사용하면 사용자 권한으로 패키지를 설치할 수 있으므로, 시스템 전역에 패키지를 설치하기 위해 관리자 권한이 필요하지 않습니다. \n",
    "\n",
    "이렇게 하면 시스템 전체에 영향을 미치지 않으면서 개발 환경을 설정할 수 있습니다.\n",
    "\n",
    "\n",
    "\n",
    "- 따라서, --user 옵션을 사용하면 현재 사용자의 로컬 환경에 Jupyter Notebook의 확장 기능을 설치하고, 활성화하는 것입니다."
   ]
  },
  {
   "cell_type": "markdown",
   "id": "6d7ea0f8",
   "metadata": {},
   "source": [
    "---"
   ]
  },
  {
   "cell_type": "markdown",
   "id": "6c132081",
   "metadata": {},
   "source": [
    "## `!`\n"
   ]
  },
  {
   "cell_type": "markdown",
   "id": "891f4bf4",
   "metadata": {},
   "source": [
    "`!`는 주피터 노트북(Jupyter Notebook)에서 명령어 셀(Command Cell)에서 쉘 명령어를 실행할 때 사용되는 매직 명령어(Magic Command)입니다.\n",
    "\n",
    "쉘 명령어는 주피터 노트북의 파이썬 커널이 아닌, 운영체제의 쉘에서 실행되는 명령어입니다.\n",
    "\n",
    "pip3 명령어는 쉘 명령어이므로, 주피터 노트북에서 pip3 명령어를 실행하려면 매직 명령어 !를 사용해야 합니다. \n",
    "\n",
    "따라서, `!pip3 install jupyter_contrib_nbextensions --use`와 같이 `!`를 사용하여 pip3 명령어를 실행할 수 있습니다.\n",
    "\n",
    "반면에, 파이썬 코드를 실행할 때는 !를 사용하지 않습니다. \n",
    "\n",
    "파이썬 코드는 주피터 노트북의 파이썬 커널에서 실행되기 때문입니다. 따라서, import numpy와 같은 파이썬 코드는 `!`를 사용하지 않습니다.\n",
    "\n",
    "\n",
    "\n",
    "\n",
    "- 주피터 노트북에서 필요한 패키지를 다운로드하려면 !pip3 install packagename과 같이 !를 사용하는 쉘 명령어를 사용해야 합니다.\n",
    "\n",
    "- 반면에, 주피터 노트북 외부에서 Python 프로그램을 작성하고 실행할 때에는, pip3 install packagename과 같이 !를 사용하지 않고 쉘에서 직접 pip3 명령어를 입력하여 패키지를 설치하거나, 파이썬 코드에서 import packagename과 같이 모듈을 불러옵니다."
   ]
  }
 ],
 "metadata": {
  "kernelspec": {
   "display_name": "Python 3 (ipykernel)",
   "language": "python",
   "name": "python3"
  },
  "language_info": {
   "codemirror_mode": {
    "name": "ipython",
    "version": 3
   },
   "file_extension": ".py",
   "mimetype": "text/x-python",
   "name": "python",
   "nbconvert_exporter": "python",
   "pygments_lexer": "ipython3",
   "version": "3.11.2"
  }
 },
 "nbformat": 4,
 "nbformat_minor": 5
}
