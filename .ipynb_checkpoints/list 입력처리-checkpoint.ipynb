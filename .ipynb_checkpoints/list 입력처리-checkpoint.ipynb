{
 "cells": [
  {
   "cell_type": "markdown",
   "id": "2cb4fc3b",
   "metadata": {},
   "source": [
    "# list 입력처리"
   ]
  },
  {
   "cell_type": "code",
   "execution_count": 5,
   "id": "4e240cb5",
   "metadata": {},
   "outputs": [
    {
     "name": "stdout",
     "output_type": "stream",
     "text": [
      "3\n",
      "1 2 3\n",
      "4 5 6\n",
      "7 8 9\n"
     ]
    }
   ],
   "source": [
    "N = int(input())\n",
    "\n",
    "arr = [ list(map(int,input().split())) for _ in range(N) ]"
   ]
  },
  {
   "cell_type": "code",
   "execution_count": 6,
   "id": "c2b747c0",
   "metadata": {},
   "outputs": [
    {
     "data": {
      "text/plain": [
       "[[1, 2, 3], [4, 5, 6], [7, 8, 9]]"
      ]
     },
     "execution_count": 6,
     "metadata": {},
     "output_type": "execute_result"
    }
   ],
   "source": [
    "arr"
   ]
  },
  {
   "cell_type": "markdown",
   "id": "7dd91e37",
   "metadata": {},
   "source": [
    "---"
   ]
  },
  {
   "cell_type": "code",
   "execution_count": 7,
   "id": "3cd69c6e",
   "metadata": {},
   "outputs": [],
   "source": [
    "arr = [0] * 9 "
   ]
  },
  {
   "cell_type": "code",
   "execution_count": 8,
   "id": "45f1a3c6",
   "metadata": {},
   "outputs": [
    {
     "data": {
      "text/plain": [
       "[0, 0, 0, 0, 0, 0, 0, 0, 0]"
      ]
     },
     "execution_count": 8,
     "metadata": {},
     "output_type": "execute_result"
    }
   ],
   "source": [
    "arr"
   ]
  },
  {
   "cell_type": "markdown",
   "id": "73d18e2b",
   "metadata": {},
   "source": [
    "---"
   ]
  },
  {
   "cell_type": "code",
   "execution_count": 9,
   "id": "70d6c4df",
   "metadata": {},
   "outputs": [],
   "source": [
    "arr = [ [0] * 3 for _ in range(N) ]"
   ]
  },
  {
   "cell_type": "code",
   "execution_count": 10,
   "id": "000d025c",
   "metadata": {},
   "outputs": [
    {
     "data": {
      "text/plain": [
       "[[0, 0, 0], [0, 0, 0], [0, 0, 0]]"
      ]
     },
     "execution_count": 10,
     "metadata": {},
     "output_type": "execute_result"
    }
   ],
   "source": [
    "arr"
   ]
  },
  {
   "cell_type": "markdown",
   "id": "c32a1ba5",
   "metadata": {},
   "source": [
    "---"
   ]
  },
  {
   "cell_type": "code",
   "execution_count": 26,
   "id": "1d87545e",
   "metadata": {},
   "outputs": [
    {
     "name": "stdout",
     "output_type": "stream",
     "text": [
      "1 2 3\n",
      "4 5 6\n",
      "7 8 9\n"
     ]
    }
   ],
   "source": [
    "# 양쪽 끝. zero padding\n",
    "\n",
    "arr = [ [0] + list(map(int,input().split())) + [0] for _ in range(N) ]"
   ]
  },
  {
   "cell_type": "code",
   "execution_count": 27,
   "id": "52381fc7",
   "metadata": {},
   "outputs": [
    {
     "data": {
      "text/plain": [
       "[[0, 1, 2, 3, 0], [0, 4, 5, 6, 0], [0, 7, 8, 9, 0]]"
      ]
     },
     "execution_count": 27,
     "metadata": {},
     "output_type": "execute_result"
    }
   ],
   "source": [
    "arr"
   ]
  },
  {
   "cell_type": "markdown",
   "id": "4580ae4a",
   "metadata": {},
   "source": [
    "---"
   ]
  },
  {
   "cell_type": "code",
   "execution_count": 28,
   "id": "a81d8c38",
   "metadata": {},
   "outputs": [
    {
     "data": {
      "text/plain": [
       "[[0, 1, 2, 3, 0], [0, 4, 5, 6, 0], [0, 7, 8, 9, 0], 0, 0, 0, 0, 0]"
      ]
     },
     "execution_count": 28,
     "metadata": {},
     "output_type": "execute_result"
    }
   ],
   "source": [
    "arr + [0,0,0,0,0]"
   ]
  },
  {
   "cell_type": "code",
   "execution_count": 29,
   "id": "0f5a39b3",
   "metadata": {},
   "outputs": [
    {
     "data": {
      "text/plain": [
       "[[0, 1, 2, 3, 0], [0, 4, 5, 6, 0], [0, 7, 8, 9, 0], [0, 0, 0, 0, 0]]"
      ]
     },
     "execution_count": 29,
     "metadata": {},
     "output_type": "execute_result"
    }
   ],
   "source": [
    "arr + [[0,0,0,0,0]]"
   ]
  },
  {
   "cell_type": "markdown",
   "id": "0d551351",
   "metadata": {},
   "source": [
    "---"
   ]
  },
  {
   "cell_type": "code",
   "execution_count": 18,
   "id": "f4b88569",
   "metadata": {},
   "outputs": [
    {
     "name": "stdout",
     "output_type": "stream",
     "text": [
      "1 2 3\n",
      "4 5 6\n",
      "7 8 9\n"
     ]
    }
   ],
   "source": [
    "arr = [ [0]*(N+2) ] + [ [0] + list(map(int,input().split())) + [0] for _ in range(N) ] + [ [0]*(N+2) ] "
   ]
  },
  {
   "cell_type": "code",
   "execution_count": 19,
   "id": "de4030fc",
   "metadata": {},
   "outputs": [
    {
     "data": {
      "text/plain": [
       "[[0, 0, 0, 0, 0],\n",
       " [0, 1, 2, 3, 0],\n",
       " [0, 4, 5, 6, 0],\n",
       " [0, 7, 8, 9, 0],\n",
       " [0, 0, 0, 0, 0]]"
      ]
     },
     "execution_count": 19,
     "metadata": {},
     "output_type": "execute_result"
    }
   ],
   "source": [
    "arr"
   ]
  },
  {
   "cell_type": "markdown",
   "id": "9a95e96d",
   "metadata": {},
   "source": [
    "---"
   ]
  },
  {
   "cell_type": "code",
   "execution_count": null,
   "id": "4a02c2e4",
   "metadata": {},
   "outputs": [],
   "source": [
    "N,M = map(int,input().split())\n",
    "\n",
    "arr = []\n",
    "\n",
    "for _ in range(N):\n",
    "    arr.append(list(map(int,input())))\n",
    "    "
   ]
  },
  {
   "cell_type": "markdown",
   "id": "d430eb47",
   "metadata": {},
   "source": [
    "---"
   ]
  },
  {
   "cell_type": "code",
   "execution_count": null,
   "id": "dfbb7fe1",
   "metadata": {},
   "outputs": [],
   "source": [
    "arr = [ list(map(int,input())) for _ in range(N) ]"
   ]
  },
  {
   "cell_type": "markdown",
   "id": "746bd3cc",
   "metadata": {},
   "source": [
    "---"
   ]
  },
  {
   "cell_type": "code",
   "execution_count": null,
   "id": "a7310d2c",
   "metadata": {},
   "outputs": [],
   "source": [
    "v = [ [0] * M for i in range(N) ]"
   ]
  },
  {
   "cell_type": "code",
   "execution_count": null,
   "id": "aba7d37b",
   "metadata": {},
   "outputs": [],
   "source": [
    "v = [ [0] * N for _ in range(N) ]"
   ]
  },
  {
   "cell_type": "markdown",
   "id": "55f13985",
   "metadata": {},
   "source": [
    "---"
   ]
  },
  {
   "cell_type": "code",
   "execution_count": null,
   "id": "3641ca75",
   "metadata": {},
   "outputs": [],
   "source": [
    "adj = [ [] for _ in range(N+1) ]\n",
    "\n",
    "for _ in range(M):\n",
    "    s,e = map(int, input().split())\n",
    "    \n",
    "    adj[s].append(e)\n",
    "    adj[e].append(s)\n",
    "\n",
    "\n",
    "v = [0] * (N+1)\n",
    "\n",
    "# v = [[0] * N+1 ]"
   ]
  },
  {
   "cell_type": "markdown",
   "id": "b7857606",
   "metadata": {},
   "source": [
    "---"
   ]
  },
  {
   "cell_type": "code",
   "execution_count": null,
   "id": "a18810fa",
   "metadata": {},
   "outputs": [],
   "source": [
    "lst = [0] + list(map(int, input().split())) + [N]"
   ]
  }
 ],
 "metadata": {
  "kernelspec": {
   "display_name": "Python 3 (ipykernel)",
   "language": "python",
   "name": "python3"
  },
  "language_info": {
   "codemirror_mode": {
    "name": "ipython",
    "version": 3
   },
   "file_extension": ".py",
   "mimetype": "text/x-python",
   "name": "python",
   "nbconvert_exporter": "python",
   "pygments_lexer": "ipython3",
   "version": "3.8.16"
  },
  "toc": {
   "base_numbering": 1,
   "nav_menu": {},
   "number_sections": true,
   "sideBar": true,
   "skip_h1_title": false,
   "title_cell": "Table of Contents",
   "title_sidebar": "Contents",
   "toc_cell": false,
   "toc_position": {},
   "toc_section_display": true,
   "toc_window_display": false
  },
  "varInspector": {
   "cols": {
    "lenName": 16,
    "lenType": 16,
    "lenVar": 40
   },
   "kernels_config": {
    "python": {
     "delete_cmd_postfix": "",
     "delete_cmd_prefix": "del ",
     "library": "var_list.py",
     "varRefreshCmd": "print(var_dic_list())"
    },
    "r": {
     "delete_cmd_postfix": ") ",
     "delete_cmd_prefix": "rm(",
     "library": "var_list.r",
     "varRefreshCmd": "cat(var_dic_list()) "
    }
   },
   "types_to_exclude": [
    "module",
    "function",
    "builtin_function_or_method",
    "instance",
    "_Feature"
   ],
   "window_display": false
  }
 },
 "nbformat": 4,
 "nbformat_minor": 5
}
