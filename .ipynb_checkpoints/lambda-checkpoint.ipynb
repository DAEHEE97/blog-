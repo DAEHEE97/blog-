{
 "cells": [
  {
   "cell_type": "markdown",
   "id": "df34283d",
   "metadata": {},
   "source": [
    "# lambda"
   ]
  },
  {
   "cell_type": "markdown",
   "id": "aef2aa1a",
   "metadata": {},
   "source": [
    "람다 식(lambda expression)은 파이썬에서 익명 함수를 생성하는 간단한 방법입니다. \n",
    "\n",
    "- 주로 정렬(sorting) 기능과 함께 사용될 때 많이 활용"
   ]
  },
  {
   "cell_type": "markdown",
   "id": "b694c08e",
   "metadata": {},
   "source": [
    "---"
   ]
  },
  {
   "cell_type": "markdown",
   "id": "461f3a3c",
   "metadata": {},
   "source": [
    "## 숫자 리스트 정렬\n",
    "\n"
   ]
  },
  {
   "cell_type": "code",
   "execution_count": 19,
   "id": "bd2dccfa",
   "metadata": {},
   "outputs": [
    {
     "name": "stdout",
     "output_type": "stream",
     "text": [
      "[9, 8, 5, 3, 2, 1]\n"
     ]
    }
   ],
   "source": [
    "lst = [5, 2, 8, 1, 9, 3]\n",
    "\n",
    "\n",
    "lst_sorted = sorted(lst, key=lambda x: x, reverse=True)\n",
    "\n",
    "\n",
    "print(lst_sorted)  # 출력: [1, 2, 3, 5, 8, 9]\n"
   ]
  },
  {
   "cell_type": "markdown",
   "id": "a2ec39c2",
   "metadata": {},
   "source": [
    "---"
   ]
  },
  {
   "cell_type": "markdown",
   "id": "2d87e198",
   "metadata": {},
   "source": [
    "## 문자열 리스트 정렬"
   ]
  },
  {
   "cell_type": "code",
   "execution_count": 20,
   "id": "e2e4636b",
   "metadata": {},
   "outputs": [
    {
     "name": "stdout",
     "output_type": "stream",
     "text": [
      "['kkkkkk', 'hello', 'world', 'jjjj', 'my', 'ff']\n"
     ]
    }
   ],
   "source": [
    "lst = ['hello', 'my', 'world', 'kkkkkk', 'ff', 'jjjj']\n",
    "\n",
    "\n",
    "lst_sorted = sorted(lst, key = lambda x: len(x), reverse=True)\n",
    "\n",
    "\n",
    "print(lst_sorted)  # 출력: [1, 2, 3, 5, 8, 9]\n"
   ]
  },
  {
   "cell_type": "markdown",
   "id": "03404715",
   "metadata": {},
   "source": [
    "---"
   ]
  },
  {
   "cell_type": "code",
   "execution_count": 21,
   "id": "92449022",
   "metadata": {},
   "outputs": [],
   "source": [
    "lst = [\"sun\", \"bed\", \"car\"]"
   ]
  },
  {
   "cell_type": "code",
   "execution_count": 49,
   "id": "ec2a1aff",
   "metadata": {},
   "outputs": [],
   "source": [
    "# 리스트 내부 요소, 문자열의 1번째 인덱스 기준으로 정렬후, 생성 반환\n",
    "\n",
    "answer = sorted(lst, key = lambda x : x[1])"
   ]
  },
  {
   "cell_type": "code",
   "execution_count": 50,
   "id": "78e175f4",
   "metadata": {},
   "outputs": [
    {
     "data": {
      "text/plain": [
       "['car', 'bed', 'sun']"
      ]
     },
     "execution_count": 50,
     "metadata": {},
     "output_type": "execute_result"
    }
   ],
   "source": [
    "answer"
   ]
  },
  {
   "cell_type": "markdown",
   "id": "d335e200",
   "metadata": {},
   "source": [
    "---"
   ]
  },
  {
   "cell_type": "markdown",
   "id": "7b4b61b5",
   "metadata": {},
   "source": [
    "## 사전형 데이터"
   ]
  },
  {
   "cell_type": "code",
   "execution_count": 31,
   "id": "0e38e6d7",
   "metadata": {},
   "outputs": [
    {
     "data": {
      "text/plain": [
       "dict_items([('apple', 3), ('banana', 2), ('kiwi', 4), ('orange', 1)])"
      ]
     },
     "execution_count": 31,
     "metadata": {},
     "output_type": "execute_result"
    }
   ],
   "source": [
    "dic.items()"
   ]
  },
  {
   "cell_type": "markdown",
   "id": "41f16624",
   "metadata": {},
   "source": [
    "### 키 기준 items() lambda x : x[0]"
   ]
  },
  {
   "cell_type": "code",
   "execution_count": 29,
   "id": "25d7226a",
   "metadata": {},
   "outputs": [
    {
     "name": "stdout",
     "output_type": "stream",
     "text": [
      "[('apple', 3), ('banana', 2), ('kiwi', 4), ('orange', 1)]\n"
     ]
    }
   ],
   "source": [
    "dic = {'apple': 3, 'banana': 2, 'kiwi': 4, 'orange': 1}\n",
    "\n",
    "dic_sorted = sorted(dic.items(), key = lambda x: x[0])\n",
    "# dic_sorted = sorted(dic.items())\n",
    "\n",
    "print(dic_sorted)\n"
   ]
  },
  {
   "cell_type": "markdown",
   "id": "d5041468",
   "metadata": {},
   "source": [
    "### 값 기준 items() lambda x : x[1]"
   ]
  },
  {
   "cell_type": "code",
   "execution_count": 32,
   "id": "e32e4c5a",
   "metadata": {},
   "outputs": [
    {
     "name": "stdout",
     "output_type": "stream",
     "text": [
      "[('orange', 1), ('banana', 2), ('apple', 3), ('kiwi', 4)]\n"
     ]
    }
   ],
   "source": [
    "dic = {'apple': 3, 'banana': 2, 'kiwi': 4, 'orange': 1}\n",
    "\n",
    "dic_sorted = sorted(dic.items(), key = lambda x: x[1])\n",
    "\n",
    "print(dic_sorted)\n"
   ]
  },
  {
   "cell_type": "markdown",
   "id": "c7cba24f",
   "metadata": {},
   "source": [
    "---"
   ]
  },
  {
   "cell_type": "code",
   "execution_count": 47,
   "id": "de9b02cf",
   "metadata": {},
   "outputs": [],
   "source": [
    "def solution(lst, n):\n",
    "    \n",
    "    answer = []\n",
    "    \n",
    "    # dic 생성\n",
    "    dic = {}\n",
    "    for i in lst:\n",
    "        dic[i[n]] = i\n",
    "    \n",
    "    \n",
    "    # 정렬\n",
    "    dic_sorted = sorted(dic.items(), key = lambda x:x[0])\n",
    "    \n",
    "    print(dic_sorted)\n",
    "    \n",
    "\n",
    "    \n",
    "    return answer"
   ]
  },
  {
   "cell_type": "code",
   "execution_count": 48,
   "id": "ceb71152",
   "metadata": {},
   "outputs": [
    {
     "name": "stdout",
     "output_type": "stream",
     "text": [
      "[('a', 'car'), ('e', 'bed'), ('u', 'aun')]\n"
     ]
    },
    {
     "data": {
      "text/plain": [
       "[]"
      ]
     },
     "execution_count": 48,
     "metadata": {},
     "output_type": "execute_result"
    }
   ],
   "source": [
    "solution([\"aun\", \"bed\", \"car\"],1)"
   ]
  },
  {
   "cell_type": "code",
   "execution_count": null,
   "id": "63447267",
   "metadata": {},
   "outputs": [],
   "source": []
  }
 ],
 "metadata": {
  "kernelspec": {
   "display_name": "Python 3 (ipykernel)",
   "language": "python",
   "name": "python3"
  },
  "language_info": {
   "codemirror_mode": {
    "name": "ipython",
    "version": 3
   },
   "file_extension": ".py",
   "mimetype": "text/x-python",
   "name": "python",
   "nbconvert_exporter": "python",
   "pygments_lexer": "ipython3",
   "version": "3.8.16"
  },
  "toc": {
   "base_numbering": 1,
   "nav_menu": {},
   "number_sections": true,
   "sideBar": true,
   "skip_h1_title": false,
   "title_cell": "Table of Contents",
   "title_sidebar": "Contents",
   "toc_cell": false,
   "toc_position": {},
   "toc_section_display": true,
   "toc_window_display": false
  },
  "varInspector": {
   "cols": {
    "lenName": 16,
    "lenType": 16,
    "lenVar": 40
   },
   "kernels_config": {
    "python": {
     "delete_cmd_postfix": "",
     "delete_cmd_prefix": "del ",
     "library": "var_list.py",
     "varRefreshCmd": "print(var_dic_list())"
    },
    "r": {
     "delete_cmd_postfix": ") ",
     "delete_cmd_prefix": "rm(",
     "library": "var_list.r",
     "varRefreshCmd": "cat(var_dic_list()) "
    }
   },
   "types_to_exclude": [
    "module",
    "function",
    "builtin_function_or_method",
    "instance",
    "_Feature"
   ],
   "window_display": false
  }
 },
 "nbformat": 4,
 "nbformat_minor": 5
}
