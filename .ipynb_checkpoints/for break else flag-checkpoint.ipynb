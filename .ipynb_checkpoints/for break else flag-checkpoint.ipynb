{
 "cells": [
  {
   "cell_type": "markdown",
   "id": "6823f6ee",
   "metadata": {},
   "source": [
    "# for break else\n",
    "\n",
    "- 반복문 for 문을 도는 동안 특정 조건 에서 break가 걸리지 않고, 그냥 통과 되면 else문 수행\n",
    "\n",
    "- for문과 같이 사용되는 else문은 for문이 break 등으로 중간에 빠져나오지 않고, 끝까지 실행 됐을 경우 else문이 실행되는 방식으로 진행됩니다.\n",
    "\n",
    "- 중간에 break시, 수행 안됨!"
   ]
  },
  {
   "cell_type": "markdown",
   "id": "8501d42d",
   "metadata": {},
   "source": [
    "---"
   ]
  },
  {
   "cell_type": "code",
   "execution_count": 1,
   "id": "22385319",
   "metadata": {},
   "outputs": [
    {
     "name": "stdout",
     "output_type": "stream",
     "text": [
      "0\n",
      "1\n",
      "2\n",
      "3\n"
     ]
    }
   ],
   "source": [
    "# 중간에 break시, 수행 안됨!\n",
    "\n",
    "for i in range(5):\n",
    "    print(i)\n",
    "    if i == 3:\n",
    "        break\n",
    "else:\n",
    "    print(\"반복문을 도는 동안, break가 걸리지 않고, 통과.\")"
   ]
  },
  {
   "cell_type": "markdown",
   "id": "ae51fec5",
   "metadata": {},
   "source": [
    "---"
   ]
  },
  {
   "cell_type": "code",
   "execution_count": 2,
   "id": "76267f21",
   "metadata": {},
   "outputs": [
    {
     "name": "stdout",
     "output_type": "stream",
     "text": [
      "반복문을 도는 동안, break가 걸리지 않고, 통과.\n"
     ]
    }
   ],
   "source": [
    "\n",
    "# 중간에 break 멈췄으니까, else 문 실행 x\n",
    "\n",
    "for i in range(5):\n",
    "    if i == 10:\n",
    "        break\n",
    "else:\n",
    "    print(\"반복문을 도는 동안, break가 걸리지 않고, 통과.\")"
   ]
  },
  {
   "cell_type": "markdown",
   "id": "aa6d51e9",
   "metadata": {},
   "source": [
    "---"
   ]
  },
  {
   "cell_type": "code",
   "execution_count": 3,
   "id": "d3211ac6",
   "metadata": {},
   "outputs": [
    {
     "name": "stdout",
     "output_type": "stream",
     "text": [
      "0\n",
      "1\n",
      "2\n",
      "3\n",
      "4\n",
      "break가 걸리지 않고, 통과\n"
     ]
    }
   ],
   "source": [
    "# break가 걸리지 않고, 그대로 실행됬으니까, 반복문 모두 돌고, else문 실행\n",
    "\n",
    "for i in range(5):\n",
    "    print(i)\n",
    "else:\n",
    "    print(\"break가 걸리지 않고, 통과\")"
   ]
  },
  {
   "cell_type": "code",
   "execution_count": null,
   "id": "305460ed",
   "metadata": {},
   "outputs": [],
   "source": [
    "for si in range(0,N-length+1):\n",
    "    \n",
    "    for i in range(length // 2):\n",
    "        \n",
    "        if (lst[si + i] != lst[si + length-1 -i]):\n",
    "            break\n",
    "            # break 안되면 cnt+=1 할 차례\n",
    "    else:\n",
    "        cnt+=1"
   ]
  },
  {
   "cell_type": "markdown",
   "id": "c576abfe",
   "metadata": {},
   "source": [
    "---"
   ]
  },
  {
   "cell_type": "markdown",
   "id": "6473a967",
   "metadata": {},
   "source": [
    "# flag"
   ]
  },
  {
   "cell_type": "markdown",
   "id": "2221f61a",
   "metadata": {},
   "source": [
    "---"
   ]
  },
  {
   "cell_type": "code",
   "execution_count": 4,
   "id": "217ad0b9",
   "metadata": {},
   "outputs": [
    {
     "name": "stdout",
     "output_type": "stream",
     "text": [
      "0\n",
      "1\n",
      "2\n",
      "3\n",
      "4\n",
      "for문이 끝까지 실행됬습니다!\n"
     ]
    }
   ],
   "source": [
    "flag = 0\n",
    "\n",
    "for i in range(5):\n",
    "    print(i)\n",
    "    flag = 1\n",
    "\n",
    "if(flag == 1):\n",
    "    print(\"for문이 끝까지 실행됬습니다!\")"
   ]
  },
  {
   "cell_type": "markdown",
   "id": "6d27ff50",
   "metadata": {},
   "source": [
    "---"
   ]
  },
  {
   "cell_type": "code",
   "execution_count": 5,
   "id": "8f6d74dd",
   "metadata": {},
   "outputs": [
    {
     "name": "stdout",
     "output_type": "stream",
     "text": [
      "0\n",
      "1\n",
      "2\n",
      "for문이 끝까지 실행되지 않았습니다\n"
     ]
    }
   ],
   "source": [
    "flag = 0\n",
    "\n",
    "for i in range(5):\n",
    "    print(i)\n",
    "    \n",
    "    if i == 2:\n",
    "        flag = 0\n",
    "        break\n",
    "\n",
    "if (flag==0):\n",
    "    print(\"for문이 끝까지 실행되지 않았습니다\")\n"
   ]
  },
  {
   "cell_type": "code",
   "execution_count": null,
   "id": "2dc1d66d",
   "metadata": {},
   "outputs": [],
   "source": []
  }
 ],
 "metadata": {
  "kernelspec": {
   "display_name": "Python 3 (ipykernel)",
   "language": "python",
   "name": "python3"
  },
  "language_info": {
   "codemirror_mode": {
    "name": "ipython",
    "version": 3
   },
   "file_extension": ".py",
   "mimetype": "text/x-python",
   "name": "python",
   "nbconvert_exporter": "python",
   "pygments_lexer": "ipython3",
   "version": "3.11.2"
  }
 },
 "nbformat": 4,
 "nbformat_minor": 5
}
