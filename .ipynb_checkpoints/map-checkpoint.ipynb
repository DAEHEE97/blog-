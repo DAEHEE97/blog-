{
 "cells": [
  {
   "cell_type": "markdown",
   "id": "53423cad",
   "metadata": {},
   "source": [
    "# map"
   ]
  },
  {
   "cell_type": "markdown",
   "id": "91a4b3fc",
   "metadata": {},
   "source": [
    "`map()` 함수는 주어진 함수를 순회 가능한(iterable) 객체의 모든 요소에 적용하여 새로운 이터레이터(iterator)를 생성하는 데 사용됩니다. \n",
    "\n",
    "일반적으로 `map()` 함수는 여러 요소를 변환하거나 연산을 적용해야 할 때 사용됩니다. \n",
    "\n",
    "이를테면 리스트, 튜플, 집합 등과 같은 이터레이터의 모든 요소에 함수를 적용하여 새로운 리스트, 튜플, 집합 등을 생성하는 데 유용합니다.\n",
    "\n"
   ]
  },
  {
   "cell_type": "markdown",
   "id": "ef6152b2",
   "metadata": {},
   "source": [
    "---"
   ]
  },
  {
   "cell_type": "markdown",
   "id": "33b092b8",
   "metadata": {},
   "source": [
    "## lst 입력 1"
   ]
  },
  {
   "cell_type": "code",
   "execution_count": 1,
   "id": "b3574bcc",
   "metadata": {},
   "outputs": [
    {
     "name": "stdout",
     "output_type": "stream",
     "text": [
      "1 2 3 4 5\n"
     ]
    },
    {
     "data": {
      "text/plain": [
       "[1, 2, 3, 4, 5]"
      ]
     },
     "execution_count": 1,
     "metadata": {},
     "output_type": "execute_result"
    }
   ],
   "source": [
    "lst = list(map(int,input().split()))\n",
    "lst"
   ]
  },
  {
   "cell_type": "markdown",
   "id": "284c5cec",
   "metadata": {},
   "source": [
    "---"
   ]
  },
  {
   "cell_type": "markdown",
   "id": "86b6eba3",
   "metadata": {},
   "source": [
    "## lst 입력 2"
   ]
  },
  {
   "cell_type": "code",
   "execution_count": 2,
   "id": "a70be0c0",
   "metadata": {},
   "outputs": [
    {
     "name": "stdout",
     "output_type": "stream",
     "text": [
      "12345\n"
     ]
    },
    {
     "data": {
      "text/plain": [
       "[1, 2, 3, 4, 5]"
      ]
     },
     "execution_count": 2,
     "metadata": {},
     "output_type": "execute_result"
    }
   ],
   "source": [
    "lst = list(map(int,input()))\n",
    "lst"
   ]
  },
  {
   "cell_type": "markdown",
   "id": "c982f4f3",
   "metadata": {},
   "source": [
    "---"
   ]
  },
  {
   "cell_type": "markdown",
   "id": "65c872f6",
   "metadata": {},
   "source": [
    "## 리스트 요소의 제곱 계산"
   ]
  },
  {
   "cell_type": "code",
   "execution_count": 3,
   "id": "afc86993",
   "metadata": {},
   "outputs": [
    {
     "name": "stdout",
     "output_type": "stream",
     "text": [
      "[1, 4, 9, 16, 25]\n"
     ]
    }
   ],
   "source": [
    "lst = [1, 2, 3, 4, 5]\n",
    "\n",
    "squared_numbers = list(map(lambda x: x**2, lst))\n",
    "\n",
    "print(squared_numbers)\n"
   ]
  },
  {
   "cell_type": "markdown",
   "id": "94502869",
   "metadata": {},
   "source": [
    "---"
   ]
  },
  {
   "cell_type": "markdown",
   "id": "7af8f5d0",
   "metadata": {},
   "source": [
    "## 문자열 길이 계산"
   ]
  },
  {
   "cell_type": "code",
   "execution_count": 4,
   "id": "46418bc2",
   "metadata": {},
   "outputs": [
    {
     "name": "stdout",
     "output_type": "stream",
     "text": [
      "[5, 6, 6]\n"
     ]
    }
   ],
   "source": [
    "words = ['apple', 'banana', 'cherry']\n",
    "lengths = list(map(len, words))\n",
    "print(lengths)\n"
   ]
  },
  {
   "cell_type": "markdown",
   "id": "c9a77ad6",
   "metadata": {},
   "source": [
    "---"
   ]
  },
  {
   "cell_type": "markdown",
   "id": "2384e977",
   "metadata": {},
   "source": [
    "## 대문자로 변환\n",
    "\n",
    "- names 리스트의 각 요소에 str.upper() 함수를 적용하여 문자열을 대문자로 변환합니다. \n",
    "\n",
    "- list()를 사용하여 이터레이터를 리스트로 변환하여 uppercase_names에 저장합니다."
   ]
  },
  {
   "cell_type": "code",
   "execution_count": 5,
   "id": "b64fa03a",
   "metadata": {},
   "outputs": [
    {
     "name": "stdout",
     "output_type": "stream",
     "text": [
      "['ALICE', 'BOB', 'CHARLIE']\n"
     ]
    }
   ],
   "source": [
    "names = ['alice', 'bob', 'charlie']\n",
    "uppercase_names = list(map(str.upper, names))\n",
    "print(uppercase_names)\n"
   ]
  },
  {
   "cell_type": "code",
   "execution_count": 6,
   "id": "ed7684dc",
   "metadata": {},
   "outputs": [
    {
     "data": {
      "text/plain": [
       "'HDG'"
      ]
     },
     "execution_count": 6,
     "metadata": {},
     "output_type": "execute_result"
    }
   ],
   "source": [
    "s = 'hdg'\n",
    "s.upper()"
   ]
  },
  {
   "cell_type": "code",
   "execution_count": 7,
   "id": "5cc31a7e",
   "metadata": {},
   "outputs": [
    {
     "data": {
      "text/plain": [
       "'HDG'"
      ]
     },
     "execution_count": 7,
     "metadata": {},
     "output_type": "execute_result"
    }
   ],
   "source": [
    "s = 'hdg'\n",
    "str.upper(s)"
   ]
  }
 ],
 "metadata": {
  "kernelspec": {
   "display_name": "Python 3 (ipykernel)",
   "language": "python",
   "name": "python3"
  },
  "language_info": {
   "codemirror_mode": {
    "name": "ipython",
    "version": 3
   },
   "file_extension": ".py",
   "mimetype": "text/x-python",
   "name": "python",
   "nbconvert_exporter": "python",
   "pygments_lexer": "ipython3",
   "version": "3.8.16"
  },
  "toc": {
   "base_numbering": 1,
   "nav_menu": {},
   "number_sections": true,
   "sideBar": true,
   "skip_h1_title": false,
   "title_cell": "Table of Contents",
   "title_sidebar": "Contents",
   "toc_cell": false,
   "toc_position": {},
   "toc_section_display": true,
   "toc_window_display": false
  },
  "varInspector": {
   "cols": {
    "lenName": 16,
    "lenType": 16,
    "lenVar": 40
   },
   "kernels_config": {
    "python": {
     "delete_cmd_postfix": "",
     "delete_cmd_prefix": "del ",
     "library": "var_list.py",
     "varRefreshCmd": "print(var_dic_list())"
    },
    "r": {
     "delete_cmd_postfix": ") ",
     "delete_cmd_prefix": "rm(",
     "library": "var_list.r",
     "varRefreshCmd": "cat(var_dic_list()) "
    }
   },
   "types_to_exclude": [
    "module",
    "function",
    "builtin_function_or_method",
    "instance",
    "_Feature"
   ],
   "window_display": false
  }
 },
 "nbformat": 4,
 "nbformat_minor": 5
}
