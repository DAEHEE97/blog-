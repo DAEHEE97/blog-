{
 "cells": [
  {
   "cell_type": "markdown",
   "id": "d08ee9b2",
   "metadata": {},
   "source": [
    "# 라이브러리 모듈\n",
    "\n",
    "- reusable\n",
    "\n",
    "- 라이브러리와 모듈은 파이썬에서 코드의 재사용을 촉진하기 위해 사용되는 개념입니다. \n",
    "\n",
    "- 이들은 함수, 클래스, 변수 등을 포함한 코드의 집합체로 사용됩니다.\n"
   ]
  },
  {
   "cell_type": "markdown",
   "id": "5470b909",
   "metadata": {},
   "source": [
    "\n",
    "\n",
    "## 모듈\n",
    "\n",
    "- 모듈은 파이썬 코드를 담고 있는 파일입니다. 보통 `.py` 확장자를 가지며, 모듈 파일의 이름은 모듈 이름과 일치하는 것이 일반적입니다.\n",
    "\n",
    "- 모듈은 코드를 구성하는 단위로, 관련된 기능을 함께 묶어서 사용할 수 있게 해줍니다.\n",
    "\n",
    "- 다른 파이썬 프로그램에서 `import` 문을 사용하여 모듈을 가져와 사용할 수 있습니다.\n",
    "\n",
    "- 모듈은 함수, 클래스, 변수, 상수 등을 정의할 수 있으며, 다른 모듈에서 임포트하여 사용할 수 있습니다.\n",
    "\n"
   ]
  },
  {
   "cell_type": "markdown",
   "id": "37afcc68",
   "metadata": {},
   "source": [
    "---"
   ]
  },
  {
   "cell_type": "code",
   "execution_count": null,
   "id": "e73e4db6",
   "metadata": {},
   "outputs": [],
   "source": [
    "# 모듈 파일: mymodule.py\n",
    "\n",
    "def greet(name):\n",
    "    print(f\"Hello, {name}!\")\n",
    "\n",
    "def square(x):\n",
    "    return x ** 2"
   ]
  },
  {
   "cell_type": "code",
   "execution_count": null,
   "id": "4db0a6b5",
   "metadata": {},
   "outputs": [],
   "source": [
    "# 다른 파이썬 프로그램에서 모듈 사용\n",
    "\n",
    "import mymodule\n",
    "\n",
    "mymodule.greet(\"Alice\")  # 출력: Hello, Alice!\n",
    "result = mymodule.square(5)\n",
    "print(result)  # 출력: 25"
   ]
  },
  {
   "cell_type": "markdown",
   "id": "33b4b791",
   "metadata": {},
   "source": [
    "---"
   ]
  },
  {
   "cell_type": "markdown",
   "id": "f8933410",
   "metadata": {},
   "source": [
    "## 라이브러리\n",
    "\n",
    "- 라이브러리는 일련의 모듈들의 집합체입니다. 비슷한 기능을 가진 모듈들을 묶어서 사용자에게 제공하여 개발과정을 단순화하고 코드의 재사용성을 높입니다.\n",
    "\n",
    "- 라이브러리는 특정 작업을 수행하기 위해 필요한 함수, 클래스, 상수 등을 포함하며, 이들을 모듈 형태로 제공합니다.\n",
    "\n",
    "- 파이썬에는 표준 라이브러리가 기본적으로 제공되며, 외부에서 개발된 서드파티 라이브러리들도 많이 존재합니다.\n",
    "\n"
   ]
  },
  {
   "cell_type": "markdown",
   "id": "9811faba",
   "metadata": {},
   "source": [
    "---"
   ]
  },
  {
   "cell_type": "code",
   "execution_count": null,
   "id": "0a88cc76",
   "metadata": {},
   "outputs": [],
   "source": [
    "# 표준 라이브러리 사용 예시\n",
    "import random\n",
    "\n",
    "random_number = random.randint(1, 10)\n",
    "print(random_number)  # 1부터 10 사이의 임의의 정수 출력"
   ]
  },
  {
   "cell_type": "code",
   "execution_count": null,
   "id": "2421f925",
   "metadata": {},
   "outputs": [],
   "source": [
    "# 서드파티 라이브러리 사용 예시 (requests 라이브러리)\n",
    "import requests\n",
    "\n",
    "response = requests.get(\"https://www.example.com\")\n",
    "print(response.status_code)  # 요청 결과의 상태 코드 출력"
   ]
  },
  {
   "cell_type": "markdown",
   "id": "854d44d2",
   "metadata": {},
   "source": [
    "---"
   ]
  },
  {
   "cell_type": "markdown",
   "id": "02889a33",
   "metadata": {},
   "source": [
    "위의 예시에서 `mymodule`은 모듈이고, `random`과 `requests`는 라이브러리입니다. \n",
    "\n",
    "모듈은 단일 파일에 정의되어 있고, 라이브러리는 여러 개의 모듈로 구성된 것을 의미합니다."
   ]
  }
 ],
 "metadata": {
  "kernelspec": {
   "display_name": "Python 3 (ipykernel)",
   "language": "python",
   "name": "python3"
  },
  "language_info": {
   "codemirror_mode": {
    "name": "ipython",
    "version": 3
   },
   "file_extension": ".py",
   "mimetype": "text/x-python",
   "name": "python",
   "nbconvert_exporter": "python",
   "pygments_lexer": "ipython3",
   "version": "3.8.16"
  },
  "toc": {
   "base_numbering": 1,
   "nav_menu": {},
   "number_sections": true,
   "sideBar": true,
   "skip_h1_title": false,
   "title_cell": "Table of Contents",
   "title_sidebar": "Contents",
   "toc_cell": false,
   "toc_position": {},
   "toc_section_display": true,
   "toc_window_display": false
  },
  "varInspector": {
   "cols": {
    "lenName": 16,
    "lenType": 16,
    "lenVar": 40
   },
   "kernels_config": {
    "python": {
     "delete_cmd_postfix": "",
     "delete_cmd_prefix": "del ",
     "library": "var_list.py",
     "varRefreshCmd": "print(var_dic_list())"
    },
    "r": {
     "delete_cmd_postfix": ") ",
     "delete_cmd_prefix": "rm(",
     "library": "var_list.r",
     "varRefreshCmd": "cat(var_dic_list()) "
    }
   },
   "types_to_exclude": [
    "module",
    "function",
    "builtin_function_or_method",
    "instance",
    "_Feature"
   ],
   "window_display": false
  }
 },
 "nbformat": 4,
 "nbformat_minor": 5
}
