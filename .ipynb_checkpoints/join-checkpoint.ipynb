{
 "cells": [
  {
   "cell_type": "markdown",
   "id": "02330c9d",
   "metadata": {},
   "source": [
    "# join\n",
    "\n",
    "- lst_str to string\n",
    "\n",
    "- 문자열 리스트의 모든 요소를 결합하여 하나의 문자열로 생성\n"
   ]
  },
  {
   "cell_type": "markdown",
   "id": "1564051b",
   "metadata": {},
   "source": [
    "---"
   ]
  },
  {
   "cell_type": "markdown",
   "id": "a4a0d2e6",
   "metadata": {},
   "source": [
    "## 문자열 리스트의 문자열 결합"
   ]
  },
  {
   "cell_type": "code",
   "execution_count": 1,
   "id": "48c54add",
   "metadata": {},
   "outputs": [
    {
     "name": "stdout",
     "output_type": "stream",
     "text": [
      "873211\n"
     ]
    }
   ],
   "source": [
    "lst_str = ['8', '7', '3', '2', '1', '1']\n",
    "\n",
    "# join() 메서드는 리스트의 모든 요소를 빈 문자열로 결합하여 하나의 문자열로 생성\n",
    "result = int(''.join(lst_str))\n",
    "\n",
    "print(result)\n"
   ]
  },
  {
   "cell_type": "code",
   "execution_count": 2,
   "id": "ca4e3e58",
   "metadata": {},
   "outputs": [
    {
     "data": {
      "text/plain": [
       "['8', '7', '3', '2', '1', '1']"
      ]
     },
     "execution_count": 2,
     "metadata": {},
     "output_type": "execute_result"
    }
   ],
   "source": [
    "lst_str"
   ]
  },
  {
   "cell_type": "code",
   "execution_count": 3,
   "id": "5e1e4c5f",
   "metadata": {},
   "outputs": [
    {
     "data": {
      "text/plain": [
       "'873211'"
      ]
     },
     "execution_count": 3,
     "metadata": {},
     "output_type": "execute_result"
    }
   ],
   "source": [
    "# 문자열 리스트를 공백없이, 하나의 문자열로 생성\n",
    "\n",
    "''.join(lst_str)"
   ]
  },
  {
   "cell_type": "code",
   "execution_count": 4,
   "id": "ba009e29",
   "metadata": {},
   "outputs": [
    {
     "name": "stdout",
     "output_type": "stream",
     "text": [
      "HelloWorld!\n"
     ]
    }
   ],
   "source": [
    "my_list = ['Hello', 'World', '!']\n",
    "result = ''.join(my_list)\n",
    "print(result)\n"
   ]
  },
  {
   "cell_type": "markdown",
   "id": "99cada5d",
   "metadata": {},
   "source": [
    "---"
   ]
  },
  {
   "cell_type": "code",
   "execution_count": 5,
   "id": "485fdb9e",
   "metadata": {},
   "outputs": [
    {
     "data": {
      "text/plain": [
       "'8 7 3 2 1 1'"
      ]
     },
     "execution_count": 5,
     "metadata": {},
     "output_type": "execute_result"
    }
   ],
   "source": [
    "# 문자열 리스트를 공백 기준으로, 하나의 문자열로 생성\n",
    "' '.join(lst_str)"
   ]
  },
  {
   "cell_type": "code",
   "execution_count": 6,
   "id": "d9372109",
   "metadata": {},
   "outputs": [
    {
     "name": "stdout",
     "output_type": "stream",
     "text": [
      "Hello World !\n"
     ]
    }
   ],
   "source": [
    "my_list = ['Hello', 'World', '!']\n",
    "result = ' '.join(my_list)\n",
    "print(result)\n"
   ]
  },
  {
   "cell_type": "markdown",
   "id": "79bd8458",
   "metadata": {},
   "source": [
    "---"
   ]
  },
  {
   "cell_type": "markdown",
   "id": "5255e3d2",
   "metadata": {},
   "source": [
    "##  리스트의 숫자를 문자열로 결합\n",
    "\n"
   ]
  },
  {
   "cell_type": "code",
   "execution_count": 7,
   "id": "646961d2",
   "metadata": {},
   "outputs": [
    {
     "ename": "NameError",
     "evalue": "name 'numbers' is not defined",
     "output_type": "error",
     "traceback": [
      "\u001b[0;31m---------------------------------------------------------------------------\u001b[0m",
      "\u001b[0;31mNameError\u001b[0m                                 Traceback (most recent call last)",
      "Cell \u001b[0;32mIn[7], line 2\u001b[0m\n\u001b[1;32m      1\u001b[0m lst \u001b[38;5;241m=\u001b[39m [\u001b[38;5;241m1\u001b[39m, \u001b[38;5;241m2\u001b[39m, \u001b[38;5;241m3\u001b[39m, \u001b[38;5;241m4\u001b[39m, \u001b[38;5;241m5\u001b[39m]\n\u001b[0;32m----> 2\u001b[0m \u001b[38;5;124m'\u001b[39m\u001b[38;5;124m'\u001b[39m\u001b[38;5;241m.\u001b[39mjoin(\u001b[43mnumbers\u001b[49m)\n",
      "\u001b[0;31mNameError\u001b[0m: name 'numbers' is not defined"
     ]
    }
   ],
   "source": [
    "lst = [1, 2, 3, 4, 5]\n",
    "''.join(numbers)"
   ]
  },
  {
   "cell_type": "code",
   "execution_count": 8,
   "id": "fa7fcf4e",
   "metadata": {},
   "outputs": [
    {
     "data": {
      "text/plain": [
       "['1', '2', '3', '4', '5']"
      ]
     },
     "execution_count": 8,
     "metadata": {},
     "output_type": "execute_result"
    }
   ],
   "source": [
    "# 형 변환\n",
    "lst = [ str(i) for i in lst ] \n",
    "lst"
   ]
  },
  {
   "cell_type": "code",
   "execution_count": 9,
   "id": "30208357",
   "metadata": {},
   "outputs": [
    {
     "data": {
      "text/plain": [
       "'12345'"
      ]
     },
     "execution_count": 9,
     "metadata": {},
     "output_type": "execute_result"
    }
   ],
   "source": [
    "''.join( [ str(i) for i in lst ] )"
   ]
  },
  {
   "cell_type": "code",
   "execution_count": 10,
   "id": "9a3cd0b3",
   "metadata": {},
   "outputs": [
    {
     "data": {
      "text/plain": [
       "12345"
      ]
     },
     "execution_count": 10,
     "metadata": {},
     "output_type": "execute_result"
    }
   ],
   "source": [
    "int(''.join( [ str(i) for i in lst ] ))"
   ]
  },
  {
   "cell_type": "markdown",
   "id": "5e20bc4d",
   "metadata": {},
   "source": [
    "## 리스트의 문자열을 경로로 결합"
   ]
  },
  {
   "cell_type": "code",
   "execution_count": 11,
   "id": "b7b95d69",
   "metadata": {},
   "outputs": [
    {
     "name": "stdout",
     "output_type": "stream",
     "text": [
      "usr/local/bin\n"
     ]
    }
   ],
   "source": [
    "path = ['usr', 'local', 'bin']\n",
    "result = '/'.join(path)\n",
    "print(result)\n"
   ]
  }
 ],
 "metadata": {
  "kernelspec": {
   "display_name": "Python 3 (ipykernel)",
   "language": "python",
   "name": "python3"
  },
  "language_info": {
   "codemirror_mode": {
    "name": "ipython",
    "version": 3
   },
   "file_extension": ".py",
   "mimetype": "text/x-python",
   "name": "python",
   "nbconvert_exporter": "python",
   "pygments_lexer": "ipython3",
   "version": "3.8.16"
  },
  "toc": {
   "base_numbering": 1,
   "nav_menu": {},
   "number_sections": true,
   "sideBar": true,
   "skip_h1_title": false,
   "title_cell": "Table of Contents",
   "title_sidebar": "Contents",
   "toc_cell": false,
   "toc_position": {},
   "toc_section_display": true,
   "toc_window_display": false
  },
  "varInspector": {
   "cols": {
    "lenName": 16,
    "lenType": 16,
    "lenVar": 40
   },
   "kernels_config": {
    "python": {
     "delete_cmd_postfix": "",
     "delete_cmd_prefix": "del ",
     "library": "var_list.py",
     "varRefreshCmd": "print(var_dic_list())"
    },
    "r": {
     "delete_cmd_postfix": ") ",
     "delete_cmd_prefix": "rm(",
     "library": "var_list.r",
     "varRefreshCmd": "cat(var_dic_list()) "
    }
   },
   "types_to_exclude": [
    "module",
    "function",
    "builtin_function_or_method",
    "instance",
    "_Feature"
   ],
   "window_display": false
  }
 },
 "nbformat": 4,
 "nbformat_minor": 5
}
