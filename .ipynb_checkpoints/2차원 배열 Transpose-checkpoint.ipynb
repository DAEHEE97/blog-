{
 "cells": [
  {
   "cell_type": "markdown",
   "id": "2908809c",
   "metadata": {},
   "source": [
    "# 2차원 공간 Transpose\n",
    "\n",
    "- zip(*arr1)는 arr1의 각 열을 분리하여 zip으로 묶어준 것입니다. \n",
    "\n",
    "- zip() 함수는 인자로 받은 iterable 객체들을 병렬적으로 순회하여 그룹화한 뒤, 각 그룹의 요소를 하나씩 묶어서 튜플로 반환합니다. \n",
    "\n",
    "- `*`  연산자는 unpacking 연산자\n"
   ]
  },
  {
   "cell_type": "markdown",
   "id": "a607f148",
   "metadata": {},
   "source": [
    "---"
   ]
  },
  {
   "cell_type": "code",
   "execution_count": 1,
   "id": "6993b279",
   "metadata": {},
   "outputs": [
    {
     "data": {
      "text/plain": [
       "[[1, 2, 3], [4, 5, 6], [7, 8, 9]]"
      ]
     },
     "execution_count": 1,
     "metadata": {},
     "output_type": "execute_result"
    }
   ],
   "source": [
    "arr1 = [[1,2,3],[4,5,6],[7,8,9]]\n",
    "arr1"
   ]
  },
  {
   "cell_type": "code",
   "execution_count": 2,
   "id": "03ea201b",
   "metadata": {},
   "outputs": [
    {
     "data": {
      "text/plain": [
       "[(1, 4, 7), (2, 5, 8), (3, 6, 9)]"
      ]
     },
     "execution_count": 2,
     "metadata": {},
     "output_type": "execute_result"
    }
   ],
   "source": [
    "# 열을 분리, 내부 튜플로 처리\n",
    "\n",
    "arr2 = list(zip(*arr1))\n",
    "arr2"
   ]
  },
  {
   "cell_type": "code",
   "execution_count": 3,
   "id": "527af302",
   "metadata": {},
   "outputs": [
    {
     "data": {
      "text/plain": [
       "[[1, 4, 7], [2, 5, 8], [3, 6, 9]]"
      ]
     },
     "execution_count": 3,
     "metadata": {},
     "output_type": "execute_result"
    }
   ],
   "source": [
    "# Transpose\n",
    "\n",
    "arr3 = [ list(lst) for lst in zip(*arr1) ]\n",
    "arr3"
   ]
  }
 ],
 "metadata": {
  "kernelspec": {
   "display_name": "Python 3 (ipykernel)",
   "language": "python",
   "name": "python3"
  },
  "language_info": {
   "codemirror_mode": {
    "name": "ipython",
    "version": 3
   },
   "file_extension": ".py",
   "mimetype": "text/x-python",
   "name": "python",
   "nbconvert_exporter": "python",
   "pygments_lexer": "ipython3",
   "version": "3.11.2"
  }
 },
 "nbformat": 4,
 "nbformat_minor": 5
}
