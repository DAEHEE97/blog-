{
 "cells": [
  {
   "cell_type": "markdown",
   "id": "39721738",
   "metadata": {},
   "source": [
    "# 회문 (Palindrome)\n",
    "\n",
    "\n",
    "- 회문은 거꾸로 읽어도 같은 글자가 나와야 합니다. \n",
    "\n",
    "\n",
    "- 따라서 큐에서 꺼낸 문자들(원래 순서)이 스택에서 꺼낸 문자들(역순)과 모두 같다면 그 문장은 회문입니다.\n",
    "\n",
    "\n",
    "- wowow 문자 길이 는 5, 회문 비교는 2번 \n"
   ]
  },
  {
   "cell_type": "markdown",
   "id": "19b0f5f9",
   "metadata": {},
   "source": [
    "\n",
    "# 길이를 뒤에서 부터 시작해서, "
   ]
  },
  {
   "cell_type": "code",
   "execution_count": 2,
   "id": "5dcd7eaf",
   "metadata": {},
   "outputs": [
    {
     "name": "stdout",
     "output_type": "stream",
     "text": [
      "[10, 9, 8, 7, 6, 5, 4, 3, 2]\n"
     ]
    }
   ],
   "source": [
    "print(list(range(10,1,-1)))"
   ]
  },
  {
   "cell_type": "code",
   "execution_count": 4,
   "id": "e6751396",
   "metadata": {},
   "outputs": [
    {
     "name": "stdout",
     "output_type": "stream",
     "text": [
      "[10, 9, 8, 7, 6, 5, 4, 3, 2, 1]\n"
     ]
    }
   ],
   "source": [
    "print(list(range(10,0,-1)))"
   ]
  },
  {
   "cell_type": "code",
   "execution_count": 5,
   "id": "54fd2504",
   "metadata": {},
   "outputs": [
    {
     "name": "stdout",
     "output_type": "stream",
     "text": [
      "qwe\n",
      "asd\n",
      "zxc\n"
     ]
    }
   ],
   "source": [
    "arr1 = [ list(input()) for _ in range(3) ]\n"
   ]
  },
  {
   "cell_type": "code",
   "execution_count": 6,
   "id": "7b79806e",
   "metadata": {},
   "outputs": [
    {
     "data": {
      "text/plain": [
       "[['q', 'w', 'e'], ['a', 's', 'd'], ['z', 'x', 'c']]"
      ]
     },
     "execution_count": 6,
     "metadata": {},
     "output_type": "execute_result"
    }
   ],
   "source": [
    "arr1"
   ]
  },
  {
   "cell_type": "code",
   "execution_count": null,
   "id": "52da409f",
   "metadata": {},
   "outputs": [],
   "source": [
    "if (max)"
   ]
  },
  {
   "cell_type": "code",
   "execution_count": 14,
   "id": "6abdc28d",
   "metadata": {},
   "outputs": [
    {
     "name": "stdout",
     "output_type": "stream",
     "text": [
      "1\n",
      "12qweewq12\n",
      "qwe\n",
      "#1 6\n"
     ]
    }
   ],
   "source": [
    "# 2차원 배열로써 처리, 이미 내부는 리스트화 되어 있음\n",
    "# 내부 리스트 길이 10으로 고정\n",
    "\n",
    "# 0 1 2 3 4 5 6 7 8 9 \n",
    "# length 10 부터 전달되는데, 애초에 , 10짜리 가 전달 가능\n",
    "# \n",
    "\n",
    "# leng 으로 10 전달 받으면, \n",
    "# 한번만 비교,\n",
    "\n",
    "# leng 으로 9를 전달 받으면, i 0시작해서, 8까지 하번,  i 1시작해서, 9까지 한번 \n",
    "# 총 2번 비교\n",
    "\n",
    "# lengdmfh 8를 전달 받으면, i 0시작해서, 7까지 한번\n",
    "# 총 3번 비교해서 있나 없나 검사 \n",
    "# 만약 존재하면, retrun 종료\n",
    "\n",
    "\n",
    "def is_pal(arr,leng):\n",
    "    \n",
    "    for lst in arr:\n",
    "        \n",
    "        for i in range( N - leng + 1):\n",
    "            \n",
    "            if lst[i:i+leng] == lst[i:i+leng][::-1]:\n",
    "                return True\n",
    "        \n",
    "        return False\n",
    "    \n",
    "    \n",
    "\n",
    "T = 1\n",
    "\n",
    "for t in range(1,T+1):\n",
    "    \n",
    "    _ = int(input()) # tc\n",
    "    \n",
    "    N = 10 # 10 x 2 \n",
    "    \n",
    "    arr1 = [ list(input()) for _ in range(2) ]\n",
    "        \n",
    "    for length in range(N,1,-1):\n",
    "        if is_pal(arr1,length):\n",
    "            break\n",
    "        \n",
    "    print('#{0} {1}'.format(t, length))"
   ]
  },
  {
   "cell_type": "code",
   "execution_count": null,
   "id": "15ba2bb8",
   "metadata": {},
   "outputs": [],
   "source": [
    "def is_pal_idx(arr,leng):\n",
    "    \n",
    "    for lst in arr:\n",
    "        # 반복 횟수 + idx 시작 위치 \n",
    "        for i in range( N - leng + 1):\n",
    "            \n",
    "            for j in range(leng//2):\n",
    "                \n",
    "                if lst[i+j]!=lst[i+leng-1-j]:\n",
    "                    break\n",
    "            else:\n",
    "                return True\n",
    "        \n",
    "        return False\n",
    "    \n",
    "    \n",
    "\n",
    "T = 10\n",
    "\n",
    "for t in range(1,T+1):\n",
    "    \n",
    "    _ = int(input()) # tc\n",
    "    \n",
    "    N = 100 # 100 x 100\n",
    "    \n",
    "    arr1 = [ list(input()) for _ in range(N) ]\n",
    "    \n",
    "    # transpose\n",
    "    arr2 = [ list(lst) for lst in zip(*arr1) ]\n",
    "    \n",
    "    for length in range(N,1,-1):\n",
    "        \n",
    "        if is_pal_idx(arr1,length) or is_pal_idx(arr2,length):\n",
    "            break\n",
    "        \n",
    "    print('#{0} {1}'.format(t, leng))\n",
    "    "
   ]
  }
 ],
 "metadata": {
  "kernelspec": {
   "display_name": "Python 3 (ipykernel)",
   "language": "python",
   "name": "python3"
  },
  "language_info": {
   "codemirror_mode": {
    "name": "ipython",
    "version": 3
   },
   "file_extension": ".py",
   "mimetype": "text/x-python",
   "name": "python",
   "nbconvert_exporter": "python",
   "pygments_lexer": "ipython3",
   "version": "3.11.2"
  }
 },
 "nbformat": 4,
 "nbformat_minor": 5
}
