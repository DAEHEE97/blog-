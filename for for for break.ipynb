{
 "cells": [
  {
   "cell_type": "markdown",
   "id": "d9bfa44b",
   "metadata": {},
   "source": [
    "# for for for break "
   ]
  },
  {
   "cell_type": "markdown",
   "id": "6f4c778c",
   "metadata": {},
   "source": [
    "---"
   ]
  },
  {
   "cell_type": "code",
   "execution_count": 1,
   "id": "9c3c931e",
   "metadata": {},
   "outputs": [
    {
     "name": "stdout",
     "output_type": "stream",
     "text": [
      "0 0 0\n",
      "0 0 1\n",
      "0 0 2\n",
      "0 1 0\n",
      "0 1 1\n",
      "0 1 2\n",
      "0 2 0\n",
      "0 2 1\n",
      "0 2 2\n",
      "1 0 0\n",
      "1 0 1\n",
      "1 0 2\n",
      "1 1 0\n",
      "1 1 1\n",
      "for문 모두 탈출\n"
     ]
    }
   ],
   "source": [
    "flag = False\n",
    "\n",
    "for i in range(3):\n",
    "    \n",
    "    for j in range(3):\n",
    "        \n",
    "        for k in range(3):\n",
    "            \n",
    "            print(i, j, k)\n",
    "            \n",
    "            if i == 1 and j == 1 and k == 1:\n",
    "                flag = True\n",
    "                break\n",
    "                \n",
    "        if flag:\n",
    "            break\n",
    "            \n",
    "    if flag:\n",
    "        break\n",
    "        \n",
    "print('for문 모두 탈출')\n",
    "\n"
   ]
  },
  {
   "cell_type": "markdown",
   "id": "68f426ab",
   "metadata": {},
   "source": [
    "---"
   ]
  },
  {
   "cell_type": "code",
   "execution_count": 2,
   "id": "b212bec6",
   "metadata": {},
   "outputs": [
    {
     "name": "stdout",
     "output_type": "stream",
     "text": [
      "0 0 0\n",
      "0 0 1\n",
      "0 0 2\n",
      "0 1 0\n",
      "0 1 1\n",
      "0 1 2\n",
      "0 2 0\n",
      "0 2 1\n",
      "0 2 2\n",
      "1 0 0\n",
      "1 0 1\n",
      "1 0 2\n",
      "1 1 0\n",
      "1 1 1\n",
      "for문 모두 탈출\n"
     ]
    }
   ],
   "source": [
    "for i in range(3):\n",
    "    \n",
    "    for j in range(3):\n",
    "        \n",
    "        for k in range(3):\n",
    "            \n",
    "            print(i, j, k)\n",
    "\n",
    "            if i == 1 and j == 1 and k == 1:\n",
    "                break\n",
    "        \n",
    "        if i == 1 and j == 1 and k == 1:\n",
    "            break\n",
    "    \n",
    "    if i == 1 and j == 1 and k == 1:\n",
    "        break\n",
    "\n",
    "print(\"for문 모두 탈출\")"
   ]
  },
  {
   "cell_type": "markdown",
   "id": "53132ba7",
   "metadata": {},
   "source": [
    "---"
   ]
  },
  {
   "cell_type": "markdown",
   "id": "160d28aa",
   "metadata": {},
   "source": [
    "# 함수로 처리해서 return "
   ]
  },
  {
   "cell_type": "code",
   "execution_count": 3,
   "id": "24ee1dad",
   "metadata": {},
   "outputs": [],
   "source": [
    "def find_value():\n",
    "    \n",
    "    for i in range(3):\n",
    "        \n",
    "        for j in range(3):\n",
    "            \n",
    "            for k in range(3):\n",
    "                print(i, j, k)\n",
    "\n",
    "                if i == 1 and j == 1 and k == 1:\n",
    "                    return True\n",
    "    return False\n",
    "\n",
    "\n"
   ]
  },
  {
   "cell_type": "code",
   "execution_count": 4,
   "id": "afeb79d2",
   "metadata": {},
   "outputs": [
    {
     "name": "stdout",
     "output_type": "stream",
     "text": [
      "0 0 0\n",
      "0 0 1\n",
      "0 0 2\n",
      "0 1 0\n",
      "0 1 1\n",
      "0 1 2\n",
      "0 2 0\n",
      "0 2 1\n",
      "0 2 2\n",
      "1 0 0\n",
      "1 0 1\n",
      "1 0 2\n",
      "1 1 0\n",
      "1 1 1\n",
      "중간에서 for문 모두 탈출\n"
     ]
    }
   ],
   "source": [
    "if (find_value()):\n",
    "    print('중간에서 for문 모두 탈출')"
   ]
  },
  {
   "cell_type": "markdown",
   "id": "7794bf58",
   "metadata": {},
   "source": [
    "---"
   ]
  },
  {
   "cell_type": "code",
   "execution_count": 5,
   "id": "cf15156f",
   "metadata": {},
   "outputs": [
    {
     "name": "stdout",
     "output_type": "stream",
     "text": [
      "0 0 0\n",
      "0 0 1\n",
      "0 0 2\n",
      "0 1 0\n",
      "0 1 1\n",
      "0 1 2\n",
      "0 2 0\n",
      "0 2 1\n",
      "0 2 2\n",
      "1 0 0\n",
      "1 0 1\n",
      "1 0 2\n",
      "1 1 0\n",
      "1 1 1\n"
     ]
    }
   ],
   "source": [
    "while(1):\n",
    "    if find_value():\n",
    "        break"
   ]
  }
 ],
 "metadata": {
  "kernelspec": {
   "display_name": "Python 3 (ipykernel)",
   "language": "python",
   "name": "python3"
  },
  "language_info": {
   "codemirror_mode": {
    "name": "ipython",
    "version": 3
   },
   "file_extension": ".py",
   "mimetype": "text/x-python",
   "name": "python",
   "nbconvert_exporter": "python",
   "pygments_lexer": "ipython3",
   "version": "3.11.2"
  }
 },
 "nbformat": 4,
 "nbformat_minor": 5
}
