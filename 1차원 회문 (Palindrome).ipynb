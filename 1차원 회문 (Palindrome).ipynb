{
 "cells": [
  {
   "cell_type": "markdown",
   "metadata": {},
   "source": [
    "# 회문 (Palindrome)\n",
    "\n",
    "\n",
    "- 회문은 거꾸로 읽어도 같은 글자가 나와야 합니다. \n",
    "\n",
    "\n",
    "- 따라서 큐에서 꺼낸 문자들(원래 순서)이 스택에서 꺼낸 문자들(역순)과 모두 같다면 그 문장은 회문입니다.\n",
    "\n"
   ]
  },
  {
   "cell_type": "markdown",
   "metadata": {},
   "source": [
    "---"
   ]
  },
  {
   "cell_type": "markdown",
   "metadata": {},
   "source": [
    "## 문자 길이 별 회문 검사\n",
    "\n",
    "문자 길이 5\n",
    "\n",
    "idx\n",
    "0 1 2 3 4\n",
    "\n",
    "idx 0, 4 비교\n",
    "\n",
    "idx 1, 3 비교"
   ]
  },
  {
   "cell_type": "code",
   "execution_count": 24,
   "metadata": {},
   "outputs": [],
   "source": [
    "def is_pal (s):\n",
    "    \n",
    "    # 문자 길이별 반복 횟수 설정,\n",
    "    # 2번 비교, idx 0, 1만 비교하면 됨 \n",
    "    \n",
    "    leng = len(s)\n",
    "    for i in range(0,leng // 2):\n",
    "        if s[i] != s[ leng - 1 - i]:\n",
    "            return False\n",
    "            \n",
    "    return True"
   ]
  },
  {
   "cell_type": "code",
   "execution_count": 29,
   "metadata": {},
   "outputs": [
    {
     "name": "stdout",
     "output_type": "stream",
     "text": [
      "True\n"
     ]
    }
   ],
   "source": [
    "print(is_pal(\"wowow\"))"
   ]
  },
  {
   "cell_type": "markdown",
   "metadata": {},
   "source": [
    "---"
   ]
  },
  {
   "cell_type": "markdown",
   "metadata": {},
   "source": [
    "## 큐 와 스택 으로 처리\n",
    "\n",
    "1. 문자열의 알파벳 문자를 각각 큐와 스택에 넣음\n",
    "\n",
    "       \n",
    "- 해당 문자가 알파벳이면(공백, 숫자, 특수문자가 아니면) 그 문자를 큐와 스택에 append\n",
    "\n",
    "\n",
    "- **큐에 문자가 남아 있는 동안 반복 하면서 큐(dequeue)와 스택(pop)에 들어 있는 문자를 꺼내면서 비교**\n",
    "\n",
    "\n",
    "- 각 리스트에서 꺼낸 두 문자가 다를 경우 return False\n"
   ]
  },
  {
   "cell_type": "markdown",
   "metadata": {},
   "source": [
    "- 리스트 하나로 pop 처리시, 길이가 홀수 인경우, index error 'wowow'\n",
    "\n",
    "```\n",
    "def is_pal(string):\n",
    "    \n",
    "    lst = list(string)\n",
    "    \n",
    "    while lst:\n",
    "        if lst.pop(0) != lst.pop():\n",
    "            return False\n",
    " \n",
    "    return True\n",
    "``` "
   ]
  },
  {
   "cell_type": "code",
   "execution_count": 30,
   "metadata": {},
   "outputs": [],
   "source": [
    "# queue 리스트, stack 리스트 2개 생성 후 처리 해야 합니다.\n",
    "# 큐와 스택에서 꺼낸 문자를 하나씩 꺼내서, \n",
    "# 하나 라도 다르면 return False로 종료 처리\n",
    "\n",
    "def is_pal(string):\n",
    "    \n",
    "    qu = []\n",
    "    st = []\n",
    "    \n",
    "    for c in string:\n",
    "        qu.append(c)\n",
    "        st.append(c)\n",
    "            \n",
    "    while qu: \n",
    "        if qu.pop(0) != st.pop():\n",
    "            return False\n",
    " \n",
    "    return True # 모두 꺼냈을시 이상 없음\n",
    " "
   ]
  },
  {
   "cell_type": "code",
   "execution_count": 31,
   "metadata": {},
   "outputs": [
    {
     "name": "stdout",
     "output_type": "stream",
     "text": [
      "True\n"
     ]
    }
   ],
   "source": [
    "# 큐와 스택을 리스트로 정의\n",
    "\n",
    "# print(is_pal('wow'))\n",
    "\n",
    "print(is_pal('wowow'))"
   ]
  },
  {
   "cell_type": "markdown",
   "metadata": {},
   "source": [
    "---"
   ]
  },
  {
   "cell_type": "markdown",
   "metadata": {},
   "source": [
    "## deque\n",
    "\n",
    "효율성이 중요한 프로그램이라면 파이썬의 collections 모듈에 있는 deque(double-ended queue)"
   ]
  },
  {
   "cell_type": "code",
   "execution_count": 34,
   "metadata": {},
   "outputs": [],
   "source": [
    "from collections import deque\n",
    "qu = deque()\n",
    "\n",
    "qu.append(1) # 1을 큐에 추가\n",
    "qu.append(2) # 2를 큐에 추가"
   ]
  },
  {
   "cell_type": "code",
   "execution_count": 35,
   "metadata": {},
   "outputs": [
    {
     "data": {
      "text/plain": [
       "False"
      ]
     },
     "execution_count": 35,
     "metadata": {},
     "output_type": "execute_result"
    }
   ],
   "source": [
    "qu.popleft() == qu.pop()"
   ]
  },
  {
   "cell_type": "markdown",
   "metadata": {},
   "source": [
    "---"
   ]
  },
  {
   "cell_type": "code",
   "execution_count": 36,
   "metadata": {},
   "outputs": [],
   "source": [
    "from collections import deque\n",
    "qu = deque()\n",
    "\n",
    "qu.append(1) # 1을 덱에 추가\n",
    "qu.append(1) # 1를 덱에 추가"
   ]
  },
  {
   "cell_type": "code",
   "execution_count": 37,
   "metadata": {},
   "outputs": [
    {
     "data": {
      "text/plain": [
       "True"
      ]
     },
     "execution_count": 37,
     "metadata": {},
     "output_type": "execute_result"
    }
   ],
   "source": [
    "qu.popleft() == qu.pop()"
   ]
  },
  {
   "cell_type": "markdown",
   "metadata": {},
   "source": [
    "---"
   ]
  }
 ],
 "metadata": {
  "hide_input": false,
  "kernelspec": {
   "display_name": "Python 3 (ipykernel)",
   "language": "python",
   "name": "python3"
  },
  "language_info": {
   "codemirror_mode": {
    "name": "ipython",
    "version": 3
   },
   "file_extension": ".py",
   "mimetype": "text/x-python",
   "name": "python",
   "nbconvert_exporter": "python",
   "pygments_lexer": "ipython3",
   "version": "3.11.2"
  },
  "toc": {
   "base_numbering": 1,
   "nav_menu": {},
   "number_sections": true,
   "sideBar": true,
   "skip_h1_title": false,
   "title_cell": "Table of Contents",
   "title_sidebar": "Contents",
   "toc_cell": false,
   "toc_position": {},
   "toc_section_display": true,
   "toc_window_display": true
  }
 },
 "nbformat": 4,
 "nbformat_minor": 4
}
