{
 "cells": [
  {
   "cell_type": "markdown",
   "id": "5934713c",
   "metadata": {},
   "source": [
    "## main 과 master 차이"
   ]
  },
  {
   "cell_type": "markdown",
   "id": "4fe95251",
   "metadata": {},
   "source": [
    "과거에는 깃(Git)과 깃허브(GitHub)에서 기본 브랜치 이름이 'master'였지만, 최근 GitHub는 'main'으로 변경되었습니다. \n",
    "\n",
    "이러한 변경은 인종차별과 같은 문제와 관련하여, 'master'라는 용어가 과거 미국의 노예제도에서 영감을 받은 용어로 인식되어 이를 개선하고자 한 것입니다.\n",
    "\n",
    "따라서, 새로운 GitHub 리포지토리는 'main' 브랜치가 기본 브랜치로 생성됩니다. \n",
    "\n",
    "\n",
    "\n",
    "그러나, 이전에 생성된 리포지토리에서는 여전히 'master' 브랜치가 기본 브랜치로 유지되고 있을 수 있습니다.\n",
    "\n",
    "결론적으로, 'master'와 'main'은 동일한 역할을 하는 것으로 간주됩니다. \n",
    "\n",
    "새로운 리포지토리를 생성하는 경우, 'main' 브랜치를 기본 브랜치로 사용하는 것이 권장됩니다."
   ]
  },
  {
   "cell_type": "markdown",
   "id": "c4bb239d",
   "metadata": {},
   "source": [
    "---"
   ]
  },
  {
   "cell_type": "markdown",
   "id": "6949d610",
   "metadata": {},
   "source": [
    "## origin"
   ]
  },
  {
   "cell_type": "markdown",
   "id": "f25c641d",
   "metadata": {},
   "source": [
    "'origin'은 Git에서 원격 저장소의 별칭(alias)을 나타내며, 보통 기본적으로 생성되는 별칭입니다. \n",
    " \n",
    "'origin'이라는 별칭을 사용하여 원격 저장소의 주소를 나타내면, Git은 해당 주소를 'origin'이라는 이름으로 기억하고 관리합니다. \n",
    "\n",
    "\n",
    "이렇게 원격 저장소를 별칭으로 관리하면, 다양한 명령어에서 더 쉽게 원격 저장소에 접근할 수 있습니다. \n",
    "\n",
    "예를 들어, 'git pull origin main' 명령어는 'origin'이라는 별칭으로 등록된 원격 저장소에서 'main' 브랜치를 가져와서 현재 로컬 브랜치와 병합하는 명령어입니다."
   ]
  },
  {
   "cell_type": "markdown",
   "id": "c21ce01f",
   "metadata": {},
   "source": [
    "---"
   ]
  },
  {
   "cell_type": "markdown",
   "id": "4c5dac71",
   "metadata": {},
   "source": [
    "## git init"
   ]
  },
  {
   "cell_type": "markdown",
   "id": "94947576",
   "metadata": {},
   "source": [
    "`git init` 명령어는 새로운 Git 저장소를 초기화하여, 로컬 저장소를 Git으로 관리할 수 있도록 설정하는 명령어입니다. \n",
    "\n",
    "\n",
    "이 명령어를 실행하면, 현재 디렉토리를 Git 저장소로 설정하고 `.git`이라는 하위 디렉토리를 생성합니다.\n",
    "\n",
    "\n",
    "`.git` 디렉토리에는 Git 저장소에 필요한 파일과 정보가 저장됩니다. \n",
    "\n",
    "\n",
    "이제 파일을 추가하고 커밋하면, Git은 이 정보를 .git 디렉토리에 저장하고 버전 관리를 할 수 있습니다. \n",
    "\n",
    "\n",
    "이렇게 초기화된 로컬 저장소를 다른 원격 저장소와 연동(`git remote`)하여 협업이나 백업 등의 작업을 수행할 수 있습니다."
   ]
  },
  {
   "cell_type": "markdown",
   "id": "bd497095",
   "metadata": {},
   "source": [
    "---"
   ]
  }
 ],
 "metadata": {
  "kernelspec": {
   "display_name": "Python 3 (ipykernel)",
   "language": "python",
   "name": "python3"
  },
  "language_info": {
   "codemirror_mode": {
    "name": "ipython",
    "version": 3
   },
   "file_extension": ".py",
   "mimetype": "text/x-python",
   "name": "python",
   "nbconvert_exporter": "python",
   "pygments_lexer": "ipython3",
   "version": "3.11.2"
  }
 },
 "nbformat": 4,
 "nbformat_minor": 5
}
