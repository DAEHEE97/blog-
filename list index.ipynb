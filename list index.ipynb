{
 "cells": [
  {
   "cell_type": "markdown",
   "id": "7191c8ac",
   "metadata": {},
   "source": [
    "# list index\n"
   ]
  },
  {
   "cell_type": "code",
   "execution_count": 1,
   "id": "71fcea6d",
   "metadata": {},
   "outputs": [],
   "source": [
    "lst = [0,1,2,3,4,5,1,2,3,4]"
   ]
  },
  {
   "cell_type": "code",
   "execution_count": 2,
   "id": "6c2c698b",
   "metadata": {},
   "outputs": [
    {
     "data": {
      "text/plain": [
       "0"
      ]
     },
     "execution_count": 2,
     "metadata": {},
     "output_type": "execute_result"
    }
   ],
   "source": [
    "lst.index(0)"
   ]
  },
  {
   "cell_type": "code",
   "execution_count": 3,
   "id": "7ae921e5",
   "metadata": {},
   "outputs": [
    {
     "data": {
      "text/plain": [
       "5"
      ]
     },
     "execution_count": 3,
     "metadata": {},
     "output_type": "execute_result"
    }
   ],
   "source": [
    "lst.index(5)"
   ]
  },
  {
   "cell_type": "markdown",
   "id": "9397c66f",
   "metadata": {},
   "source": [
    "---"
   ]
  },
  {
   "cell_type": "markdown",
   "id": "050a2bd3",
   "metadata": {},
   "source": [
    "## enumerate"
   ]
  },
  {
   "cell_type": "code",
   "execution_count": 4,
   "id": "1325550e",
   "metadata": {},
   "outputs": [
    {
     "data": {
      "text/plain": [
       "[0, 1, 2, 3, 4, 5, 6, 7, 8, 9]"
      ]
     },
     "execution_count": 4,
     "metadata": {},
     "output_type": "execute_result"
    }
   ],
   "source": [
    "lst_idx = [ i for i,value in enumerate(lst) ]\n",
    "lst_idx"
   ]
  },
  {
   "cell_type": "code",
   "execution_count": 5,
   "id": "3dbc42fe",
   "metadata": {},
   "outputs": [
    {
     "data": {
      "text/plain": [
       "[1, 6]"
      ]
     },
     "execution_count": 5,
     "metadata": {},
     "output_type": "execute_result"
    }
   ],
   "source": [
    "lst_idx = [ i for i,value in enumerate(lst) if value == 1]\n",
    "lst_idx"
   ]
  },
  {
   "cell_type": "code",
   "execution_count": 6,
   "id": "8f799b13",
   "metadata": {},
   "outputs": [
    {
     "data": {
      "text/plain": [
       "6"
      ]
     },
     "execution_count": 6,
     "metadata": {},
     "output_type": "execute_result"
    }
   ],
   "source": [
    "lst_idx[-1]"
   ]
  },
  {
   "cell_type": "markdown",
   "id": "dbd38609",
   "metadata": {},
   "source": [
    "---"
   ]
  },
  {
   "cell_type": "markdown",
   "id": "355d869c",
   "metadata": {},
   "source": [
    "## lst[::-1]\n",
    "\n",
    "- 슬라이싱은 새로 생성"
   ]
  },
  {
   "cell_type": "code",
   "execution_count": 7,
   "id": "beb8507c",
   "metadata": {},
   "outputs": [
    {
     "data": {
      "text/plain": [
       "[4, 3, 2, 1, 5, 4, 3, 2, 1, 0]"
      ]
     },
     "execution_count": 7,
     "metadata": {},
     "output_type": "execute_result"
    }
   ],
   "source": [
    "lst_r = lst[::-1]\n",
    "lst_r"
   ]
  },
  {
   "cell_type": "code",
   "execution_count": 8,
   "id": "8efcbde4",
   "metadata": {},
   "outputs": [
    {
     "data": {
      "text/plain": [
       "[0, 1, 2, 3, 4, 5, 1, 2, 3, 4]"
      ]
     },
     "execution_count": 8,
     "metadata": {},
     "output_type": "execute_result"
    }
   ],
   "source": [
    "lst"
   ]
  },
  {
   "cell_type": "code",
   "execution_count": 9,
   "id": "a5024e5a",
   "metadata": {},
   "outputs": [
    {
     "data": {
      "text/plain": [
       "3"
      ]
     },
     "execution_count": 9,
     "metadata": {},
     "output_type": "execute_result"
    }
   ],
   "source": [
    "lst_r.index(1)"
   ]
  },
  {
   "cell_type": "code",
   "execution_count": 10,
   "id": "9c451089",
   "metadata": {},
   "outputs": [
    {
     "data": {
      "text/plain": [
       "6"
      ]
     },
     "execution_count": 10,
     "metadata": {},
     "output_type": "execute_result"
    }
   ],
   "source": [
    "# (len -1) - r.index\n",
    "\n",
    "len(lst) - 1 - lst_r.index(1)"
   ]
  },
  {
   "cell_type": "markdown",
   "id": "95c226a3",
   "metadata": {},
   "source": [
    "---"
   ]
  },
  {
   "cell_type": "markdown",
   "id": "8176bce0",
   "metadata": {},
   "source": [
    "##  for 초기화\n"
   ]
  },
  {
   "cell_type": "code",
   "execution_count": 15,
   "id": "727193ca",
   "metadata": {},
   "outputs": [],
   "source": [
    "lst = [0,1,2,3,4,5,1,2,3,4]"
   ]
  },
  {
   "cell_type": "code",
   "execution_count": 16,
   "id": "7db50276",
   "metadata": {},
   "outputs": [
    {
     "name": "stdout",
     "output_type": "stream",
     "text": [
      "6\n"
     ]
    }
   ],
   "source": [
    "\n",
    "max_idx = -1\n",
    "\n",
    "for i in range(len(lst)):\n",
    "    \n",
    "    if lst[i] == 1:\n",
    "        max_idx = i\n",
    "        \n",
    "print(max_idx)"
   ]
  },
  {
   "cell_type": "markdown",
   "id": "985b20c2",
   "metadata": {},
   "source": [
    "---"
   ]
  },
  {
   "cell_type": "markdown",
   "id": "94b0d1bf",
   "metadata": {},
   "source": [
    "## .reverse() method\n",
    "\n",
    "- 내부 변화, 새로 생성 x"
   ]
  },
  {
   "cell_type": "code",
   "execution_count": null,
   "id": "a4f818f5",
   "metadata": {},
   "outputs": [],
   "source": [
    "lst_r = lst.reverse() # error"
   ]
  },
  {
   "cell_type": "code",
   "execution_count": 11,
   "id": "2dfba424",
   "metadata": {},
   "outputs": [
    {
     "data": {
      "text/plain": [
       "[0, 1, 2, 3, 4, 5, 1, 2, 3, 4]"
      ]
     },
     "execution_count": 11,
     "metadata": {},
     "output_type": "execute_result"
    }
   ],
   "source": [
    "lst = [0,1,2,3,4,5,1,2,3,4]\n",
    "lst"
   ]
  },
  {
   "cell_type": "code",
   "execution_count": 12,
   "id": "287f7ca6",
   "metadata": {},
   "outputs": [],
   "source": [
    "lst.reverse()"
   ]
  },
  {
   "cell_type": "code",
   "execution_count": 13,
   "id": "f61fd6e3",
   "metadata": {},
   "outputs": [
    {
     "data": {
      "text/plain": [
       "[4, 3, 2, 1, 5, 4, 3, 2, 1, 0]"
      ]
     },
     "execution_count": 13,
     "metadata": {},
     "output_type": "execute_result"
    }
   ],
   "source": [
    "lst"
   ]
  },
  {
   "cell_type": "markdown",
   "id": "ea52b729",
   "metadata": {},
   "source": []
  }
 ],
 "metadata": {
  "kernelspec": {
   "display_name": "Python 3 (ipykernel)",
   "language": "python",
   "name": "python3"
  },
  "language_info": {
   "codemirror_mode": {
    "name": "ipython",
    "version": 3
   },
   "file_extension": ".py",
   "mimetype": "text/x-python",
   "name": "python",
   "nbconvert_exporter": "python",
   "pygments_lexer": "ipython3",
   "version": "3.8.16"
  },
  "toc": {
   "base_numbering": 1,
   "nav_menu": {},
   "number_sections": true,
   "sideBar": true,
   "skip_h1_title": false,
   "title_cell": "Table of Contents",
   "title_sidebar": "Contents",
   "toc_cell": false,
   "toc_position": {},
   "toc_section_display": true,
   "toc_window_display": false
  },
  "varInspector": {
   "cols": {
    "lenName": 16,
    "lenType": 16,
    "lenVar": 40
   },
   "kernels_config": {
    "python": {
     "delete_cmd_postfix": "",
     "delete_cmd_prefix": "del ",
     "library": "var_list.py",
     "varRefreshCmd": "print(var_dic_list())"
    },
    "r": {
     "delete_cmd_postfix": ") ",
     "delete_cmd_prefix": "rm(",
     "library": "var_list.r",
     "varRefreshCmd": "cat(var_dic_list()) "
    }
   },
   "types_to_exclude": [
    "module",
    "function",
    "builtin_function_or_method",
    "instance",
    "_Feature"
   ],
   "window_display": false
  }
 },
 "nbformat": 4,
 "nbformat_minor": 5
}
