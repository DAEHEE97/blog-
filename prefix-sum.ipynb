{
 "cells": [
  {
   "cell_type": "markdown",
   "id": "32245355",
   "metadata": {},
   "source": [
    "# 누적 합 (Prefix Sum)\n",
    "\n",
    "누적 합은 배열 또는 리스트의 각 요소에 대한 누적된 합을 나타내는 배열 또는 리스트입니다.\n",
    "\n",
    "주어진 배열 arr의 누적 합을 계산할 때, prefix_sum[i]는 arr[0]부터 arr[i]까지의 합을 나타냅니다.\n",
    "\n",
    "누적 합 배열은 전처리 과정을 통해 생성되며, 한 번 생성하면 구간 합을 빠르게 계산하는 데 사용됩니다.\n",
    "\n",
    "누적 합을 사용하면 구간 합을 효율적으로 계산할 수 있으며, 시간 복잡도를 개선할 수 있습니다.\n",
    "\n"
   ]
  },
  {
   "cell_type": "markdown",
   "id": "23754352",
   "metadata": {},
   "source": [
    "---"
   ]
  },
  {
   "cell_type": "markdown",
   "id": "20d7c867",
   "metadata": {},
   "source": [
    "# 구간 합 (Range Sum)\n",
    "\n",
    "\n",
    "구간 합은 주어진 배열에서 특정 구간에 속한 요소들의 합을 나타내는 개념입니다.\n",
    "\n",
    "구간 합은 배열에서 연속한 부분 배열 또는 리스트의 합을 계산하는 데 사용됩니다.\n",
    "\n",
    "일반적으로 s부터 e까지의 구간 합을 나타내는 표기법은 sum(arr[s:e+1]) 또는 arr[s] + arr[s+1] + ... + arr[e]와 같이 표현됩니다.\n",
    "\n",
    "구간 합은 데이터 검색 및 통계 분석과 같은 다양한 응용 분야에서 유용하게 사용됩니다.\n",
    "\n",
    "따라서, 누적 합은 구간 합을 계산하는데 사용되는 기초적인 도구입니다. 누적 합을 미리 계산하면 같은 구간 합을 여러 번 계산하지 않고도 효율적으로 구할 수 있습니다. 누적 합은 주로 구간 합 문제를 해결하는 데 활용됩니다."
   ]
  }
 ],
 "metadata": {
  "kernelspec": {
   "display_name": "Python 3 (ipykernel)",
   "language": "python",
   "name": "python3"
  },
  "language_info": {
   "codemirror_mode": {
    "name": "ipython",
    "version": 3
   },
   "file_extension": ".py",
   "mimetype": "text/x-python",
   "name": "python",
   "nbconvert_exporter": "python",
   "pygments_lexer": "ipython3",
   "version": "3.8.16"
  },
  "toc": {
   "base_numbering": 1,
   "nav_menu": {},
   "number_sections": true,
   "sideBar": true,
   "skip_h1_title": false,
   "title_cell": "Table of Contents",
   "title_sidebar": "Contents",
   "toc_cell": false,
   "toc_position": {},
   "toc_section_display": true,
   "toc_window_display": false
  },
  "varInspector": {
   "cols": {
    "lenName": 16,
    "lenType": 16,
    "lenVar": 40
   },
   "kernels_config": {
    "python": {
     "delete_cmd_postfix": "",
     "delete_cmd_prefix": "del ",
     "library": "var_list.py",
     "varRefreshCmd": "print(var_dic_list())"
    },
    "r": {
     "delete_cmd_postfix": ") ",
     "delete_cmd_prefix": "rm(",
     "library": "var_list.r",
     "varRefreshCmd": "cat(var_dic_list()) "
    }
   },
   "types_to_exclude": [
    "module",
    "function",
    "builtin_function_or_method",
    "instance",
    "_Feature"
   ],
   "window_display": false
  }
 },
 "nbformat": 4,
 "nbformat_minor": 5
}
