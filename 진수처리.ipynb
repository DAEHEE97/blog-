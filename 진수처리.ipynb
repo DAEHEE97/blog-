{
 "cells": [
  {
   "cell_type": "code",
   "execution_count": 2,
   "id": "d50cb597",
   "metadata": {},
   "outputs": [
    {
     "name": "stdout",
     "output_type": "stream",
     "text": [
      "101101\n"
     ]
    }
   ],
   "source": [
    "decimal_number = 45\n",
    "\n",
    "binary_number = bin(decimal_number)[2:]  # '0b'를 제외하기 위해 [2:]를 사용합니다.\n",
    "\n",
    "print(binary_number)\n"
   ]
  },
  {
   "cell_type": "markdown",
   "id": "018d778a",
   "metadata": {},
   "source": [
    "---"
   ]
  },
  {
   "cell_type": "code",
   "execution_count": 3,
   "id": "a4daf229",
   "metadata": {},
   "outputs": [
    {
     "name": "stdout",
     "output_type": "stream",
     "text": [
      "101101\n"
     ]
    }
   ],
   "source": [
    "decimal_number = 45\n",
    "ternary_number = \"\"  # 2진수를 저장할 변수 초기화\n",
    "\n",
    "while decimal_number > 0:\n",
    "    remainder = decimal_number % 2  # 10진수를 2으로 나눈 나머지를 계산\n",
    "    ternary_number = str(remainder) + ternary_number  # 나머지를 3진수 앞에 추가\n",
    "    decimal_number = decimal_number // 2  # 10진수를 2으로 나눈 몫을 계산\n",
    "\n",
    "print(ternary_number)  # 최종적으로 얻은 2진수 출력"
   ]
  },
  {
   "cell_type": "markdown",
   "id": "19a34167",
   "metadata": {},
   "source": [
    "---"
   ]
  },
  {
   "cell_type": "code",
   "execution_count": 4,
   "id": "6fc8d446",
   "metadata": {},
   "outputs": [
    {
     "name": "stdout",
     "output_type": "stream",
     "text": [
      "1200\n"
     ]
    }
   ],
   "source": [
    "decimal_number = 45\n",
    "ternary_number = \"\"  # 3진수를 저장할 변수 초기화\n",
    "\n",
    "while decimal_number > 0:\n",
    "    remainder = decimal_number % 3  # 10진수를 3으로 나눈 나머지를 계산\n",
    "    ternary_number = str(remainder) + ternary_number  # 나머지를 3진수 앞에 추가\n",
    "    decimal_number = decimal_number // 3  # 10진수를 3으로 나눈 몫을 계산\n",
    "\n",
    "print(ternary_number)  # 최종적으로 얻은 3진수 출력\n"
   ]
  },
  {
   "cell_type": "markdown",
   "id": "f32eaec0",
   "metadata": {},
   "source": [
    "\n",
    "```\n",
    "\n",
    "1. `decimal_number` 변수에 변환할 10진수인 45를 저장합니다.\n",
    "2. `ternary_number` 변수는 3진수를 저장하기 위한 빈 문자열로 초기화합니다.\n",
    "3. `while` 반복문은 `decimal_number`가 0보다 큰 동안 실행됩니다.\n",
    "4. 반복문 내에서 `decimal_number`를 3으로 나눈 나머지를 `remainder` 변수에 저장합니다.\n",
    "5. `remainder`를 문자열로 변환한 후, `ternary_number` 변수의 앞에 추가합니다. 이렇게 하면 앞쪽부터 나머지들이 역순으로 조합되어 3진수가 만들어집니다.\n",
    "6. `decimal_number`를 3으로 나눈 몫을 새로운 `decimal_number`로 업데이트합니다.\n",
    "7. 반복문이 다시 실행되며, 위 과정을 반복합니다.\n",
    "8. `decimal_number`가 0이 되면 반복문이 종료되고, 최종적으로 얻은 3진수인 `ternary_number`가 출력됩니다.\n",
    "\n",
    "이 방법을 사용하여 자연수 45를 3진법으로 변환하면 `1200`이라는 결과를 얻을 수 있습니다."
   ]
  }
 ],
 "metadata": {
  "kernelspec": {
   "display_name": "Python 3 (ipykernel)",
   "language": "python",
   "name": "python3"
  },
  "language_info": {
   "codemirror_mode": {
    "name": "ipython",
    "version": 3
   },
   "file_extension": ".py",
   "mimetype": "text/x-python",
   "name": "python",
   "nbconvert_exporter": "python",
   "pygments_lexer": "ipython3",
   "version": "3.8.16"
  },
  "toc": {
   "base_numbering": 1,
   "nav_menu": {},
   "number_sections": true,
   "sideBar": true,
   "skip_h1_title": false,
   "title_cell": "Table of Contents",
   "title_sidebar": "Contents",
   "toc_cell": false,
   "toc_position": {},
   "toc_section_display": true,
   "toc_window_display": false
  },
  "varInspector": {
   "cols": {
    "lenName": 16,
    "lenType": 16,
    "lenVar": 40
   },
   "kernels_config": {
    "python": {
     "delete_cmd_postfix": "",
     "delete_cmd_prefix": "del ",
     "library": "var_list.py",
     "varRefreshCmd": "print(var_dic_list())"
    },
    "r": {
     "delete_cmd_postfix": ") ",
     "delete_cmd_prefix": "rm(",
     "library": "var_list.r",
     "varRefreshCmd": "cat(var_dic_list()) "
    }
   },
   "types_to_exclude": [
    "module",
    "function",
    "builtin_function_or_method",
    "instance",
    "_Feature"
   ],
   "window_display": false
  }
 },
 "nbformat": 4,
 "nbformat_minor": 5
}
