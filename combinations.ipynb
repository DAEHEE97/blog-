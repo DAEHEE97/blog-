{
 "cells": [
  {
   "cell_type": "markdown",
   "id": "de8a4b00",
   "metadata": {},
   "source": [
    "# combinations"
   ]
  },
  {
   "cell_type": "markdown",
   "id": "bec794d6",
   "metadata": {},
   "source": [
    "한국중학교에 다니는 학생들은 각자 정수 번호를 갖고 있습니다. \n",
    "\n",
    "이 학교 학생 3명의 정수 번호를 더했을 때 0이 되면 3명의 학생은 삼총사라고 합니다. \n",
    "\n",
    "예를 들어, 5명의 학생이 있고, 각각의 정수 번호가 순서대로 -2, 3, 0, 2, -5일 때, 첫 번째, 세 번째, 네 번째 학생의 정수 번호를 더하면 0이므로 세 학생은 삼총사입니다. \n",
    "\n",
    "또한, 두 번째, 네 번째, 다섯 번째 학생의 정수 번호를 더해도 0이므로 세 학생도 삼총사입니다. \n",
    "\n",
    "따라서 이 경우 한국중학교에서는 두 가지 방법으로 삼총사를 만들 수 있습니다.\n",
    "\n",
    "\n",
    "한국중학교 학생들의 번호를 나타내는 정수 배열 number가 매개변수로 주어질 때, 학생들 중 삼총사를 만들 수 있는 방법의 수를 return 하도록 solution 함수를 완성하세요."
   ]
  },
  {
   "cell_type": "code",
   "execution_count": 1,
   "id": "a4bf68d4",
   "metadata": {},
   "outputs": [],
   "source": [
    "from itertools import combinations"
   ]
  },
  {
   "cell_type": "code",
   "execution_count": 2,
   "id": "a038cccd",
   "metadata": {},
   "outputs": [],
   "source": [
    "lst = [-2, 3, 0, 2, -5]"
   ]
  },
  {
   "cell_type": "code",
   "execution_count": 3,
   "id": "cf9d541c",
   "metadata": {},
   "outputs": [
    {
     "name": "stdout",
     "output_type": "stream",
     "text": [
      "(-2, 3, 0)\n",
      "(-2, 3, 2)\n",
      "(-2, 3, -5)\n",
      "(-2, 0, 2)\n",
      "(-2, 0, -5)\n",
      "(-2, 2, -5)\n",
      "(3, 0, 2)\n",
      "(3, 0, -5)\n",
      "(3, 2, -5)\n",
      "(0, 2, -5)\n"
     ]
    }
   ],
   "source": [
    "for i in combinations(lst,3):\n",
    "    print(i)\n",
    "    "
   ]
  },
  {
   "cell_type": "markdown",
   "id": "629aa195",
   "metadata": {},
   "source": [
    "---"
   ]
  },
  {
   "cell_type": "code",
   "execution_count": 4,
   "id": "cb4fd9e8",
   "metadata": {},
   "outputs": [],
   "source": [
    "from itertools import combinations\n",
    "\n",
    "    \n",
    "def solution(lst) :\n",
    "    cnt = 0\n",
    "    \n",
    "    for i in combinations(lst,3) :\n",
    "        if sum(i) == 0 :\n",
    "            cnt += 1\n",
    "    \n",
    "    return cnt"
   ]
  },
  {
   "cell_type": "code",
   "execution_count": 5,
   "id": "713f186c",
   "metadata": {},
   "outputs": [],
   "source": [
    "lst = [-2, 3, 0, 2, -5]"
   ]
  },
  {
   "cell_type": "code",
   "execution_count": 6,
   "id": "31040c88",
   "metadata": {},
   "outputs": [
    {
     "data": {
      "text/plain": [
       "2"
      ]
     },
     "execution_count": 6,
     "metadata": {},
     "output_type": "execute_result"
    }
   ],
   "source": [
    "solution(lst)"
   ]
  },
  {
   "cell_type": "markdown",
   "id": "2dfb05f9",
   "metadata": {},
   "source": [
    "---"
   ]
  },
  {
   "cell_type": "code",
   "execution_count": 7,
   "id": "e106e887",
   "metadata": {},
   "outputs": [],
   "source": [
    "def solution(number):\n",
    "    answer = 0\n",
    "    \n",
    "    # 3중 반복문을 사용하여 모든 가능한 조합을 확인\n",
    "    for i in range(len(number)):\n",
    "        \n",
    "        for j in range(i+1, len(number)):\n",
    "            \n",
    "            for k in range(j+1, len(number)):\n",
    "                \n",
    "                if number[i] + number[j] + number[k] == 0:\n",
    "                    answer += 1\n",
    "                    \n",
    "    return answer"
   ]
  },
  {
   "cell_type": "code",
   "execution_count": 8,
   "id": "2bd10b48",
   "metadata": {},
   "outputs": [],
   "source": [
    "lst = [-2, 3, 0, 2, -5]"
   ]
  },
  {
   "cell_type": "code",
   "execution_count": 9,
   "id": "a89fddaa",
   "metadata": {},
   "outputs": [
    {
     "data": {
      "text/plain": [
       "2"
      ]
     },
     "execution_count": 9,
     "metadata": {},
     "output_type": "execute_result"
    }
   ],
   "source": [
    "solution(lst)"
   ]
  },
  {
   "cell_type": "markdown",
   "id": "acfdaf34",
   "metadata": {},
   "source": [
    "---"
   ]
  }
 ],
 "metadata": {
  "kernelspec": {
   "display_name": "Python 3 (ipykernel)",
   "language": "python",
   "name": "python3"
  },
  "language_info": {
   "codemirror_mode": {
    "name": "ipython",
    "version": 3
   },
   "file_extension": ".py",
   "mimetype": "text/x-python",
   "name": "python",
   "nbconvert_exporter": "python",
   "pygments_lexer": "ipython3",
   "version": "3.8.16"
  },
  "toc": {
   "base_numbering": 1,
   "nav_menu": {},
   "number_sections": true,
   "sideBar": true,
   "skip_h1_title": false,
   "title_cell": "Table of Contents",
   "title_sidebar": "Contents",
   "toc_cell": false,
   "toc_position": {},
   "toc_section_display": true,
   "toc_window_display": false
  },
  "varInspector": {
   "cols": {
    "lenName": 16,
    "lenType": 16,
    "lenVar": 40
   },
   "kernels_config": {
    "python": {
     "delete_cmd_postfix": "",
     "delete_cmd_prefix": "del ",
     "library": "var_list.py",
     "varRefreshCmd": "print(var_dic_list())"
    },
    "r": {
     "delete_cmd_postfix": ") ",
     "delete_cmd_prefix": "rm(",
     "library": "var_list.r",
     "varRefreshCmd": "cat(var_dic_list()) "
    }
   },
   "types_to_exclude": [
    "module",
    "function",
    "builtin_function_or_method",
    "instance",
    "_Feature"
   ],
   "window_display": false
  }
 },
 "nbformat": 4,
 "nbformat_minor": 5
}
